{
 "cells": [
  {
   "cell_type": "code",
   "execution_count": 35,
   "metadata": {},
   "outputs": [],
   "source": [
    "import os\n",
    "import copy\n",
    "\n",
    "import numpy as np\n",
    "import pandas as pd\n",
    "\n",
    "import matplotlib\n",
    "from matplotlib import pyplot as plt\n",
    "from itertools import islice\n",
    "from rdkit import Chem\n",
    "import linecache\n",
    "from sklearn.metrics import roc_auc_score\n",
    "\n",
    "from sklearn import metrics\n",
    "\n",
    "path = \"G:\\\\Dev\\\\CSIFingerID\\\\\"\n",
    "gnps_dir = \"G:\\\\Dev\\\\Data\\\\GNPS For Family\"\n",
    "batch_file_dir = path + \"ALL_GNPS_20181012_mini_batches\"\n",
    "output_file_dir = path + \"all_sirius_output_minibatches\"\n",
    "sample_fingerprints_legend_path = path + \"fingerprints.csv\"\n",
    "cdk_fingerprints_legend_path = path + \"CDK_fingerprints_smarts.txt\"\n",
    "spectrum_smiles_dir = \"G:\\\\Dev\\\\Data\\\\GNPS For Family\"\n",
    "mibig_smiles_file = \"G:\\\\Dev\\\\Data\\\\smiles.tsv\" "
   ]
  },
  {
   "cell_type": "code",
   "execution_count": 10,
   "metadata": {},
   "outputs": [],
   "source": [
    "spectrum_smiles = {}\n",
    "\n",
    "for file in os.listdir(spectrum_smiles_dir):\n",
    "    filepath = os.path.join(spectrum_smiles_dir, file)\n",
    "    smiles = linecache.getline(filepath, 7)[8:-1]\n",
    "    spectrum_smiles[file[:-3]] = smiles\n",
    "    \n",
    "with open(mibig_smiles_file, 'r') as f:\n",
    "    for line in f:\n",
    "        mol_id, smiles = line.split(\"\\t\")\n",
    "        spectrum_smiles[mol_id] = smiles[:-1]"
   ]
  },
  {
   "cell_type": "code",
   "execution_count": 11,
   "metadata": {},
   "outputs": [],
   "source": [
    "def file_has_fingerprint(file_content):\n",
    "    return \"fingerprints.csv\" in file_content\n",
    "\n",
    "def file_incomplete(file_content):\n",
    "    return len(file_content) <= 2\n",
    "\n",
    "def retrieve_fingerprint_file(formula, folder):\n",
    "    content = os.listdir(folder)\n",
    "    return next((filename for filename in content if formula in filename), None)"
   ]
  },
  {
   "cell_type": "code",
   "execution_count": 12,
   "metadata": {},
   "outputs": [],
   "source": [
    "desc_list = []\n",
    "count = 0\n",
    "correct_fingerprint_count = 0\n",
    "\n",
    "with open(sample_fingerprints_legend_path, 'r') as f:\n",
    "    for line in f:\n",
    "        rel_index, abs_index, desc = line.split(\"\\t\")\n",
    "        if desc[:-1] != \"description\":\n",
    "            desc_list.append(desc[:-1])\n",
    "\n",
    "desc_list = desc_list[:154]\n",
    "fingerprint_smarts = [entry.split(\" \")[0] for entry in desc_list]"
   ]
  },
  {
   "cell_type": "code",
   "execution_count": 13,
   "metadata": {},
   "outputs": [],
   "source": [
    "correct_folder_file = []\n",
    "wrong_folder_file = []\n",
    "\n",
    "for directory in os.listdir(output_file_dir):\n",
    "    file_dir = os.path.join(output_file_dir, directory)\n",
    "    files_in_output_dir = os.listdir(file_dir)\n",
    "    if file_has_fingerprint(files_in_output_dir):\n",
    "        mol = files_in_output_dir[1].split(\"_\")[-1]\n",
    "        mol_file = os.path.join(gnps_dir, mol + \".ms\")\n",
    "        if os.path.isfile(mol_file):\n",
    "            with open(mol_file, 'r') as f:\n",
    "                content = f.readlines()\n",
    "                formula = content[1].split(\" \")[-1][:-1]\n",
    "        count += 1\n",
    "        folder = \"1_{0}_{1}\".format(directory, mol)\n",
    "        fingerprints_file_dir = os.path.join(os.path.join(file_dir, folder), \"fingerprints\")\n",
    "        if retrieve_fingerprint_file(formula, fingerprints_file_dir):\n",
    "            correct_folder_file.append((directory, mol, formula))\n",
    "            correct_fingerprint_count += 1\n",
    "        else:\n",
    "            wrong_folder_file.append((directory, mol, formula))"
   ]
  },
  {
   "cell_type": "code",
   "execution_count": 14,
   "metadata": {},
   "outputs": [
    {
     "name": "stdout",
     "output_type": "stream",
     "text": [
      "25\n",
      "56\n"
     ]
    }
   ],
   "source": [
    "correct_filenames = [entry[1] for entry in correct_folder_file if entry[1] in spectrum_smiles]\n",
    "wrong_filenames = [entry[1] for entry in wrong_folder_file if entry[1] in spectrum_smiles]\n",
    "print(len(correct_filenames))\n",
    "print(len(wrong_filenames))"
   ]
  },
  {
   "cell_type": "code",
   "execution_count": 15,
   "metadata": {},
   "outputs": [
    {
     "name": "stdout",
     "output_type": "stream",
     "text": [
      "154\n"
     ]
    }
   ],
   "source": [
    "fingerprints_df = pd.DataFrame(0.0, index=correct_filenames, columns=range(len(desc_list)), dtype=float)\n",
    "wrong_fingerprints_df = pd.DataFrame(0.0, index=wrong_filenames, columns=range(len(desc_list)), dtype=float)\n",
    "\n",
    "print(len(desc_list))"
   ]
  },
  {
   "cell_type": "code",
   "execution_count": 16,
   "metadata": {},
   "outputs": [
    {
     "name": "stdout",
     "output_type": "stream",
     "text": [
      "Done\n"
     ]
    }
   ],
   "source": [
    "for directory, mol, formula in correct_folder_file:\n",
    "    file_dir = os.path.join(output_file_dir, directory)\n",
    "    folder = \"1_{0}_{1}\".format(directory, mol)\n",
    "    fingerprints_file_dir = os.path.join(os.path.join(file_dir, folder), \"fingerprints\")\n",
    "    fingerprint_path = retrieve_fingerprint_file(formula, fingerprints_file_dir)\n",
    "    full_fingerprint_path = os.path.join(fingerprints_file_dir, fingerprint_path)\n",
    "    fingerprint_bits = np.loadtxt(full_fingerprint_path, dtype=np.double)\n",
    "    relevant_fingerprint_bits = fingerprint_bits[:154]\n",
    "    if mol in correct_filenames:\n",
    "        fingerprints_df.loc[mol] = relevant_fingerprint_bits\n",
    "    \n",
    "print(\"Done\")"
   ]
  },
  {
   "cell_type": "code",
   "execution_count": 17,
   "metadata": {
    "scrolled": true
   },
   "outputs": [
    {
     "name": "stdout",
     "output_type": "stream",
     "text": [
      "Done\n"
     ]
    }
   ],
   "source": [
    "for directory, mol, formula in wrong_folder_file:\n",
    "    file_dir = os.path.join(output_file_dir, directory)\n",
    "    folder = \"1_{0}_{1}\".format(directory, mol)\n",
    "    fingerprints_file_dir = os.path.join(os.path.join(file_dir, folder), \"fingerprints\")\n",
    "    first_file = os.listdir(fingerprints_file_dir)[0]\n",
    "    full_fingerprint_path = os.path.join(fingerprints_file_dir, first_file)\n",
    "    fingerprint_bits = np.loadtxt(full_fingerprint_path, dtype=np.double)\n",
    "    relevant_fingerprint_bits = fingerprint_bits[:154]\n",
    "    if mol in wrong_filenames:\n",
    "        wrong_fingerprints_df.loc[mol] = relevant_fingerprint_bits\n",
    "    \n",
    "print(\"Done\")"
   ]
  },
  {
   "cell_type": "code",
   "execution_count": 18,
   "metadata": {},
   "outputs": [],
   "source": [
    "datapath = \"G:\\\\Dev\\\\Data\\\\For Family Q3\\\\GNPS Python Master\\\\Final Data.txt\"\n",
    "gnps_for_family_datapath = \"G:\\\\Dev\\\\Data\\\\For Family Q3\\\\GNPS Python Master\\\\Final Data.txt\"\n",
    "fingerprints_path = \"G:\\\\Dev\\\\Data\\\\For Family Q3\\\\GNPS Python Master\\\\Final Fingerprints.txt\"\n",
    "filtered_fingerprints_path = \"G:\\\\Dev\\\\Data\\\\Filtered Mibig GNPS Links\\\\Filtered Mibig Fingerprints.tsv\"\n",
    "linked_fingerprints_path = \"G:\\\\Dev\\\\Data\\\\Linked GNPS Fingerprints.tsv\"\n",
    "smiles_fingerprints_path = \"G:\\\\Dev\\\\Data\\\\Fingerprint Bitmaps 2\\\\mibig_unique_smiles.txt\"\n",
    "\n",
    "families_path = \"G:\\\\Dev\\\\Data\\\\Final Smiles Families.txt\"\n",
    "mibig_families_path = \"G:\\\\Dev\\\\Data\\\\mibig_family.txt\"\n",
    "fingerprints_names_path = \"G:\\\\Dev\\\\Data\\\\1000\\\\GNPS Python Master\\\\Fingerprint Legend.txt\"\n",
    "families_names_path = \"G:\\\\Dev\\\\Data\\\\Family Legend.txt\"\n",
    "num_samples = 5770\n",
    "num_smiles_families_samples = 1368\n",
    "val_fraction = 0.1\n",
    "default_dpi = plt.rcParamsDefault['figure.dpi']\n",
    "plt.rcParams['figure.dpi'] = default_dpi*1.1"
   ]
  },
  {
   "cell_type": "code",
   "execution_count": 19,
   "metadata": {},
   "outputs": [],
   "source": [
    "# Load a master file containing CDK fingerprints for all molecules.\n",
    "# Each molecules CDK bit set is added as a 320 element array to a Pandas dataframe.\n",
    "def load_fingerprints_from_smarts_and_file(filenames):\n",
    "    BITS = 154  # Total number of bits in fingerprint\n",
    "\n",
    "    fingerprints = pd.DataFrame(0, index=filenames, columns=range(BITS), dtype=int)\n",
    "\n",
    "    # Populate the dataframe using each molecule's filename to place data in the correct row.\n",
    "    for filename in filenames:\n",
    "        smiles = spectrum_smiles[filename]\n",
    "        m = Chem.MolFromSmiles(smiles)\n",
    "        for index, smarts in enumerate(fingerprint_smarts):\n",
    "            patt = Chem.MolFromSmarts(smarts)\n",
    "            fingerprints.at[filename, index] = int(m.HasSubstructMatch(patt))\n",
    "\n",
    "    return fingerprints\n",
    "\n",
    "# Load a master file containing CDK fingerprints for all molecules.\n",
    "# Each molecules CDK bit set is added as a 320 element array to a Pandas dataframe.\n",
    "def load_fingerprints_from_smarts(path, number_of_rows=0):\n",
    "    BITS = 154  # Total number of bits in fingerprint\n",
    "    \n",
    "    # number_of_rows to skip, e.g. headers\n",
    "    fp_all = np.loadtxt(path, dtype=\"U105\", skiprows=number_of_rows)  # Get master file as numpy array of Strings\n",
    "    fp_ids = np.unique(fp_all[:, 0])  # Trim duplicate filename rows, store unique filenames\n",
    "\n",
    "    # Construct empty Pandas dataframe of correct size.\n",
    "    # Number of rows is equal to the number of unique molecules (found in fp_ids).\n",
    "    fingerprints = pd.DataFrame(0, index=fp_ids, columns=range(BITS), dtype=int)\n",
    "\n",
    "    # Populate the dataframe using each molecule's filename to place data in the correct row.\n",
    "    for fp_id in fp_ids:\n",
    "        smiles = spectrum_smiles[fp_id]\n",
    "        m = Chem.MolFromSmiles(smiles)\n",
    "        for index, smarts in enumerate(fingerprint_smarts):\n",
    "            patt = Chem.MolFromSmarts(smarts)\n",
    "            fingerprints.at[fp_id, index] = int(m.HasSubstructMatch(patt))\n",
    "\n",
    "    return fingerprints"
   ]
  },
  {
   "cell_type": "code",
   "execution_count": 40,
   "metadata": {},
   "outputs": [],
   "source": [
    "from keras.layers import Input, Dense\n",
    "from keras.models import Model,Sequential\n",
    "from keras.wrappers.scikit_learn import KerasClassifier\n",
    "from sklearn.model_selection import cross_val_score\n",
    "from sklearn.model_selection import StratifiedKFold\n",
    "from keras.optimizers import SGD\n",
    "def baseline_model(input_to_network, output):\n",
    "    class_model = Sequential()\n",
    "    class_model.add(Dense(500, input_dim=input_to_network.shape[1], kernel_initializer='normal', activation='relu'))\n",
    "    class_model.add(Dense(200,kernel_initializer='normal',activation = 'relu'))\n",
    "    class_model.add(Dense(output.shape[1],kernel_initializer='normal',activation = 'sigmoid'))\n",
    "    class_model.compile(loss='binary_crossentropy', optimizer='adam', metrics=['accuracy'])\n",
    "    return class_model"
   ]
  },
  {
   "cell_type": "code",
   "execution_count": 21,
   "metadata": {},
   "outputs": [],
   "source": [
    "def calc_peak_differences(spec):\n",
    "    non_zero_peaks = list(np.where(spec>0)[0])\n",
    "    peak_differences = [(abs(i-j), (spec[i]+spec[j]/2.0)) for i in non_zero_peaks for j in non_zero_peaks if i != j and j > i]\n",
    "    \n",
    "    return peak_differences"
   ]
  },
  {
   "cell_type": "code",
   "execution_count": 22,
   "metadata": {},
   "outputs": [],
   "source": [
    "def load_shift_bins(intensities):\n",
    "    shift_bins = np.zeros(intensities.shape, np.double)\n",
    "\n",
    "    for index, spec in enumerate(intensities.values):\n",
    "        peak_differences = calc_peak_differences(spec)\n",
    "        for shift, average_intensity in peak_differences:\n",
    "            shift_bins[index, shift - 1] += average_intensity\n",
    "\n",
    "    return shift_bins\n",
    "\n",
    "# Loads a master file containing peak intensities for all molecules.\n",
    "# Each molecule's spectrum is added as a 1000 element row to a Pandas dataframe\n",
    "# The dataframe is then converted into a numpy array for use as Keras Input.\n",
    "# Include the option of adding additonal features to each molecule (mass_shifts variable)\n",
    "def load_master_file(path, mass_shifts = 0, number_of_bins = 1000):\n",
    "    MAX_MASS = 1000\n",
    "    BIN_SIZE = 1\n",
    "    NUM_FEATURES = mass_shifts\n",
    "    mol_all = np.loadtxt(path, dtype=\"U25\") # Get master file in as numpy array\n",
    "    \n",
    "    mol_ids = np.unique(mol_all[:, 0])  # Trim duplicate filename rows, store unique filenames\n",
    "    # Construct empty Pandas dataframe of correct size.\n",
    "    # Number of rows is equal to the number of unique molecules (found in mol_ids).\n",
    "    intensities = pd.DataFrame(0.0, index = mol_ids, columns=range((number_of_bins//BIN_SIZE)+NUM_FEATURES), dtype=float)\n",
    "    \n",
    "    # Populate the dataframe using each molecule's filename to place data in the correct row.\n",
    "    for row in mol_all:\n",
    "        intensities.at[row[0], float(row[1])-1] = float(row[2])\n",
    "    \n",
    "    return intensities\n",
    "\n",
    "def normalise(X):\n",
    "    for i,row in enumerate(X):\n",
    "        tot = row.sum()\n",
    "        if tot > 0:\n",
    "            for j in range(len(row)):\n",
    "                X[i,j] = (1.0*row[j])/tot\n",
    "    return X"
   ]
  },
  {
   "cell_type": "code",
   "execution_count": 33,
   "metadata": {},
   "outputs": [],
   "source": [
    "# Takes a actual and predicted values and computes the area under the Roc curve for each.\n",
    "# For each, also calculates AUC when the actual values are scrambled.\n",
    "# Return two numpy arrays: one containing AUC metrics for all , one containing each permutation's\n",
    "# AUC scores for each.\n",
    "def compute_auc(bits, true, pred, num_samples=0, permutations=500):\n",
    "    val_start_index = 0\n",
    "    if num_samples > 0:\n",
    "        val_start_index = int(num_samples - (num_samples * val_fraction) - 1)  # Index where validation samples begin.\n",
    "\n",
    "    num_permutations = permutations  # Number of permutations to compute AUC scores for.\n",
    "\n",
    "    # Create structured array to hold statistics for each.\n",
    "    dtype = [('fp_id', int), ('nonzeros', int), ('auc', float), ('auc_percent', float)]\n",
    "    mol_stats = np.zeros((bits,), dtype=dtype)\n",
    "    # Create array to hold permutation AUC scores for plotting.\n",
    "    perm_scores = np.zeros((bits, num_permutations))\n",
    "\n",
    "    for fp_id in range(true.shape[1]):  # For every substructure\n",
    "        nonzero_vals = np.count_nonzero(true[val_start_index:, fp_id])  # Count number of nonzero values\n",
    "        if 0 < nonzero_vals < true[val_start_index:, fp_id].size:  # If there are no 1s or no 0s, can't compute.\n",
    "            # Compute actual AUC score using only the validation fraction of the dataset.\n",
    "            fp_true = true[val_start_index:, fp_id]\n",
    "            fp_pred = pred[val_start_index:, fp_id]\n",
    "            score = metrics.roc_auc_score(fp_true, fp_pred)\n",
    "\n",
    "            # Compute AUC scores for permutations and compare to actual.\n",
    "            counter = 0\n",
    "            for i in range(num_permutations):\n",
    "                permutation = np.random.permutation(fp_true)\n",
    "                perm_score = metrics.roc_auc_score(permutation, fp_pred)\n",
    "                perm_scores[fp_id, i] = perm_score\n",
    "                # Count how many permutations have a higer AUC score than actual data.\n",
    "                if perm_score >= score:\n",
    "                    counter = counter + 1\n",
    "            # Calculate % of scrambled values with higher AUC score than actual AUC\n",
    "            percentage = (counter / num_permutations) * 100\n",
    "            # Update structured array with data or non values if no AUC could be calculated.\n",
    "            mol_stats[fp_id] = fp_id, nonzero_vals, score, percentage\n",
    "        else:\n",
    "            mol_stats[fp_id] = (fp_id, nonzero_vals, 0, 100)\n",
    "\n",
    "    # Permutations take a while, print statement to say when finished.\n",
    "    print(\"Done\")\n",
    "    return mol_stats, perm_scores\n",
    "\n",
    "\n",
    "# Given the AUC statistics derived from two separate models, it comapres the two models' performance\n",
    "# Creates a bar chart comparing substructures above an AUC threshold and draws boxplots for each model's best and worst\n",
    "# performing substructures.\n",
    "# Usually compares an experimental model's AUC to a baseline (e.g. the basic fingerprint encoder)\n",
    "def evaluate(base_stats, base_perm_scores, exp_stats, exp_perm_scores, names):\n",
    "    # Sort molecules in ascending order of baseline AUC score, keeping only molecules with AUC scores above 0.5\n",
    "    normal_auc = np.where((base_stats['auc'] > 0.5))\n",
    "    abnormal_auc = np.where((base_stats['auc']) < 0.5)\n",
    "    ordered_base = np.sort(base_stats[normal_auc], order='auc', axis=0)[::-1]\n",
    "\n",
    "    # Take top 30 and bottom 5 substructures by AUC score to use for boxplots.\n",
    "    sample_fps = ordered_base[:30]\n",
    "    sample_fps = np.append(sample_fps, ordered_base[-5:])\n",
    "\n",
    "    # Plot number of substructures with AUC scores above 0.7 and above 0.5 for both data sets\n",
    "    base_above_07 = len(np.where((base_stats['auc'] >= 0.7))[0])\n",
    "    exp_above_07 = len(np.where((exp_stats['auc'] >= 0.7))[0])\n",
    "    base_above_05 = len(np.where((base_stats['auc'] >= 0.5))[0])\n",
    "    exp_above_05 = len(np.where((exp_stats['auc'] >= 0.5))[0])\n",
    "\n",
    "    fig, ax = plt.subplots()\n",
    "    index = np.arange(2)\n",
    "    bar_width = 0.35\n",
    "    opacity = 0.5\n",
    "    ax.bar(index, (base_above_05, base_above_07), bar_width, alpha=opacity, color='b', label='Baseline')\n",
    "    ax.bar(index + bar_width, (exp_above_05, exp_above_07), bar_width, alpha=opacity, color='r', label='Experiment')\n",
    "\n",
    "    ax.set_xlabel('AUC Threshold')\n",
    "    ax.set_ylabel('Number of Substructures')\n",
    "    ax.set_title('AUC Score Comparison')\n",
    "    ax.set_xticks(index + bar_width / 2)\n",
    "    ax.set_xticklabels(('Above 0.5', 'Above 0.7'))\n",
    "    ax.legend()\n",
    "\n",
    "    plt.show()\n",
    "\n",
    "    # Boxplots of sample substructures for both data sets\n",
    "    boxplots(base_stats, base_perm_scores, sample_fps, names)\n",
    "    boxplots(exp_stats, exp_perm_scores, sample_fps, names)\n",
    "    tandem_boxplots(base_stats, base_perm_scores, exp_stats, sample_fps, names)\n",
    "\n",
    "    # Sort molecules in ascending order of experimental AUC score, keeping only molecules with AUC scores above 0.5\n",
    "    normal_auc = np.where((exp_stats['auc'] > 0.5))\n",
    "    abnormal_auc = np.where((exp_stats['auc']) < 0.5)\n",
    "    ordered_exp = np.sort(exp_stats[normal_auc], order='auc', axis=0)[::-1]\n",
    "\n",
    "    # Take top 30 and bottom 5 substructures by AUC score to use for boxplots.\n",
    "    sample_fps = ordered_exp[:30]\n",
    "    sample_fps = np.append(sample_fps, ordered_exp[-5:])\n",
    "\n",
    "    boxplots(base_stats, base_perm_scores, sample_fps, names)\n",
    "    boxplots(exp_stats, exp_perm_scores, sample_fps, names)\n",
    "    tandem_boxplots(base_stats, exp_perm_scores, exp_stats, sample_fps, names)"
   ]
  },
  {
   "cell_type": "code",
   "execution_count": 23,
   "metadata": {},
   "outputs": [
    {
     "name": "stdout",
     "output_type": "stream",
     "text": [
      "6538 1000\n",
      "Done\n"
     ]
    }
   ],
   "source": [
    "spectra = load_master_file(path=datapath)\n",
    "fingerprints = load_fingerprints_from_smarts(fingerprints_path, number_of_rows=1)\n",
    "N,M = spectra.shape\n",
    "shuffle_order = np.random.permutation(N)\n",
    "print(N,M)\n",
    "print(\"Done\")"
   ]
  },
  {
   "cell_type": "code",
   "execution_count": 42,
   "metadata": {},
   "outputs": [
    {
     "name": "stdout",
     "output_type": "stream",
     "text": [
      "(6538, 1000)\n",
      "Done\n"
     ]
    }
   ],
   "source": [
    "# Example of how to run a fingerprint encoder\n",
    "\n",
    "# Training network 1 (exclude links)\n",
    "epochs = 100\n",
    "extra_epochs = 100\n",
    "x_train_spectra = np.log(spectra+1)\n",
    "x_train_fingerprints = fingerprints.values\n",
    "shift_bins = load_shift_bins(x_train_spectra)\n",
    "\n",
    "x_shifts = normalise(shift_bins)\n",
    "print(x_shifts.shape)\n",
    "\n",
    "x_train_fingerprints = fingerprints.values\n",
    "mod = baseline_model(x_shifts, x_train_fingerprints)\n",
    "mod.fit(x_shifts[shuffle_order,:],x_train_fingerprints[shuffle_order],epochs=epochs,validation_split=0.2,verbose=0)\n",
    "mod.fit(x_shifts[shuffle_order,:],x_train_fingerprints[shuffle_order],epochs=extra_epochs,validation_split=0.2,verbose=0)\n",
    "print(\"Done\")"
   ]
  },
  {
   "cell_type": "markdown",
   "metadata": {},
   "source": [
    "Compare when CSI got it right to our model"
   ]
  },
  {
   "cell_type": "code",
   "execution_count": 43,
   "metadata": {},
   "outputs": [
    {
     "name": "stdout",
     "output_type": "stream",
     "text": [
      "(25, 1000)\n",
      "Done\n",
      "Done\n"
     ]
    },
    {
     "data": {
      "image/png": "[encoded data removed]",
      "text/plain": [
       "<Figure size 660x440 with 1 Axes>"
      ]
     },
     "metadata": {
      "needs_background": "light"
     },
     "output_type": "display_data"
    },
    {
     "ename": "NameError",
     "evalue": "name 'boxplots' is not defined",
     "output_type": "error",
     "traceback": [
      "\u001b[1;31m---------------------------------------------------------------------------\u001b[0m",
      "\u001b[1;31mNameError\u001b[0m                                 Traceback (most recent call last)",
      "\u001b[1;32m<ipython-input-43-4819a337137e>\u001b[0m in \u001b[0;36m<module>\u001b[1;34m\u001b[0m\n\u001b[0;32m     11\u001b[0m \u001b[0mexp_stats\u001b[0m\u001b[1;33m,\u001b[0m \u001b[0mexp_perm_scores\u001b[0m \u001b[1;33m=\u001b[0m \u001b[0mcompute_auc\u001b[0m\u001b[1;33m(\u001b[0m\u001b[1;36m154\u001b[0m\u001b[1;33m,\u001b[0m \u001b[0mtrue_fingerprints_for_correct_file\u001b[0m\u001b[1;33m.\u001b[0m\u001b[0mvalues\u001b[0m\u001b[1;33m,\u001b[0m \u001b[0mfingerprints_df\u001b[0m\u001b[1;33m.\u001b[0m\u001b[0mvalues\u001b[0m\u001b[1;33m)\u001b[0m\u001b[1;33m\u001b[0m\u001b[0m\n\u001b[0;32m     12\u001b[0m \u001b[1;33m\u001b[0m\u001b[0m\n\u001b[1;32m---> 13\u001b[1;33m \u001b[0mevaluate\u001b[0m\u001b[1;33m(\u001b[0m\u001b[0mbaseline_stats\u001b[0m\u001b[1;33m,\u001b[0m \u001b[0mbaseline_perm_scores\u001b[0m\u001b[1;33m,\u001b[0m \u001b[0mexp_stats\u001b[0m\u001b[1;33m,\u001b[0m \u001b[0mexp_perm_scores\u001b[0m\u001b[1;33m,\u001b[0m \u001b[0mrange\u001b[0m\u001b[1;33m(\u001b[0m\u001b[1;36m154\u001b[0m\u001b[1;33m)\u001b[0m\u001b[1;33m)\u001b[0m\u001b[1;33m\u001b[0m\u001b[0m\n\u001b[0m",
      "\u001b[1;32m<ipython-input-33-f0b6ab5f59fb>\u001b[0m in \u001b[0;36mevaluate\u001b[1;34m(base_stats, base_perm_scores, exp_stats, exp_perm_scores, names)\u001b[0m\n\u001b[0;32m     82\u001b[0m \u001b[1;33m\u001b[0m\u001b[0m\n\u001b[0;32m     83\u001b[0m     \u001b[1;31m# Boxplots of sample substructures for both data sets\u001b[0m\u001b[1;33m\u001b[0m\u001b[1;33m\u001b[0m\u001b[0m\n\u001b[1;32m---> 84\u001b[1;33m     \u001b[0mboxplots\u001b[0m\u001b[1;33m(\u001b[0m\u001b[0mbase_stats\u001b[0m\u001b[1;33m,\u001b[0m \u001b[0mbase_perm_scores\u001b[0m\u001b[1;33m,\u001b[0m \u001b[0msample_fps\u001b[0m\u001b[1;33m,\u001b[0m \u001b[0mnames\u001b[0m\u001b[1;33m)\u001b[0m\u001b[1;33m\u001b[0m\u001b[0m\n\u001b[0m\u001b[0;32m     85\u001b[0m     \u001b[0mboxplots\u001b[0m\u001b[1;33m(\u001b[0m\u001b[0mexp_stats\u001b[0m\u001b[1;33m,\u001b[0m \u001b[0mexp_perm_scores\u001b[0m\u001b[1;33m,\u001b[0m \u001b[0msample_fps\u001b[0m\u001b[1;33m,\u001b[0m \u001b[0mnames\u001b[0m\u001b[1;33m)\u001b[0m\u001b[1;33m\u001b[0m\u001b[0m\n\u001b[0;32m     86\u001b[0m     \u001b[0mtandem_boxplots\u001b[0m\u001b[1;33m(\u001b[0m\u001b[0mbase_stats\u001b[0m\u001b[1;33m,\u001b[0m \u001b[0mbase_perm_scores\u001b[0m\u001b[1;33m,\u001b[0m \u001b[0mexp_stats\u001b[0m\u001b[1;33m,\u001b[0m \u001b[0msample_fps\u001b[0m\u001b[1;33m,\u001b[0m \u001b[0mnames\u001b[0m\u001b[1;33m)\u001b[0m\u001b[1;33m\u001b[0m\u001b[0m\n",
      "\u001b[1;31mNameError\u001b[0m: name 'boxplots' is not defined"
     ]
    }
   ],
   "source": [
    "correct_spectra = spectra[spectra.index.isin(correct_filenames)]\n",
    "shift_bins = load_shift_bins(correct_spectra)\n",
    "\n",
    "x_shifts = normalise(shift_bins)\n",
    "print(x_shifts.shape)\n",
    "\n",
    "predicted = mod.predict(x_shifts)\n",
    "true_fingerprints_for_correct_file = load_fingerprints_from_smarts_and_file(correct_filenames)\n",
    "\n",
    "baseline_stats, baseline_perm_scores = compute_auc(154, true_fingerprints_for_correct_file.values, predicted)\n",
    "exp_stats, exp_perm_scores = compute_auc(154, true_fingerprints_for_correct_file.values, fingerprints_df.values)\n",
    "\n",
    "evaluate(baseline_stats, baseline_perm_scores, exp_stats, exp_perm_scores, range(154))"
   ]
  },
  {
   "cell_type": "markdown",
   "metadata": {},
   "source": [
    "Compare when CSI got it wrong to our model"
   ]
  },
  {
   "cell_type": "code",
   "execution_count": 44,
   "metadata": {},
   "outputs": [
    {
     "name": "stdout",
     "output_type": "stream",
     "text": [
      "(56, 1000)\n",
      "Done\n",
      "Done\n"
     ]
    },
    {
     "data": {
      "image/png": "[encoded data removed]",
      "text/plain": [
       "<Figure size 660x440 with 1 Axes>"
      ]
     },
     "metadata": {
      "needs_background": "light"
     },
     "output_type": "display_data"
    },
    {
     "ename": "NameError",
     "evalue": "name 'boxplots' is not defined",
     "output_type": "error",
     "traceback": [
      "\u001b[1;31m---------------------------------------------------------------------------\u001b[0m",
      "\u001b[1;31mNameError\u001b[0m                                 Traceback (most recent call last)",
      "\u001b[1;32m<ipython-input-44-b745b34ec562>\u001b[0m in \u001b[0;36m<module>\u001b[1;34m\u001b[0m\n\u001b[0;32m     11\u001b[0m \u001b[0mexp_stats\u001b[0m\u001b[1;33m,\u001b[0m \u001b[0mexp_perm_scores\u001b[0m \u001b[1;33m=\u001b[0m \u001b[0mcompute_auc\u001b[0m\u001b[1;33m(\u001b[0m\u001b[1;36m154\u001b[0m\u001b[1;33m,\u001b[0m \u001b[0mtrue_fingerprints_for_wrong_file\u001b[0m\u001b[1;33m.\u001b[0m\u001b[0mvalues\u001b[0m\u001b[1;33m,\u001b[0m \u001b[0mwrong_fingerprints_df\u001b[0m\u001b[1;33m.\u001b[0m\u001b[0mvalues\u001b[0m\u001b[1;33m)\u001b[0m\u001b[1;33m\u001b[0m\u001b[0m\n\u001b[0;32m     12\u001b[0m \u001b[1;33m\u001b[0m\u001b[0m\n\u001b[1;32m---> 13\u001b[1;33m \u001b[0mevaluate\u001b[0m\u001b[1;33m(\u001b[0m\u001b[0mbaseline_stats\u001b[0m\u001b[1;33m,\u001b[0m \u001b[0mbaseline_perm_scores\u001b[0m\u001b[1;33m,\u001b[0m \u001b[0mexp_stats\u001b[0m\u001b[1;33m,\u001b[0m \u001b[0mexp_perm_scores\u001b[0m\u001b[1;33m,\u001b[0m \u001b[0mrange\u001b[0m\u001b[1;33m(\u001b[0m\u001b[1;36m154\u001b[0m\u001b[1;33m)\u001b[0m\u001b[1;33m)\u001b[0m\u001b[1;33m\u001b[0m\u001b[0m\n\u001b[0m",
      "\u001b[1;32m<ipython-input-33-f0b6ab5f59fb>\u001b[0m in \u001b[0;36mevaluate\u001b[1;34m(base_stats, base_perm_scores, exp_stats, exp_perm_scores, names)\u001b[0m\n\u001b[0;32m     82\u001b[0m \u001b[1;33m\u001b[0m\u001b[0m\n\u001b[0;32m     83\u001b[0m     \u001b[1;31m# Boxplots of sample substructures for both data sets\u001b[0m\u001b[1;33m\u001b[0m\u001b[1;33m\u001b[0m\u001b[0m\n\u001b[1;32m---> 84\u001b[1;33m     \u001b[0mboxplots\u001b[0m\u001b[1;33m(\u001b[0m\u001b[0mbase_stats\u001b[0m\u001b[1;33m,\u001b[0m \u001b[0mbase_perm_scores\u001b[0m\u001b[1;33m,\u001b[0m \u001b[0msample_fps\u001b[0m\u001b[1;33m,\u001b[0m \u001b[0mnames\u001b[0m\u001b[1;33m)\u001b[0m\u001b[1;33m\u001b[0m\u001b[0m\n\u001b[0m\u001b[0;32m     85\u001b[0m     \u001b[0mboxplots\u001b[0m\u001b[1;33m(\u001b[0m\u001b[0mexp_stats\u001b[0m\u001b[1;33m,\u001b[0m \u001b[0mexp_perm_scores\u001b[0m\u001b[1;33m,\u001b[0m \u001b[0msample_fps\u001b[0m\u001b[1;33m,\u001b[0m \u001b[0mnames\u001b[0m\u001b[1;33m)\u001b[0m\u001b[1;33m\u001b[0m\u001b[0m\n\u001b[0;32m     86\u001b[0m     \u001b[0mtandem_boxplots\u001b[0m\u001b[1;33m(\u001b[0m\u001b[0mbase_stats\u001b[0m\u001b[1;33m,\u001b[0m \u001b[0mbase_perm_scores\u001b[0m\u001b[1;33m,\u001b[0m \u001b[0mexp_stats\u001b[0m\u001b[1;33m,\u001b[0m \u001b[0msample_fps\u001b[0m\u001b[1;33m,\u001b[0m \u001b[0mnames\u001b[0m\u001b[1;33m)\u001b[0m\u001b[1;33m\u001b[0m\u001b[0m\n",
      "\u001b[1;31mNameError\u001b[0m: name 'boxplots' is not defined"
     ]
    }
   ],
   "source": [
    "wrong_spectra = spectra[spectra.index.isin(wrong_filenames)]\n",
    "shift_bins = load_shift_bins(wrong_spectra)\n",
    "\n",
    "x_shifts = normalise(shift_bins)\n",
    "print(x_shifts.shape)\n",
    "\n",
    "predicted = mod.predict(x_shifts)\n",
    "true_fingerprints_for_wrong_file = load_fingerprints_from_smarts_and_file(wrong_filenames)\n",
    "\n",
    "baseline_stats, baseline_perm_scores = compute_auc(154, true_fingerprints_for_wrong_file.values, predicted)\n",
    "exp_stats, exp_perm_scores = compute_auc(154, true_fingerprints_for_wrong_file.values, wrong_fingerprints_df.values)\n",
    "\n",
    "evaluate(baseline_stats, baseline_perm_scores, exp_stats, exp_perm_scores, range(154))"
   ]
  },
  {
   "cell_type": "markdown",
   "metadata": {},
   "source": [
    "Compare when CSI got the fingerprints (both correct and wrong) to our model"
   ]
  },
  {
   "cell_type": "code",
   "execution_count": 45,
   "metadata": {},
   "outputs": [
    {
     "name": "stdout",
     "output_type": "stream",
     "text": [
      "(81, 1000)\n",
      "Done\n",
      "Done\n"
     ]
    },
    {
     "data": {
      "image/png": "[encoded data removed]",
      "text/plain": [
       "<Figure size 660x440 with 1 Axes>"
      ]
     },
     "metadata": {
      "needs_background": "light"
     },
     "output_type": "display_data"
    },
    {
     "ename": "NameError",
     "evalue": "name 'boxplots' is not defined",
     "output_type": "error",
     "traceback": [
      "\u001b[1;31m---------------------------------------------------------------------------\u001b[0m",
      "\u001b[1;31mNameError\u001b[0m                                 Traceback (most recent call last)",
      "\u001b[1;32m<ipython-input-45-70501033daff>\u001b[0m in \u001b[0;36m<module>\u001b[1;34m\u001b[0m\n\u001b[0;32m     13\u001b[0m \u001b[0mexp_stats\u001b[0m\u001b[1;33m,\u001b[0m \u001b[0mexp_perm_scores\u001b[0m \u001b[1;33m=\u001b[0m \u001b[0mcompute_auc\u001b[0m\u001b[1;33m(\u001b[0m\u001b[1;36m154\u001b[0m\u001b[1;33m,\u001b[0m \u001b[0mtrue_fingerprints_for_combined_file\u001b[0m\u001b[1;33m.\u001b[0m\u001b[0mvalues\u001b[0m\u001b[1;33m,\u001b[0m \u001b[0mcombined_fingerprints_df\u001b[0m\u001b[1;33m.\u001b[0m\u001b[0mvalues\u001b[0m\u001b[1;33m)\u001b[0m\u001b[1;33m\u001b[0m\u001b[0m\n\u001b[0;32m     14\u001b[0m \u001b[1;33m\u001b[0m\u001b[0m\n\u001b[1;32m---> 15\u001b[1;33m \u001b[0mevaluate\u001b[0m\u001b[1;33m(\u001b[0m\u001b[0mbaseline_stats\u001b[0m\u001b[1;33m,\u001b[0m \u001b[0mbaseline_perm_scores\u001b[0m\u001b[1;33m,\u001b[0m \u001b[0mexp_stats\u001b[0m\u001b[1;33m,\u001b[0m \u001b[0mexp_perm_scores\u001b[0m\u001b[1;33m,\u001b[0m \u001b[0mrange\u001b[0m\u001b[1;33m(\u001b[0m\u001b[1;36m154\u001b[0m\u001b[1;33m)\u001b[0m\u001b[1;33m)\u001b[0m\u001b[1;33m\u001b[0m\u001b[0m\n\u001b[0m",
      "\u001b[1;32m<ipython-input-33-f0b6ab5f59fb>\u001b[0m in \u001b[0;36mevaluate\u001b[1;34m(base_stats, base_perm_scores, exp_stats, exp_perm_scores, names)\u001b[0m\n\u001b[0;32m     82\u001b[0m \u001b[1;33m\u001b[0m\u001b[0m\n\u001b[0;32m     83\u001b[0m     \u001b[1;31m# Boxplots of sample substructures for both data sets\u001b[0m\u001b[1;33m\u001b[0m\u001b[1;33m\u001b[0m\u001b[0m\n\u001b[1;32m---> 84\u001b[1;33m     \u001b[0mboxplots\u001b[0m\u001b[1;33m(\u001b[0m\u001b[0mbase_stats\u001b[0m\u001b[1;33m,\u001b[0m \u001b[0mbase_perm_scores\u001b[0m\u001b[1;33m,\u001b[0m \u001b[0msample_fps\u001b[0m\u001b[1;33m,\u001b[0m \u001b[0mnames\u001b[0m\u001b[1;33m)\u001b[0m\u001b[1;33m\u001b[0m\u001b[0m\n\u001b[0m\u001b[0;32m     85\u001b[0m     \u001b[0mboxplots\u001b[0m\u001b[1;33m(\u001b[0m\u001b[0mexp_stats\u001b[0m\u001b[1;33m,\u001b[0m \u001b[0mexp_perm_scores\u001b[0m\u001b[1;33m,\u001b[0m \u001b[0msample_fps\u001b[0m\u001b[1;33m,\u001b[0m \u001b[0mnames\u001b[0m\u001b[1;33m)\u001b[0m\u001b[1;33m\u001b[0m\u001b[0m\n\u001b[0;32m     86\u001b[0m     \u001b[0mtandem_boxplots\u001b[0m\u001b[1;33m(\u001b[0m\u001b[0mbase_stats\u001b[0m\u001b[1;33m,\u001b[0m \u001b[0mbase_perm_scores\u001b[0m\u001b[1;33m,\u001b[0m \u001b[0mexp_stats\u001b[0m\u001b[1;33m,\u001b[0m \u001b[0msample_fps\u001b[0m\u001b[1;33m,\u001b[0m \u001b[0mnames\u001b[0m\u001b[1;33m)\u001b[0m\u001b[1;33m\u001b[0m\u001b[0m\n",
      "\u001b[1;31mNameError\u001b[0m: name 'boxplots' is not defined"
     ]
    }
   ],
   "source": [
    "combined_spectra = spectra[spectra.index.isin(wrong_filenames + correct_filenames)]\n",
    "shift_bins = load_shift_bins(combined_spectra)\n",
    "\n",
    "x_shifts = normalise(shift_bins)\n",
    "print(x_shifts.shape)\n",
    "\n",
    "predicted = mod.predict(x_shifts)\n",
    "true_fingerprints_for_combined_file = load_fingerprints_from_smarts_and_file(wrong_filenames + correct_filenames)\n",
    "\n",
    "baseline_stats, baseline_perm_scores = compute_auc(154, true_fingerprints_for_combined_file.values, predicted)\n",
    "\n",
    "combined_fingerprints_df = pd.concat([fingerprints_df, wrong_fingerprints_df])\n",
    "exp_stats, exp_perm_scores = compute_auc(154, true_fingerprints_for_combined_file.values, combined_fingerprints_df.values)\n",
    "\n",
    "evaluate(baseline_stats, baseline_perm_scores, exp_stats, exp_perm_scores, range(154))"
   ]
  },
  {
   "cell_type": "code",
   "execution_count": null,
   "metadata": {},
   "outputs": [],
   "source": []
  }
 ],
 "metadata": {
  "kernelspec": {
   "display_name": "Python 3",
   "language": "python",
   "name": "python3"
  },
  "language_info": {
   "codemirror_mode": {
    "name": "ipython",
    "version": 3
   },
   "file_extension": ".py",
   "mimetype": "text/x-python",
   "name": "python",
   "nbconvert_exporter": "python",
   "pygments_lexer": "ipython3",
   "version": "3.6.6"
  }
 },
 "nbformat": 4,
 "nbformat_minor": 2
}

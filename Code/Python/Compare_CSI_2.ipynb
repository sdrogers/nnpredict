{
 "cells": [
  {
   "cell_type": "code",
   "execution_count": 87,
   "metadata": {},
   "outputs": [],
   "source": [
    "import os\n",
    "import json\n",
    "import numpy as np\n",
    "from rdkit import Chem\n",
    "\n",
    "from matplotlib import pyplot as plt\n",
    "import pandas as pd"
   ]
  },
  {
   "cell_type": "code",
   "execution_count": 2,
   "metadata": {},
   "outputs": [],
   "source": [
    "gnps_dir = \"G:\\\\Dev\\\\Data\\\\GNPS\"\n",
    "json_file_dir = \"G:\\\\Dev\\\\trees_gnps\"\n",
    "fragments_occurences = \"G:\\\\Dev\\\\fragment_occurences.csv\"\n",
    "losses_occurences = \"G:\\\\Dev\\\\losses_occurences.csv\"\n",
    "\n",
    "path = \"G:\\\\Dev\\\\CSIFingerID\\\\\"\n",
    "sample_fingerprints_legend_path = path + \"fingerprints.csv\"\n",
    "output_file_dir = path + \"all_sirius_output_minibatches\""
   ]
  },
  {
   "cell_type": "code",
   "execution_count": 3,
   "metadata": {},
   "outputs": [],
   "source": [
    "fragments_df = pd.read_csv(fragments_occurences, names=[\"formula\", \"occurences\"])\n",
    "fragments_df = fragments_df.set_index(\"formula\")\n",
    "losses_df = pd.read_csv(losses_occurences, names=[\"formula\", \"occurences\"])\n",
    "losses_df = losses_df.set_index(\"formula\")\n"
   ]
  },
  {
   "cell_type": "code",
   "execution_count": 4,
   "metadata": {},
   "outputs": [
    {
     "name": "stdout",
     "output_type": "stream",
     "text": [
      "Index(['CO_loss', 'H2O_loss', 'C2H2_loss', 'CH3_loss', 'CHN_loss', 'CH4_loss',\n",
      "       'H3N_loss', 'H2_loss', 'C2H4_loss', 'C2H2O_loss',\n",
      "       ...\n",
      "       'C3H8S_loss', 'OP_loss', 'CH2N3_loss', 'C7H7NO3_loss', 'O2P_loss',\n",
      "       'C2H5NOS_loss', 'C10H4N3_loss', 'C9H17O3_loss', 'C3H7N4_loss',\n",
      "       'C4H6NO2_loss'],\n",
      "      dtype='object', length=892)\n",
      "Index(['BrH_loss', 'Br_loss', 'C10', 'C10H10', 'C10H10ClN', 'C10H10ClNO',\n",
      "       'C10H10ClNO2', 'C10H10F2O2', 'C10H10FN', 'C10H10N',\n",
      "       ...\n",
      "       'O2_loss', 'O3S_loss', 'O3_loss', 'O4_loss', 'O5_loss', 'OP_loss',\n",
      "       'OS_loss', 'O_loss', 'S2_loss', 'S_loss'],\n",
      "      dtype='object', length=5508)\n"
     ]
    }
   ],
   "source": [
    "losses_df.index = [index + \"_loss\" for index in losses_df.index]\n",
    "print(losses_df.index)\n",
    "combined_index = fragments_df.index.union(losses_df.index)\n",
    "print(combined_index)"
   ]
  },
  {
   "cell_type": "code",
   "execution_count": 5,
   "metadata": {},
   "outputs": [],
   "source": [
    "spectrum_smiles = {}\n",
    "spectrum_formula = {}\n",
    "\n",
    "for file in os.listdir(gnps_dir):\n",
    "    filepath = os.path.join(gnps_dir, file)\n",
    "    with open(filepath, 'r') as f:\n",
    "        content = f.readlines()\n",
    "        smiles = content[6].split(\" \")[1]\n",
    "        formula = content[1].split(\" \")[1]\n",
    "        mol_name = file[:-3]\n",
    "        spectrum_smiles[mol_name] = smiles\n",
    "        spectrum_formula[mol_name] = formula"
   ]
  },
  {
   "cell_type": "code",
   "execution_count": 6,
   "metadata": {},
   "outputs": [],
   "source": [
    "def read_tree(filepath, fragment_formula, losses_formula):\n",
    "    fragments = {}\n",
    "    losses = {}\n",
    "    \n",
    "    with open(filepath, 'r') as f:\n",
    "        data = json.load(f)\n",
    "\n",
    "    for fragment in data['fragments']:\n",
    "        if fragment['molecularFormula'] in fragment_formula:\n",
    "            if \"intensity\" in fragment:\n",
    "                fragments[(fragment['molecularFormula'])] = float(fragment['intensity'])\n",
    "\n",
    "    for loss in data['losses']:\n",
    "        loss_index = loss['molecularFormula'] + \"_loss\"\n",
    "        if loss[\"source\"] in fragments and loss[\"target\"] in fragments and loss_index in losses_formula:\n",
    "            losses[loss_index] = (fragments[loss[\"source\"]] + fragments[loss[\"target\"]]) /2 \n",
    "        \n",
    "    return fragments, losses"
   ]
  },
  {
   "cell_type": "code",
   "execution_count": 7,
   "metadata": {},
   "outputs": [
    {
     "name": "stdout",
     "output_type": "stream",
     "text": [
      "Index(['CO_loss', 'H2O_loss', 'C2H2_loss', 'CH3_loss', 'CHN_loss', 'CH4_loss',\n",
      "       'H3N_loss', 'H2_loss', 'C2H4_loss', 'C2H2O_loss',\n",
      "       ...\n",
      "       'C3H8S_loss', 'OP_loss', 'CH2N3_loss', 'C7H7NO3_loss', 'O2P_loss',\n",
      "       'C2H5NOS_loss', 'C10H4N3_loss', 'C9H17O3_loss', 'C3H7N4_loss',\n",
      "       'C4H6NO2_loss'],\n",
      "      dtype='object', length=892)\n"
     ]
    }
   ],
   "source": [
    "print(losses_df.index)"
   ]
  },
  {
   "cell_type": "code",
   "execution_count": 8,
   "metadata": {},
   "outputs": [
    {
     "name": "stdout",
     "output_type": "stream",
     "text": [
      "{'C16H24N2O4': 6160.996094, 'C15H24N2O3': 16870.810547, 'C14H18N2O3': 2070.579102, 'C14H16N2O2': 809.072083, 'C11H17NO3': 21815.289062, 'C11H15NO2': 64301.03125, 'C10H17NO2': 14258.55957, 'C10H15NO': 6297.509766, 'C6H13N': 15535.5, 'C8H9NO2': 1387.92395, 'C8H8NO2': 1246.405029, 'C7H8NO': 845.15387, 'C6H7NO2': 2094.37793, 'C13H15NO2': 2861.543945, 'C13H16N2O': 1143.875977, 'C13H13NO': 1225.858032, 'C12H13N': 3435.073975, 'C8H9N': 6533.36377, 'C15H22N2O': 1184.531006}\n",
      "{'CO_loss': 2330.4660034999997, 'C2H6O_loss': 4115.787598, 'H2O_loss': 2043.7009885, 'C3HN_loss': 11942.934082, 'C4H4O2_loss': 14897.029784999999, 'C3H6_loss': 32844.4776, 'C3H7_loss': 32773.7181395, 'C2H2_loss': 1741.15094, 'CHN_loss': 1835.308014, 'C4H4_loss': 4984.2188725}\n"
     ]
    }
   ],
   "source": [
    "filepath = os.path.join(json_file_dir, \"CCMSLIB00000001563.json\")\n",
    "fragments, losses = read_tree(filepath, fragments_df.index, losses_df.index)\n",
    "print(fragments)\n",
    "print(losses)"
   ]
  },
  {
   "cell_type": "code",
   "execution_count": 89,
   "metadata": {},
   "outputs": [],
   "source": [
    "def dict_is_empty(sample_dict):\n",
    "    return len(sample_dict.keys()) == 0\n",
    "\n",
    "def get_mol_names(path_dir):\n",
    "    return [file[:-3] for file in os.listdir(path_dir)]\n",
    "\n",
    "def load_tree(path_dir):\n",
    "    mol_ids = get_mol_names(path_dir)\n",
    "    intensities = pd.DataFrame(0.0, index=mol_ids, columns=combined_index, dtype=float)\n",
    "    for file in os.listdir(path_dir):\n",
    "        mol_name = file[:-3]\n",
    "        tree_path = json_file_dir + os.sep + mol_name + \".json\"\n",
    "        fragments, losses = read_tree(tree_path, fragments_df.index, losses_df.index)\n",
    "        if dict_is_empty(fragments) or dict_is_empty(losses):\n",
    "            intensities.drop([mol_name], inplace=True)\n",
    "        else:\n",
    "            for fragment, intensity in fragments.items():\n",
    "                intensities.at[mol_name, fragment] = float(intensity)\n",
    "            for fragment, intensity in losses.items():\n",
    "                intensities.at[mol_name, fragment] = float(intensity)\n",
    "            intensities.loc[mol_name] = intensities.loc[mol_name].div(np.amax(intensities.loc[mol_name].values)).mul(999)\n",
    "    return intensities\n",
    "\n",
    "def load_fingerprints(mol_ids, fingerprint_smarts):\n",
    "    fingerprints = pd.DataFrame(0, index=mol_ids, columns=range(154), dtype=int)\n",
    "    for index in fingerprints.index:\n",
    "        smiles = spectrum_smiles[index]\n",
    "        m = Chem.MolFromSmiles(smiles)\n",
    "        for i, smarts in enumerate(fingerprint_smarts):\n",
    "            patt = Chem.MolFromSmarts(smarts)\n",
    "            fingerprints.at[index, i] = int(m.HasSubstructMatch(patt))\n",
    "            \n",
    "    return fingerprints\n",
    "\n",
    "def load_csi_fingerprints(output_file_dir, mol_folder_file, gnps_mol_ids):\n",
    "    mol_ids = [entry[1] for entry in mol_folder_file if entry[1] in gnps_mol_ids]\n",
    "    fingerprints = pd.DataFrame(0, index=mol_ids, columns=range(154), dtype=float)\n",
    "    for directory, mol, formula in mol_folder_file:\n",
    "        if mol in gnps_mol_ids:\n",
    "            file_dir = os.path.join(output_file_dir, directory)\n",
    "            folder = \"1_{0}_{1}\".format(directory, mol)\n",
    "            fingerprints_file_dir = os.path.join(os.path.join(file_dir, folder), \"fingerprints\")\n",
    "            fingerprint_file = os.listdir(fingerprints_file_dir)[1]\n",
    "            full_fingerprint_filepath = os.path.join(fingerprints_file_dir, fingerprint_file)\n",
    "            with open(full_fingerprint_filepath, 'r') as f:\n",
    "                content = f.readlines()\n",
    "                rel_content = content[:154]\n",
    "                for index, prediction in enumerate(rel_content):\n",
    "                    fingerprints.at[mol, index] = float(prediction[:-1])\n",
    "\n",
    "    return fingerprints"
   ]
  },
  {
   "cell_type": "code",
   "execution_count": 10,
   "metadata": {
    "scrolled": true
   },
   "outputs": [
    {
     "name": "stdout",
     "output_type": "stream",
     "text": [
      "                    BrH_loss  Br_loss  C10      C10H10  C10H10ClN  C10H10ClNO  \\\n",
      "CCMSLIB00000001563       0.0      0.0  0.0    0.000000        0.0         0.0   \n",
      "CCMSLIB00000001566       0.0      0.0  0.0    0.000000        0.0         0.0   \n",
      "CCMSLIB00000001570       0.0      0.0  0.0    0.000000        0.0         0.0   \n",
      "CCMSLIB00000001574       0.0      0.0  0.0    0.000000        0.0         0.0   \n",
      "CCMSLIB00000001576       0.0      0.0  0.0    0.000000        0.0         0.0   \n",
      "CCMSLIB00000001590       0.0      0.0  0.0    0.000000        0.0         0.0   \n",
      "CCMSLIB00000001598       0.0      0.0  0.0    0.000000        0.0         0.0   \n",
      "CCMSLIB00000001600       0.0      0.0  0.0    0.000000        0.0         0.0   \n",
      "CCMSLIB00000001606       0.0      0.0  0.0    0.000000        0.0         0.0   \n",
      "CCMSLIB00000001609       0.0      0.0  0.0    0.000000        0.0         0.0   \n",
      "CCMSLIB00000001615       0.0      0.0  0.0  121.362059        0.0         0.0   \n",
      "CCMSLIB00000001616       0.0      0.0  0.0    0.000000        0.0         0.0   \n",
      "CCMSLIB00000001617       0.0      0.0  0.0    0.000000        0.0         0.0   \n",
      "CCMSLIB00000001621       0.0      0.0  0.0    0.000000        0.0         0.0   \n",
      "CCMSLIB00000001622       0.0      0.0  0.0    0.000000        0.0         0.0   \n",
      "CCMSLIB00000001623       0.0      0.0  0.0    0.000000        0.0         0.0   \n",
      "CCMSLIB00000001625       0.0      0.0  0.0    0.000000        0.0         0.0   \n",
      "CCMSLIB00000001631       0.0      0.0  0.0    0.000000        0.0         0.0   \n",
      "CCMSLIB00000001635       0.0      0.0  0.0   40.036847        0.0         0.0   \n",
      "CCMSLIB00000001641       0.0      0.0  0.0   85.732529        0.0         0.0   \n",
      "CCMSLIB00000001643       0.0      0.0  0.0    0.000000        0.0         0.0   \n",
      "CCMSLIB00000001645       0.0      0.0  0.0    0.000000        0.0         0.0   \n",
      "CCMSLIB00000001651       0.0      0.0  0.0    0.000000        0.0         0.0   \n",
      "CCMSLIB00000001653       0.0      0.0  0.0   45.363590        0.0         0.0   \n",
      "CCMSLIB00000001655       0.0      0.0  0.0    0.000000        0.0         0.0   \n",
      "CCMSLIB00000001673       0.0      0.0  0.0    0.000000        0.0         0.0   \n",
      "CCMSLIB00000001676       0.0      0.0  0.0    0.000000        0.0         0.0   \n",
      "CCMSLIB00000001680       0.0      0.0  0.0  134.579913        0.0         0.0   \n",
      "CCMSLIB00000001682       0.0      0.0  0.0    0.000000        0.0         0.0   \n",
      "CCMSLIB00000001707       0.0      0.0  0.0    0.000000        0.0         0.0   \n",
      "...                      ...      ...  ...         ...        ...         ...   \n",
      "CCMSLIB00000579895       0.0      0.0  0.0   15.177094        0.0         0.0   \n",
      "CCMSLIB00000579896       0.0      0.0  0.0    2.257696        0.0         0.0   \n",
      "CCMSLIB00000579897       0.0      0.0  0.0    0.000000        0.0         0.0   \n",
      "CCMSLIB00000579898       0.0      0.0  0.0    0.000000        0.0         0.0   \n",
      "CCMSLIB00000579899       0.0      0.0  0.0    0.000000        0.0         0.0   \n",
      "CCMSLIB00000579900       0.0      0.0  0.0    0.000000        0.0         0.0   \n",
      "CCMSLIB00000579901       0.0      0.0  0.0    0.000000        0.0         0.0   \n",
      "CCMSLIB00000579902       0.0      0.0  0.0    0.000000        0.0         0.0   \n",
      "CCMSLIB00000579903       0.0      0.0  0.0    0.000000        0.0         0.0   \n",
      "CCMSLIB00000579904       0.0      0.0  0.0    0.000000        0.0         0.0   \n",
      "CCMSLIB00000579905       0.0      0.0  0.0    0.000000        0.0         0.0   \n",
      "CCMSLIB00000579906       0.0      0.0  0.0    0.000000        0.0         0.0   \n",
      "CCMSLIB00000579907       0.0      0.0  0.0    0.000000        0.0         0.0   \n",
      "CCMSLIB00000579908       0.0      0.0  0.0    0.000000        0.0         0.0   \n",
      "CCMSLIB00000579909       0.0      0.0  0.0    0.000000        0.0         0.0   \n",
      "CCMSLIB00000579910       0.0      0.0  0.0    0.000000        0.0         0.0   \n",
      "CCMSLIB00000579911       0.0      0.0  0.0    0.000000        0.0         0.0   \n",
      "CCMSLIB00000579912       0.0      0.0  0.0    0.000000        0.0         0.0   \n",
      "CCMSLIB00000579913       0.0      0.0  0.0    0.000000        0.0         0.0   \n",
      "CCMSLIB00000579914       0.0      0.0  0.0    0.000000        0.0         0.0   \n",
      "CCMSLIB00000579915       0.0      0.0  0.0    0.000000        0.0         0.0   \n",
      "CCMSLIB00000579916       0.0      0.0  0.0    0.000000        0.0         0.0   \n",
      "CCMSLIB00000579917       0.0      0.0  0.0    0.000000        0.0         0.0   \n",
      "CCMSLIB00000579918       0.0      0.0  0.0    0.000000        0.0         0.0   \n",
      "CCMSLIB00000579919       0.0      0.0  0.0    0.000000        0.0         0.0   \n",
      "CCMSLIB00000579921       0.0      0.0  0.0    0.000000        0.0         0.0   \n",
      "CCMSLIB00000579922       0.0      0.0  0.0    0.000000        0.0         0.0   \n",
      "CCMSLIB00000579923       0.0      0.0  0.0    0.000000        0.0         0.0   \n",
      "CCMSLIB00000579924       0.0      0.0  0.0    0.000000        0.0         0.0   \n",
      "CCMSLIB00000579925       0.0      0.0  0.0    0.000000        0.0         0.0   \n",
      "\n",
      "                    C10H10ClNO2  C10H10F2O2  C10H10FN  C10H10N    ...      \\\n",
      "CCMSLIB00000001563          0.0         0.0       0.0      0.0    ...       \n",
      "CCMSLIB00000001566          0.0         0.0       0.0      0.0    ...       \n",
      "CCMSLIB00000001570          0.0         0.0       0.0      0.0    ...       \n",
      "CCMSLIB00000001574          0.0         0.0       0.0      0.0    ...       \n",
      "CCMSLIB00000001576          0.0         0.0       0.0      0.0    ...       \n",
      "CCMSLIB00000001590          0.0         0.0       0.0      0.0    ...       \n",
      "CCMSLIB00000001598          0.0         0.0       0.0      0.0    ...       \n",
      "CCMSLIB00000001600          0.0         0.0       0.0      0.0    ...       \n",
      "CCMSLIB00000001606          0.0         0.0       0.0      0.0    ...       \n",
      "CCMSLIB00000001609          0.0         0.0       0.0      0.0    ...       \n",
      "CCMSLIB00000001615          0.0         0.0       0.0      0.0    ...       \n",
      "CCMSLIB00000001616          0.0         0.0       0.0      0.0    ...       \n",
      "CCMSLIB00000001617          0.0         0.0       0.0      0.0    ...       \n",
      "CCMSLIB00000001621          0.0         0.0       0.0      0.0    ...       \n",
      "CCMSLIB00000001622          0.0         0.0       0.0      0.0    ...       \n",
      "CCMSLIB00000001623          0.0         0.0       0.0      0.0    ...       \n",
      "CCMSLIB00000001625          0.0         0.0       0.0      0.0    ...       \n",
      "CCMSLIB00000001631          0.0         0.0       0.0      0.0    ...       \n",
      "CCMSLIB00000001635          0.0         0.0       0.0      0.0    ...       \n",
      "CCMSLIB00000001641          0.0         0.0       0.0      0.0    ...       \n",
      "CCMSLIB00000001643          0.0         0.0       0.0      0.0    ...       \n",
      "CCMSLIB00000001645          0.0         0.0       0.0      0.0    ...       \n",
      "CCMSLIB00000001651          0.0         0.0       0.0      0.0    ...       \n",
      "CCMSLIB00000001653          0.0         0.0       0.0      0.0    ...       \n",
      "CCMSLIB00000001655          0.0         0.0       0.0      0.0    ...       \n",
      "CCMSLIB00000001673          0.0         0.0       0.0      0.0    ...       \n",
      "CCMSLIB00000001676          0.0         0.0       0.0      0.0    ...       \n",
      "CCMSLIB00000001680          0.0         0.0       0.0      0.0    ...       \n",
      "CCMSLIB00000001682          0.0         0.0       0.0      0.0    ...       \n",
      "CCMSLIB00000001707          0.0         0.0       0.0      0.0    ...       \n",
      "...                         ...         ...       ...      ...    ...       \n",
      "CCMSLIB00000579895          0.0         0.0       0.0      0.0    ...       \n",
      "CCMSLIB00000579896          0.0         0.0       0.0      0.0    ...       \n",
      "CCMSLIB00000579897          0.0         0.0       0.0      0.0    ...       \n",
      "CCMSLIB00000579898          0.0         0.0       0.0      0.0    ...       \n",
      "CCMSLIB00000579899          0.0         0.0       0.0      0.0    ...       \n",
      "CCMSLIB00000579900          0.0         0.0       0.0      0.0    ...       \n",
      "CCMSLIB00000579901          0.0         0.0       0.0      0.0    ...       \n",
      "CCMSLIB00000579902          0.0         0.0       0.0      0.0    ...       \n",
      "CCMSLIB00000579903          0.0         0.0       0.0      0.0    ...       \n",
      "CCMSLIB00000579904          0.0         0.0       0.0      0.0    ...       \n",
      "CCMSLIB00000579905          0.0         0.0       0.0      0.0    ...       \n",
      "CCMSLIB00000579906          0.0         0.0       0.0      0.0    ...       \n",
      "CCMSLIB00000579907          0.0         0.0       0.0      0.0    ...       \n",
      "CCMSLIB00000579908          0.0         0.0       0.0      0.0    ...       \n",
      "CCMSLIB00000579909          0.0         0.0       0.0      0.0    ...       \n",
      "CCMSLIB00000579910          0.0         0.0       0.0      0.0    ...       \n",
      "CCMSLIB00000579911          0.0         0.0       0.0      0.0    ...       \n",
      "CCMSLIB00000579912          0.0         0.0       0.0      0.0    ...       \n",
      "CCMSLIB00000579913          0.0         0.0       0.0      0.0    ...       \n",
      "CCMSLIB00000579914          0.0         0.0       0.0      0.0    ...       \n",
      "CCMSLIB00000579915          0.0         0.0       0.0      0.0    ...       \n",
      "CCMSLIB00000579916          0.0         0.0       0.0      0.0    ...       \n",
      "CCMSLIB00000579917          0.0         0.0       0.0      0.0    ...       \n",
      "CCMSLIB00000579918          0.0         0.0       0.0      0.0    ...       \n",
      "CCMSLIB00000579919          0.0         0.0       0.0      0.0    ...       \n",
      "CCMSLIB00000579921          0.0         0.0       0.0      0.0    ...       \n",
      "CCMSLIB00000579922          0.0         0.0       0.0      0.0    ...       \n",
      "CCMSLIB00000579923          0.0         0.0       0.0      0.0    ...       \n",
      "CCMSLIB00000579924          0.0         0.0       0.0      0.0    ...       \n",
      "CCMSLIB00000579925          0.0         0.0       0.0      0.0    ...       \n",
      "\n",
      "                    O2_loss  O3S_loss  O3_loss  O4_loss  O5_loss  OP_loss  \\\n",
      "CCMSLIB00000001563      0.0       0.0      0.0      0.0      0.0      0.0   \n",
      "CCMSLIB00000001566      0.0       0.0      0.0      0.0      0.0      0.0   \n",
      "CCMSLIB00000001570      0.0       0.0      0.0      0.0      0.0      0.0   \n",
      "CCMSLIB00000001574      0.0       0.0      0.0      0.0      0.0      0.0   \n",
      "CCMSLIB00000001576      0.0       0.0      0.0      0.0      0.0      0.0   \n",
      "CCMSLIB00000001590      0.0       0.0      0.0      0.0      0.0      0.0   \n",
      "CCMSLIB00000001598      0.0       0.0      0.0      0.0      0.0      0.0   \n",
      "CCMSLIB00000001600      0.0       0.0      0.0      0.0      0.0      0.0   \n",
      "CCMSLIB00000001606      0.0       0.0      0.0      0.0      0.0      0.0   \n",
      "CCMSLIB00000001609      0.0       0.0      0.0      0.0      0.0      0.0   \n",
      "CCMSLIB00000001615      0.0       0.0      0.0      0.0      0.0      0.0   \n",
      "CCMSLIB00000001616      0.0       0.0      0.0      0.0      0.0      0.0   \n",
      "CCMSLIB00000001617      0.0       0.0      0.0      0.0      0.0      0.0   \n",
      "CCMSLIB00000001621      0.0       0.0      0.0      0.0      0.0      0.0   \n",
      "CCMSLIB00000001622      0.0       0.0      0.0      0.0      0.0      0.0   \n",
      "CCMSLIB00000001623      0.0       0.0      0.0      0.0      0.0      0.0   \n",
      "CCMSLIB00000001625      0.0       0.0      0.0      0.0      0.0      0.0   \n",
      "CCMSLIB00000001631      0.0       0.0      0.0      0.0      0.0      0.0   \n",
      "CCMSLIB00000001635      0.0       0.0      0.0      0.0      0.0      0.0   \n",
      "CCMSLIB00000001641      0.0       0.0      0.0      0.0      0.0      0.0   \n",
      "CCMSLIB00000001643      0.0       0.0      0.0      0.0      0.0      0.0   \n",
      "CCMSLIB00000001645      0.0       0.0      0.0      0.0      0.0      0.0   \n",
      "CCMSLIB00000001651      0.0       0.0      0.0      0.0      0.0      0.0   \n",
      "CCMSLIB00000001653      0.0       0.0      0.0      0.0      0.0      0.0   \n",
      "CCMSLIB00000001655      0.0       0.0      0.0      0.0      0.0      0.0   \n",
      "CCMSLIB00000001673      0.0       0.0      0.0      0.0      0.0      0.0   \n",
      "CCMSLIB00000001676      0.0       0.0      0.0      0.0      0.0      0.0   \n",
      "CCMSLIB00000001680      0.0       0.0      0.0      0.0      0.0      0.0   \n",
      "CCMSLIB00000001682      0.0       0.0      0.0      0.0      0.0      0.0   \n",
      "CCMSLIB00000001707      0.0       0.0      0.0      0.0      0.0      0.0   \n",
      "...                     ...       ...      ...      ...      ...      ...   \n",
      "CCMSLIB00000579895      0.0       0.0      0.0      0.0      0.0      0.0   \n",
      "CCMSLIB00000579896      0.0       0.0      0.0      0.0      0.0      0.0   \n",
      "CCMSLIB00000579897      0.0       0.0      0.0      0.0      0.0      0.0   \n",
      "CCMSLIB00000579898      0.0       0.0      0.0      0.0      0.0      0.0   \n",
      "CCMSLIB00000579899      0.0       0.0      0.0      0.0      0.0      0.0   \n",
      "CCMSLIB00000579900      0.0       0.0      0.0      0.0      0.0      0.0   \n",
      "CCMSLIB00000579901      0.0       0.0      0.0      0.0      0.0      0.0   \n",
      "CCMSLIB00000579902      0.0       0.0      0.0      0.0      0.0      0.0   \n",
      "CCMSLIB00000579903      0.0       0.0      0.0      0.0      0.0      0.0   \n",
      "CCMSLIB00000579904      0.0       0.0      0.0      0.0      0.0      0.0   \n",
      "CCMSLIB00000579905      0.0       0.0      0.0      0.0      0.0      0.0   \n",
      "CCMSLIB00000579906      0.0       0.0      0.0      0.0      0.0      0.0   \n",
      "CCMSLIB00000579907      0.0       0.0      0.0      0.0      0.0      0.0   \n",
      "CCMSLIB00000579908      0.0       0.0      0.0      0.0      0.0      0.0   \n",
      "CCMSLIB00000579909      0.0       0.0      0.0      0.0      0.0      0.0   \n",
      "CCMSLIB00000579910      0.0       0.0      0.0      0.0      0.0      0.0   \n",
      "CCMSLIB00000579911      0.0       0.0      0.0      0.0      0.0      0.0   \n",
      "CCMSLIB00000579912      0.0       0.0      0.0      0.0      0.0      0.0   \n",
      "CCMSLIB00000579913      0.0       0.0      0.0      0.0      0.0      0.0   \n",
      "CCMSLIB00000579914      0.0       0.0      0.0      0.0      0.0      0.0   \n",
      "CCMSLIB00000579915      0.0       0.0      0.0      0.0      0.0      0.0   \n",
      "CCMSLIB00000579916      0.0       0.0      0.0      0.0      0.0      0.0   \n",
      "CCMSLIB00000579917      0.0       0.0      0.0      0.0      0.0      0.0   \n",
      "CCMSLIB00000579918      0.0       0.0      0.0      0.0      0.0      0.0   \n",
      "CCMSLIB00000579919      0.0       0.0      0.0      0.0      0.0      0.0   \n",
      "CCMSLIB00000579921      0.0       0.0      0.0      0.0      0.0      0.0   \n",
      "CCMSLIB00000579922      0.0       0.0      0.0      0.0      0.0      0.0   \n",
      "CCMSLIB00000579923      0.0       0.0      0.0      0.0      0.0      0.0   \n",
      "CCMSLIB00000579924      0.0       0.0      0.0      0.0      0.0      0.0   \n",
      "CCMSLIB00000579925      0.0       0.0      0.0      0.0      0.0      0.0   \n",
      "\n",
      "                    OS_loss     O_loss  S2_loss     S_loss  \n",
      "CCMSLIB00000001563      0.0   0.000000      0.0   0.000000  \n",
      "CCMSLIB00000001566      0.0   0.000000      0.0   0.000000  \n",
      "CCMSLIB00000001570      0.0   0.000000      0.0   0.000000  \n",
      "CCMSLIB00000001574      0.0   0.000000      0.0   0.000000  \n",
      "CCMSLIB00000001576      0.0   0.000000      0.0   0.000000  \n",
      "CCMSLIB00000001590      0.0   0.000000      0.0   0.000000  \n",
      "CCMSLIB00000001598      0.0   0.000000      0.0   0.000000  \n",
      "CCMSLIB00000001600      0.0   0.000000      0.0   0.000000  \n",
      "CCMSLIB00000001606      0.0   0.000000      0.0   0.000000  \n",
      "CCMSLIB00000001609      0.0   0.000000      0.0   0.000000  \n",
      "CCMSLIB00000001615      0.0   0.000000      0.0   0.000000  \n",
      "CCMSLIB00000001616      0.0   0.000000      0.0   0.000000  \n",
      "CCMSLIB00000001617      0.0   0.000000      0.0   0.000000  \n",
      "CCMSLIB00000001621      0.0   0.000000      0.0   0.000000  \n",
      "CCMSLIB00000001622      0.0   0.000000      0.0   0.000000  \n",
      "CCMSLIB00000001623      0.0   0.000000      0.0   0.000000  \n",
      "CCMSLIB00000001625      0.0   0.000000      0.0   0.000000  \n",
      "CCMSLIB00000001631      0.0   0.000000      0.0   0.000000  \n",
      "CCMSLIB00000001635      0.0   0.000000      0.0   0.000000  \n",
      "CCMSLIB00000001641      0.0   0.000000      0.0   0.000000  \n",
      "CCMSLIB00000001643      0.0   0.000000      0.0   0.000000  \n",
      "CCMSLIB00000001645      0.0   0.000000      0.0   0.000000  \n",
      "CCMSLIB00000001651      0.0   0.000000      0.0   0.000000  \n",
      "CCMSLIB00000001653      0.0   0.000000      0.0   0.000000  \n",
      "CCMSLIB00000001655      0.0   0.000000      0.0   0.000000  \n",
      "CCMSLIB00000001673      0.0   0.000000      0.0   0.000000  \n",
      "CCMSLIB00000001676      0.0   0.000000      0.0   0.000000  \n",
      "CCMSLIB00000001680      0.0  57.625866      0.0   0.000000  \n",
      "CCMSLIB00000001682      0.0   0.000000      0.0   0.000000  \n",
      "CCMSLIB00000001707      0.0   0.000000      0.0   0.000000  \n",
      "...                     ...        ...      ...        ...  \n",
      "CCMSLIB00000579895      0.0   0.000000      0.0   0.000000  \n",
      "CCMSLIB00000579896      0.0   0.000000      0.0   0.000000  \n",
      "CCMSLIB00000579897      0.0   0.000000      0.0   0.000000  \n",
      "CCMSLIB00000579898      0.0   0.000000      0.0   0.000000  \n",
      "CCMSLIB00000579899      0.0   0.000000      0.0   0.000000  \n",
      "CCMSLIB00000579900      0.0   0.000000      0.0   0.000000  \n",
      "CCMSLIB00000579901      0.0   0.000000      0.0   0.000000  \n",
      "CCMSLIB00000579902      0.0   0.000000      0.0   0.000000  \n",
      "CCMSLIB00000579903      0.0   0.000000      0.0   0.000000  \n",
      "CCMSLIB00000579904      0.0   0.000000      0.0   0.000000  \n",
      "CCMSLIB00000579905      0.0   0.000000      0.0   0.000000  \n",
      "CCMSLIB00000579906      0.0   0.000000      0.0   0.000000  \n",
      "CCMSLIB00000579907      0.0   0.000000      0.0   0.000000  \n",
      "CCMSLIB00000579908      0.0   0.000000      0.0   0.000000  \n",
      "CCMSLIB00000579909      0.0   0.000000      0.0   0.000000  \n",
      "CCMSLIB00000579910      0.0   0.000000      0.0   0.000000  \n",
      "CCMSLIB00000579911      0.0   0.000000      0.0   0.000000  \n",
      "CCMSLIB00000579912      0.0   0.000000      0.0   0.000000  \n",
      "CCMSLIB00000579913      0.0   0.000000      0.0   0.000000  \n",
      "CCMSLIB00000579914      0.0   0.000000      0.0   0.000000  \n",
      "CCMSLIB00000579915      0.0   0.000000      0.0   0.000000  \n",
      "CCMSLIB00000579916      0.0   0.000000      0.0   0.000000  \n",
      "CCMSLIB00000579917      0.0   0.000000      0.0   0.000000  \n",
      "CCMSLIB00000579918      0.0   0.000000      0.0  56.965039  \n",
      "CCMSLIB00000579919      0.0   0.000000      0.0   0.000000  \n",
      "CCMSLIB00000579921      0.0   0.000000      0.0   0.000000  \n",
      "CCMSLIB00000579922      0.0   0.000000      0.0   0.000000  \n",
      "CCMSLIB00000579923      0.0   0.000000      0.0   0.000000  \n",
      "CCMSLIB00000579924      0.0   0.000000      0.0   0.000000  \n",
      "CCMSLIB00000579925      0.0   0.000000      0.0   0.000000  \n",
      "\n",
      "[5147 rows x 5508 columns]\n"
     ]
    }
   ],
   "source": [
    "intensities = load_tree(gnps_dir)\n",
    "print(intensities)"
   ]
  },
  {
   "cell_type": "code",
   "execution_count": 31,
   "metadata": {},
   "outputs": [
    {
     "name": "stderr",
     "output_type": "stream",
     "text": [
      "Using TensorFlow backend.\n"
     ]
    }
   ],
   "source": [
    "from keras.layers import Input, Dense\n",
    "from keras.models import Model,Sequential\n",
    "from keras.wrappers.scikit_learn import KerasClassifier\n",
    "from sklearn.model_selection import cross_val_score\n",
    "from sklearn.model_selection import StratifiedKFold\n",
    "from keras.optimizers import SGD\n",
    "\n",
    "def fragments_shifts_model(input_to_network, output):\n",
    "    class_model = Sequential()\n",
    "    class_model.add(Dense(2500, input_dim=input_to_network.shape[1], kernel_initializer='normal', activation='relu'))\n",
    "    class_model.add(Dense(1000,kernel_initializer='normal',activation = 'relu'))\n",
    "    class_model.add(Dense(500,kernel_initializer='normal',activation = 'relu'))\n",
    "    class_model.add(Dense(output.shape[1],kernel_initializer='normal',activation = 'sigmoid'))\n",
    "    class_model.compile(loss='binary_crossentropy', optimizer='adam', metrics=['accuracy'])\n",
    "    return class_model"
   ]
  },
  {
   "cell_type": "code",
   "execution_count": 12,
   "metadata": {},
   "outputs": [],
   "source": [
    "def file_has_fingerprint(file_content):\n",
    "    return \"fingerprints.csv\" in file_content\n",
    "\n",
    "def file_incomplete(file_content):\n",
    "    return len(file_content) <= 2\n",
    "\n",
    "def retrieve_fingerprint_file(formula, folder):\n",
    "    content = os.listdir(folder)\n",
    "    return next((filename for filename in content if formula in filename), None)"
   ]
  },
  {
   "cell_type": "code",
   "execution_count": 13,
   "metadata": {},
   "outputs": [],
   "source": [
    "desc_list = []\n",
    "\n",
    "with open(sample_fingerprints_legend_path, 'r') as f:\n",
    "    for line in f:\n",
    "        rel_index, abs_index, desc = line.split(\"\\t\")\n",
    "        if desc[:-1] != \"description\":\n",
    "            desc_list.append(desc[:-1])\n",
    "\n",
    "desc_list = desc_list[:154]\n",
    "fingerprint_smarts = [entry.split(\" \")[0] for entry in desc_list]"
   ]
  },
  {
   "cell_type": "code",
   "execution_count": 14,
   "metadata": {},
   "outputs": [],
   "source": [
    "correct_folder_file = []\n",
    "wrong_folder_file = []\n",
    "\n",
    "for directory in os.listdir(output_file_dir):\n",
    "    file_dir = os.path.join(output_file_dir, directory)\n",
    "    files_in_output_dir = os.listdir(file_dir)\n",
    "    if file_has_fingerprint(files_in_output_dir):\n",
    "        mol = files_in_output_dir[1].split(\"_\")[-1]\n",
    "        folder = \"1_{0}_{1}\".format(directory, mol)\n",
    "        fingerprints_file_dir = os.path.join(os.path.join(file_dir, folder), \"fingerprints\")\n",
    "        if mol in spectrum_formula:\n",
    "            formula = spectrum_formula[mol]\n",
    "            if retrieve_fingerprint_file(formula, fingerprints_file_dir):\n",
    "                correct_folder_file.append((directory, mol, formula))\n",
    "            else:\n",
    "                wrong_folder_file.append((directory, mol, formula))"
   ]
  },
  {
   "cell_type": "code",
   "execution_count": 73,
   "metadata": {},
   "outputs": [],
   "source": [
    "wrong_mol_names = [stuff[1] for stuff in wrong_folder_file]"
   ]
  },
  {
   "cell_type": "code",
   "execution_count": 45,
   "metadata": {},
   "outputs": [
    {
     "name": "stdout",
     "output_type": "stream",
     "text": [
      "(5092, 5508)\n"
     ]
    }
   ],
   "source": [
    "intensities.sort_index(inplace=True)\n",
    "train_tree = intensities[~intensities.index.isin(wrong_mol_names)]\n",
    "x_train_tree = np.log(train_tree.values+1)\n",
    "print(x_train_tree.shape)\n",
    "N,M = x_train_tree.shape\n",
    "\n",
    "shuffle_order = np.random.permutation(N)\n",
    "\n",
    "#train without the 77 for wrong\n",
    "fingerprints = load_fingerprints(train_tree.index, fingerprint_smarts)\n",
    "fingerprints.sort_index(inplace=True)\n",
    "x_train_fingerprints = fingerprints.values"
   ]
  },
  {
   "cell_type": "code",
   "execution_count": 58,
   "metadata": {},
   "outputs": [
    {
     "data": {
      "text/plain": [
       "<keras.callbacks.History at 0x1c5801eb5f8>"
      ]
     },
     "execution_count": 58,
     "metadata": {},
     "output_type": "execute_result"
    }
   ],
   "source": [
    "epochs = 100\n",
    "mod = fragments_shifts_model(x_train_tree, x_train_fingerprints)\n",
    "mod.fit(x_train_tree[shuffle_order],x_train_fingerprints[shuffle_order],epochs=epochs,validation_split=0.2,verbose=0)"
   ]
  },
  {
   "cell_type": "code",
   "execution_count": 59,
   "metadata": {},
   "outputs": [],
   "source": [
    "test_tree = intensities[intensities.index.isin(wrong_mol_names)]\n",
    "predicted = mod.predict(test_tree.values)"
   ]
  },
  {
   "cell_type": "code",
   "execution_count": 60,
   "metadata": {},
   "outputs": [
    {
     "name": "stdout",
     "output_type": "stream",
     "text": [
      "[[  0.           0.           0.         ...   0.           0.\n",
      "    0.        ]\n",
      " [  0.           0.           0.         ...   0.           0.\n",
      "    0.        ]\n",
      " [  0.           0.           0.         ...   0.           0.\n",
      "    0.        ]\n",
      " ...\n",
      " [  0.           0.           0.         ... 427.29387259   0.\n",
      "    0.        ]\n",
      " [  0.           0.           0.         ...   0.           0.\n",
      "    0.        ]\n",
      " [  0.           0.           0.         ...   0.           0.\n",
      "   61.91977612]]\n",
      "55\n"
     ]
    }
   ],
   "source": [
    "print(test_tree.values)\n",
    "print(len(predicted))"
   ]
  },
  {
   "cell_type": "code",
   "execution_count": 61,
   "metadata": {},
   "outputs": [],
   "source": [
    "test_fingerprints = load_fingerprints(test_tree.index, fingerprint_smarts)\n",
    "test_fingerprints.sort_index(inplace=True)\n",
    "x_test_fingerprints = test_fingerprints.values"
   ]
  },
  {
   "cell_type": "code",
   "execution_count": 70,
   "metadata": {},
   "outputs": [],
   "source": [
    "from sklearn import metrics\n",
    "def compute_auc(bits, true, pred, num_samples=0, permutations=500):\n",
    "    val_start_index = 0\n",
    "    if num_samples > 0:\n",
    "        val_start_index = int(num_samples - (num_samples * val_fraction) - 1)  # Index where validation samples begin.\n",
    "\n",
    "    num_permutations = permutations  # Number of permutations to compute AUC scores for.\n",
    "\n",
    "    # Create structured array to hold statistics for each.\n",
    "    dtype = [('fp_id', int), ('nonzeros', int), ('auc', float), ('auc_percent', float)]\n",
    "    mol_stats = np.zeros((bits,), dtype=dtype)\n",
    "    # Create array to hold permutation AUC scores for plotting.\n",
    "    perm_scores = np.zeros((bits, num_permutations))\n",
    "\n",
    "    for fp_id in range(true.shape[1]):  # For every substructure\n",
    "        nonzero_vals = np.count_nonzero(true[val_start_index:, fp_id])  # Count number of nonzero values\n",
    "        if 0 < nonzero_vals < true[val_start_index:, fp_id].size:  # If there are no 1s or no 0s, can't compute.\n",
    "            # Compute actual AUC score using only the validation fraction of the dataset.\n",
    "            fp_true = true[val_start_index:, fp_id]\n",
    "            fp_pred = pred[val_start_index:, fp_id]\n",
    "            score = metrics.roc_auc_score(fp_true, fp_pred)\n",
    "\n",
    "            # Compute AUC scores for permutations and compare to actual.\n",
    "            counter = 0\n",
    "            for i in range(num_permutations):\n",
    "                permutation = np.random.permutation(fp_true)\n",
    "                perm_score = metrics.roc_auc_score(permutation, fp_pred)\n",
    "                perm_scores[fp_id, i] = perm_score\n",
    "                # Count how many permutations have a higer AUC score than actual data.\n",
    "                if perm_score >= score:\n",
    "                    counter = counter + 1\n",
    "            # Calculate % of scrambled values with higher AUC score than actual AUC\n",
    "            percentage = (counter / num_permutations) * 100\n",
    "            # Update structured array with data or non values if no AUC could be calculated.\n",
    "            mol_stats[fp_id] = fp_id, nonzero_vals, score, percentage\n",
    "        else:\n",
    "            mol_stats[fp_id] = (fp_id, nonzero_vals, 0, 100)\n",
    "\n",
    "    # Permutations take a while, print statement to say when finished.\n",
    "    print(\"Done\")\n",
    "    return mol_stats, perm_scores"
   ]
  },
  {
   "cell_type": "code",
   "execution_count": 71,
   "metadata": {},
   "outputs": [
    {
     "name": "stdout",
     "output_type": "stream",
     "text": [
      "Done\n"
     ]
    }
   ],
   "source": [
    "baseline_stats, baseline_perm_scores = compute_auc(154, x_test_fingerprints, predicted)"
   ]
  },
  {
   "cell_type": "code",
   "execution_count": 90,
   "metadata": {},
   "outputs": [
    {
     "name": "stdout",
     "output_type": "stream",
     "text": [
      "(55, 154)\n"
     ]
    }
   ],
   "source": [
    "csi_fingerprints = load_csi_fingerprints(output_file_dir, wrong_folder_file, intensities.index)\n",
    "csi_fingerprints.sort_index(inplace=True)\n",
    "print(csi_fingerprints.shape)"
   ]
  },
  {
   "cell_type": "code",
   "execution_count": 91,
   "metadata": {},
   "outputs": [
    {
     "name": "stdout",
     "output_type": "stream",
     "text": [
      "Done\n"
     ]
    }
   ],
   "source": [
    "exp_stats, exp_perm_scores = compute_auc(154, x_test_fingerprints, csi_fingerprints.values)"
   ]
  },
  {
   "cell_type": "code",
   "execution_count": 92,
   "metadata": {},
   "outputs": [],
   "source": [
    "def evaluate(base_stats, base_perm_scores, exp_stats, exp_perm_scores, names):\n",
    "    # Sort molecules in ascending order of baseline AUC score, keeping only molecules with AUC scores above 0.5\n",
    "    normal_auc = np.where((base_stats['auc'] > 0.5))\n",
    "    abnormal_auc = np.where((base_stats['auc']) < 0.5)\n",
    "    ordered_base = np.sort(base_stats[normal_auc], order='auc', axis=0)[::-1]\n",
    "\n",
    "    # Take top 30 and bottom 5 substructures by AUC score to use for boxplots.\n",
    "    sample_fps = ordered_base[:30]\n",
    "    sample_fps = np.append(sample_fps, ordered_base[-5:])\n",
    "\n",
    "    # Plot number of substructures with AUC scores above 0.7 and above 0.5 for both data sets\n",
    "    base_above_07 = len(np.where((base_stats['auc'] >= 0.7))[0])\n",
    "    exp_above_07 = len(np.where((exp_stats['auc'] >= 0.7))[0])\n",
    "    base_above_05 = len(np.where((base_stats['auc'] >= 0.5))[0])\n",
    "    exp_above_05 = len(np.where((exp_stats['auc'] >= 0.5))[0])\n",
    "\n",
    "    fig, ax = plt.subplots()\n",
    "    index = np.arange(2)\n",
    "    bar_width = 0.35\n",
    "    opacity = 0.5\n",
    "    ax.bar(index, (base_above_05, base_above_07), bar_width, alpha=opacity, color='b', label='Baseline')\n",
    "    ax.bar(index + bar_width, (exp_above_05, exp_above_07), bar_width, alpha=opacity, color='r', label='Experiment')\n",
    "\n",
    "    ax.set_xlabel('AUC Threshold')\n",
    "    ax.set_ylabel('Number of Substructures')\n",
    "    ax.set_title('AUC Score Comparison')\n",
    "    ax.set_xticks(index + bar_width / 2)\n",
    "    ax.set_xticklabels(('Above 0.5', 'Above 0.7'))\n",
    "    ax.legend()\n",
    "\n",
    "    plt.show()\n",
    "\n",
    "    # Boxplots of sample substructures for both data sets\n",
    "    boxplots(base_stats, base_perm_scores, sample_fps, names)\n",
    "    boxplots(exp_stats, exp_perm_scores, sample_fps, names)\n",
    "    tandem_boxplots(base_stats, base_perm_scores, exp_stats, sample_fps, names)\n",
    "\n",
    "    # Sort molecules in ascending order of experimental AUC score, keeping only molecules with AUC scores above 0.5\n",
    "    normal_auc = np.where((exp_stats['auc'] > 0.5))\n",
    "    abnormal_auc = np.where((exp_stats['auc']) < 0.5)\n",
    "    ordered_exp = np.sort(exp_stats[normal_auc], order='auc', axis=0)[::-1]\n",
    "\n",
    "    # Take top 30 and bottom 5 substructures by AUC score to use for boxplots.\n",
    "    sample_fps = ordered_exp[:30]\n",
    "    sample_fps = np.append(sample_fps, ordered_exp[-5:])\n",
    "\n",
    "    boxplots(base_stats, base_perm_scores, sample_fps, names)\n",
    "    boxplots(exp_stats, exp_perm_scores, sample_fps, names)\n",
    "    tandem_boxplots(base_stats, exp_perm_scores, exp_stats, sample_fps, names)"
   ]
  },
  {
   "cell_type": "code",
   "execution_count": 93,
   "metadata": {},
   "outputs": [
    {
     "data": {
      "image/png": "[encoded data removed]",
      "text/plain": [
       "<Figure size 432x288 with 1 Axes>"
      ]
     },
     "metadata": {
      "needs_background": "light"
     },
     "output_type": "display_data"
    },
    {
     "ename": "NameError",
     "evalue": "name 'boxplots' is not defined",
     "output_type": "error",
     "traceback": [
      "\u001b[1;31m---------------------------------------------------------------------------\u001b[0m",
      "\u001b[1;31mNameError\u001b[0m                                 Traceback (most recent call last)",
      "\u001b[1;32m<ipython-input-93-0ecc0f618fca>\u001b[0m in \u001b[0;36m<module>\u001b[1;34m\u001b[0m\n\u001b[1;32m----> 1\u001b[1;33m \u001b[0mevaluate\u001b[0m\u001b[1;33m(\u001b[0m\u001b[0mbaseline_stats\u001b[0m\u001b[1;33m,\u001b[0m \u001b[0mbaseline_perm_scores\u001b[0m\u001b[1;33m,\u001b[0m \u001b[0mexp_stats\u001b[0m\u001b[1;33m,\u001b[0m \u001b[0mexp_perm_scores\u001b[0m\u001b[1;33m,\u001b[0m \u001b[0mrange\u001b[0m\u001b[1;33m(\u001b[0m\u001b[1;36m154\u001b[0m\u001b[1;33m)\u001b[0m\u001b[1;33m)\u001b[0m\u001b[1;33m\u001b[0m\u001b[0m\n\u001b[0m",
      "\u001b[1;32m<ipython-input-92-de634aa77b44>\u001b[0m in \u001b[0;36mevaluate\u001b[1;34m(base_stats, base_perm_scores, exp_stats, exp_perm_scores, names)\u001b[0m\n\u001b[0;32m     32\u001b[0m \u001b[1;33m\u001b[0m\u001b[0m\n\u001b[0;32m     33\u001b[0m     \u001b[1;31m# Boxplots of sample substructures for both data sets\u001b[0m\u001b[1;33m\u001b[0m\u001b[1;33m\u001b[0m\u001b[0m\n\u001b[1;32m---> 34\u001b[1;33m     \u001b[0mboxplots\u001b[0m\u001b[1;33m(\u001b[0m\u001b[0mbase_stats\u001b[0m\u001b[1;33m,\u001b[0m \u001b[0mbase_perm_scores\u001b[0m\u001b[1;33m,\u001b[0m \u001b[0msample_fps\u001b[0m\u001b[1;33m,\u001b[0m \u001b[0mnames\u001b[0m\u001b[1;33m)\u001b[0m\u001b[1;33m\u001b[0m\u001b[0m\n\u001b[0m\u001b[0;32m     35\u001b[0m     \u001b[0mboxplots\u001b[0m\u001b[1;33m(\u001b[0m\u001b[0mexp_stats\u001b[0m\u001b[1;33m,\u001b[0m \u001b[0mexp_perm_scores\u001b[0m\u001b[1;33m,\u001b[0m \u001b[0msample_fps\u001b[0m\u001b[1;33m,\u001b[0m \u001b[0mnames\u001b[0m\u001b[1;33m)\u001b[0m\u001b[1;33m\u001b[0m\u001b[0m\n\u001b[0;32m     36\u001b[0m     \u001b[0mtandem_boxplots\u001b[0m\u001b[1;33m(\u001b[0m\u001b[0mbase_stats\u001b[0m\u001b[1;33m,\u001b[0m \u001b[0mbase_perm_scores\u001b[0m\u001b[1;33m,\u001b[0m \u001b[0mexp_stats\u001b[0m\u001b[1;33m,\u001b[0m \u001b[0msample_fps\u001b[0m\u001b[1;33m,\u001b[0m \u001b[0mnames\u001b[0m\u001b[1;33m)\u001b[0m\u001b[1;33m\u001b[0m\u001b[0m\n",
      "\u001b[1;31mNameError\u001b[0m: name 'boxplots' is not defined"
     ]
    }
   ],
   "source": [
    "evaluate(baseline_stats, baseline_perm_scores, exp_stats, exp_perm_scores, range(154))"
   ]
  },
  {
   "cell_type": "code",
   "execution_count": null,
   "metadata": {},
   "outputs": [],
   "source": []
  }
 ],
 "metadata": {
  "kernelspec": {
   "display_name": "Python 3",
   "language": "python",
   "name": "python3"
  },
  "language_info": {
   "codemirror_mode": {
    "name": "ipython",
    "version": 3
   },
   "file_extension": ".py",
   "mimetype": "text/x-python",
   "name": "python",
   "nbconvert_exporter": "python",
   "pygments_lexer": "ipython3",
   "version": "3.6.6"
  }
 },
 "nbformat": 4,
 "nbformat_minor": 2
}

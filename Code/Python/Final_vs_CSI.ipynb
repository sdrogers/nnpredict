{
 "cells": [
  {
   "cell_type": "code",
   "execution_count": 2,
   "metadata": {},
   "outputs": [],
   "source": [
    "import os\n",
    "import json\n",
    "import numpy as np\n",
    "from rdkit import Chem\n",
    "\n",
    "from matplotlib import pyplot as plt\n",
    "from itertools import islice\n",
    "import pandas as pd\n",
    "import re"
   ]
  },
  {
   "cell_type": "code",
   "execution_count": 3,
   "metadata": {},
   "outputs": [],
   "source": [
    "gnps_dir = \"G:\\\\Dev\\\\Data\\\\GNPS\"\n",
    "json_file_dir = \"G:\\\\Dev\\\\trees_gnps\"\n",
    "fragments_occurences = \"G:\\\\Dev\\\\fragment_occurences.csv\"\n",
    "losses_occurences = \"G:\\\\Dev\\\\losses_occurences.csv\"\n",
    "\n",
    "path = \"G:\\\\Dev\\\\CSIFingerID\\\\\"\n",
    "sample_fingerprints_legend_path = path + \"fingerprints.csv\"\n",
    "output_file_dir = path + \"all_sirius_output_minibatches\""
   ]
  },
  {
   "cell_type": "code",
   "execution_count": 4,
   "metadata": {},
   "outputs": [],
   "source": [
    "fragments_df = pd.read_csv(fragments_occurences, names=[\"formula\", \"occurences\"])\n",
    "fragments_df = fragments_df.set_index(\"formula\")\n",
    "losses_df = pd.read_csv(losses_occurences, names=[\"formula\", \"occurences\"])\n",
    "losses_df = losses_df.set_index(\"formula\")\n"
   ]
  },
  {
   "cell_type": "code",
   "execution_count": 5,
   "metadata": {},
   "outputs": [
    {
     "name": "stdout",
     "output_type": "stream",
     "text": [
      "Index(['CO_loss', 'H2O_loss', 'C2H2_loss', 'CH3_loss', 'CHN_loss', 'CH4_loss',\n",
      "       'H3N_loss', 'H2_loss', 'C2H4_loss', 'C2H2O_loss',\n",
      "       ...\n",
      "       'C3H8S_loss', 'OP_loss', 'CH2N3_loss', 'C7H7NO3_loss', 'O2P_loss',\n",
      "       'C2H5NOS_loss', 'C10H4N3_loss', 'C9H17O3_loss', 'C3H7N4_loss',\n",
      "       'C4H6NO2_loss'],\n",
      "      dtype='object', length=892)\n",
      "Index(['BrH_loss', 'Br_loss', 'C10', 'C10H10', 'C10H10ClN', 'C10H10ClNO',\n",
      "       'C10H10ClNO2', 'C10H10F2O2', 'C10H10FN', 'C10H10N',\n",
      "       ...\n",
      "       'O2_loss', 'O3S_loss', 'O3_loss', 'O4_loss', 'O5_loss', 'OP_loss',\n",
      "       'OS_loss', 'O_loss', 'S2_loss', 'S_loss'],\n",
      "      dtype='object', length=5508)\n"
     ]
    }
   ],
   "source": [
    "losses_df.index = [index + \"_loss\" for index in losses_df.index]\n",
    "print(losses_df.index)\n",
    "combined_index = fragments_df.index.union(losses_df.index)\n",
    "print(combined_index)"
   ]
  },
  {
   "cell_type": "code",
   "execution_count": 6,
   "metadata": {},
   "outputs": [],
   "source": [
    "spectrum_smiles = {}\n",
    "spectrum_formula = {}\n",
    "\n",
    "for file in os.listdir(gnps_dir):\n",
    "    filepath = os.path.join(gnps_dir, file)\n",
    "    with open(filepath, 'r') as f:\n",
    "        content = f.readlines()\n",
    "        smiles = content[6].split(\" \")[1]\n",
    "        formula = content[1].split(\" \")[1]\n",
    "        mol_name = file[:-3]\n",
    "        spectrum_smiles[mol_name] = smiles\n",
    "        spectrum_formula[mol_name] = formula"
   ]
  },
  {
   "cell_type": "code",
   "execution_count": 7,
   "metadata": {},
   "outputs": [],
   "source": [
    "def read_tree(filepath, fragment_formula, losses_formula):\n",
    "    fragments = {}\n",
    "    losses = {}\n",
    "    all_fragments = {}\n",
    "    \n",
    "    with open(filepath, 'r') as f:\n",
    "        data = json.load(f)\n",
    "\n",
    "    for fragment in data['fragments']:\n",
    "        if \"intensity\" in fragment:\n",
    "            all_fragments[(fragment['molecularFormula'])] = float(fragment['intensity'])\n",
    "            if fragment['molecularFormula'] in fragment_formula:\n",
    "                fragments[(fragment['molecularFormula'])] = float(fragment['intensity'])\n",
    "\n",
    "    for loss in data['losses']:\n",
    "        loss_index = loss['molecularFormula'] + \"_loss\"\n",
    "        if loss_index in losses_formula and loss[\"source\"] in all_fragments and loss[\"target\"] in all_fragments:\n",
    "            losses[loss_index] = (all_fragments[loss[\"source\"]] + all_fragments[loss[\"target\"]]) /2 \n",
    "                \n",
    "    return fragments, losses"
   ]
  },
  {
   "cell_type": "code",
   "execution_count": 8,
   "metadata": {},
   "outputs": [
    {
     "name": "stdout",
     "output_type": "stream",
     "text": [
      "Index(['CO_loss', 'H2O_loss', 'C2H2_loss', 'CH3_loss', 'CHN_loss', 'CH4_loss',\n",
      "       'H3N_loss', 'H2_loss', 'C2H4_loss', 'C2H2O_loss',\n",
      "       ...\n",
      "       'C3H8S_loss', 'OP_loss', 'CH2N3_loss', 'C7H7NO3_loss', 'O2P_loss',\n",
      "       'C2H5NOS_loss', 'C10H4N3_loss', 'C9H17O3_loss', 'C3H7N4_loss',\n",
      "       'C4H6NO2_loss'],\n",
      "      dtype='object', length=892)\n"
     ]
    }
   ],
   "source": [
    "print(losses_df.index)"
   ]
  },
  {
   "cell_type": "code",
   "execution_count": 9,
   "metadata": {},
   "outputs": [
    {
     "name": "stdout",
     "output_type": "stream",
     "text": [
      "{'C16H24N2O4': 6160.996094, 'C15H24N2O3': 16870.810547, 'C14H18N2O3': 2070.579102, 'C14H16N2O2': 809.072083, 'C11H17NO3': 21815.289062, 'C11H15NO2': 64301.03125, 'C10H17NO2': 14258.55957, 'C10H15NO': 6297.509766, 'C6H13N': 15535.5, 'C8H9NO2': 1387.92395, 'C8H8NO2': 1246.405029, 'C7H8NO': 845.15387, 'C6H7NO2': 2094.37793, 'C13H15NO2': 2861.543945, 'C13H16N2O': 1143.875977, 'C13H13NO': 1225.858032, 'C12H13N': 3435.073975, 'C8H9N': 6533.36377, 'C15H22N2O': 1184.531006}\n",
      "{'CO_loss': 1800.753052, 'H3N_loss': 1455.5930174999999, 'C8H6_loss': 1254.9020385000001, 'C2H6O_loss': 4115.787598, 'C7H3N_loss': 2312.1985475, 'C4H7N_loss': 6826.655884, 'C2H6_loss': 9080.482910499999, 'H2O2_loss': 4288.985596, 'H2O_loss': 2043.7009885, 'C3HN_loss': 11942.934082, 'C4H4O2_loss': 14897.029784999999, 'C3H6_loss': 32844.4776, 'C3H7_loss': 32773.7181395, 'C2H2_loss': 1741.15094, 'CHN_loss': 1835.308014, 'C4H4_loss': 4984.2188725}\n"
     ]
    }
   ],
   "source": [
    "filepath = os.path.join(json_file_dir, \"CCMSLIB00000001563.json\")\n",
    "fragments, losses = read_tree(filepath, fragments_df.index, losses_df.index)\n",
    "print(fragments)\n",
    "print(losses)"
   ]
  },
  {
   "cell_type": "code",
   "execution_count": 10,
   "metadata": {},
   "outputs": [],
   "source": [
    "def dict_is_empty(sample_dict):\n",
    "    return len(sample_dict.keys()) == 0\n",
    "\n",
    "def get_mol_names(path_dir):\n",
    "    return [file[:-3] for file in os.listdir(path_dir)]\n",
    "\n",
    "def load_tree(path_dir):\n",
    "    mol_ids = get_mol_names(path_dir)\n",
    "    intensities = pd.DataFrame(0.0, index=mol_ids, columns=combined_index, dtype=float)\n",
    "    for file in os.listdir(path_dir):\n",
    "        mol_name = file[:-3]\n",
    "        tree_path = json_file_dir + os.sep + mol_name + \".json\"\n",
    "        fragments, losses = read_tree(tree_path, fragments_df.index, losses_df.index)\n",
    "        if dict_is_empty(fragments) or dict_is_empty(losses):\n",
    "            intensities.drop([mol_name], inplace=True)\n",
    "        else:\n",
    "            for fragment, intensity in fragments.items():\n",
    "                intensities.at[mol_name, fragment] = float(intensity)\n",
    "            for fragment, intensity in losses.items():\n",
    "                intensities.at[mol_name, fragment] = float(intensity)\n",
    "            intensities.loc[mol_name] = intensities.loc[mol_name].div(np.amax(intensities.loc[mol_name].values)).mul(999)\n",
    "    return intensities\n",
    "\n",
    "def load_fingerprints(mol_ids, fingerprint_smarts):\n",
    "    fingerprints = pd.DataFrame(0, index=mol_ids, columns=range(154), dtype=int)\n",
    "    for index in fingerprints.index:\n",
    "        smiles = spectrum_smiles[index]\n",
    "        m = Chem.MolFromSmiles(smiles)\n",
    "        for i, smarts in enumerate(fingerprint_smarts):\n",
    "            patt = Chem.MolFromSmarts(smarts)\n",
    "            fingerprints.at[index, i] = int(m.HasSubstructMatch(patt))\n",
    "            \n",
    "    return fingerprints\n",
    "\n",
    "def load_csi_fingerprints(output_file_dir, mol_folder_file, gnps_mol_ids):\n",
    "    mol_ids = [entry[1] for entry in mol_folder_file if entry[1] in gnps_mol_ids]\n",
    "    fingerprints = pd.DataFrame(0, index=mol_ids, columns=range(154), dtype=float)\n",
    "    for directory, mol, formula in mol_folder_file:\n",
    "        if mol in gnps_mol_ids:\n",
    "            file_dir = os.path.join(output_file_dir, directory)\n",
    "            folder = \"1_{0}_{1}\".format(directory, mol)\n",
    "            fingerprints_file_dir = os.path.join(os.path.join(file_dir, folder), \"fingerprints\")\n",
    "            fingerprint_file = os.listdir(fingerprints_file_dir)[1]\n",
    "            full_fingerprint_filepath = os.path.join(fingerprints_file_dir, fingerprint_file)\n",
    "            with open(full_fingerprint_filepath, 'r') as f:\n",
    "                content = f.readlines()\n",
    "                rel_content = content[:154]\n",
    "                for index, prediction in enumerate(rel_content):\n",
    "                    fingerprints.at[mol, index] = float(prediction[:-1])\n",
    "\n",
    "    return fingerprints"
   ]
  },
  {
   "cell_type": "code",
   "execution_count": 11,
   "metadata": {
    "scrolled": true
   },
   "outputs": [
    {
     "name": "stdout",
     "output_type": "stream",
     "text": [
      "Index(['CCMSLIB00000001548', 'CCMSLIB00000001549', 'CCMSLIB00000001550',\n",
      "       'CCMSLIB00000001555', 'CCMSLIB00000001563', 'CCMSLIB00000001565',\n",
      "       'CCMSLIB00000001566', 'CCMSLIB00000001568', 'CCMSLIB00000001569',\n",
      "       'CCMSLIB00000001570',\n",
      "       ...\n",
      "       'CCMSLIB00000579916', 'CCMSLIB00000579917', 'CCMSLIB00000579918',\n",
      "       'CCMSLIB00000579919', 'CCMSLIB00000579920', 'CCMSLIB00000579921',\n",
      "       'CCMSLIB00000579922', 'CCMSLIB00000579923', 'CCMSLIB00000579924',\n",
      "       'CCMSLIB00000579925'],\n",
      "      dtype='object', length=5770)\n"
     ]
    }
   ],
   "source": [
    "mol_ids = get_mol_names(gnps_dir)\n",
    "tree = pd.DataFrame(0.0, index=mol_ids, columns=combined_index, dtype=float)\n",
    "print(tree.index)"
   ]
  },
  {
   "cell_type": "code",
   "execution_count": 57,
   "metadata": {},
   "outputs": [
    {
     "name": "stdout",
     "output_type": "stream",
     "text": [
      "{'Br', 'N', 'Cl', 'S', 'P', 'O', 'F', 'I', 'C', 'H'}\n"
     ]
    }
   ],
   "source": [
    "component_set = set()\n",
    "\n",
    "for formula in combined_index:\n",
    "    pure_formula = formula.split('_loss')\n",
    "    components = re.findall('[A-Z][^A-Z\\d]*', pure_formula[0])\n",
    "    for component in components:\n",
    "        component_set.add(component)\n",
    "        \n",
    "print(component_set)\n",
    "\n",
    "mol_mass = {'P':30.974, 'Cl':35.453, 'H':1.008, 'Br':79.904, 'O':15.999, \n",
    "            'N':14.007, 'F':18.998, 'I':126.904, 'S':32.065, 'C':12.011}\n",
    "\n",
    "def get_number(string):\n",
    "    num = 1\n",
    "    num_in_string = re.findall(\"[\\d]+\", string)\n",
    "    if len(num_in_string) > 0:\n",
    "        num = int(num_in_string[0])\n",
    "    return num\n",
    "\n",
    "def get_string(string):\n",
    "    return re.findall(\"[^\\d]+\", string)[0]\n",
    "\n",
    "def get_molecular_mass(formula):\n",
    "    mass = 0\n",
    "    components = re.findall('[A-Z][^A-Z]*', formula)\n",
    "    for component in components:\n",
    "        mass += mol_mass[get_string(component)] * get_number(component)\n",
    "    \n",
    "    return round(mass, 3)\n",
    "\n",
    "mass_to_formula_dict = {}\n",
    "\n",
    "for formula in combined_index:\n",
    "    if \"_loss\" in formula:\n",
    "        pure_formula = formula.split('_loss')\n",
    "        mass = get_molecular_mass(pure_formula[0])\n",
    "        mass_to_formula_dict[mass] = formula\n",
    "    else:\n",
    "        mass = get_molecular_mass(formula)\n",
    "        mass_to_formula_dict[mass] = formula\n",
    "        "
   ]
  },
  {
   "cell_type": "code",
   "execution_count": 58,
   "metadata": {},
   "outputs": [
    {
     "name": "stdout",
     "output_type": "stream",
     "text": [
      "{80.912: 'BrH_loss', 79.904: 'Br_loss', 120.11: 'C10', 130.19: 'C10H10_loss', 179.65: 'C10H10ClN', 195.649: 'C10H10ClNO', 211.648: 'C10H10ClNO2', 200.184: 'C10H10F2O2', 163.195: 'C10H10FN', 144.197: 'C5H8N2OS', 158.204: 'C10H10N2', 174.203: 'C10H10N2O', 190.202: 'C10H10N2O2', 190.269: 'C10H10N2S', 186.218: 'C10H10N4', 202.217: 'C10H10N4O', 218.216: 'C10H10N4O2', 160.196: 'C10H10NO', 176.195: 'C10H10NO2', 192.194: 'C10H10NO3', 240.258: 'C15H12O3', 146.189: 'C10H10O', 162.188: 'C10H10O2', 178.187: 'C10H10O3', 194.186: 'C10H10O4', 210.185: 'C10H10O5', 178.254: 'C10H10OS', 131.198: 'C5H9NOS', 180.658: 'C10H11ClN', 196.657: 'C10H11ClNO', 194.209: 'C10H11FN2O', 145.205: 'C10H11N', 159.212: 'C10H11N2', 175.211: 'C10H11N2O', 173.219: 'C10H11N3', 189.218: 'C10H11N3O', 221.216: 'C10H11N3O3', 253.281: 'C10H11N3O3S', 219.224: 'C10H11N4O2', 161.204: 'C10H11NO', 177.203: 'C10H11NO2', 193.202: 'C10H11NO3_loss', 225.2: 'C10H11NO5', 177.27: 'C10H11NS', 147.197: 'C10H11O', 163.196: 'C10H11O2', 179.195: 'C10H11O3', 195.194: 'C10H11O4', 132.206: 'C10H12_loss', 146.213: 'C10H12N', 160.22: 'C10H12N2', 176.219: 'C10H12N2O', 208.284: 'C15H14N', 220.232: 'C10H12N4O2', 236.231: 'C10H12N4O3', 284.295: 'C10H12N4O4S', 162.212: 'C10H12NO', 178.211: 'C10H12NO2', 194.21: 'C10H12NO3', 148.205: 'C10H12O_loss', 164.204: 'C10H12O2', 180.203: 'C10H12O3', 196.202: 'C10H12O4', 212.201: 'C10H12O5_loss', 133.214: 'C10H13', 196.681: 'C10H13ClN2_loss', 214.672: 'C10H13ClNO2', 147.221: 'C10H13N', 161.228: 'C10H13N2', 177.227: 'C10H13N2O', 209.225: 'C10H13N2O3', 241.223: 'C10H13N2O5', 175.235: 'C10H13N3', 267.245: 'C10H13N5O4', 163.22: 'C10H13NO', 179.219: 'C10H13NO2', 195.218: 'C10H13NO3', 211.217: 'C10H13NO4', 181.211: 'C10H13O3', 134.222: 'C10H14_loss', 162.236: 'C10H14N2', 178.235: 'C10H14N2O', 194.234: 'C10H14N2O2', 226.299: 'C15H16NO', 180.227: 'C10H14NO2', 212.225: 'C10H14NO4', 150.221: 'C10H14O_loss', 166.22: 'C10H14O2', 182.219: 'C10H14O3', 198.218: 'C10H14O4', 149.237: 'C10H15N', 193.25: 'C10H15N3O', 165.236: 'C10H15NO', 181.235: 'C10H15NO2', 197.234: 'C10H15NO3', 136.238: 'C10H16_loss', 150.245: 'C10H16N', 164.252: 'C10H16N2', 180.251: 'C10H16N2O', 196.25: 'C10H16N2O2', 244.314: 'C15H18NO2', 252.345: 'C10H16N6S', 166.244: 'C10H16NO', 152.237: 'C10H16O', 168.236: 'C10H16O2', 200.234: 'C10H16O4_loss', 151.253: 'C10H17N', 211.265: 'C10H17N3O2', 167.252: 'C10H17NO', 183.251: 'C10H17NO2_loss', 199.25: 'C10H17NO3', 138.254: 'C10H18', 182.267: 'C10H18N2O', 198.266: 'C10H18N2O2', 154.253: 'C10H18O', 170.252: 'C10H18O2_loss', 266.246: 'C10H18O8_loss', 222.712: 'C10H19ClO3', 153.269: 'C10H19N', 169.268: 'C10H19NO', 185.267: 'C10H19NO2', 122.126: 'C10H2', 184.283: 'C10H20N2O', 200.282: 'C10H20N2O2', 296.544: 'C10H20N2S4', 186.145: 'C10H3FN2O', 137.141: 'C10H3N', 169.139: 'C10H3NO2', 155.132: 'C10H3O2', 124.142: 'C10H4', 173.602: 'C10H4ClN', 173.146: 'C10H4FNO', 152.156: 'C10H4N2', 166.163: 'C10H4N3_loss', 156.14: 'C10H4O2', 172.139: 'C10H4O3', 188.138: 'C10H4O4', 125.15: 'C10H5', 188.617: 'C10H5ClN2', 176.602: 'C10H5ClO', 182.144: 'C10H5F3', 172.162: 'C10H5FN2', 188.161: 'C10H5FN2O', 204.16: 'C10H5FN2O2', 139.157: 'C10H5N', 169.163: 'C10H5N2O', 167.171: 'C10H5N3', 155.156: 'C10H5NO', 171.155: 'C10H5NO2', 187.154: 'C10H5NO3', 141.149: 'C10H5O', 157.148: 'C10H5O2', 173.147: 'C10H5O3', 126.158: 'C10H6_loss', 229.062: 'C10H6Cl2O2', 175.618: 'C10H6ClN', 191.617: 'C10H6ClNO', 145.156: 'C10H6F', 164.154: 'C10H6F2', 192.168: 'C10H6F2N2', 197.159: 'C10H6F3N', 159.163: 'C10H6FN', 173.17: 'C10H6FN2', 205.168: 'C10H6FN2O2', 175.162: 'C10H6FNO', 191.161: 'C10H6FNO2', 161.155: 'C10H6FO', 140.165: 'C5H4N2OS', 154.172: 'C10H6N2', 170.171: 'C10H6N2O', 186.17: 'C10H6N2O2', 184.178: 'C10H6N3O', 182.186: 'C10H6N4', 156.164: 'C10H6NO', 172.163: 'C10H6NO2', 142.157: 'C10H6O', 158.156: 'C10H6O2', 174.155: 'C10H6O3', 190.154: 'C10H6O4', 206.153: 'C10H6O5', 127.166: 'C10H7', 162.619: 'C10H7Cl', 178.618: 'C10H7ClO', 194.617: 'C10H7ClO2', 146.164: 'C10H7F', 179.169: 'C10H7F2N', 184.16: 'C10H7F3', 174.178: 'C10H7FN2', 190.177: 'C10H7FN2O', 206.176: 'C10H7FN2O2', 176.17: 'C10H7FNO', 162.163: 'C10H7FO', 141.173: 'C10H7N_loss', 155.18: 'C10H7N2', 171.179: 'C10H7N2O', 169.187: 'C10H7N3', 185.186: 'C10H7N3O', 201.185: 'C10H7N3O2', 201.252: 'C10H7N3S', 199.193: 'C10H7N4O', 157.172: 'C10H7NO_loss', 173.171: 'C10H7NO2', 189.17: 'C10H7NO3', 237.234: 'C15H9O3', 189.237: 'C15H9', 143.165: 'C10H7O', 159.164: 'C10H7O2', 175.163: 'C10H7O3', 191.162: 'C10H7O4', 128.174: 'C10H8_loss', 177.634: 'C10H8ClN', 193.633: 'C10H8ClNO_loss', 147.172: 'C10H8F', 199.175: 'C10H8F3N', 161.179: 'C10H8FN', 175.186: 'C10H8FN2', 177.178: 'C10H8FNO', 142.181: 'C10H8N', 156.188: 'C10H8N2', 172.187: 'C10H8N2O', 188.186: 'C10H8N2O2', 204.185: 'C10H8N2O3', 204.252: 'C15H10N', 170.195: 'C10H8N3', 184.202: 'C10H8N4', 216.2: 'C10H8N4O2', 158.18: 'C10H8NO', 174.179: 'C10H8NO2', 190.178: 'C10H8NO3', 190.245: 'C15H10', 144.173: 'C10H8O_loss', 160.172: 'C10H8O2', 176.171: 'C10H8O3', 192.17: 'C10H8O4', 208.169: 'C10H8O5', 160.239: 'C10H8S', 129.182: 'C10H9', 164.635: 'C10H9Cl', 192.649: 'C10H9ClN2', 194.641: 'C10H9ClNO', 180.634: 'C10H9ClO', 148.18: 'C10H9F', 176.194: 'C10H9FN2', 164.179: 'C10H9FO', 180.178: 'C10H9FO2', 143.189: 'C10H9N_loss', 157.196: 'C10H9N2', 173.195: 'C10H9N2O', 171.203: 'C10H9N3', 187.202: 'C10H9N3O', 203.201: 'C10H9N3O2', 235.266: 'C15H11N2O', 201.209: 'C10H9N4O', 159.188: 'C10H9NO_loss', 175.187: 'C10H9NO2', 191.186: 'C10H9NO3', 223.251: 'C15H11O2', 207.185: 'C10H9NO4', 191.253: 'C15H11', 145.181: 'C10H9O', 161.18: 'C10H9O2', 177.179: 'C10H9O3', 136.109: 'C10O_loss', 142.201: 'C11H10_loss', 257.12: 'C11H10Cl2N2O_loss', 191.661: 'C11H10ClN', 191.205: 'C11H10FNO', 156.208: 'C11H10N', 170.215: 'C11H10N2', 186.214: 'C11H10N2O', 202.213: 'C11H10N2O2_loss', 218.279: 'C16H12N', 202.28: 'C11H10N2S', 198.229: 'C11H10N4', 214.228: 'C11H10N4O', 230.227: 'C11H10N4O2', 172.207: 'C11H10NO', 188.206: 'C11H10NO2', 204.205: 'C11H10NO3', 158.2: 'C11H10O_loss', 174.199: 'C11H10O2', 190.198: 'C11H10O3', 206.197: 'C11H10O4', 222.196: 'C11H10O5', 190.265: 'C11H10OS', 143.209: 'C11H11', 178.662: 'C11H11Cl', 206.676: 'C11H11ClN2', 208.668: 'C11H11ClNO', 162.207: 'C11H11F', 206.22: 'C11H11FN2O', 178.206: 'C11H11FO', 194.205: 'C11H11FO2', 157.216: 'C11H11N', 171.223: 'C11H11N2', 187.222: 'C11H11N2O', 203.221: 'C11H11N2O2', 267.217: 'C11H11N2O6', 185.23: 'C11H11N3', 217.228: 'C11H11N3O2', 233.294: 'C16H13N2', 215.236: 'C11H11N4O', 231.235: 'C11H11N4O2', 247.234: 'C11H11N4O3', 173.215: 'C11H11NO', 189.214: 'C11H11NO2', 205.213: 'C11H11NO3', 221.212: 'C11H11NO4', 159.208: 'C6H9NO2S', 175.207: 'C11H11O2', 207.205: 'C11H11O4', 144.217: 'C11H12_loss', 193.677: 'C11H12ClN', 209.676: 'C11H12ClNO', 177.222: 'C11H12FN', 193.221: 'C11H12FNO', 158.224: 'C6H10N2OS', 172.231: 'C11H12N2', 188.23: 'C11H12N2O', 204.229: 'C11H12N2O2_loss', 204.296: 'C11H12N2S', 218.236: 'C11H12N3O2', 200.245: 'C11H12N4', 216.244: 'C11H12N4O', 232.243: 'C11H12N4O2', 280.307: 'C11H12N4O3S', 312.305: 'C11H12N4O5S', 174.223: 'C11H12NO', 190.222: 'C11H12NO2', 206.221: 'C11H12NO3', 160.216: 'C11H12O', 176.215: 'C11H12O2', 192.214: 'C11H12O3', 208.213: 'C11H12O4', 224.212: 'C11H12O5', 240.211: 'C11H12O6', 145.225: 'C11H13', 240.234: 'C11H13FN2O3', 159.232: 'C11H13N', 173.239: 'C11H13N2', 189.238: 'C11H13N2O', 237.235: 'C11H13N2O4', 269.233: 'C11H13N2O6', 203.245: 'C11H13N3O', 267.308: 'C11H13N3O3S', 233.251: 'C11H13N4O2', 265.249: 'C11H13N4O4', 175.231: 'C11H13NO', 191.23: 'C11H13NO2', 207.229: 'C11H13NO3', 223.228: 'C11H13NO4', 177.223: 'C11H13O2', 193.222: 'C11H13O3', 209.221: 'C11H13O4', 146.233: 'C11H14', 211.692: 'C11H14ClNO_loss', 160.24: 'C11H14N', 174.247: 'C11H14N2', 190.246: 'C11H14N2O_loss', 206.245: 'C11H14N2O2', 222.244: 'C11H14N2O3', 234.259: 'C11H14N4O2', 192.238: 'C11H14NO2', 224.236: 'C11H14NO4', 162.232: 'C11H14O', 178.231: 'C11H14O2', 194.23: 'C11H14O3', 210.229: 'C11H14O4', 242.227: 'C11H14O6', 147.241: 'C11H15', 161.248: 'C11H15N', 177.247: 'C11H15NO', 193.246: 'C11H15NO2', 225.311: 'C16H17O', 209.245: 'C11H15NO3', 241.243: 'C11H15NO5', 148.249: 'C11H16', 192.262: 'C11H16N2O', 208.261: 'C11H16N2O2', 224.26: 'C11H16N2O3', 178.255: 'C11H16NO', 164.248: 'C11H16O', 180.247: 'C11H16O2', 196.246: 'C11H16O3', 163.264: 'C11H17N', 179.263: 'C11H17NO', 195.262: 'C11H17NO2', 211.261: 'C11H17NO3', 227.26: 'C11H17NO4', 150.265: 'C11H18', 233.715: 'C11H18ClO3', 164.272: 'C11H18N', 194.278: 'C11H18N2O', 210.277: 'C11H18N2O2', 242.342: 'C11H18N2O2S', 226.276: 'C11H18N2O3', 242.275: 'C11H18N2O4', 166.264: 'C11H18O', 198.262: 'C11H18O3_loss', 234.723: 'C11H19ClO3', 209.293: 'C11H19N3O', 223.3: 'C11H19N4O', 181.279: 'C11H19NO', 197.278: 'C11H19NO2', 213.277: 'C11H19NO3', 196.294: 'C11H20N2O', 212.293: 'C11H20N2O2', 228.292: 'C11H20N2O3', 260.357: 'C11H20N2O3S', 184.279: 'C11H20O2', 167.296: 'C11H21N', 340.336: 'C11H21N2O6PS', 199.294: 'C11H21NO2', 231.292: 'C11H21NO4', 198.31: 'C11H22N2O', 180.142: 'C11H2NO2', 134.137: 'C11H2_loss', 214.155: 'C11H3FN2O2', 181.15: 'C11H3NO2', 164.167: 'C11H4N2', 166.159: 'C11H4NO', 182.158: 'C11H4NO2', 152.152: 'C11H4O', 184.15: 'C11H4O3', 200.149: 'C11H4O4', 137.161: 'C6H3NOS', 189.164: 'C11H5F2N', 200.172: 'C11H5FN2O', 216.171: 'C11H5FN2O2', 151.168: 'C11H5N', 165.175: 'C11H5N2', 197.24: 'C11H5N2S', 167.167: 'C11H5NO', 183.166: 'C11H5NO2', 199.165: 'C11H5NO3', 215.164: 'C11H5NO4', 169.159: 'C11H5O2', 185.158: 'C11H5O3', 201.157: 'C11H5O4', 153.16: 'C11H5O_loss', 138.169: 'C6H4NOS', 209.17: 'C11H6F3N', 171.174: 'C11H6FN', 199.188: 'C11H6FN3', 187.173: 'C11H6FNO', 203.172: 'C11H6FNO2', 152.176: 'C11H6N', 166.183: 'C11H6N2', 182.182: 'C11H6N2O', 198.181: 'C11H6N2O2', 180.19: 'C11H6N3', 194.197: 'C11H6N4', 168.175: 'C11H6NO', 184.174: 'C11H6NO2', 200.173: 'C11H6NO3', 154.168: 'C11H6O', 170.167: 'C11H6O2', 186.166: 'C11H6O3', 202.165: 'C11H6O4', 218.164: 'C11H6O5', 170.234: 'C11H6S', 139.177: 'C6H5NOS', 222.627: 'C11H7ClO3', 158.175: 'C11H7F', 219.194: 'C11H7F2N3', 210.178: 'C11H7F3N', 186.189: 'C11H7FN2', 202.188: 'C11H7FN2O', 218.187: 'C11H7FN2O2', 153.184: 'C11H7N', 167.191: 'C11H7N2', 183.19: 'C11H7N2O', 199.189: 'C11H7N2O2', 181.198: 'C11H7N3', 197.197: 'C11H7N3O', 169.183: 'C11H7NO', 185.182: 'C11H7NO2', 201.181: 'C11H7NO3', 185.249: 'C11H7NS', 155.176: 'C6H5NO2S', 171.175: 'C11H7O2', 187.174: 'C11H7O3', 203.173: 'C11H7O4', 171.242: 'C11H7S', 140.185: 'C11H8_loss', 189.645: 'C11H8ClN', 205.644: 'C11H8ClNO', 211.186: 'C11H8F3N', 203.196: 'C11H8FN2O', 219.195: 'C11H8FN2O2', 201.204: 'C11H8FN3', 189.189: 'C11H8FNO', 154.192: 'C11H8N', 168.199: 'C11H8N2', 184.198: 'C11H8N2O', 200.197: 'C11H8N2O2', 216.196: 'C11H8N2O3', 200.264: 'C11H8N2S', 182.206: 'C6H6N4OS', 198.205: 'C6H6N4O2S', 196.213: 'C11H8N4', 228.211: 'C11H8N4O2', 170.191: 'C11H8NO', 186.19: 'C11H8NO2', 202.189: 'C11H8NO3', 156.184: 'C11H8O', 172.183: 'C11H8O2_loss', 188.182: 'C11H8O3', 204.181: 'C11H8O4_loss', 172.25: 'C11H8S', 141.193: 'C6H7NOS', 176.646: 'C11H9Cl', 232.674: 'C11H9ClN4', 192.645: 'C11H9ClO', 160.191: 'C11H9F', 237.209: 'C11H9F2N3O', 188.205: 'C11H9FN2', 204.204: 'C11H9FN2O', 220.203: 'C11H9FN2O2', 176.19: 'C11H9FO', 155.2: 'C11H9N', 169.207: 'C11H9N2', 185.206: 'C11H9N2O', 201.205: 'C11H9N2O2', 183.214: 'C11H9N3', 199.213: 'C11H9N3O', 231.211: 'C11H9N3O3', 197.221: 'C11H9N4', 229.219: 'C11H9N4O2', 211.228: 'C11H9N5', 171.199: 'C11H9NO', 187.198: 'C11H9NO2', 203.197: 'C11H9NO3', 219.196: 'C11H9NO4', 187.265: 'C11H9NS', 157.192: 'C11H9O_loss', 173.191: 'C6H7NO3S', 189.19: 'C11H9O3_loss', 205.189: 'C11H9O4', 154.212: 'C12H10', 203.672: 'C12H10ClN', 231.686: 'C12H10ClN3', 219.671: 'C12H10ClNO', 225.213: 'C12H10F3N', 217.223: 'C12H10FN2O', 233.222: 'C12H10FN2O2', 168.219: 'C12H10N', 182.226: 'C12H10N2', 198.225: 'C12H10N2O', 214.224: 'C12H10N2O2', 246.289: 'C17H12NO', 230.223: 'C12H10N2O3', 226.239: 'C12H10N4O', 242.238: 'C12H10N4O2', 258.237: 'C12H10N4O3', 184.218: 'C12H10NO', 200.217: 'C12H10NO2', 216.283: 'C17H12', 170.211: 'C12H10O_loss', 186.21: 'C12H10O2_loss', 202.209: 'C12H10O3', 218.208: 'C12H10O4', 186.277: 'C12H10S', 155.22: 'C12H11_loss', 256.132: 'C12H11Cl2NO', 174.218: 'C12H11F', 218.231: 'C12H11FN2O', 234.23: 'C12H11FN2O2', 169.227: 'C12H11N', 183.234: 'C7H9N3OS', 199.233: 'C12H11N2O', 215.232: 'C12H11N2O2', 197.241: 'C12H11N3', 213.24: 'C12H11N3O', 245.238: 'C12H11N3O3', 229.306: 'C12H11N3S', 185.226: 'C12H11NO', 201.225: 'C12H11NO2', 233.29: 'C17H13O', 217.224: 'C12H11NO3', 233.223: 'C12H11NO4', 171.219: 'C7H9NO2S', 187.218: 'C7H9NO3S', 203.217: 'C12H11O3_loss', 219.216: 'C12H11O4', 156.228: 'C12H12_loss', 237.686: 'C12H12ClNO2', 226.222: 'C12H12F2O2', 227.229: 'C12H12F3N', 243.228: 'C12H12F3NO', 189.233: 'C12H12FN', 205.232: 'C12H12FNO', 170.235: 'C12H12N', 184.242: 'C12H12N2', 200.241: 'C12H12N2O', 216.24: 'C12H12N2O2', 232.239: 'C12H12N2O3', 232.306: 'C17H14N', 212.256: 'C12H12N4', 228.255: 'C12H12N4O', 244.254: 'C12H12N4O2', 260.253: 'C12H12N4O3', 186.234: 'C12H12NO', 202.233: 'C12H12NO2', 218.232: 'C12H12NO3', 172.227: 'C12H12O', 188.226: 'C12H12O2', 204.225: 'C12H12O3', 220.224: 'C12H12O4', 236.223: 'C12H12O5', 252.222: 'C12H12O6', 157.236: 'C12H13', 192.689: 'C12H13Cl', 248.717: 'C12H13ClN4', 220.247: 'C12H13FN2O_loss', 208.232: 'C12H13FO2', 171.243: 'C12H13N', 201.249: 'C12H13N2O', 265.245: 'C12H13N2O5', 215.256: 'C12H13N3O', 263.32: 'C12H13N3O2S', 229.263: 'C12H13N4O', 293.259: 'C12H13N4O5', 187.242: 'C12H13NO', 203.241: 'C12H13NO2', 219.24: 'C12H13NO3', 173.235: 'C12H13O', 189.234: 'C12H13O2', 205.233: 'C12H13O3', 221.232: 'C12H13O4', 237.231: 'C12H13O5', 158.244: 'C12H14', 223.703: 'C12H14ClNO', 191.249: 'C12H14FN', 207.248: 'C12H14FNO_loss', 172.251: 'C12H14N', 186.258: 'C12H14N2', 202.257: 'C12H14N2O', 218.256: 'C12H14N2O2', 250.321: 'C17H16NO', 234.255: 'C12H14N2O3', 246.27: 'C12H14N4O2', 310.333: 'C12H14N4O4S', 188.25: 'C12H14NO', 204.249: 'C12H14NO2', 220.248: 'C12H14NO3', 174.243: 'C12H14O', 190.242: 'C12H14O2', 206.241: 'C12H14O3', 222.24: 'C12H14O4', 238.239: 'C12H14O5', 254.238: 'C12H14O6', 159.252: 'C12H15', 173.259: 'C12H15N', 187.266: 'C12H15N2', 203.265: 'C12H15N2O', 219.264: 'C12H15N2O2', 217.272: 'C12H15N3O', 233.271: 'C12H15N3O2', 265.336: 'C12H15N3O2S', 189.258: 'C12H15NO', 205.257: 'C12H15NO2', 221.256: 'C12H15NO3', 237.255: 'C12H15NO4', 239.247: 'C12H15O5', 160.26: 'C12H16', 188.274: 'C12H16N2', 204.273: 'C12H16N2O', 236.271: 'C12H16N2O3', 220.339: 'C12H16N2S', 176.259: 'C12H16O', 192.258: 'C12H16O2', 208.257: 'C12H16O3', 240.255: 'C12H16O5', 175.275: 'C12H17N', 191.274: 'C12H17NO', 207.273: 'C12H17NO2', 239.338: 'C17H19O', 223.272: 'C12H17NO3', 239.271: 'C12H17NO4', 162.276: 'C12H18', 222.288: 'C12H18N2O2', 254.353: 'C12H18N2O2S', 238.287: 'C12H18N2O3', 178.275: 'C12H18O', 194.274: 'C12H18O2', 290.268: 'C12H18O8_loss', 246.734: 'C12H19ClO3', 237.303: 'C12H19N3O2', 209.289: 'C12H19NO2', 225.288: 'C12H19NO3', 164.292: 'C12H20', 247.742: 'C12H20ClO3', 224.304: 'C12H20N2O2', 272.368: 'C12H20N2O3S', 210.297: 'C12H20NO2', 180.291: 'C12H20O', 196.29: 'C12H20O2', 228.288: 'C12H20O4', 308.283: 'C12H20O9_loss', 248.75: 'C12H21ClO3', 179.307: 'C12H21N', 239.319: 'C12H21N3O2', 331.463: 'C12H21N5O2S2', 195.306: 'C12H21NO', 227.304: 'C12H21NO3', 339.364: 'C12H21NO8S', 210.321: 'C12H22N2O', 226.32: 'C12H22N2O2', 242.319: 'C12H22N2O3', 342.297: 'C12H22O11', 198.306: 'C12H22O2_loss', 181.323: 'C12H23N', 244.335: 'C12H24N2O3', 183.339: 'C12H25N', 297.372: 'C12H29N2O6', 209.16: 'C12H3NO3', 180.162: 'C12H4O2', 149.172: 'C7H3NOS', 187.168: 'C12H5F2', 228.182: 'C12H5FN2O2', 163.179: 'C12H5N', 211.176: 'C12H5NO3', 165.171: 'C12H5O', 150.18: 'C12H6', 199.64: 'C12H6ClN', 237.18: 'C12H6F3NO', 164.187: 'C7H4N2OS', 178.194: 'C12H6N2', 194.193: 'C12H6N2O', 210.192: 'C12H6N2O2', 208.2: 'C7H4N4O2S', 196.185: 'C12H6NO2', 212.184: 'C12H6NO3', 228.183: 'C12H6NO4', 166.179: 'C12H6O', 182.178: 'C12H6O2', 198.177: 'C12H6O3', 214.176: 'C12H6O4', 230.175: 'C12H6O5', 182.245: 'C12H6S', 151.188: 'C7H5NOS', 200.648: 'C12H7ClN', 214.655: 'C12H7ClN2', 232.713: 'C12H7ClNS', 170.186: 'C12H7F', 208.182: 'C12H7F3', 214.199: 'C12H7FN2O', 230.198: 'C12H7FN2O2', 165.195: 'C7H5N2OS', 179.202: 'C12H7N2', 195.201: 'C12H7N2O', 193.209: 'C12H7N3', 209.208: 'C12H7N3O', 207.216: 'C12H7N4', 181.194: 'C12H7NO', 197.193: 'C12H7NO2', 213.192: 'C12H7NO3', 229.191: 'C12H7NO4', 197.26: 'C12H7NS', 167.187: 'C7H5NO2S', 183.186: 'C12H7O2', 199.185: 'C12H7O3', 215.184: 'C12H7O4', 231.183: 'C12H7O5', 183.253: 'C12H7S', 152.196: 'C12H8', 246.107: 'C12H8BrN', 201.656: 'C12H8ClN', 233.721: 'C12H8ClNS_loss', 223.197: 'C12H8F3N', 215.207: 'C12H8FN2O', 231.206: 'C12H8FN2O2', 229.214: 'C12H8FN3O', 201.2: 'C12H8FNO', 166.203: 'C12H8N', 180.21: 'C12H8N2', 196.209: 'C12H8N2O', 212.208: 'C12H8N2O2', 228.207: 'C12H8N2O3', 228.274: 'C17H10N', 212.275: 'C12H8N2S', 208.224: 'C12H8N4', 224.223: 'C12H8N4O', 182.202: 'C12H8NO', 198.201: 'C12H8NO2', 214.2: 'C12H8NO3', 230.199: 'C12H8NO4', 198.268: 'C12H8NS', 168.195: 'C12H8O', 184.194: 'C12H8O2_loss', 200.193: 'C12H8O3', 216.192: 'C12H8O4', 232.191: 'C12H8O5', 184.261: 'C12H8S', 153.204: 'C7H7NOS', 216.215: 'C12H9FN2O', 232.214: 'C12H9FN2O2', 167.211: 'C12H9N', 181.218: 'C12H9N2', 197.217: 'C12H9N2O', 213.216: 'C12H9N2O2', 195.225: 'C12H9N3', 211.224: 'C12H9N3O', 227.223: 'C12H9N3O2', 243.222: 'C12H9N3O3', 225.231: 'C12H9N4O', 183.21: 'C12H9NO', 199.209: 'C12H9NO2', 215.208: 'C12H9NO3', 199.276: 'C12H9NS', 169.203: 'C7H7NO2S', 185.202: 'C12H9O2', 201.201: 'C12H9O3', 217.2: 'C12H9O4', 166.223: 'C8H8NOS', 231.682: 'C13H10ClNO', 229.234: 'C13H10FN2O', 245.233: 'C13H10FN2O2', 275.239: 'C13H10FN3O3', 215.227: 'C13H10FNO', 231.226: 'C13H10FNO2', 180.23: 'C13H10N', 194.237: 'C13H10N2', 210.236: 'C13H10N2O', 226.235: 'C13H10N2O2', 242.234: 'C13H10N2O3', 258.233: 'C13H10N2O4', 226.302: 'C13H10N2S', 224.243: 'C13H10N3O', 240.242: 'C13H10N3O2', 222.251: 'C13H10N4', 238.25: 'C13H10N4O', 196.229: 'C13H10NO', 212.228: 'C13H10NO2', 228.227: 'C13H10NO3', 244.226: 'C13H10NO4', 182.222: 'C8H8NO2S', 198.221: 'C8H8NO3S', 214.22: 'C13H10O3', 230.219: 'C13H10O4', 246.218: 'C13H10O5', 262.217: 'C13H10O6', 198.288: 'C13H10S', 167.231: 'C13H11', 214.243: 'C13H11FN2', 230.242: 'C13H11FN2O', 246.241: 'C13H11FN2O2', 181.238: 'C13H11N', 195.245: 'C13H11N2', 227.243: 'C13H11N2O2', 209.252: 'C13H11N3', 225.251: 'C13H11N3O', 241.25: 'C13H11N3O2', 257.249: 'C13H11N3O3', 257.316: 'C18H13N2', 255.257: 'C13H11N4O2', 237.266: 'C13H11N5', 197.237: 'C13H11NO', 213.236: 'C13H11NO2', 229.235: 'C13H11NO3', 245.234: 'C13H11NO4', 261.233: 'C13H11NO5', 183.23: 'C8H9NO2S', 199.229: 'C13H11O2', 215.228: 'C13H11O3', 168.239: 'C13H12_loss', 306.276: 'C13H12F2N6O', 182.246: 'C13H12N', 196.253: 'C13H12N2', 212.252: 'C13H12N2O', 228.251: 'C13H12N2O2', 240.266: 'C13H12N4O', 256.265: 'C13H12N4O2', 198.245: 'C13H12NO', 214.244: 'C13H12NO2', 230.243: 'C13H12NO3', 246.242: 'C13H12NO4', 184.238: 'C13H12O', 200.237: 'C13H12O2', 216.236: 'C13H12O3', 232.235: 'C13H12O4', 248.234: 'C13H12O5', 169.247: 'C8H11NOS', 216.259: 'C13H13FN2', 232.258: 'C13H13FN2O', 248.257: 'C13H13FN2O2', 220.243: 'C13H13FO2', 183.254: 'C13H13N', 213.26: 'C13H13N2O', 229.259: 'C13H13N2O2', 293.255: 'C13H13N2O6', 211.268: 'C13H13N3', 227.267: 'C13H13N3O', 243.266: 'C13H13N3O2', 291.33: 'C18H15N2O2', 257.273: 'C13H13N4O2', 271.28: 'C13H13N5O2', 199.253: 'C13H13NO', 215.252: 'C13H13NO2', 231.251: 'C13H13NO3', 247.25: 'C13H13NO4', 185.246: 'C13H13O', 201.245: 'C13H13O2', 217.244: 'C13H13O3', 170.255: 'C13H14_loss', 257.255: 'C13H14F3NO', 198.269: 'C13H14N2', 214.268: 'C13H14N2O', 230.267: 'C13H14N2O2', 246.266: 'C13H14N2O3', 212.276: 'C13H14N3', 244.274: 'C13H14N3O2', 258.281: 'C13H14N4O2', 274.28: 'C13H14N4O3', 200.261: 'C13H14NO', 216.26: 'C13H14NO2', 232.259: 'C13H14NO3', 186.254: 'C13H14O', 202.253: 'C13H14O2', 218.252: 'C13H14O3', 234.251: 'C13H14O4', 250.25: 'C13H14O5', 266.249: 'C13H14O6', 171.263: 'C13H15', 206.716: 'C13H15Cl', 234.274: 'C13H15FN2O', 222.259: 'C13H15FO2', 185.27: 'C13H15N', 215.276: 'C13H15N2O', 231.275: 'C13H15N2O2', 263.273: 'C13H15N2O4', 213.284: 'C13H15N3', 245.282: 'C13H15N3O2', 277.28: 'C13H15N3O4', 273.296: 'C13H15N5O2', 201.269: 'C13H15NO', 217.268: 'C13H15NO2', 233.267: 'C13H15NO3', 187.262: 'C13H15O', 219.26: 'C13H15O3', 172.271: 'C13H16', 186.278: 'C13H16N', 200.285: 'C13H16N2', 216.284: 'C13H16N2O', 232.283: 'C13H16N2O2', 260.297: 'C13H16N4O2', 274.304: 'C13H16N5O2', 188.27: 'C13H16O', 204.269: 'C13H16O2', 220.268: 'C13H16O3', 236.267: 'C13H16O4', 268.265: 'C13H16O6', 187.286: 'C13H17N', 217.292: 'C13H17N2O', 231.299: 'C13H17N3O', 355.374: 'C13H17N5O5S', 435.436: 'C13H17N5O8S2', 203.285: 'C13H17NO', 219.284: 'C13H17NO2', 235.283: 'C13H17NO3', 251.282: 'C13H17NO4', 235.35: 'C13H17NOS', 174.287: 'C13H18', 239.746: 'C13H18ClNO', 218.3: 'C13H18N2O', 234.299: 'C13H18N2O2', 282.296: 'C13H18N2O5', 278.312: 'C13H18N4O3', 190.286: 'C13H18O', 206.285: 'C13H18O2', 189.302: 'C13H19N', 283.304: 'C13H19N2O5', 265.313: 'C13H19N3O3', 205.301: 'C13H19NO', 221.3: 'C13H19NO2', 253.298: 'C13H19NO4', 176.303: 'C13H20', 220.316: 'C13H20N2O', 236.315: 'C13H20N2O2', 252.314: 'C13H20N2O3', 300.311: 'C13H20N2O6', 208.301: 'C13H20O2', 260.761: 'C13H21ClO3', 207.317: 'C13H21NO', 223.316: 'C13H21NO2', 239.315: 'C13H21NO3', 178.319: 'C13H22', 261.769: 'C13H22ClO3', 238.331: 'C13H22N2O2', 254.33: 'C13H22N2O3', 270.329: 'C13H22N2O4', 314.409: 'C13H22N4O3S', 262.777: 'C13H23ClO3', 269.345: 'C13H23N3O3', 241.331: 'C13H23NO3', 240.347: 'C13H24N2O2', 256.346: 'C13H24N2O3', 316.425: 'C13H24N4O3S', 240.193: 'C13H5FN2O2', 161.183: 'C13H5_loss', 162.191: 'C13H6', 227.65: 'C13H6ClNO', 214.194: 'C13H6F2N', 176.198: 'C13H6N', 190.205: 'C13H6N2', 206.204: 'C13H6N2O', 238.202: 'C13H6N2O3', 192.197: 'C13H6NO', 224.195: 'C13H6NO3', 208.263: 'C13H6NS', 178.19: 'C13H6O', 194.189: 'C13H6O2', 210.188: 'C13H6O3', 226.187: 'C13H6O4', 242.186: 'C13H6O5', 194.256: 'C13H6S', 163.199: 'C8H5NOS', 198.652: 'C13H7Cl', 226.666: 'C13H7ClN2', 228.658: 'C13H7ClNO', 214.651: 'C13H7ClO', 230.65: 'C13H7ClO2', 230.717: 'C13H7ClS', 182.197: 'C13H7F', 215.202: 'C13H7F2N', 234.2: 'C8H5F3N2OS', 196.204: 'C13H7FN', 242.209: 'C13H7FN2O2', 177.206: 'C13H7N', 191.213: 'C8H5N3OS', 207.212: 'C13H7N2O', 193.205: 'C13H7NO', 209.204: 'C13H7NO2', 225.203: 'C13H7NO3', 241.202: 'C13H7NO4', 225.27: 'C18H9', 209.271: 'C13H7NS', 179.198: 'C13H7O', 195.197: 'C13H7O2', 211.196: 'C13H7O3', 227.195: 'C13H7O4', 243.194: 'C13H7O5', 259.193: 'C13H7O6', 164.207: 'C8H6NOS', 258.118: 'C13H8BrN', 213.667: 'C13H8ClN', 245.732: 'C13H8ClNS', 183.205: 'C13H8F', 202.203: 'C13H8F2', 230.217: 'C13H8F2N2', 257.224: 'C13H8FN3O2', 213.211: 'C13H8FNO', 229.21: 'C13H8FNO2', 178.214: 'C8H6N2OS', 192.221: 'C13H8N2', 208.22: 'C13H8N2O', 224.219: 'C13H8N2O2', 240.218: 'C13H8N2O3', 256.217: 'C13H8N2O4', 206.228: 'C13H8N3', 194.213: 'C13H8NO', 210.212: 'C13H8NO2', 226.211: 'C13H8NO3', 210.279: 'C13H8NS', 242.344: 'C13H8NS2', 180.206: 'C8H6NO2S', 196.205: 'C13H8O2', 212.204: 'C13H8O3', 228.203: 'C13H8O4', 244.202: 'C13H8O5', 260.201: 'C13H8O6', 212.271: 'C13H8OS', 196.272: 'C13H8S', 165.215: 'C8H7NOS', 200.668: 'C13H9Cl', 250.128: 'C13H9Cl2N', 214.675: 'C13H9ClN', 228.682: 'C13H9ClN2', 232.666: 'C13H9ClO2', 264.664: 'C13H9ClO4', 228.226: 'C13H9FN2O', 244.225: 'C13H9FN2O2', 179.222: 'C13H9N', 193.229: 'C13H9N2', 209.228: 'C13H9N2O', 225.227: 'C13H9N2O2', 207.236: 'C13H9N3', 223.235: 'C13H9N3O', 239.234: 'C13H9N3O2', 195.221: 'C13H9NO', 211.22: 'C13H9NO2', 227.219: 'C13H9NO3', 243.218: 'C13H9NO4', 211.287: 'C13H9NS', 181.214: 'C8H7NO2S', 197.213: 'C8H7NO3S', 213.212: 'C8H7NO4S', 229.211: 'C13H9O4', 245.21: 'C13H9O5', 197.28: 'C13H9S', 178.234: 'C14H10', 272.145: 'C14H10BrN', 227.694: 'C14H10ClN', 243.693: 'C14H10ClNO', 259.692: 'C14H10ClNO2', 211.239: 'C14H10FN', 227.238: 'C14H10FNO', 243.237: 'C14H10FNO2', 192.241: 'C14H10N', 206.248: 'C14H10N2', 222.247: 'C14H10N2O', 238.246: 'C14H10N2O2', 254.245: 'C14H10N2O3', 208.24: 'C9H8N2O2S', 224.239: 'C14H10NO2', 240.238: 'C14H10NO3', 240.305: 'C19H12', 224.306: 'C14H10NS', 194.233: 'C14H10O', 210.232: 'C14H10O2', 226.231: 'C9H8NO4S', 242.23: 'C14H10O4', 258.229: 'C14H10O5', 274.228: 'C14H10O6', 210.299: 'C14H10S', 179.242: 'C9H9NOS', 214.695: 'C14H11Cl', 228.702: 'C14H11ClN', 242.709: 'C14H11ClN2', 198.24: 'C14H11F', 226.254: 'C14H11FN2', 242.253: 'C14H11FN2O', 258.252: 'C14H11FN2O2', 193.249: 'C14H11N', 207.256: 'C14H11N2', 223.255: 'C14H11N2O', 221.263: 'C14H11N3', 237.262: 'C14H11N3O', 253.261: 'C14H11N3O2', 285.326: 'C14H11N3O2S', 269.26: 'C14H11N3O3', 209.248: 'C14H11NO', 225.247: 'C14H11NO2', 241.246: 'C14H11NO3', 257.245: 'C14H11NO4', 273.244: 'C14H11NO5', 225.314: 'C14H11NS', 257.379: 'C14H11NS2', 195.241: 'C9H9NO2S', 211.24: 'C9H9NO3S', 227.239: 'C14H11O3', 243.238: 'C14H11O4', 259.237: 'C14H11O5', 180.25: 'C14H12', 274.161: 'C14H12BrN', 229.71: 'C14H12ClN', 261.708: 'C14H12ClNO2', 194.257: 'C14H12N', 208.264: 'C14H12N2', 224.263: 'C14H12N2O', 240.262: 'C14H12N2O2', 272.327: 'C14H12N2O2S', 256.261: 'C14H12N2O3', 272.26: 'C14H12N2O4', 210.256: 'C14H12NO', 226.255: 'C14H12NO2', 242.254: 'C14H12NO3', 196.249: 'C14H12O', 212.248: 'C14H12O2', 228.247: 'C14H12O3', 244.246: 'C14H12O4', 260.245: 'C14H12O5', 181.258: 'C14H13', 244.269: 'C14H13FN2O', 260.268: 'C14H13FN2O2', 195.265: 'C14H13N', 209.272: 'C14H13N2', 337.264: 'C14H13N2O8', 239.278: 'C14H13N3O', 255.277: 'C14H13N3O2', 303.341: 'C14H13N3O3S', 351.405: 'C14H13N3O4S2', 255.344: 'C14H13N3S', 299.29: 'C14H13N5O3', 395.418: 'C14H13N5O5S2', 211.264: 'C14H13NO', 227.263: 'C14H13NO2', 243.262: 'C14H13NO3', 259.261: 'C14H13NO4', 275.26: 'C14H13NO5', 197.257: 'C9H11NO2S', 213.256: 'C14H13O2', 229.255: 'C14H13O3', 245.254: 'C14H13O4', 182.266: 'C14H14', 263.791: 'C14H14ClNS', 196.273: 'C14H14N', 210.28: 'C14H14N2', 226.279: 'C14H14N2O', 242.278: 'C14H14N2O2', 258.277: 'C14H14N2O3', 274.276: 'C14H14N2O4', 240.286: 'C14H14N3O', 272.284: 'C14H14N3O3', 254.293: 'C14H14N4O', 270.292: 'C14H14N4O2', 228.271: 'C14H14NO2', 260.269: 'C14H14NO4', 198.265: 'C14H14O', 214.264: 'C14H14O2', 230.263: 'C14H14O3', 246.262: 'C14H14O4', 262.261: 'C14H14O5', 183.274: 'C9H13NOS', 234.27: 'C14H15FO2', 197.281: 'C14H15N', 241.294: 'C14H15N3O', 257.293: 'C14H15N3O2', 273.292: 'C14H15N3O3', 213.28: 'C14H15NO', 229.279: 'C14H15NO2', 245.278: 'C14H15NO3', 261.277: 'C14H15NO4', 277.276: 'C14H15NO5', 199.273: 'C9H13NO2S', 215.272: 'C14H15O2', 184.282: 'C14H16', 212.296: 'C14H16N2', 228.295: 'C14H16N2O', 244.294: 'C14H16N2O2', 260.293: 'C14H16N2O3', 324.423: 'C14H16N2O3S2', 276.292: 'C14H16N2O4', 256.309: 'C14H16N4O', 272.308: 'C14H16N4O2', 320.372: 'C14H16N4O3S', 246.286: 'C14H16NO3', 200.281: 'C14H16O', 216.28: 'C14H16O2_loss', 232.279: 'C14H16O3', 248.278: 'C14H16O4', 220.743: 'C14H17Cl', 236.286: 'C14H17FO2', 199.297: 'C14H17N', 259.309: 'C14H17N3O2', 287.323: 'C14H17N5O2', 215.296: 'C14H17NO', 231.295: 'C14H17NO2', 247.294: 'C14H17NO3', 186.298: 'C14H18', 295.314: 'C14H18FN3O3', 230.311: 'C14H18N2O', 246.31: 'C14H18N2O2', 262.309: 'C14H18N2O3', 244.318: 'C14H18N3O', 274.324: 'C14H18N4O2', 202.297: 'C14H18O', 218.296: 'C14H18O2', 234.295: 'C14H18O3', 250.294: 'C14H18O4', 201.313: 'C14H19N', 263.317: 'C14H19N2O3', 293.323: 'C14H19N3O4', 289.339: 'C14H19N5O2', 217.312: 'C14H19NO', 233.311: 'C14H19NO2', 249.31: 'C14H19NO3', 265.309: 'C14H19NO4', 188.314: 'C14H20', 232.327: 'C14H20N2O', 248.326: 'C14H20N2O2', 264.325: 'C14H20N2O3', 204.313: 'C14H20O', 220.312: 'C14H20O2', 236.311: 'C14H20O3', 295.406: 'C14H21N3O2S', 279.34: 'C14H21N3O3', 311.338: 'C14H21N3O5', 219.328: 'C14H21NO', 235.327: 'C14H21NO2', 190.33: 'C14H22', 250.342: 'C14H22N2O2', 266.341: 'C14H22N2O3', 206.329: 'C14H22O', 222.328: 'C14H22O2', 238.327: 'C14H22O3', 313.421: 'C14H23N3O3S', 221.344: 'C14H23NO', 237.343: 'C14H23NO2', 285.34: 'C14H23NO5', 192.346: 'C14H24', 275.796: 'C14H24ClO3', 252.358: 'C14H24N2O2', 268.357: 'C14H24N2O3', 283.372: 'C14H25N3O3', 277.812: 'C14H26ClO3', 207.207: 'C14H6FN', 190.201: 'C14H6O', 206.2: 'C14H6O2', 222.199: 'C14H6O3', 238.198: 'C14H6O4', 254.197: 'C14H6O5', 270.196: 'C14H6O6', 175.21: 'C14H7', 208.215: 'C14H7FN', 189.217: 'C14H7N', 251.221: 'C14H7N2O3', 205.216: 'C14H7NO', 221.215: 'C14H7NO2', 237.214: 'C14H7NO3', 191.209: 'C14H7O', 207.208: 'C14H7O2', 223.207: 'C14H7O3', 239.206: 'C14H7O4', 255.205: 'C14H7O5', 207.275: 'C14H7S', 176.218: 'C14H8', 211.671: 'C14H8Cl', 225.678: 'C14H8ClN', 241.677: 'C14H8ClNO', 209.223: 'C14H8FN', 190.225: 'C14H8N', 204.232: 'C14H8N2', 220.231: 'C14H8N2O', 236.23: 'C14H8N2O2', 234.238: 'C14H8N3O', 206.224: 'C14H8NO', 222.223: 'C14H8NO2', 222.29: 'C14H8NS', 192.217: 'C14H8O', 208.216: 'C9H6NO3S', 240.281: 'C14H8O2S', 224.215: 'C14H8O3', 240.214: 'C14H8O4', 256.213: 'C14H8O5', 272.212: 'C14H8O6', 208.283: 'C14H8S', 177.226: 'C9H7NOS', 278.138: 'C14H9Cl2NO', 226.686: 'C14H9ClN', 240.693: 'C14H9ClN2', 244.677: 'C14H9ClO2', 244.744: 'C14H9ClS', 196.224: 'C14H9F', 262.234: 'C14H9F3N2', 191.233: 'C14H9N', 205.24: 'C14H9N2', 221.239: 'C14H9N2O', 237.238: 'C14H9N2O2', 219.247: 'C14H9N3', 235.246: 'C14H9N3O', 251.245: 'C14H9N3O2', 207.232: 'C14H9NO', 223.231: 'C14H9NO2', 239.23: 'C14H9NO3', 255.229: 'C14H9NO4', 223.298: 'C14H9NS', 193.225: 'C9H7NO2S', 209.224: 'C9H7NO3S', 225.223: 'C14H9O3', 241.222: 'C14H9O4', 257.221: 'C14H9O5', 273.22: 'C14H9O6', 209.291: 'C14H9S', 321.163: 'C15H10Cl2N2O2', 239.705: 'C15H10ClN', 255.704: 'C15H10ClNO', 287.702: 'C15H10ClNO3', 223.25: 'C15H10FN', 239.249: 'C15H10FNO', 218.259: 'C15H10N2', 234.258: 'C15H10N2O', 250.257: 'C15H10N2O2', 266.256: 'C15H10N2O3', 282.255: 'C15H10N2O4', 220.251: 'C15H10NO', 236.25: 'C15H10NO2', 252.249: 'C15H10NO3', 206.244: 'C15H10O', 222.243: 'C15H10O2', 238.242: 'C15H10O3', 254.241: 'C15H10O4', 270.24: 'C15H10O5', 286.239: 'C15H10O6', 302.238: 'C15H10O7', 238.309: 'C15H10OS', 222.31: 'C15H10S', 324.163: 'C15H11Cl2NO3', 254.72: 'C15H11ClN2', 270.719: 'C15H11ClN2O', 254.264: 'C15H11FN2O', 286.262: 'C15H11FN2O3', 205.26: 'C15H11N', 219.267: 'C15H11N2', 251.265: 'C15H11N2O2', 283.263: 'C15H11N2O4', 233.274: 'C15H11N3', 249.273: 'C15H11N3O', 281.271: 'C15H11N3O3', 297.27: 'C15H11N3O4', 221.259: 'C15H11NO', 237.258: 'C15H11NO2', 253.257: 'C15H11NO3', 269.256: 'C15H11NO4', 253.324: 'C20H13', 237.325: 'C15H11NS', 207.252: 'C15H11O', 239.25: 'C15H11O3', 255.249: 'C15H11O4', 271.248: 'C15H11O5', 287.247: 'C15H11O6', 223.318: 'C15H11S', 192.261: 'C15H12', 269.735: 'C15H12ClN3', 305.717: 'C15H12ClNO4', 273.786: 'C15H12ClNS', 206.268: 'C15H12N', 220.275: 'C15H12N2', 236.274: 'C15H12N2O', 252.273: 'C15H12N2O2', 268.272: 'C15H12N2O3', 300.27: 'C15H12N2O5', 252.34: 'C15H12N2S', 222.267: 'C15H12NO', 238.266: 'C15H12NO2', 254.265: 'C15H12NO3', 270.264: 'C15H12NO4', 238.333: 'C15H12NS', 208.26: 'C15H12O', 224.259: 'C15H12O2', 256.257: 'C15H12O4', 272.256: 'C15H12O5', 288.255: 'C15H12O6', 304.254: 'C15H12O7', 224.326: 'C15H12S', 193.269: 'C15H13', 256.28: 'C15H13FN2O', 272.279: 'C15H13FN2O2', 304.277: 'C15H13FN2O4', 244.265: 'C15H13FO2', 207.276: 'C15H13N', 221.283: 'C15H13N2', 237.282: 'C15H13N2O', 235.29: 'C15H13N3', 267.288: 'C15H13N3O2', 331.351: 'C15H13N3O4S', 281.295: 'C15H13N4O2', 223.275: 'C15H13NO', 239.274: 'C15H13NO2', 255.273: 'C15H13NO3', 271.272: 'C15H13NO4', 287.271: 'C15H13NO5', 239.341: 'C15H13NS', 209.268: 'C15H13O', 225.267: 'C15H13O2', 241.266: 'C15H13O3', 194.277: 'C15H14', 273.287: 'C15H14FN2O2', 287.294: 'C15H14FN3O2', 303.293: 'C19H11O4', 222.291: 'C15H14N2', 238.29: 'C15H14N2O', 254.289: 'C15H14N2O2', 270.288: 'C15H14N2O3', 286.287: 'C15H14N2O4', 266.304: 'C15H14N4O', 282.303: 'C15H14N4O2', 298.302: 'C15H14N4O3', 314.301: 'C15H14N4O4', 240.282: 'C15H14NO2', 256.281: 'C15H14NO3', 272.28: 'C15H14NO4', 210.276: 'C15H14O', 226.275: 'C15H14O2', 242.274: 'C15H14O3', 258.273: 'C15H14O4', 274.272: 'C15H14O5', 290.271: 'C15H14O6', 195.285: 'C15H15', 335.201: 'C15H15BrN2O2', 272.303: 'C19H12O2', 246.281: 'C15H15FO2', 209.292: 'C15H15N', 223.299: 'C15H15N2', 253.305: 'C15H15N3O', 269.304: 'C15H15N3O2', 225.291: 'C15H15NO', 241.29: 'C15H15NO2', 257.289: 'C15H15NO3', 273.288: 'C15H15NO4', 211.284: 'C15H15O', 227.283: 'C15H15O2', 196.293: 'C15H16', 293.75: 'C15H16ClNO3', 224.307: 'C15H16N2', 240.306: 'C15H16N2O', 256.305: 'C15H16N2O2', 272.304: 'C15H16N2O3', 268.32: 'C15H16N4O', 284.319: 'C15H16N4O2', 300.318: 'C15H16N4O3', 212.292: 'C15H16O', 228.291: 'C15H16O2', 244.29: 'C15H16O3', 260.289: 'C15H16O4', 276.288: 'C15H16O5', 292.287: 'C15H16O6', 197.301: 'C15H17', 232.754: 'C15H17Cl', 248.297: 'C15H17FO2', 211.308: 'C15H17N', 239.322: 'C15H17N3', 255.321: 'C15H17N3O', 287.319: 'C15H17N3O3', 299.334: 'C15H17N5O2', 315.333: 'C15H17N5O3', 227.307: 'C15H17NO', 243.306: 'C15H17NO2', 259.305: 'C15H17NO3', 275.304: 'C15H17NO4', 213.3: 'C15H17O', 198.309: 'C15H18', 226.323: 'C15H18N2', 242.322: 'C15H18N2O', 258.321: 'C15H18N2O2', 274.32: 'C15H18N2O3', 214.308: 'C15H18O', 230.307: 'C15H18O2', 246.306: 'C15H18O3', 262.305: 'C15H18O4', 213.324: 'C15H19N', 229.323: 'C15H19NO', 245.322: 'C15H19NO2', 261.321: 'C15H19NO3', 200.325: 'C15H20', 244.338: 'C15H20N2O', 260.337: 'C15H20N2O2', 276.336: 'C15H20N2O3', 216.324: 'C15H20O', 232.323: 'C15H20O2', 248.322: 'C15H20O3', 264.321: 'C15H20O4', 280.32: 'C15H20O5', 316.781: 'C15H21ClO5', 318.339: 'C15H21F3N2O2', 252.329: 'C15H21FO2', 259.353: 'C15H21N3O', 275.352: 'C15H21N3O2', 231.339: 'C15H21NO', 247.338: 'C15H21NO2', 279.336: 'C15H21NO4', 202.341: 'C15H22', 246.354: 'C15H22N2O', 262.353: 'C15H22N2O2', 278.352: 'C15H22N2O3', 294.351: 'C15H22N2O4', 218.34: 'C15H22O', 250.338: 'C15H22O3', 282.336: 'C15H22O5', 217.356: 'C15H23N', 293.367: 'C15H23N3O3', 249.354: 'C15H23NO2', 265.353: 'C15H23NO3', 204.357: 'C15H24', 264.369: 'C15H24N2O2', 280.368: 'C15H24N2O3', 296.367: 'C15H24N2O4', 220.356: 'C15H24O', 236.355: 'C15H24O2', 252.354: 'C15H24O3', 279.384: 'C15H25N3O2', 295.383: 'C15H25N3O3', 267.369: 'C15H25NO3', 266.385: 'C15H26N2O2', 282.384: 'C15H26N2O3', 298.383: 'C15H26N2O4', 334.844: 'C15H27ClN2O4', 290.831: 'C15H27ClO3', 281.4: 'C15H27N3O2', 297.399: 'C15H27N3O3', 316.398: 'C15H28N2O5', 239.403: 'C15H29NO', 218.211: 'C15H6O2', 254.739: 'C15H7ClS', 206.219: 'C15H7F', 220.226: 'C15H7FN', 201.228: 'C15H7N', 215.235: 'C15H7N2', 217.227: 'C15H7NO', 249.225: 'C15H7NO3', 203.22: 'C15H7O', 235.218: 'C15H7O3', 251.217: 'C15H7O4', 267.216: 'C15H7O5', 188.229: 'C15H8', 303.148: 'C15H8Cl2N2O', 237.689: 'C15H8ClN', 267.695: 'C15H8ClN2O', 269.687: 'C15H8ClNO2', 255.747: 'C15H8ClS', 221.234: 'C15H8FN', 237.233: 'C15H8FNO', 202.236: 'C15H8N', 216.243: 'C15H8N2', 232.242: 'C15H8N2O', 248.241: 'C15H8N2O2', 264.24: 'C15H8N2O3', 230.25: 'C15H8N3', 218.235: 'C15H8NO', 234.234: 'C15H8NO2', 250.233: 'C15H8NO3', 204.228: 'C15H8O', 220.227: 'C15H8O2', 236.226: 'C15H8O3', 268.291: 'C15H8O3S', 252.225: 'C15H8O4', 268.224: 'C15H8O5', 284.223: 'C15H8O6', 300.222: 'C15H8O7', 236.293: 'C15H8OS', 220.294: 'C15H8S', 260.143: 'C15H9Cl2', 306.148: 'C15H9Cl2NO2', 252.704: 'C15H9ClN2', 257.239: 'C15H9F2NO', 274.245: 'C15H9F3N2', 203.244: 'C15H9N', 217.251: 'C15H9N2', 233.25: 'C15H9N2O', 231.258: 'C15H9N3', 263.256: 'C15H9N3O2', 219.243: 'C15H9NO', 235.242: 'C15H9NO2', 251.241: 'C15H9NO3', 267.24: 'C15H9NO4', 251.308: 'C20H11', 235.309: 'C15H9NS', 205.236: 'C15H9O', 221.235: 'C15H9O2', 253.233: 'C15H9O4', 269.232: 'C15H9O5', 285.231: 'C15H9O6', 301.23: 'C15H9O7', 221.302: 'C15H9S', 202.256: 'C16H10', 237.709: 'C16H10Cl', 251.716: 'C16H10ClN', 235.261: 'C16H10FN', 216.263: 'C16H10N', 230.27: 'C16H10N2', 246.269: 'C16H10N2O', 262.268: 'C16H10N2O2', 278.267: 'C16H10N2O3', 232.262: 'C16H10NO', 248.261: 'C16H10NO2', 264.26: 'C16H10NO3', 218.255: 'C16H10O', 234.254: 'C16H10O2', 250.253: 'C16H10O3', 266.252: 'C16H10O4', 282.251: 'C16H10O5', 298.25: 'C16H10O6', 314.249: 'C16H10O7', 330.248: 'C16H10O8', 234.321: 'C16H10S', 203.264: 'C16H11', 252.724: 'C16H11ClN', 282.73: 'C16H11ClN2O', 280.738: 'C16H11ClN3', 270.715: 'C16H11ClO2', 270.782: 'C16H11ClS', 217.271: 'C16H11N', 231.278: 'C16H11N2', 247.277: 'C16H11N2O', 263.276: 'C16H11N2O2', 277.283: 'C16H11N3O2', 233.27: 'C16H11NO', 249.269: 'C16H11NO2', 265.268: 'C16H11NO3', 281.267: 'C16H11NO4', 249.336: 'C16H11NS', 219.263: 'C16H11O', 235.262: 'C16H11O2', 251.261: 'C16H11O3', 267.26: 'C16H11O4', 283.259: 'C16H11O5', 299.258: 'C16H11O6', 315.257: 'C16H11O7', 235.329: 'C16H11S', 204.272: 'C16H12', 275.178: 'C16H12Cl2', 301.729: 'C16H12ClNO3', 232.286: 'C16H12N2', 248.285: 'C16H12N2O', 264.284: 'C16H12N2O2', 280.283: 'C16H12N2O3', 296.282: 'C16H12N2O4', 311.324: 'C16H12N2OPS', 260.3: 'C16H12N4', 234.278: 'C16H12NO', 250.277: 'C16H12NO2', 266.276: 'C16H12NO3', 282.275: 'C16H12NO4', 220.271: 'C16H12O', 236.27: 'C16H12O2', 252.269: 'C16H12O3', 268.268: 'C16H12O4', 284.267: 'C16H12O5', 300.266: 'C16H12O6', 316.265: 'C16H12O7', 252.336: 'C16H12OS', 236.337: 'C16H12S', 205.28: 'C16H13', 338.19: 'C16H13Cl2NO3', 219.287: 'C16H13N', 249.293: 'C16H13N2O', 297.29: 'C16H13N2O4', 247.301: 'C16H13N3', 263.3: 'C16H13N3O', 295.298: 'C16H13N3O3', 235.286: 'C16H13NO', 251.285: 'C16H13NO2', 267.284: 'C16H13NO3', 283.283: 'C16H13NO4', 299.282: 'C16H13NO5', 315.281: 'C16H13NO6', 221.279: 'C16H13O', 237.278: 'C16H13O2', 253.277: 'C16H13O3', 269.276: 'C16H13O4', 206.288: 'C16H14', 347.825: 'C16H14ClN3O2S', 287.746: 'C16H14ClNO2', 351.809: 'C16H14ClNO4S', 220.295: 'C16H14N', 234.302: 'C16H14N2', 250.301: 'C16H14N2O', 266.3: 'C16H14N2O2', 329.339: 'C16H14N2O2PS', 314.297: 'C16H14N2O5', 236.294: 'C16H14NO', 252.293: 'C16H14NO2', 268.292: 'C16H14NO3', 222.287: 'C16H14O', 238.286: 'C16H14O2', 254.285: 'C16H14O3', 270.284: 'C16H14O4', 286.283: 'C16H14O5', 302.282: 'C16H14O6', 318.281: 'C16H14O7', 207.296: 'C16H15', 300.313: 'C20H12O3', 221.303: 'C16H15N', 235.31: 'C16H15N2', 409.318: 'C16H15N2O5P2S', 265.316: 'C16H15N3O', 281.315: 'C16H15N3O2', 281.382: 'C16H15N3S', 295.322: 'C16H15N4O2', 309.329: 'C16H15N5O2', 237.302: 'C16H15NO', 253.301: 'C16H15NO2', 269.3: 'C16H15NO3', 285.299: 'C16H15NO4', 301.298: 'C16H15NO5', 223.295: 'C16H15O', 208.304: 'C16H16', 365.84: 'C16H16ClN3O3S', 321.827: 'C16H16ClNO2S', 236.318: 'C16H16N2', 252.317: 'C16H16N2O', 268.316: 'C16H16N2O2', 316.38: 'C16H16N2O3S', 296.33: 'C16H16N4O2', 254.309: 'C16H16NO2', 270.308: 'C16H16NO3', 224.303: 'C16H16O', 240.302: 'C16H16O2', 256.301: 'C16H16O3', 272.3: 'C16H16O4', 209.312: 'C16H17', 368.84: 'C16H17ClN2O4S', 288.322: 'C16H17FN2O2', 223.319: 'C16H17N', 427.333: 'C16H17N2O6P2S', 267.332: 'C16H17N3O', 283.331: 'C16H17N3O2', 327.344: 'C16H17N5O3', 239.318: 'C16H17NO', 255.317: 'C16H17NO2', 271.316: 'C16H17NO3', 287.315: 'C16H17NO4', 273.308: 'C16H17O4', 210.32: 'C16H18', 287.338: 'C16H18FN3O', 238.334: 'C16H18N2', 254.333: 'C16H18N2O', 270.332: 'C16H18N2O2', 334.395: 'C16H18N2O4S', 507.312: 'C16H18N2O9P3S', 298.346: 'C16H18N4O2', 328.352: 'C16H18N5O3', 226.319: 'C16H18O', 242.318: 'C16H18O2', 258.317: 'C16H18O3', 274.316: 'C16H18O4', 290.315: 'C16H18O5', 319.246: 'C16H19BrN2', 274.795: 'C16H19ClN2', 262.324: 'C16H19FO2', 269.348: 'C16H19N3O', 285.347: 'C16H19N3O2', 241.334: 'C16H19NO', 257.333: 'C16H19NO2', 273.332: 'C16H19NO3', 289.331: 'C16H19NO4', 212.336: 'C16H20', 337.351: 'C16H20FN3O4', 240.35: 'C16H20N2', 272.348: 'C16H20N2O2', 316.361: 'C16H20N4O3', 348.426: 'C16H20N4O3S', 258.341: 'C16H20NO2', 228.335: 'C16H20O', 244.334: 'C16H20O2', 260.333: 'C16H20O3', 227.351: 'C16H21N', 287.363: 'C16H21N3O2', 351.426: 'C21H23N2O3', 259.349: 'C16H21NO2', 275.348: 'C16H21NO3', 291.347: 'C16H21NO4', 214.352: 'C16H22', 290.363: 'C16H22N2O3', 230.351: 'C16H22O', 246.35: 'C16H22O2', 229.367: 'C16H23N', 245.366: 'C16H23NO', 277.364: 'C16H23NO3', 216.368: 'C16H24', 276.38: 'C16H24N2O2', 308.378: 'C16H24N2O4', 232.367: 'C16H24O', 248.366: 'C16H24O2', 307.394: 'C16H25N3O3', 247.382: 'C16H25NO', 263.381: 'C16H25NO2', 295.379: 'C16H25NO4', 218.384: 'C16H26', 278.396: 'C16H26N2O2', 294.395: 'C16H26N2O3', 310.394: 'C16H26N2O4', 234.383: 'C16H26O', 309.41: 'C16H27N3O3', 325.409: 'C16H27N3O4', 341.408: 'C16H27N3O5', 297.395: 'C16H27NO4', 313.394: 'C16H27NO5', 296.411: 'C16H28N2O3', 312.41: 'C16H28N2O4', 236.399: 'C16H28O', 295.427: 'C16H29N3O2', 359.423: 'C16H29N3O6', 315.41: 'C16H29NO5', 298.427: 'C16H30N2O3', 246.221: 'C16H6O3', 199.232: 'C16H7', 213.239: 'C16H7N', 263.228: 'C16H7O4', 200.24: 'C16H8', 219.238: 'C16H8F', 266.25: 'C16H8F2N2', 233.245: 'C16H8FN', 228.254: 'C16H8N2', 244.253: 'C16H8N2O', 216.239: 'C16H8O', 232.238: 'C16H8O2', 248.237: 'C16H8O3', 264.236: 'C16H8O4', 280.235: 'C16H8O5', 296.234: 'C16H8O6', 312.233: 'C16H8O7', 201.248: 'C16H9', 220.246: 'C16H9F', 286.256: 'C16H9F3N2', 234.253: 'C16H9FN', 215.255: 'C16H9N', 229.262: 'C16H9N2', 245.261: 'C16H9N2O', 231.254: 'C16H9NO', 247.253: 'C16H9NO2', 263.252: 'C16H9NO3', 279.251: 'C16H9NO4', 217.247: 'C16H9O', 233.246: 'C16H9O2', 249.245: 'C16H9O3', 265.244: 'C16H9O4', 281.243: 'C16H9O5', 297.242: 'C16H9O6', 313.241: 'C16H9O7', 233.313: 'C16H9S', 214.267: 'C17H10', 280.277: 'C17H10F2N2', 299.275: 'C17H10F3N2', 247.272: 'C17H10FN', 261.279: 'C17H10FN2', 281.329: 'C17H10FOS', 242.281: 'C17H10N2', 258.28: 'C17H10N2O', 274.279: 'C17H10N2O2', 290.278: 'C17H10N2O3', 244.273: 'C17H10NO', 260.272: 'C17H10NO2', 276.271: 'C17H10NO3', 230.266: 'C17H10O', 246.265: 'C17H10O2', 262.264: 'C17H10O3', 278.263: 'C17H10O4', 294.262: 'C17H10O5', 310.261: 'C17H10O6', 326.26: 'C17H10O7', 342.259: 'C17H10O8', 215.275: 'C17H11', 281.285: 'C17H11F2N2', 300.283: 'C17H11F3N2', 262.287: 'C17H11FN2', 229.282: 'C17H11N', 243.289: 'C17H11N2', 259.288: 'C17H11N2O', 275.287: 'C17H11N2O2', 291.286: 'C17H11N2O3', 307.285: 'C17H11N2O4', 257.296: 'C17H11N3', 273.295: 'C17H11N3O', 245.281: 'C17H11NO', 261.28: 'C17H11NO2', 277.279: 'C17H11NO3', 293.278: 'C17H11NO4', 231.274: 'C17H11O', 247.273: 'C17H11O2', 263.272: 'C17H11O3', 279.271: 'C17H11O4', 295.27: 'C17H11O5', 311.269: 'C17H11O6', 327.268: 'C17H11O7', 265.743: 'C17H12ClN', 301.291: 'C17H12F3N2', 341.365: 'C17H12FN3O2S', 230.29: 'C17H12N', 244.297: 'C17H12N2', 260.296: 'C17H12N2O', 276.295: 'C17H12N2O2', 292.294: 'C17H12N2O3', 262.288: 'C17H12NO2', 278.287: 'C17H12NO3', 294.286: 'C17H12NO4', 232.282: 'C17H12O', 248.281: 'C17H12O2', 264.28: 'C17H12O3', 280.279: 'C17H12O4', 296.278: 'C17H12O5', 312.277: 'C17H12O6', 328.276: 'C17H12O7', 344.275: 'C17H12O8', 248.348: 'C17H12S', 217.291: 'C17H13', 266.751: 'C17H13ClN', 296.757: 'C17H13ClN2O', 361.371: 'C17H13F2N3O2S', 231.298: 'C17H13N', 261.304: 'C17H13N2O', 277.303: 'C17H13N2O2', 323.308: 'C17H13N3O4', 273.319: 'C17H13N4', 247.297: 'C17H13NO', 263.296: 'C17H13NO2', 279.295: 'C17H13NO3', 295.294: 'C17H13NO4', 249.289: 'C17H13O2', 265.288: 'C17H13O3', 281.287: 'C17H13O4', 297.286: 'C17H13O5', 313.285: 'C17H13O6', 329.284: 'C17H13O7', 345.283: 'C17H13O8', 218.299: 'C17H14', 295.773: 'C17H14ClN3', 381.377: 'C17H14F3N3O2S', 246.313: 'C17H14N2', 262.312: 'C17H14N2O', 278.311: 'C17H14N2O2', 294.31: 'C17H14N2O3', 278.378: 'C17H14N2S', 276.319: 'C17H14N3O', 274.327: 'C17H14N4', 248.305: 'C17H14NO', 264.304: 'C17H14NO2', 280.303: 'C17H14NO3', 234.298: 'C17H14O', 250.297: 'C17H14O2', 266.296: 'C17H14O3', 282.295: 'C17H14O4', 298.294: 'C17H14O5', 314.293: 'C17H14O6', 330.292: 'C17H14O7', 266.363: 'C17H14OS', 250.364: 'C17H14S', 219.307: 'C17H15', 318.756: 'C17H15ClO4', 233.314: 'C17H15N', 247.321: 'C17H15N2', 293.326: 'C17H15N3O2', 309.325: 'C17H15N3O3', 275.335: 'C17H15N4', 321.34: 'C17H15N5O2', 249.313: 'C17H15NO', 265.312: 'C17H15NO2', 281.311: 'C17H15NO3', 297.31: 'C17H15NO4', 329.308: 'C17H15NO6', 235.306: 'C17H15O', 251.305: 'C17H15O2', 283.303: 'C17H15O4', 299.302: 'C17H15O5', 220.315: 'C17H16', 333.771: 'C17H16ClNO4', 234.322: 'C17H16N', 248.329: 'C17H16N2', 264.328: 'C17H16N2O', 280.327: 'C17H16N2O2', 296.326: 'C17H16N2O3', 328.324: 'C17H16N2O5', 294.334: 'C17H16N3O2', 292.342: 'C17H16N4O', 340.339: 'C17H16N4O4', 266.32: 'C17H16NO2', 236.314: 'C17H16O', 252.313: 'C17H16O2', 268.312: 'C17H16O3', 284.311: 'C17H16O4', 300.31: 'C17H16O5', 332.308: 'C17H16O7', 348.307: 'C17H16O8', 306.236: 'C17H17Cl2N', 235.33: 'C17H17N', 295.342: 'C17H17N3O2', 327.407: 'C17H17N3O2S', 311.341: 'C17H17N3O3', 339.355: 'C17H17N5O3', 251.329: 'C17H17NO', 267.328: 'C17H17NO2', 283.327: 'C17H17NO3', 299.326: 'C17H17NO4', 315.325: 'C17H17NO5', 347.39: 'C17H17NO5S', 237.322: 'C17H17O', 222.331: 'C17H18', 315.348: 'C17H18FN3O2', 266.344: 'C17H18N2O', 330.34: 'C17H18N2O5', 296.35: 'C17H18N3O2', 310.357: 'C17H18N4O2', 238.33: 'C17H18O', 254.329: 'C17H18O2', 270.328: 'C17H18O3', 286.327: 'C17H18O4', 302.326: 'C17H18O5', 318.325: 'C17H18O6', 223.339: 'C17H19', 318.871: 'C17H19ClN2S', 274.335: 'C17H19FO2', 237.346: 'C17H19N', 265.36: 'C17H19N3', 281.359: 'C17H19N3O', 297.358: 'C17H19N3O2', 345.422: 'C17H19N3O3S', 293.374: 'C17H19N5', 325.372: 'C17H19N5O2', 341.371: 'C17H19N5O3', 253.345: 'C17H19NO', 269.344: 'C17H19NO2', 285.343: 'C17H19NO3', 301.342: 'C17H19NO4', 224.347: 'C17H20', 317.364: 'C17H20FN3O2', 284.359: 'C17H20N2O2', 364.421: 'C17H20N2O5S', 284.426: 'C17H20N2S', 328.372: 'C17H20N4O3', 376.369: 'C17H20N4O6', 312.44: 'C17H20N4S', 240.346: 'C17H20O', 256.345: 'C17H20O2', 272.344: 'C17H20O3', 288.343: 'C17H20O4', 320.341: 'C17H20O6', 315.373: 'C17H21N3O3', 343.387: 'C17H21N5O3', 255.361: 'C17H21NO', 271.36: 'C17H21NO2', 287.359: 'C17H21NO3', 303.358: 'C17H21NO4', 319.357: 'C17H21NO5', 241.354: 'C17H21O', 257.353: 'C17H21O2', 226.363: 'C17H22', 270.376: 'C17H22N2O', 286.375: 'C17H22N2O2', 302.374: 'C17H22N2O3', 242.362: 'C17H22O', 258.361: 'C17H22O2', 274.36: 'C17H22O3', 290.359: 'C17H22O4', 241.378: 'C17H23N', 285.391: 'C17H23N3O', 301.39: 'C17H23N3O2', 257.377: 'C17H23NO', 289.375: 'C17H23NO3', 305.374: 'C17H23NO4', 321.373: 'C17H23NO5', 228.379: 'C17H24', 244.378: 'C17H24O', 260.377: 'C17H24O2', 276.376: 'C17H24O3', 303.406: 'C17H25N3O2', 319.405: 'C17H25N3O3', 259.393: 'C17H25NO', 291.391: 'C17H25NO3', 307.39: 'C17H25NO4', 306.406: 'C17H26N2O3', 262.393: 'C17H26O2', 321.421: 'C17H27N3O3', 337.42: 'C17H27N3O4', 277.408: 'C17H27NO2', 295.399: 'C17H27O4', 324.421: 'C17H28N2O4', 340.42: 'C17H28N2O5', 376.881: 'C17H29ClN2O5', 325.429: 'C17H29N2O4', 323.437: 'C17H29N3O3', 337.444: 'C17H29N4O3', 326.437: 'C17H30N2O4', 358.435: 'C17H30N2O6', 323.461: 'C17H31N4O2', 355.459: 'C17H31N4O4', 241.225: 'C17H5O2', 274.231: 'C17H6O4', 245.256: 'C17H8FN', 226.258: 'C17H8N', 240.265: 'C17H8N2', 256.264: 'C17H8N2O', 272.263: 'C17H8N2O2', 260.248: 'C17H8O3', 276.247: 'C17H8O4', 308.245: 'C17H8O6', 248.712: 'C17H9Cl', 232.257: 'C17H9F', 246.264: 'C17H9FN', 264.322: 'C17H9FS', 227.266: 'C17H9N', 241.273: 'C17H9N2', 257.272: 'C17H9N2O', 273.271: 'C17H9N2O2', 243.265: 'C17H9NO', 261.256: 'C17H9O3', 277.255: 'C17H9O4', 293.254: 'C17H9O5', 309.253: 'C17H9O6', 226.278: 'C18H10', 245.276: 'C18H10F', 259.283: 'C18H10FN', 240.285: 'C18H10N', 254.292: 'C18H10N2', 270.291: 'C18H10N2O', 286.29: 'C18H10N2O2', 302.289: 'C18H10N2O3', 284.298: 'C18H10N3O', 272.283: 'C18H10NO2', 258.276: 'C18H10O2', 274.275: 'C18H10O3', 290.274: 'C18H10O4', 306.273: 'C18H10O5', 322.272: 'C18H10O6', 227.286: 'C18H11', 306.752: 'C18H11ClN2O', 246.284: 'C18H11F', 260.291: 'C18H11FN', 278.349: 'C18H11FS', 241.293: 'C18H11N', 255.3: 'C18H11N2', 271.299: 'C18H11N2O', 287.298: 'C18H11N2O2', 319.296: 'C18H11N2O4', 285.306: 'C18H11N3O', 257.292: 'C18H11NO', 273.291: 'C18H11NO2', 289.29: 'C18H11NO3', 259.284: 'C18H11O2', 275.283: 'C18H11O3', 291.282: 'C18H11O4', 307.281: 'C18H11O5', 323.28: 'C18H11O6', 228.294: 'C18H12', 277.754: 'C18H12ClN', 247.292: 'C18H12F', 261.299: 'C18H12FN', 295.356: 'C18H12FOS', 279.357: 'C18H12FS', 242.301: 'C18H12N', 256.308: 'C18H12N2', 272.307: 'C18H12N2O', 288.306: 'C18H12N2O2', 304.305: 'C18H12N2O3', 290.298: 'C18H12NO3', 244.293: 'C18H12O', 260.292: 'C18H12O2', 276.291: 'C18H12O3', 292.29: 'C18H12O4', 308.289: 'C18H12O5', 324.288: 'C18H12O6', 340.287: 'C18H12O7', 229.302: 'C18H13', 278.762: 'C18H13ClN', 296.364: 'C18H13FOS', 243.309: 'C18H13N', 273.315: 'C18H13N2O', 289.314: 'C18H13N2O2', 259.308: 'C18H13NO', 275.307: 'C18H13NO2', 291.306: 'C18H13NO3', 307.305: 'C18H13NO4', 245.301: 'C18H13O', 261.3: 'C18H13O2', 277.299: 'C18H13O3', 293.298: 'C18H13O4', 309.297: 'C18H13O5', 341.295: 'C18H13O7', 357.294: 'C18H13O8', 230.31: 'C18H14', 279.77: 'C18H14ClN', 279.314: 'C18H14FNO', 244.317: 'C18H14N', 258.324: 'C18H14N2', 274.323: 'C18H14N2O', 290.322: 'C18H14N2O2', 306.321: 'C18H14N2O3', 322.32: 'C18H14N2O4', 304.329: 'C18H14N3O2', 260.316: 'C18H14NO', 276.315: 'C18H14NO2', 308.313: 'C18H14NO4', 324.312: 'C18H14NO5', 246.309: 'C18H14O', 262.308: 'C18H14O2', 278.307: 'C18H14O3', 294.306: 'C18H14O4', 310.305: 'C18H14O5', 326.304: 'C18H14O6', 342.303: 'C18H14O7', 358.302: 'C18H14O8', 231.318: 'C18H15', 245.325: 'C18H15N', 289.338: 'C18H15N3O', 305.337: 'C18H15N3O2', 349.35: 'C18H15N5O3', 261.324: 'C18H15NO', 277.323: 'C18H15NO2', 293.322: 'C18H15NO3', 309.321: 'C18H15NO4', 325.32: 'C18H15NO5', 247.317: 'C18H15O', 279.315: 'C18H15O3', 311.313: 'C18H15O5', 327.312: 'C18H15O6', 359.31: 'C18H15O8', 232.326: 'C18H16', 281.786: 'C18H16ClN', 246.333: 'C18H16N', 260.34: 'C18H16N2', 276.339: 'C18H16N2O', 292.338: 'C18H16N2O2', 308.337: 'C18H16N2O3', 288.354: 'C18H16N4', 278.331: 'C18H16NO2', 294.33: 'C18H16NO3', 248.325: 'C18H16O', 264.324: 'C18H16O2', 280.323: 'C18H16O3', 296.322: 'C18H16O4', 312.321: 'C18H16O5', 328.32: 'C18H16O6', 344.319: 'C18H16O7', 360.318: 'C18H16O8', 233.334: 'C18H17', 247.341: 'C18H17N', 291.354: 'C18H17N3O', 339.351: 'C18H17N3O4', 263.34: 'C18H17NO', 279.339: 'C18H17NO2', 311.404: 'C18H17NO2S', 295.338: 'C18H17NO3', 311.337: 'C18H17NO4', 327.336: 'C18H17NO5', 249.333: 'C18H17O', 265.332: 'C18H17O2', 281.331: 'C18H17O3', 297.33: 'C18H17O4', 234.342: 'C18H18', 315.867: 'C18H18ClNS', 343.358: 'C18H18FN3O3', 248.349: 'C18H18N', 262.356: 'C18H18N2', 278.355: 'C18H18N2O', 310.353: 'C18H18N2O3', 342.351: 'C18H18N2O5', 358.35: 'C18H18N2O6', 368.373: 'C18H18N5O4', 280.347: 'C18H18NO2', 250.341: 'C18H18O', 266.34: 'C18H18O2', 282.339: 'C18H18O3', 298.338: 'C18H18O4', 314.337: 'C18H18O5', 384.259: 'C18H19Cl2NO4', 326.831: 'C18H19ClN4', 249.357: 'C18H19N', 293.37: 'C18H19N3O', 309.369: 'C18H19N3O2', 357.433: 'C18H19N3O3S', 357.366: 'C18H19N3O5', 337.383: 'C18H19N5O2', 265.356: 'C18H19NO', 281.355: 'C18H19NO2', 297.354: 'C18H19NO3', 329.419: 'C18H19NO3S', 313.353: 'C18H19NO4', 329.352: 'C18H19NO5', 297.421: 'C18H19NOS', 251.349: 'C18H19O', 283.347: 'C18H19O3', 236.358: 'C18H20', 313.376: 'C18H20FN3O', 361.373: 'C18H20FN3O4', 264.372: 'C18H20N2', 280.371: 'C18H20N2O', 360.366: 'C18H20N2O6', 252.357: 'C18H20O', 268.356: 'C18H20O2', 284.355: 'C18H20O3', 300.354: 'C18H20O4', 316.353: 'C18H20O5', 237.366: 'C18H21', 295.386: 'C18H21N3O', 371.397: 'C18H21N5O4', 267.372: 'C18H21NO', 283.371: 'C18H21NO2', 299.37: 'C18H21NO3', 315.369: 'C18H21NO4', 238.374: 'C18H22', 331.391: 'C18H22FN3O2', 266.388: 'C18H22N2', 298.386: 'C18H22N2O2', 372.405: 'C18H22N5O4', 254.373: 'C18H22O', 270.372: 'C18H22O2', 286.371: 'C18H22O3', 302.37: 'C18H22O4', 318.369: 'C18H22O5', 329.4: 'C18H23N3O3', 269.388: 'C18H23NO', 301.386: 'C18H23NO3', 240.39: 'C18H24', 348.399: 'C18H24N2O5', 312.417: 'C18H24N4O', 256.389: 'C18H24O', 272.388: 'C18H24O2', 288.387: 'C18H24O3', 304.386: 'C18H24O4', 359.43: 'C18H25N5O3', 271.404: 'C18H25NO', 242.406: 'C18H26', 334.416: 'C18H26N2O4', 258.405: 'C18H26O', 290.403: 'C18H26O3', 306.402: 'C18H26O4', 322.401: 'C18H26O5', 257.421: 'C18H27N', 289.419: 'C18H27NO2', 292.419: 'C18H28O3', 307.434: 'C18H29NO3', 246.438: 'C18H30', 322.449: 'C18H30N2O3', 382.461: 'C18H30N4O5', 337.464: 'C18H31N3O3', 351.471: 'C18H31N4O3', 325.449: 'C18H31NO4', 341.448: 'C18H31NO5', 340.464: 'C18H32N2O4', 388.528: 'C18H32N2O5S', 400.476: 'C18H32N4O6', 424.989: 'C18H33ClN2O5S', 339.48: 'C18H33N3O3', 369.486: 'C18H33N4O4', 311.466: 'C18H33NO3', 406.543: 'C18H34N2O6S', 281.484: 'C18H35NO', 299.499: 'C18H37NO2', 269.235: 'C18H5O3', 272.259: 'C18H8O3', 288.258: 'C18H8O4', 244.268: 'C18H9F', 269.283: 'C18H9N2O', 301.281: 'C18H9N2O3', 289.266: 'C18H9O4', 305.265: 'C18H9O5', 321.264: 'C18H9O6', 337.263: 'C18H9O7', 238.289: 'C19H10', 254.288: 'C19H10O', 286.286: 'C19H10O3', 302.285: 'C19H10O4', 318.284: 'C19H10O5', 334.283: 'C19H10O6', 239.297: 'C19H11', 253.304: 'C19H11N', 299.309: 'C19H11N2O2', 347.306: 'C19H11N2O5', 269.303: 'C19H11NO', 285.302: 'C19H11NO2', 301.301: 'C19H11NO3', 317.3: 'C19H11NO4', 319.292: 'C19H11O5', 335.291: 'C19H11O6', 268.319: 'C19H12N2', 284.318: 'C19H12N2O', 300.317: 'C19H12N2O2', 316.316: 'C19H12N2O3', 304.368: 'C19H12O2S', 288.302: 'C19H12O3', 304.301: 'C19H12O4', 320.3: 'C19H12O5', 336.299: 'C19H12O6', 352.298: 'C19H12O7', 241.313: 'C19H13', 276.766: 'C19H13Cl', 255.32: 'C19H13N', 301.325: 'C19H13N2O2', 271.319: 'C19H13NO', 287.318: 'C19H13NO2', 303.317: 'C19H13NO3', 319.316: 'C19H13NO4', 289.31: 'C19H13O3', 305.309: 'C19H13O4', 321.308: 'C19H13O5', 337.307: 'C19H13O6', 242.321: 'C19H14', 291.781: 'C19H14ClN', 341.381: 'C19H14FO3S', 256.328: 'C19H14N', 270.335: 'C19H14N2', 286.334: 'C19H14N2O', 302.333: 'C19H14N2O2', 318.332: 'C19H14N2O3', 304.325: 'C19H14NO3', 320.324: 'C19H14NO4', 258.32: 'C19H14O', 274.319: 'C19H14O2', 290.318: 'C19H14O3', 306.317: 'C19H14O4', 322.316: 'C19H14O5', 338.315: 'C19H14O6', 354.314: 'C19H14O7', 370.313: 'C19H14O8', 310.391: 'C19H15FOS', 294.392: 'C19H15FS', 257.336: 'C19H15N', 319.34: 'C19H15N2O3', 317.348: 'C19H15N3O2', 289.334: 'C19H15NO2', 305.333: 'C19H15NO3', 321.332: 'C19H15NO4', 337.331: 'C19H15NO5', 259.328: 'C19H15O', 244.337: 'C19H16', 293.797: 'C19H16ClN', 357.793: 'C19H16ClNO4', 258.344: 'C19H16N', 272.351: 'C19H16N2', 304.349: 'C19H16N2O2', 320.348: 'C19H16N2O3', 352.346: 'C19H16N2O5', 306.341: 'C19H16NO3', 260.336: 'C19H16O', 276.335: 'C19H16O2', 292.334: 'C19H16O3', 308.333: 'C19H16O4', 324.332: 'C19H16O5', 340.331: 'C19H16O6', 356.33: 'C19H16O7', 372.329: 'C19H16O8', 388.328: 'C19H16O9', 308.812: 'C19H17ClN2', 312.407: 'C19H17FOS', 259.352: 'C19H17N', 319.364: 'C19H17N3O2', 335.363: 'C19H17N3O3', 275.351: 'C19H17NO', 291.35: 'C19H17NO2', 307.349: 'C19H17NO3', 323.348: 'C19H17NO4', 339.347: 'C19H17NO5', 355.346: 'C19H17NO6', 291.417: 'C19H17NS', 261.344: 'C19H17O', 277.343: 'C19H17O2', 357.338: 'C19H17O7', 246.353: 'C19H18', 359.809: 'C19H18ClNO4', 274.367: 'C19H18N2', 290.366: 'C19H18N2O', 306.365: 'C19H18N2O2', 322.364: 'C19H18N2O3', 338.363: 'C19H18N2O4', 354.362: 'C19H18N2O5', 302.381: 'C19H18N4', 324.356: 'C19H18NO4', 262.352: 'C19H18O', 278.351: 'C19H18O2', 294.35: 'C19H18O3', 310.349: 'C19H18O4', 342.347: 'C19H18O6', 374.345: 'C19H18O8', 310.828: 'C19H19ClN2', 340.378: 'C19H19FN3O2', 261.368: 'C19H19N', 305.381: 'C19H19N3O', 321.38: 'C19H19N3O2', 353.378: 'C19H19N3O4', 277.367: 'C19H19NO', 293.366: 'C19H19NO2', 309.365: 'C19H19NO3', 325.364: 'C19H19NO4', 341.363: 'C19H19NO5', 309.432: 'C19H19NOS', 263.36: 'C19H19O', 279.359: 'C19H19O2', 295.358: 'C19H19O3', 248.369: 'C19H20', 357.385: 'C19H20FN3O3', 329.371: 'C19H20FNO3', 276.383: 'C19H20N2', 292.382: 'C19H20N2O', 308.381: 'C19H20N2O2', 324.38: 'C19H20N2O3', 356.445: 'C19H20N2O3S', 340.379: 'C19H20N2O4', 356.378: 'C19H20N2O5', 264.368: 'C19H20O', 280.367: 'C19H20O2', 296.366: 'C19H20O3', 312.365: 'C19H20O4', 328.364: 'C19H20O5', 344.363: 'C19H20O6', 376.84: 'C19H21ClN2O4', 263.384: 'C19H21N', 341.387: 'C19H21N2O4', 307.397: 'C19H21N3O', 323.396: 'C19H21N3O2', 371.393: 'C19H21N3O5', 351.41: 'C19H21N5O2', 279.383: 'C19H21NO', 295.382: 'C19H21NO2', 311.381: 'C19H21NO3', 327.38: 'C19H21NO4', 359.378: 'C19H21NO6', 265.376: 'C19H21O', 250.385: 'C19H22', 375.4: 'C19H22FN3O4', 294.398: 'C19H22N2O', 326.396: 'C19H22N2O3', 266.384: 'C19H22O', 282.383: 'C19H22O2', 298.382: 'C19H22O3', 314.381: 'C19H22O4', 346.379: 'C19H22O6', 362.378: 'C19H22O7', 369.425: 'C19H23N5O3', 281.399: 'C19H23NO', 297.398: 'C19H23NO2', 313.397: 'C19H23NO3', 329.396: 'C19H23NO4', 267.392: 'C19H23O', 252.401: 'C19H24', 296.414: 'C19H24N2O', 312.413: 'C19H24N2O2', 328.412: 'C19H24N2O3', 344.411: 'C19H24N2O4', 388.424: 'C19H24N4O5', 268.4: 'C19H24O', 284.399: 'C19H24O2', 300.398: 'C19H24O3', 316.397: 'C19H24O4', 253.409: 'C19H25', 359.426: 'C19H25N3O4', 387.44: 'C19H25N5O4', 283.415: 'C19H25NO', 299.414: 'C19H25NO2', 254.417: 'C19H26', 330.428: 'C19H26N2O3', 270.416: 'C19H26O', 286.415: 'C19H26O2', 302.414: 'C19H26O3', 318.413: 'C19H26O4', 285.431: 'C19H27NO', 301.43: 'C19H27NO2', 317.429: 'C19H27NO3', 256.433: 'C19H28', 316.445: 'C19H28N2O2', 272.432: 'C19H28O', 288.431: 'C19H28O2', 320.429: 'C19H28O4', 347.459: 'C19H29N3O3', 378.473: 'C19H30N4O4', 290.447: 'C19H30O2', 365.474: 'C19H31N3O4', 421.502: 'C19H31N7O4', 336.476: 'C19H32N2O3', 368.474: 'C19H32N2O5', 367.49: 'C19H33N3O4', 354.491: 'C19H34N2O4', 385.505: 'C19H35N3O5', 383.513: 'C19H35N4O4', 301.277: 'C19H9O4', 317.276: 'C19H9O5', 333.275: 'C19H9O6', 349.274: 'C19H9O7', 250.3: 'C20H10', 314.296: 'C20H10O4', 362.293: 'C20H10O7', 281.314: 'C20H11NO', 363.301: 'C20H11O7', 252.316: 'C20H12', 282.322: 'C20H12NO', 268.315: 'C20H12O', 332.378: 'C20H12O3S', 316.312: 'C20H12O4', 332.311: 'C20H12O5', 348.31: 'C20H12O6', 364.309: 'C20H12O7', 380.308: 'C20H12O8', 304.776: 'C20H13ClO', 281.338: 'C20H13N2', 331.327: 'C20H13NO4', 269.323: 'C20H13O', 333.319: 'C20H13O5', 349.318: 'C20H13O6', 254.332: 'C20H14', 282.346: 'C20H14N2', 330.343: 'C20H14N2O3', 346.342: 'C20H14N2O4', 358.357: 'C20H14N4O3', 300.337: 'C20H14NO2', 270.331: 'C20H14O', 318.328: 'C20H14O4', 334.327: 'C20H14O5', 350.326: 'C20H14O6', 366.325: 'C20H14O7', 338.401: 'C20H15FO2S', 329.359: 'C20H15N3O2', 317.344: 'C20H15NO3', 333.343: 'C20H15NO4', 365.341: 'C20H15NO6', 319.336: 'C20H15O4', 351.334: 'C20H15O6', 270.355: 'C20H16N', 284.362: 'C20H16N2', 332.359: 'C20H16N2O3', 348.358: 'C20H16N2O4', 334.351: 'C20H16NO4', 272.347: 'C20H16O', 320.344: 'C20H16O4', 336.343: 'C20H16O5', 352.342: 'C20H16O6', 368.341: 'C20H16O7', 336.822: 'C20H17ClN2O', 356.416: 'C20H17FO3S', 271.363: 'C20H17N', 287.362: 'C20H17NO', 303.361: 'C20H17NO2', 319.36: 'C20H17NO3', 335.359: 'C20H17NO4', 351.358: 'C20H17NO5', 273.355: 'C20H17O', 321.352: 'C20H17O4', 286.378: 'C20H18N2', 302.377: 'C20H18N2O', 318.376: 'C20H18N2O2', 334.375: 'C20H18N2O3', 366.373: 'C20H18N2O5', 320.368: 'C20H18NO3', 336.367: 'C20H18NO4', 274.363: 'C20H18O', 290.362: 'C20H18O2', 306.361: 'C20H18O3', 322.36: 'C20H18O4', 338.359: 'C20H18O5', 354.358: 'C20H18O6', 386.356: 'C20H18O8', 306.384: 'C20H19FN2', 273.379: 'C20H19N', 317.392: 'C20H19N3O', 333.391: 'C20H19N3O2', 349.39: 'C20H19N3O3', 289.378: 'C20H19NO', 305.377: 'C20H19NO2', 321.376: 'C20H19NO3', 337.375: 'C20H19NO4', 353.374: 'C20H19NO5', 369.373: 'C20H19NO6', 260.38: 'C20H20', 304.393: 'C20H20N2O', 320.392: 'C20H20N2O2', 336.391: 'C20H20N2O3', 290.386: 'C20H20NO', 338.383: 'C20H20NO4', 276.379: 'C20H20O', 292.378: 'C20H20O2', 308.377: 'C20H20O3', 324.376: 'C20H20O4', 340.375: 'C20H20O5', 356.374: 'C20H20O6', 372.373: 'C20H20O7', 360.837: 'C20H21ClO4', 324.399: 'C20H21FN2O', 275.395: 'C20H21N', 305.401: 'C20H21N2O', 335.407: 'C20H21N3O2', 351.406: 'C20H21N3O3', 383.404: 'C20H21N3O5', 291.394: 'C20H21NO', 307.393: 'C20H21NO2', 323.392: 'C20H21NO3', 339.391: 'C20H21NO4', 355.39: 'C20H21NO5', 371.389: 'C20H21NO6', 277.387: 'C20H21O', 262.396: 'C20H22', 290.41: 'C20H22N2', 306.409: 'C20H22N2O', 322.408: 'C20H22N2O2', 354.406: 'C20H22N2O4', 278.395: 'C20H22O', 294.394: 'C20H22O2', 310.393: 'C20H22O3', 326.392: 'C20H22O4', 342.391: 'C20H22O5', 314.856: 'C20H23ClO', 277.411: 'C20H23N', 337.423: 'C20H23N3O2', 293.41: 'C20H23NO', 309.409: 'C20H23NO2', 325.408: 'C20H23NO3', 341.407: 'C20H23NO4', 357.406: 'C20H23NO5', 373.405: 'C20H23NO6', 264.412: 'C20H24', 357.429: 'C20H24FN3O2', 278.419: 'C20H24N', 308.425: 'C20H24N2O', 324.424: 'C20H24N2O2', 372.421: 'C20H24N2O5', 294.418: 'C20H24NO', 280.411: 'C20H24O', 296.41: 'C20H24O2', 312.409: 'C20H24O3', 328.408: 'C20H24O4', 344.407: 'C20H24O5', 265.42: 'C20H25', 408.882: 'C20H25ClN2O5', 311.425: 'C20H25NO2', 327.424: 'C20H25NO3', 281.419: 'C20H25O', 266.428: 'C20H26', 326.44: 'C20H26N2O2', 342.439: 'C20H26N2O3', 358.438: 'C20H26N2O4', 282.427: 'C20H26O', 298.426: 'C20H26O2', 314.425: 'C20H26O3', 330.424: 'C20H26O4', 362.422: 'C20H26O6', 281.443: 'C20H27N', 369.469: 'C20H27N5O2', 297.442: 'C20H27NO', 329.44: 'C20H27NO3', 283.435: 'C20H27O', 268.444: 'C20H28', 376.453: 'C20H28N2O5', 284.443: 'C20H28O', 300.442: 'C20H28O2', 316.441: 'C20H28O3', 332.44: 'C20H28O4', 343.471: 'C20H29N3O2', 397.507: 'C20H29N8O', 302.458: 'C20H30O2', 415.522: 'C20H31N8O2', 501.477: 'C20H32N5O8P', 382.477: 'C20H32NO6', 394.516: 'C20H34N4O4', 400.492: 'C20H34NO7', 368.518: 'C20H36N2O4', 412.531: 'C20H36N4O5', 345.286: 'C20H9O6', 264.327: 'C21H12', 308.34: 'C21H12N2O', 280.326: 'C21H12O', 328.323: 'C21H12O4', 360.388: 'C21H12O4S', 344.322: 'C21H12O5', 360.321: 'C21H12O6', 376.32: 'C21H12O7', 309.348: 'C21H13N2O', 295.341: 'C21H13NO', 281.334: 'C21H13O', 266.343: 'C21H14', 294.357: 'C21H14N2', 282.342: 'C21H14O', 362.337: 'C21H14O6', 378.336: 'C21H14O7', 394.335: 'C21H14O8', 313.356: 'C21H15NO2', 329.355: 'C21H15NO3', 361.353: 'C21H15NO5', 268.359: 'C21H16', 296.373: 'C21H16N2', 328.371: 'C21H16N2O2', 284.358: 'C21H16O', 300.357: 'C21H16O2', 364.353: 'C21H16O6', 396.351: 'C21H16O8', 359.385: 'C21H17N3O3', 315.372: 'C21H17NO2', 331.371: 'C21H17NO3', 347.37: 'C21H17NO4', 363.369: 'C21H17NO5', 379.368: 'C21H17NO6', 395.367: 'C21H17NO7', 330.387: 'C21H18N2O2', 362.385: 'C21H18N2O4', 380.376: 'C21H18NO6', 286.374: 'C21H18O', 302.373: 'C21H18O2', 318.372: 'C21H18O3', 334.371: 'C21H18O4', 350.37: 'C21H18O5', 382.368: 'C21H18O7', 345.402: 'C21H19N3O2', 361.401: 'C21H19N3O3', 377.4: 'C21H19N3O4', 317.388: 'C21H19NO2', 349.386: 'C21H19NO4', 381.384: 'C21H19NO6', 272.391: 'C21H20', 332.403: 'C21H20N2O2', 380.4: 'C21H20N2O5', 288.39: 'C21H20O', 432.381: 'C21H20O10', 448.38: 'C21H20O11', 304.389: 'C21H20O2', 320.388: 'C21H20O3', 336.387: 'C21H20O4', 368.385: 'C21H20O6', 357.856: 'C21H21ClFNO', 287.406: 'C21H21N', 363.417: 'C21H21N3O3', 379.416: 'C21H21N3O4', 303.405: 'C21H21NO', 319.404: 'C21H21NO2', 335.403: 'C21H21NO3', 351.402: 'C21H21NO4', 367.401: 'C21H21NO5', 383.4: 'C21H21NO6', 383.423: 'C21H22FN3O3', 350.418: 'C21H22N2O3', 290.406: 'C21H22O', 306.405: 'C21H22O2', 322.404: 'C21H22O3', 338.403: 'C21H22O4', 354.402: 'C21H22O5', 370.401: 'C21H22O6', 402.399: 'C21H22O8', 375.871: 'C21H23ClFNO2', 338.882: 'C21H23ClN2', 381.432: 'C21H23N3O4', 305.421: 'C21H23NO', 321.42: 'C21H23NO2', 337.419: 'C21H23NO3', 353.418: 'C21H23NO4', 385.483: 'C21H23NO4S', 369.417: 'C21H23NO5', 385.416: 'C21H23NO6', 276.423: 'C21H24', 401.438: 'C21H24FN3O4', 336.435: 'C21H24N2O2', 352.434: 'C21H24N2O3', 368.433: 'C21H24N2O4', 384.432: 'C21H24N2O5', 382.44: 'C21H24N3O4', 292.422: 'C21H24O', 308.421: 'C21H24O2', 324.42: 'C21H24O3', 340.419: 'C21H24O4', 356.418: 'C21H24O5', 388.895: 'C21H25ClN2O3', 291.438: 'C21H25N', 383.515: 'C21H25N3O2S', 307.437: 'C21H25NO', 323.436: 'C21H25NO2', 339.435: 'C21H25NO3', 355.434: 'C21H25NO4', 371.433: 'C21H25NO5', 387.432: 'C21H25NO6', 278.439: 'C21H26', 343.898: 'C21H26ClNO', 354.45: 'C21H26N2O3', 386.448: 'C21H26N2O5', 418.446: 'C21H26N2O7', 294.438: 'C21H26O', 310.437: 'C21H26O2', 326.436: 'C21H26O3', 342.435: 'C21H26O4', 358.434: 'C21H26O5', 406.431: 'C21H26O8', 445.543: 'C21H27N5O4S', 309.453: 'C21H27NO', 325.452: 'C21H27NO2', 341.451: 'C21H27NO3', 357.45: 'C21H27NO4', 373.449: 'C21H27NO5', 280.455: 'C21H28', 356.466: 'C21H28N2O3', 296.454: 'C21H28O', 312.453: 'C21H28O2', 328.452: 'C21H28O3', 344.451: 'C21H28O4', 360.45: 'C21H28O5', 311.469: 'C21H29NO', 327.468: 'C21H29NO2', 402.495: 'C21H30N4O4', 314.469: 'C21H30O2', 330.468: 'C21H30O3', 346.467: 'C21H30O4', 362.466: 'C21H30O5', 373.497: 'C21H31N3O3', 362.514: 'C21H34N2O3', 409.527: 'C21H35N3O5', 408.543: 'C21H36N4O4', 440.541: 'C21H36N4O6', 367.53: 'C21H37NO4', 415.527: 'C21H37NO7', 290.535: 'C21H38', 458.556: 'C21H38N4O7', 397.56: 'C21H39N3O4', 336.35: 'C22H12N2O2', 348.365: 'C22H12N4O', 278.354: 'C22H14', 366.38: 'C22H14N4O2', 279.362: 'C22H15', 296.369: 'C22H16O', 344.845: 'C22H17ClN2', 332.83: 'C22H17ClO', 343.382: 'C22H17NO3', 359.381: 'C22H17NO4', 391.379: 'C22H17NO6', 407.378: 'C22H17NO7', 297.377: 'C22H17O', 310.4: 'C22H18N2', 298.385: 'C22H18O', 330.383: 'C22H18O3', 378.38: 'C22H18O6', 345.398: 'C22H19NO3', 361.397: 'C22H19NO4', 377.396: 'C22H19NO5', 409.394: 'C22H19NO7', 425.393: 'C22H19NO8', 344.414: 'C22H20N2O2', 376.412: 'C22H20N2O4', 392.411: 'C22H20N2O5', 300.401: 'C22H20O', 348.398: 'C22H20O4', 435.44: 'C22H21N5O5', 347.414: 'C22H21NO3', 379.412: 'C22H21NO5', 395.411: 'C22H21NO6', 427.409: 'C22H21NO8', 442.424: 'C22H22N2O8', 436.448: 'C22H22N5O5', 302.417: 'C22H22O', 318.416: 'C22H22O2', 382.891: 'C22H23ClN2O2', 354.877: 'C22H23ClO2', 345.446: 'C22H23N3O', 393.443: 'C22H23N3O4', 317.432: 'C22H23NO', 365.429: 'C22H23NO4', 381.428: 'C22H23NO5', 413.426: 'C22H23NO7', 288.434: 'C22H24', 381.907: 'C22H24ClN3O', 364.445: 'C22H24N2O3', 380.444: 'C22H24N2O4', 444.44: 'C22H24N2O8', 460.439: 'C22H24N2O9', 410.45: 'C22H24N3O5', 304.433: 'C22H24O', 320.432: 'C22H24O2', 336.431: 'C22H24O3', 352.43: 'C22H24O4', 368.429: 'C22H24O5', 372.892: 'C22H25ClO3', 319.448: 'C22H25NO', 335.447: 'C22H25NO2', 367.445: 'C22H25NO4', 383.444: 'C22H25NO5', 399.443: 'C22H25NO6', 290.45: 'C22H26', 382.46: 'C22H26N2O4', 428.465: 'C22H26N3O6', 306.449: 'C22H26O', 322.448: 'C22H26O2', 338.447: 'C22H26O3', 354.446: 'C22H26O4', 370.445: 'C22H26O5', 386.444: 'C22H26O6', 381.543: 'C22H27N3OS', 337.463: 'C22H27NO2', 353.462: 'C22H27NO3', 369.461: 'C22H27NO4', 385.46: 'C22H27NO5', 401.459: 'C22H27NO6', 400.475: 'C22H28N2O5', 444.488: 'C22H28N4O6', 308.465: 'C22H28O', 324.464: 'C22H28O2', 340.463: 'C22H28O3', 356.462: 'C22H28O4', 372.461: 'C22H28O5', 388.46: 'C22H28O6', 404.459: 'C22H28O7', 376.468: 'C22H29FO4', 392.467: 'C22H29FO5', 383.492: 'C22H29N3O3', 339.479: 'C22H29NO2', 355.478: 'C22H29NO3', 387.476: 'C22H29NO5', 505.458: 'C22H30Cl2N10', 326.48: 'C22H30O2', 358.478: 'C22H30O4', 374.477: 'C22H30O5', 390.476: 'C22H30O6', 341.495: 'C22H31NO2', 357.494: 'C22H31NO3', 344.495: 'C22H32O3', 359.51: 'C22H33NO3', 375.509: 'C22H33NO4', 450.603: 'C22H34N4O4S', 459.575: 'C22H35N8O3', 300.53: 'C22H36', 436.553: 'C22H36N4O5', 395.54: 'C22H37NO5', 454.568: 'C22H38N4O6', 318.545: 'C22H38O', 397.556: 'C22H39NO5', 472.583: 'C22H40N4O7', 336.56: 'C22H40O2_loss', 415.571: 'C22H41NO6', 433.586: 'C22H43NO7', 377.407: 'C23H15N5O', 378.415: 'C23H16N5O', 430.42: 'C23H18N4O5', 365.44: 'C23H19N5', 448.435: 'C23H20N4O6', 387.439: 'C23H21N3O3', 375.424: 'C23H21NO4', 407.422: 'C23H21NO6', 390.439: 'C23H22N2O4', 330.427: 'C23H22O2', 378.424: 'C23H22O5', 357.457: 'C23H23N3O', 373.456: 'C23H23N3O2', 421.453: 'C23H23N3O5', 361.441: 'C23H23NO3', 377.44: 'C23H23NO4', 408.454: 'C23H24N2O5', 348.442: 'C23H24O3', 364.441: 'C23H24O4', 396.439: 'C23H24O6', 315.46: 'C23H25N', 451.483: 'C23H25N5O5', 385.495: 'C23H25N6', 331.459: 'C23H25NO', 379.456: 'C23H25NO4', 302.461: 'C23H26', 394.471: 'C23H26N2O4', 366.457: 'C23H26O4', 410.493: 'C23H27FN4O2', 426.492: 'C23H27FN4O3', 361.489: 'C23H27N3O', 425.552: 'C23H27N3O3S', 409.486: 'C23H27N3O4', 333.475: 'C23H27NO', 381.472: 'C23H27NO4', 397.471: 'C23H27NO5', 413.47: 'C23H27NO6', 429.469: 'C23H27NO7', 494.011: 'C23H28ClN3O5S', 396.487: 'C23H28N2O4', 412.486: 'C23H28N2O5', 408.502: 'C23H28N4O3', 320.476: 'C23H28O', 336.475: 'C23H28O2', 368.473: 'C23H28O4', 384.472: 'C23H28O5', 383.488: 'C23H29NO4', 399.487: 'C23H29NO5', 415.486: 'C23H29NO6', 322.492: 'C23H30O', 338.491: 'C23H30O2', 354.49: 'C23H30O3', 386.488: 'C23H30O5', 402.487: 'C23H30O6', 413.518: 'C23H31N3O4', 369.505: 'C23H31NO3', 416.518: 'C23H32N2O5', 404.503: 'C23H32O6', 354.538: 'C23H34N2O', 428.557: 'C23H34N5O3', 390.52: 'C23H34O5', 372.553: 'C23H36N2O2', 408.559: 'C23H38NO5', 439.597: 'C23H41N3O5', 382.85: 'C24H15ClN2O', 376.419: 'C24H16N4O', 375.435: 'C24H17N5', 394.434: 'C24H18N4O2', 458.43: 'C24H18N4O6', 397.434: 'C24H19N3O3', 393.45: 'C24H19N5O', 476.445: 'C24H20N4O7', 367.452: 'C24H21N3O', 383.451: 'C24H21N3O2', 370.452: 'C24H22N2O2', 402.45: 'C24H22N2O4', 418.449: 'C24H22N2O5', 326.439: 'C24H22O', 385.467: 'C24H23N3O2', 401.466: 'C24H23N3O3', 389.451: 'C24H23NO4', 421.449: 'C24H23NO6', 404.466: 'C24H24N2O4', 420.465: 'C24H24N2O5', 358.461: 'C24H24NO2', 403.482: 'C24H25N3O3', 423.465: 'C24H25NO6', 489.403: 'C24H26Cl2N4O3', 374.484: 'C24H26N2O2', 406.482: 'C24H26N2O4', 422.481: 'C24H26N2O5', 330.471: 'C24H26O', 417.513: 'C24H27N5O2', 361.485: 'C24H27NO2', 392.499: 'C24H28N2O3', 424.497: 'C24H28N2O5', 348.486: 'C24H28O2', 380.484: 'C24H28O4', 396.483: 'C24H28O5', 412.482: 'C24H28O6', 407.514: 'C24H29N3O3', 435.528: 'C24H29N5O3', 366.501: 'C24H30O3', 398.499: 'C24H30O5', 414.498: 'C24H30O6', 466.958: 'C24H31ClO7', 434.504: 'C24H31FO6', 409.53: 'C24H31N3O3', 349.518: 'C24H31NO', 429.513: 'C24H31NO6', 320.52: 'C24H32', 384.516: 'C24H32O4', 432.513: 'C24H32O7', 427.545: 'C24H33N3O4', 490.624: 'C24H34N4O5S', 338.535: 'C24H34O', 386.532: 'C24H34O4', 385.548: 'C24H35NO3', 444.576: 'C24H36N4O4', 356.55: 'C24H36O2', 404.547: 'C24H36O5', 390.564: 'C24H38O4', 504.636: 'C24H40N8O4', 435.609: 'C24H41N3O4', 466.623: 'C24H42N4O5', 453.624: 'C24H43N3O5', 357.392: 'C25H13N2O', 374.399: 'C25H14N2O2', 410.86: 'C25H15ClN2O2', 375.407: 'C25H15N2O2', 391.406: 'C25H15N2O3', 425.875: 'C25H16ClN3O2', 362.432: 'C25H18N2O', 378.431: 'C25H18N2O2', 430.412: 'C25H18O7', 413.477: 'C25H23N3O3', 416.477: 'C25H24N2O4', 432.476: 'C25H24N2O5', 464.474: 'C25H24N2O7', 420.461: 'C25H24O6', 431.492: 'C25H25N3O4', 435.476: 'C25H25NO6', 451.475: 'C25H25NO7', 434.492: 'C25H26N2O5', 430.508: 'C25H26N4O3', 388.487: 'C25H26NO3', 357.497: 'C25H27NO', 437.492: 'C25H27NO6', 428.54: 'C25H28N6O', 620.729: 'C25H28N6O7S3', 392.495: 'C25H28O4', 408.494: 'C25H28O5', 463.538: 'C25H29N5O4', 438.524: 'C25H30N2O5', 394.511: 'C25H30O4', 441.524: 'C25H31NO6', 412.526: 'C25H32O5', 379.544: 'C25H33NO2', 366.545: 'C25H34O2', 430.541: 'C25H34O6', 384.56: 'C25H36O3', 418.574: 'C25H38O5', 483.65: 'C25H45N3O6', 515.715: 'C25H45N3O6S', 560.693: 'C25H48N6O8', 453.885: 'C26H16ClN3O3', 372.427: 'C26H16N2O', 388.426: 'C26H16N2O2', 390.442: 'C26H18N2O2', 406.441: 'C26H18N2O3', 458.422: 'C26H18O8', 405.457: 'C26H19N3O2', 421.456: 'C26H19N3O3', 476.437: 'C26H20O9', 397.474: 'C26H23NO3', 415.489: 'C26H25NO4', 446.503: 'C26H26N2O5', 478.501: 'C26H26N2O7', 429.52: 'C26H27N3O3', 445.519: 'C26H27N3O4', 417.505: 'C26H27NO4', 449.503: 'C26H27NO6', 465.502: 'C26H27NO7', 497.5: 'C26H27NO9', 531.44: 'C26H28Cl2N4O4', 405.969: 'C26H28ClNO', 448.519: 'C26H28N2O5', 476.533: 'C26H28N4O5', 436.983: 'C26H29ClN2O2', 447.535: 'C26H29N3O4', 491.548: 'C26H29N5O5', 371.524: 'C26H29NO', 402.538: 'C26H30N2O2', 406.522: 'C26H30O4', 494.531: 'C26H32F2O7', 466.582: 'C26H34N4O4', 484.597: 'C26H36N4O5', 411.586: 'C26H37NO3', 446.584: 'C26H38O6', 500.629: 'C26H44O9', 434.403: 'C27H14O6', 452.418: 'C27H16O7', 486.432: 'C27H18O9', 433.467: 'C27H19N3O3', 449.466: 'C27H19N3O4', 472.449: 'C27H20O8', 450.498: 'C27H22N4O3', 525.51: 'C27H27NO10', 429.516: 'C27H27NO4', 492.528: 'C27H28N2O7', 448.515: 'C27H28O6', 543.525: 'C27H29NO11', 431.532: 'C27H29NO4', 447.531: 'C27H29NO5', 463.53: 'C27H29NO6', 466.53: 'C27H30O7', 461.562: 'C27H31N3O4', 465.546: 'C27H31NO6', 452.595: 'C27H36N2O4', 454.611: 'C27H38N2O4', 485.625: 'C27H39N3O5', 444.612: 'C27H40O5', 553.701: 'C27H47N5O7', 600.714: 'C27H48N6O9', 571.716: 'C27H49N5O8', 448.43: 'C28H16O6', 466.445: 'C28H18O7', 500.459: 'C28H20O9', 518.474: 'C28H22O10', 519.482: 'C28H23O10', 473.592: 'C28H27NO4S', 474.557: 'C28H30N2O5', 502.571: 'C28H30N4O5', 445.559: 'C28H31NO4', 477.557: 'C28H31NO6', 520.586: 'C28H32N4O6', 506.67: 'C28H34N4O3S', 484.589: 'C28H36O7', 521.05: 'C28H37ClO7', 549.713: 'C28H47N5O6', 567.728: 'C28H49N5O7', 585.743: 'C28H51N5O8', 476.44: 'C29H16O7', 494.455: 'C29H18O8', 528.469: 'C29H20O10', 512.47: 'C29H20O9', 546.484: 'C29H22O11', 514.486: 'C29H22O9', 547.492: 'C29H23O11', 532.501: 'C29H24O10', 564.499: 'C29H24O12', 475.6: 'C29H29N7', 490.552: 'C29H30O7', 493.615: 'C29H31N7O', 532.664: 'C29H32N4O4S', 588.562: 'C29H32O13', 508.567: 'C29H32O8', 477.048: 'C29H33ClN2O2', 550.679: 'C29H34N4O5S', 494.584: 'C29H34O7', 526.582: 'C29H34O9', 512.599: 'C29H36O8', 467.65: 'C29H41NO4', 406.654: 'C29H42O', 424.669: 'C29H44O2', 521.695: 'C29H47NO7', 539.71: 'C29H49NO8', 557.725: 'C29H51NO9', 575.74: 'C29H53NO10', 495.745: 'C29H53NO5', 62.018: 'C2F2_loss', 43.02: 'C2F_loss', 103.512: 'C2H2ClN3', 77.49: 'C2H2ClO_loss', 61.491: 'C2H2Cl_loss', 70.051: 'C2H2N2O_loss', 54.052: 'C2H2N2_loss', 68.059: 'C2H2N3_loss', 72.043: 'C2H2NO2_loss', 56.044: 'C2H2NO_loss', 40.045: 'C2H2N_loss', 58.036: 'C2H2O2_loss', 74.035: 'C2H2O3_loss', 42.037: 'C2H2O_loss', 58.103: 'C2H2S_loss', 26.038: 'C2H2_loss', 127.958: 'C2H3Cl2NO', 78.498: 'C2H3ClO_loss', 62.499: 'C2H3Cl_loss', 62.043: 'C2H3FO_loss', 46.044: 'C2H3F_loss', 71.059: 'C2H3N2O_loss', 55.06: 'C2H3N2_loss', 69.067: 'C2H3N3_loss', 83.074: 'C2H3N4_loss', 57.052: 'C2H3NO_loss', 73.051: 'C2H3NO2_loss', 73.118: 'C2H3NS', 41.053: 'C2H3N_loss', 59.044: 'C2H3O2_loss', 75.043: 'C2H3O3_loss', 43.045: 'C2H3O_loss', 27.046: 'C2H3_loss', 63.507: 'C2H4Cl_loss', 56.068: 'C2H4N2_loss', 86.074: 'C2H4N3O_loss', 84.082: 'C2H4N4', 74.059: 'C2H4NO2_loss', 58.06: 'C2H4NO_loss', 42.061: 'C2H4N_loss', 60.052: 'C2H4O2_loss', 44.053: 'C2H4O_loss', 28.054: 'C2H4_loss', 64.515: 'C2H5Cl_loss', 48.06: 'C2H5F_loss', 73.075: 'C2H5N2O_loss', 57.076: 'C2H5N2_loss', 87.082: 'C2H5N3O_loss', 71.083: 'C2H5N3_loss', 59.068: 'C2H5NO_loss', 75.067: 'C2H5NO2_loss', 91.133: 'C7H7_loss', 75.134: 'C2H5NS', 43.069: 'C2H5N_loss', 92.034: 'C2H5O2P', 124.099: 'C5H4N2O2', 61.06: 'C2H5O2_loss', 108.033: 'C2H5O3P_loss', 77.059: 'C2H5O3_loss', 124.032: 'C2H5O4P', 93.058: 'C2H5O4_loss', 45.061: 'C2H5O_loss', 29.062: 'C2H5_loss', 90.082: 'C2H6N2O2_loss', 74.083: 'C2H6N2O_loss', 90.149: 'C2H6N2S', 58.084: 'C2H6N2_loss', 92.074: 'C2H6NO3_loss', 60.076: 'C2H6NO_loss', 44.077: 'C2H6N_loss', 94.133: 'C2H6O2S_loss', 62.068: 'C2H6O2_loss', 78.067: 'C2H6O3_loss', 94.066: 'C2H6O4_loss', 110.065: 'C2H6O5_loss', 46.069: 'C2H6O_loss', 62.135: 'C2H6S_loss', 30.07: 'C2H6_loss', 75.091: 'C2H7N2O_loss', 59.092: 'C2H7N2_loss', 73.099: 'C2H7N3_loss', 87.106: 'C2H7N4_loss', 77.083: 'C2H7NO2_loss', 61.084: 'C2H7NO_loss', 77.15: 'C2H7NS_loss', 45.085: 'C2H7N_loss', 142.114: 'C2H7O3PS', 31.078: 'C2H7_loss', 92.098: 'C2H8N2O2_loss', 60.1: 'C2H8N2_loss', 64.084: 'C2H8O2_loss', 32.086: 'C2H8_loss', 75.115: 'C2H9N3_loss', 125.942: 'C2HCl2NO', 76.482: 'C2HClO_loss', 60.483: 'C2HCl_loss', 60.027: 'C2HFO_loss', 44.028: 'C2HF_loss', 85.042: 'C2HN2O2_loss', 69.043: 'C2HN2O_loss', 53.044: 'C2HN2_loss', 67.051: 'C2HN3_loss', 81.058: 'C2HN4_loss', 55.036: 'C2HNO_loss', 71.035: 'C2HNO2_loss', 87.034: 'C2HNO3_loss', 71.102: 'C2HNS_loss', 39.037: 'C2HN_loss', 57.028: 'C2HO2_loss', 73.027: 'C2HO3_loss', 89.026: 'C2HO4_loss', 41.029: 'C2HO_loss', 57.095: 'C2HS_loss', 25.03: 'C2H_loss', 68.035: 'C2N2O_loss', 82.042: 'C2N3O_loss', 70.027: 'C2NO2_loss', 54.028: 'C2NO_loss', 56.02: 'C2O2_loss', 72.019: 'C2O3_loss', 88.018: 'C2O4_loss', 56.087: 'C2S_loss', 560.511: 'C30H24O11', 578.526: 'C30H26O12', 579.534: 'C30H27O12', 528.609: 'C30H32N4O5', 560.64: 'C30H40O10', 434.664: 'C30H42O2', 452.679: 'C30H44O3', 470.694: 'C30H46O4', 589.767: 'C30H55NO10', 572.784: 'C30H56N2O8', 590.799: 'C30H58N2O9', 466.544: 'C31H22N4O', 554.507: 'C31H22O10', 484.559: 'C31H24N4O2', 572.522: 'C31H24O11', 588.521: 'C31H24O12', 575.685: 'C31H33N3O6S', 568.619: 'C31H36O10', 567.764: 'C31H53NO8', 609.809: 'C31H55N5O7', 564.598: 'C32H28N4O6', 620.563: 'C32H28O13', 502.618: 'C32H30N4O2', 638.578: 'C32H30O14', 520.633: 'C32H32N4O3', 508.666: 'C32H36N4O2', 483.652: 'C32H37NO3', 571.759: 'C32H49N3O6', 599.806: 'C32H57NO9', 670.849: 'C32H58N6O9', 496.614: 'C33H28N4O', 514.629: 'C33H30N4O2', 583.689: 'C33H37N5O5', 586.689: 'C33H38N4O6', 608.688: 'C33H40N2O9', 609.768: 'C33H47N5O6', 666.861: 'C33H58N6O8', 684.876: 'C33H60N6O9', 685.884: 'C33H61N6O9', 576.653: 'C34H32N4O5', 680.888: 'C34H60N6O8', 698.903: 'C34H62N6O9', 705.647: 'C35H38Cl2N8O4', 671.832: 'C36H53N3O9', 600.837: 'C36H56O7', 671.88: 'C36H57N5O7', 702.943: 'C37H46N6O4S2', 628.814: 'C37H48N4O5', 720.958: 'C37H48N6O5S2', 771.119: 'C37H62N4O7S3', 733.937: 'C37H67NO13', 684.919: 'C38H60N4O7', 747.964: 'C38H69NO13', 748.996: 'C38H72N2O12', 739.959: 'C39H61N7O7', 74.127: 'C3H10N2_loss', 60.12: 'C3H10N_loss', 115.523: 'C3H2ClN3', 66.063: 'C3H2N2_loss', 82.062: 'C3H2N2O_loss', 98.128: 'C3H2N2S', 84.054: 'C3H2NO2_loss', 68.055: 'C3H2NO_loss', 52.056: 'C3H2N_loss', 54.048: 'C3H2O_loss', 70.047: 'C3H2O2_loss', 86.046: 'C3H2O3_loss', 70.114: 'C3H2S_loss', 53.064: 'C3H3N_loss', 67.071: 'C3H3N2_loss', 81.078: 'C3H3N3_loss', 109.092: 'C3H3N5', 69.063: 'C3H3NO_loss', 85.062: 'C3H3NO2_loss', 101.128: 'C8H5_loss', 85.129: 'C3H3NS', 71.055: 'C3H3O2_loss', 87.054: 'C3H3O3_loss', 55.056: 'C3H3O_loss', 39.057: 'C3H3_loss', 145.553: 'C3H4ClN5', 105.524: 'C3H4ClNO', 68.079: 'C3H4N2_loss', 100.144: 'C3H4N2S_loss', 86.07: 'C3H4NO2_loss', 70.071: 'C3H4NO_loss', 54.072: 'C3H4N_loss', 56.064: 'C3H4O_loss', 72.063: 'C3H4O2_loss', 120.127: 'C3H4O3S', 88.062: 'C3H4O3_loss', 104.061: 'C3H4O4_loss', 40.065: 'C3H4_loss', 76.526: 'C3H5Cl_loss', 55.08: 'C3H5N_loss', 85.086: 'C3H5N2O_loss', 69.087: 'C3H5N2_loss', 97.101: 'C3H5N4_loss', 71.079: 'C3H5NO_loss', 87.078: 'C3H5NO2_loss', 103.144: 'C8H7', 87.145: 'C3H5NS', 73.071: 'C3H5O2_loss', 57.072: 'C3H5O_loss', 41.073: 'C3H5_loss', 56.088: 'C3H6N_loss', 70.095: 'C3H6N2_loss', 86.094: 'C3H6N2O_loss', 132.099: 'C3H6N3O3_loss', 84.102: 'C3H6N3_loss', 72.087: 'C3H6NO_loss', 58.08: 'C3H6O_loss', 74.079: 'C3H6O2_loss', 90.078: 'C3H6O3_loss', 74.146: 'C3H6S_loss', 42.081: 'C3H6_loss', 57.096: 'C3H7N_loss', 71.103: 'C3H7N2_loss', 99.117: 'C3H7N4_loss', 73.095: 'C3H7NO_loss', 89.094: 'C3H7NO2_loss', 75.087: 'C3H7O2_loss', 59.088: 'C3H7O_loss', 43.089: 'C3H7_loss', 88.11: 'C3H8N2O_loss', 72.111: 'C3H8N2_loss', 74.103: 'C3H8NO_loss', 58.104: 'C3H8N_loss', 76.095: 'C3H8O2_loss', 92.094: 'C3H8O3_loss', 108.093: 'C3H8O4', 60.096: 'C3H8O_loss', 76.162: 'C3H8S_loss', 44.097: 'C3H8_loss', 92.117: 'C3H9FN2_loss', 59.112: 'C3H9N_loss', 73.119: 'C3H9N2_loss', 75.111: 'C3H9NO_loss', 45.105: 'C3H9_loss', 100.508: 'C3HClN2', 104.559: 'C3HClS', 56.039: 'C3HF_loss', 51.048: 'C3HN_loss', 65.055: 'C3HN2_loss', 79.062: 'H2NPS_loss', 83.046: 'C3HNO2_loss', 67.047: 'C3HNO_loss', 69.039: 'C3HO2_loss', 85.038: 'C3HO3_loss', 53.04: 'C3HO_loss', 37.041: 'C3H_loss', 80.046: 'C3N2O_loss', 82.038: 'C3NO2_loss', 66.039: 'C3NO_loss', 52.032: 'C3O_loss', 68.031: 'C3O2_loss', 84.03: 'C3O3_loss', 68.098: 'C3S_loss', 36.033: 'C3_loss', 726.904: 'C41H58O11', 837.058: 'C41H76N2O15', 735.834: 'C42H45N3O9', 753.849: 'C42H47N3O10', 754.857: 'C42H48N3O10', 704.868: 'C42H48N4O6', 722.883: 'C42H50N4O7', 671.919: 'C42H57NO6', 689.934: 'C42H59NO7', 785.891: 'C43H51N3O11', 736.91: 'C43H52N4O7', 807.89: 'C43H53NO14', 754.925: 'C43H54N4O8', 746.905: 'C44H50N4O7', 764.92: 'C44H52N4O8', 782.935: 'C44H54N4O9', 786.967: 'C44H58N4O9', 828.128: 'C44H69N5O8S', 772.033: 'C44H69NO10', 796.962: 'C45H56N4O9', 814.977: 'C45H58N4O10', 815.985: 'C45H59N4O10', 840.139: 'C45H69N5O8S', 804.075: 'C45H73NO11', 820.074: 'C45H73NO12', 806.091: 'C45H75NO11', 822.09: 'C45H75NO12', 806.957: 'C46H54N4O9', 824.972: 'C46H56N4O10', 847.019: 'C46H62N4O11', 850.1: 'C46H75NO13', 852.116: 'C46H77NO13', 909.176: 'C46H80N6O12', 853.918: 'C47H51NO14', 877.045: 'C47H64N4O12', 924.091: 'C47H73NO17', 905.188: 'C47H80N6O11', 923.203: 'C47H82N6O12', 97.048: 'C4FNO_loss', 67.042: 'C4F_loss', 49.052: 'C4H_loss', 86.138: 'C4H10N2_loss', 88.13: 'C4H10NO_loss', 72.131: 'C4H10N_loss', 90.122: 'C4H10O2_loss', 106.121: 'C4H10O3', 74.123: 'C4H10O_loss', 58.124: 'C4H10_loss', 105.137: 'C4H11NO2_loss', 89.138: 'C4H11NO_loss', 73.139: 'C4H11N_loss', 170.168: 'C4H11O3PS', 75.131: 'C4H11O_loss', 50.06: 'C4H2_loss', 120.966: 'C4H2Cl2', 99.52: 'C4H2ClN', 78.074: 'C4H2N2_loss', 108.08: 'C4H2N3O', 124.146: 'C4H2N3S', 106.088: 'C4H2N4', 64.067: 'C4H2N_loss', 82.058: 'C4H2O2_loss', 66.059: 'C4H2O_loss', 142.549: 'C4H3ClN4', 79.082: 'C4H3N2_loss', 109.088: 'C4H3N3O', 125.154: 'C4H3N3S', 107.096: 'C4H3N4', 113.139: 'C9H5_loss', 81.074: 'C4H3NO_loss', 97.14: 'C4H3NS', 65.075: 'C4H3N_loss', 83.066: 'C4H3O2_loss', 67.067: 'C4H3O_loss', 51.068: 'C4H3_loss', 52.076: 'C4H4_loss', 101.536: 'C4H4ClN', 66.083: 'C4H4N_loss', 80.09: 'C4H4N2_loss', 96.089: 'C4H4N2O', 112.088: 'C4H4N2O2', 112.155: 'C4H4N2S', 110.096: 'C4H4N3O', 108.104: 'C4H4N4', 82.082: 'C4H4NO_loss', 68.075: 'C4H4O_loss', 84.074: 'C4H4O2_loss', 100.073: 'C4H4O3_loss', 153.996: 'C4H5Cl2NO', 160.564: 'C4H5ClN4O', 67.091: 'C4H5N_loss', 81.098: 'C4H5N2_loss', 95.105: 'C4H5N3', 83.09: 'C4H5NO_loss', 99.089: 'C4H5NO2', 115.155: 'C9H7_loss', 99.156: 'C4H5NS', 85.082: 'C4H5O2_loss', 69.083: 'C4H5O_loss', 53.084: 'C4H5_loss', 54.092: 'C4H6_loss', 131.566: 'C4H6ClN3', 119.551: 'C4H6ClNO', 82.106: 'C4H6N2_loss', 98.105: 'C4H6N2O_loss', 114.171: 'C4H6N2S', 100.097: 'C4H6NO2_loss', 84.098: 'C4H6NO_loss', 68.099: 'C4H6N_loss', 70.091: 'C4H6O_loss', 86.09: 'C4H6O2_loss', 102.089: 'C4H6O3_loss', 118.088: 'C4H6O4', 69.107: 'C4H7N_loss', 99.113: 'C4H7N2O_loss', 83.114: 'C4H7N2_loss', 113.12: 'C4H7N3O', 85.106: 'C4H7NO_loss', 101.105: 'C4H7NO2', 133.103: 'C4H7NO4', 117.171: 'C9H9_loss', 101.172: 'C4H7NS', 87.098: 'C4H7O2_loss', 71.099: 'C4H7O_loss', 55.1: 'C4H7_loss', 56.108: 'C4H8_loss', 70.115: 'C4H8N_loss', 100.121: 'C4H8N2O_loss', 116.187: 'C4H8N2S', 84.122: 'C4H8N2_loss', 98.129: 'C4H8N3_loss', 112.136: 'C4H8N4', 86.114: 'C4H8NO_loss', 72.107: 'C4H8O_loss', 88.106: 'C4H8O2_loss', 104.105: 'C4H8O3_loss', 120.104: 'C4H8O4_loss', 71.123: 'C4H9N_loss', 85.13: 'C4H9N2_loss', 99.137: 'C4H9N3_loss', 113.144: 'C4H9N4_loss', 87.122: 'C4H9NO_loss', 103.121: 'C4H9NO2_loss', 135.119: 'C4H9NO4', 89.114: 'C4H9O2_loss', 105.113: 'C4H9O3', 121.112: 'C4H9O4', 73.115: 'C4H9O_loss', 57.116: 'C4H9_loss', 68.05: 'C4HF_loss', 77.066: 'C4HN2_loss', 91.073: 'C4HN3', 79.058: 'C4HNO_loss', 63.059: 'C4HN_loss', 81.05: 'C4HO2_loss', 97.049: 'C4HO3_loss', 65.051: 'C4HO_loss', 92.057: 'C4N2O_loss', 94.049: 'C4NO2_loss', 78.05: 'C4NO_loss', 80.042: 'C4O2_loss', 994.326: 'C51H91N7O12', 1004.321: 'C52H89N7O12', 1022.336: 'C52H91N7O13', 1008.353: 'C52H93N7O12', 1018.348: 'C53H91N7O12', 1036.363: 'C53H93N7O13', 1111.338: 'C54H90N6O18', 1032.375: 'C54H93N7O12', 1050.39: 'C54H95N7O13', 1129.666: 'C55H69ClN10O14', 1175.525: 'C58H102N12O13', 146.96: 'C5Cl2O_loss', 79.053: 'C5F_loss', 70.135: 'C5H10_loss', 84.142: 'C5H10N_loss', 98.149: 'C5H10N2', 114.148: 'C5H10N2O_loss', 146.146: 'C5H10N2O3_loss', 158.228: 'C5H10N4S', 86.134: 'C5H10O_loss', 102.133: 'C5H10O2_loss', 118.132: 'C5H10O3', 134.131: 'C5H10O4', 150.13: 'C5H10O5', 233.035: 'C5H11Cl2N2O2P', 85.15: 'C5H11N_loss', 99.157: 'C5H11N2_loss', 129.163: 'C5H11N3O', 113.164: 'C5H11N3_loss', 101.149: 'C5H11NO_loss', 149.28: 'C5H11NS2_loss', 87.142: 'C5H11O_loss', 71.143: 'C5H11_loss', 100.165: 'C5H12N2_loss', 104.149: 'C5H12O2_loss', 120.148: 'C5H12O3_loss', 88.15: 'C5H12O_loss', 72.151: 'C5H12_loss', 117.172: 'C5H13N2O_loss', 101.173: 'C5H13N2_loss', 103.165: 'C5H13NO_loss', 87.166: 'C5H13N_loss', 102.181: 'C5H14N2_loss', 183.144: 'C5H14NO4P', 132.977: 'C5H2Cl2', 111.531: 'C5H2ClN', 159.595: 'C5H2ClNOS', 100.067: 'C5H2F2', 106.084: 'C5H2N2O', 90.085: 'C5H2N2_loss', 118.099: 'C5H2N4', 92.077: 'C5H2NO_loss', 76.078: 'C5H2N_loss', 78.07: 'C5H2O_loss', 94.069: 'C5H2O2_loss', 110.068: 'C5H2O3', 110.135: 'C5H2OS', 94.136: 'C5H2S', 98.532: 'C5H3Cl', 112.539: 'C5H3ClN', 170.559: 'C5H3ClN4O', 77.086: 'C5H3N_loss', 91.093: 'C5H3N2_loss', 137.165: 'C5H3N3S', 133.114: 'C5H3N5', 93.085: 'C5H3NO_loss', 109.084: 'C5H3NO2', 109.151: 'C5H3NS', 95.077: 'C5H3O2', 79.078: 'HNO2S_loss', 95.144: 'C5H3S', 63.079: 'HNOS_loss', 64.087: 'H2NOS_loss', 113.547: 'C5H4ClN', 83.085: 'C5H4F_loss', 92.101: 'C5H4N2_loss', 108.1: 'C5H4N2O', 124.166: 'C5H4N2S', 106.108: 'C5H4N3', 122.107: 'C5H4N3O', 120.115: 'C5H4N4', 110.159: 'C5H4NS', 78.094: 'C5H4N_loss', 80.086: 'H2NO2S_loss', 96.085: 'C5H4O2_loss', 112.084: 'C5H4O3', 96.152: 'C5H4S', 79.102: 'C5H5N_loss', 109.108: 'C5H5N2O_loss', 93.109: 'C5H5N2_loss', 107.116: 'C5H5N3', 123.115: 'C5H5N3O', 139.114: 'C5H5N3O2', 135.13: 'C5H5N5', 95.101: 'C5H5NO', 111.1: 'C5H5NO2', 111.167: 'C5H5NS', 97.093: 'C5H5O2_loss', 81.094: 'H3NO2S_loss', 65.095: 'H3NOS_loss', 66.103: 'C5H6_loss', 94.117: 'C5H6N2_loss', 110.116: 'C5H6N2O', 126.115: 'C5H6N2O2', 122.131: 'C5H6N4', 96.109: 'C5H6NO_loss', 80.11: 'C5H6N_loss', 82.102: 'C5H6O_loss', 98.101: 'C5H6O2_loss', 114.1: 'C5H6O3', 81.118: 'C5H7N_loss', 95.125: 'C5H7N2_loss', 109.132: 'C5H7N3', 125.131: 'C5H7N3O', 141.13: 'C5H7N3O2', 137.146: 'C5H7N5', 97.117: 'C5H7NO_loss', 113.116: 'C5H7NO2_loss', 129.115: 'C5H7NO3_loss', 113.183: 'C5H7NS', 83.11: 'C5H7O_loss', 67.111: 'C5H7_loss', 68.119: 'C5H8_loss', 173.607: 'C5H8ClN5', 96.133: 'C5H8N2_loss', 112.132: 'C5H8N2O', 128.198: 'C5H8N2S', 124.147: 'C5H8N4', 98.125: 'C5H8NO_loss', 82.126: 'C5H8N_loss', 84.118: 'C5H8O_loss', 100.117: 'C5H8O2_loss', 116.116: 'C5H8O3_loss', 132.115: 'C5H8O4_loss', 83.134: 'C5H9N_loss', 97.141: 'C5H9N2_loss', 113.14: 'C5H9N2O_loss', 161.137: 'C5H9N2O4', 129.206: 'C5H9N2S', 111.148: 'C5H9N3', 143.213: 'C5H9N3S', 99.133: 'C5H9NO_loss', 115.132: 'C5H9NO2_loss', 147.13: 'C5H9NO4', 115.199: 'C5H9NS', 147.264: 'C5H9NS2', 117.124: 'C5H9O3', 85.126: 'C5H9O_loss', 69.127: 'C5H9_loss', 96.516: 'C5HCl_loss', 107.068: 'C5HNO2_loss', 91.069: 'C5HNO_loss', 75.07: 'C5HN_loss', 93.061: 'C5HO2_loss', 77.062: 'C5HO_loss', 61.063: 'C5H_loss', 92.053: 'C5O2_loss', 108.052: 'C5O3_loss', 76.054: 'C5O_loss', 1202.635: 'C62H111N11O12', 82.146: 'C6H10_loss', 147.605: 'C6H10ClNO', 96.153: 'C6H10N_loss', 110.16: 'C6H10N2', 126.159: 'C6H10N2O', 142.158: 'C6H10N2O2', 138.174: 'C6H10N4', 112.152: 'C6H10NO', 98.145: 'C6H10O_loss', 114.144: 'C6H10O2_loss', 130.143: 'C6H10O3_loss', 146.142: 'C6H10O4_loss', 162.141: 'C6H10O5_loss', 97.161: 'C6H11N_loss', 111.168: 'C6H11N2_loss', 127.167: 'C6H11N2O', 143.166: 'C6H11N2O2', 157.173: 'C6H11N3O2', 185.254: 'C6H11N5S', 113.16: 'C6H11NO_loss', 129.159: 'C6H11NO2_loss', 145.158: 'C6H11NO3_loss', 161.157: 'C6H11NO4_loss', 147.15: 'C6H11O4', 99.153: 'C6H11O_loss', 83.154: 'C6H11_loss', 84.162: 'C6H12_loss', 98.169: 'C6H12N_loss', 112.176: 'C6H12N2', 128.175: 'C6H12N2O', 100.161: 'C6H12O_loss', 116.16: 'C6H12O2_loss', 132.159: 'C6H12O3_loss', 164.157: 'C6H12O5_loss', 180.156: 'C6H12O6', 99.177: 'C6H13N_loss', 113.184: 'C6H13N2_loss', 115.176: 'C6H13NO_loss', 131.175: 'C6H13NO2', 147.174: 'C6H13NO3_loss', 85.17: 'C6H13_loss', 86.178: 'C6H14_loss', 134.175: 'C6H14O3', 182.172: 'C6H14O6', 117.192: 'C6H15NO', 101.193: 'C6H15N_loss', 74.082: 'C6H2_loss', 109.535: 'C6H2Cl', 144.988: 'C6H2Cl2', 123.542: 'C6H2ClN', 139.541: 'C6H2ClNO', 155.54: 'C6H2ClNO2', 125.534: 'C6H2ClO', 112.078: 'C6H2F2', 102.096: 'C6H2N2_loss', 118.095: 'C6H2N2O', 120.154: 'C6H2NS', 88.089: 'C6H2N_loss', 106.08: 'C6H2O2_loss', 122.079: 'C6H2O3_loss', 138.078: 'C6H2O4', 90.081: 'C6H2O_loss', 106.147: 'C6H2S', 110.543: 'C6H3Cl_loss', 160.003: 'C6H3Cl2N', 124.55: 'C6H3ClN', 138.557: 'C6H3ClN2', 140.549: 'C6H3ClNO', 126.542: 'C6H3ClO', 94.088: 'C6H3F', 126.153: 'C6H3FS', 89.097: 'C6H3N_loss', 103.104: 'C6H3N2', 135.169: 'C6H3N2S', 105.096: 'C6H3NO', 121.095: 'C6H3NO2', 121.162: 'C6H3NS', 91.089: 'C6H3O_loss', 107.088: 'C6H3O2', 123.087: 'C6H3O3', 123.154: 'C6H3OS', 75.09: 'CHNOS_loss', 76.098: 'C6H4_loss', 111.551: 'C6H4Cl', 163.003: 'C6H4Cl2O', 125.558: 'C6H4ClN', 141.557: 'C6H4ClNO', 109.103: 'C6H4FN', 90.105: 'C6H4N_loss', 104.112: 'C6H4N2_loss', 120.111: 'C6H4N2O_loss', 136.177: 'C6H4N2S', 164.191: 'C6H4N4S', 132.126: 'C6H4N4_loss', 106.104: 'C6H4NO_loss', 122.17: 'C6H4NS', 92.097: 'C6H4O_loss', 108.096: 'C6H4O2_loss', 140.161: 'C6H4O2S', 124.095: 'C6H4O3', 140.094: 'C6H4O4', 124.162: 'C6H4OS', 108.163: 'C6H4S', 77.106: 'CH3NOS_loss', 112.559: 'C6H5Cl_loss', 162.019: 'C6H5Cl2N', 126.566: 'C6H5ClN', 140.573: 'C6H5ClN2', 156.572: 'C6H5ClN2O', 204.636: 'C6H5ClN2O2S', 128.558: 'C6H5ClO', 112.103: 'C6H5FO', 96.104: 'C6H5F_loss', 91.113: 'C6H5N_loss', 105.12: 'C6H5N2', 121.119: 'C6H5N2O', 137.185: 'C6H5N2S', 119.127: 'C6H5N3', 135.126: 'C6H5N3O', 107.112: 'C6H5NO', 123.111: 'C6H5NO2', 139.11: 'C6H5NO3', 123.178: 'C6H5NS', 93.105: 'C6H5O', 109.104: 'C6H5O2', 141.169: 'C6H5O2S', 125.103: 'C6H5O3', 125.17: 'C6H5OS', 109.171: 'C6H5S_loss', 78.114: 'C6H6_loss', 127.574: 'C6H6ClN', 191.637: 'C6H6ClNO2S', 111.119: 'C6H6FN_loss', 92.121: 'C6H6N_loss', 106.128: 'C6H6N2', 122.127: 'C6H6N2O_loss', 138.126: 'C6H6N2O2', 138.193: 'C6H6N2S', 134.142: 'C6H6N4', 108.12: 'C6H6NO', 124.119: 'C6H6NO2', 124.186: 'C6H6NS', 94.113: 'C6H6O_loss', 110.112: 'C6H6O2_loss', 126.111: 'C6H6O3', 142.11: 'C6H6O4', 126.178: 'C6H6OS', 110.179: 'C6H6S_loss', 93.129: 'C6H7N_loss', 107.136: 'C6H7N2', 123.135: 'C6H7N2O', 121.143: 'C6H7N3', 137.142: 'C6H7N3O', 153.141: 'C6H7N3O2', 149.157: 'C6H7N5', 109.128: 'C6H7NO_loss', 125.127: 'C6H7NO2', 141.126: 'C6H7NO3', 125.194: 'C6H7NS', 95.121: 'CH5NO2S_loss', 111.12: 'C6H7O2_loss', 143.185: 'C6H7O2S', 127.119: 'C6H7O3', 79.122: 'C6H7_loss', 80.13: 'C6H8_loss', 229.631: 'C6H8ClN7O', 94.137: 'C6H8N_loss', 108.144: 'C6H8N2_loss', 124.143: 'C6H8N2O', 140.142: 'C6H8N2O2', 140.209: 'C6H8N2S', 136.158: 'C6H8N4', 110.136: 'C6H8NO', 96.129: 'C6H8O_loss', 112.128: 'C6H8O2_loss', 128.127: 'C6H8O3', 144.126: 'C6H8O4', 95.145: 'C6H9N_loss', 123.159: 'C6H9N3', 139.158: 'C6H9N3O', 155.157: 'C6H9N3O2', 151.173: 'C6H9N5', 111.144: 'C6H9NO_loss', 127.143: 'C6H9NO2', 143.142: 'C6H9NO3_loss', 159.141: 'C6H9NO4', 113.136: 'C6H9O2_loss', 129.135: 'C6H9O3', 145.134: 'C6H9O4', 97.137: 'C6H9O_loss', 81.138: 'C6H9_loss', 108.527: 'C6HCl', 103.08: 'C6HNO_loss', 87.081: 'C6HN_loss', 105.072: 'C6HO2', 89.073: 'C6HO_loss', 73.074: 'C6H_loss', 104.064: 'C6O2_loss', 88.065: 'C6O_loss', 1463.736: 'C72H110N12O20', 94.157: 'C7H10_loss', 108.164: 'C7H10N', 122.171: 'C7H10N2', 138.17: 'C7H10N2O', 154.169: 'C7H10N2O2', 124.163: 'C7H10NO', 156.161: 'C7H10NO3', 110.156: 'C7H10O_loss', 126.155: 'C7H10O2_loss', 142.154: 'C7H10O3', 158.153: 'C7H10O4', 109.172: 'C7H11N_loss', 123.179: 'C7H11N2', 139.178: 'C7H11N2O', 137.186: 'C7H11N3', 165.2: 'C7H11N5', 125.171: 'C7H11NO_loss', 141.17: 'C7H11NO2', 157.169: 'C7H11NO3', 173.168: 'C7H11NO4', 143.162: 'C7H11O3', 159.161: 'C7H11O4', 111.164: 'C7H11O_loss', 95.165: 'C7H11_loss', 96.173: 'C7H12_loss', 110.18: 'C7H12N', 124.187: 'C7H12N2', 140.186: 'C7H12N2O', 156.185: 'C7H12N2O2', 126.179: 'C7H12NO_loss', 112.172: 'C7H12O_loss', 128.171: 'C7H12O2_loss', 144.17: 'C7H12O3', 160.169: 'C7H12O4', 111.188: 'C7H13N_loss', 125.195: 'C7H13N2', 127.187: 'C7H13NO_loss', 143.186: 'C7H13NO2', 159.185: 'C7H13NO3_loss', 161.177: 'C7H13O4', 113.18: 'C7H13O_loss', 97.181: 'C7H13_loss', 98.189: 'C7H14_loss', 126.203: 'C7H14N2_loss', 142.202: 'C7H14N2O_loss', 128.195: 'C7H14NO', 112.196: 'C7H14N_loss', 114.188: 'C7H14O_loss', 146.186: 'C7H14O3', 162.185: 'C7H14O4', 261.089: 'C7H15Cl2N2O2P', 113.204: 'C7H15N_loss', 141.218: 'C7H15N3', 129.203: 'C7H15NO_loss', 145.202: 'C7H15NO2', 99.197: 'C7H15_loss', 128.219: 'C7H16N2_loss', 100.205: 'C7H16_loss', 158.249: 'C7H18N4', 156.999: 'C7H2Cl2', 172.998: 'C7H2Cl2O', 135.553: 'C7H2ClN', 163.567: 'C7H2ClN3', 124.089: 'C7H2F2', 140.088: 'C7H2F2O', 100.1: 'C7H2N_loss', 102.092: 'C7H2O_loss', 118.091: 'C7H2O2', 134.09: 'C7H2O3', 150.089: 'C7H2O4', 166.088: 'C7H2O5', 122.554: 'C7H3Cl', 172.014: 'C7H3Cl2N', 188.013: 'C7H3Cl2NO', 150.568: 'C7H3ClN2', 168.559: 'C7H3ClNO2', 138.553: 'C7H3ClO', 154.552: 'C7H3ClO2', 106.099: 'C7H3F', 139.104: 'C7H3F2N', 144.095: 'C7H3F3', 122.098: 'C7H3FO', 101.108: 'C7H3N_loss', 115.115: 'C7H3N2', 129.122: 'C7H3N3', 117.107: 'C7H3NO', 133.106: 'C7H3NO2', 149.105: 'C7H3NO3', 133.173: 'C7H3NS', 103.1: 'C7H3O_loss', 119.099: 'C7H3O2', 135.098: 'C7H3O3', 151.097: 'C7H3O4', 167.096: 'C7H3O5', 87.101: 'C7H3_loss', 88.109: 'C7H4_loss', 159.015: 'C7H4Cl2', 187.029: 'C7H4Cl2N2', 137.569: 'C7H4ClN', 151.576: 'C7H4ClN2', 153.568: 'C7H4ClNO', 169.567: 'C7H4ClNO2', 126.105: 'C7H4F2', 159.11: 'C7H4F3N', 175.109: 'C7H4F3NO', 207.174: 'C7H4F3NOS', 121.114: 'C7H4FN', 102.116: 'C7H4N_loss', 116.123: 'C7H4N2', 132.122: 'C7H4N2O', 148.121: 'C7H4N2O2', 148.188: 'C7H4N2S', 130.13: 'C7H4N3', 144.137: 'C7H4N4', 118.115: 'C7H4NO', 134.114: 'C7H4NO2', 134.181: 'C7H4NS', 104.108: 'C7H4O_loss', 120.107: 'C7H4O2_loss', 152.172: 'C7H4O2S', 136.106: 'C7H4O3', 168.171: 'C7H4O3S_loss', 152.105: 'C7H4O4_loss', 168.104: 'C7H4O5', 136.173: 'C7H4OS', 120.174: 'C7H4S', 89.117: 'C7H5_loss', 124.57: 'C7H5Cl', 152.584: 'C7H5ClN2', 168.583: 'C7H5ClN2O', 232.646: 'C7H5ClN2O3S', 140.569: 'C7H5ClO', 156.568: 'C7H5ClO2', 108.115: 'C7H5F', 141.12: 'C7H5F2N', 124.114: 'C7H5FO', 216.021: 'C7H5I', 103.124: 'C7H5N_loss', 117.131: 'C7H5N2', 133.13: 'C7H5N2O', 149.196: 'C7H5N2S', 131.138: 'C7H5N3', 147.137: 'C7H5N3O', 119.123: 'C7H5NO_loss', 135.122: 'C7H5NO2_loss', 151.121: 'C7H5NO3', 135.189: 'C7H5NS', 105.116: 'C7H5O', 121.115: 'C7H5O2', 137.114: 'C7H5O3', 153.113: 'C7H5O4', 169.112: 'C7H5O5', 137.181: 'C7H5OS', 121.182: 'C7H5S', 90.125: 'C7H6_loss', 200.035: 'C7H6BrNO', 189.045: 'C7H6Cl2N2', 139.585: 'C7H6ClN', 169.591: 'C7H6ClN2O', 155.584: 'C7H6ClNO', 161.126: 'C7H6F3N', 123.13: 'C7H6FN', 104.132: 'C7H6N', 118.139: 'C7H6N2_loss', 134.138: 'C7H6N2O', 166.136: 'C7H6N2O3', 150.204: 'C7H6N2S', 132.146: 'C7H6N3', 148.145: 'C7H6N3O', 146.153: 'C7H6N4', 162.152: 'C7H6N4O', 226.215: 'C7H6N4O3S', 120.131: 'C7H6NO', 136.13: 'C7H6NO2', 152.129: 'C7H6NO3', 106.124: 'C7H6O_loss', 122.123: 'C7H6O2_loss', 154.188: 'C7H6O2S', 138.122: 'C7H6O3_loss', 154.121: 'C7H6O4', 170.12: 'C7H6O5', 138.189: 'C7H6OS', 122.19: 'C7H6S', 105.14: 'C7H7N_loss', 119.147: 'C7H7N2', 135.146: 'C7H7N2O', 151.145: 'C7H7N2O2', 133.154: 'C7H7N3', 149.153: 'C7H7N3O', 161.168: 'C7H7N5', 121.139: 'C7H7NO_loss', 137.138: 'C7H7NO2_loss', 153.137: 'C7H7NO3_loss', 137.205: 'C7H7NS', 107.132: 'C7H7O', 123.131: 'C7H7O2', 155.196: 'C7H7O2S', 139.13: 'C7H7O3', 155.129: 'C7H7O4', 92.141: 'C7H8_loss', 169.615: 'C7H8ClN3', 106.148: 'C7H8N_loss', 120.155: 'C7H8N2', 136.154: 'C7H8N2O', 152.153: 'C7H8N2O2', 180.167: 'C7H8N4O2', 122.147: 'C7H8NO', 138.146: 'C7H8NO2', 154.145: 'C7H8NO3', 108.14: 'C7H8O_loss', 124.139: 'C7H8O2_loss', 140.138: 'C7H8O3', 156.137: 'C7H8O4', 124.206: 'C7H8S_loss', 107.156: 'C7H9N_loss', 121.163: 'C7H9N2', 137.162: 'C7H9N2O', 185.159: 'C7H9N2O4', 135.17: 'C7H9N3', 151.169: 'C7H9N3O', 167.168: 'C7H9N3O2', 123.155: 'C7H9NO_loss', 139.154: 'C7H9NO2', 155.153: 'C7H9NO3', 171.152: 'C7H9NO4', 139.221: 'C7H9NS', 109.148: 'C7H9O_loss', 125.147: 'C7H9O2', 141.146: 'C7H9O3', 93.149: 'C7H9_loss', 99.092: 'C7HN_loss', 101.084: 'C7HO_loss', 85.085: 'C7H_loss', 106.168: 'C8H10_loss', 120.175: 'C8H10N', 134.182: 'C8H10N2', 150.181: 'C8H10N2O', 166.18: 'C8H10N2O2', 182.179: 'C8H10N2O3', 136.174: 'C8H10NO', 168.172: 'C8H10NO3', 122.167: 'C8H10O_loss', 138.166: 'C8H10O2_loss', 154.165: 'C8H10O3_loss', 170.164: 'C8H10O4', 186.163: 'C8H10O5', 138.233: 'C8H10S', 121.183: 'C8H11N_loss', 135.19: 'C8H11N2', 149.197: 'C8H11N3', 165.196: 'C8H11N3O', 177.211: 'C8H11N5', 137.182: 'C8H11NO_loss', 153.181: 'C8H11NO2', 169.18: 'C8H11NO3', 185.179: 'C8H11NO4', 153.248: 'C8H11NS', 155.173: 'C8H11O3', 123.175: 'C8H11O_loss', 107.176: 'C8H11_loss', 108.184: 'C8H12', 122.191: 'C8H12N', 136.198: 'C8H12N2', 152.197: 'C8H12N2O', 168.196: 'C8H12N2O2', 184.195: 'C8H12N2O3', 168.263: 'C8H12N2S', 138.19: 'C8H12NO', 154.189: 'C8H12NO2', 170.188: 'C8H12NO3', 186.187: 'C8H12NO4', 124.183: 'C8H12O_loss', 140.182: 'C8H12O2_loss', 156.181: 'C8H12O3', 172.18: 'C8H12O4', 123.199: 'C8H13N_loss', 169.204: 'C8H13N2O2', 165.22: 'C8H13N4', 139.198: 'C8H13NO_loss', 155.197: 'C8H13NO2', 171.196: 'C8H13NO3', 187.195: 'C8H13NO4', 157.189: 'C8H13O3', 173.188: 'C8H13O4', 109.192: 'C8H13_loss', 110.2: 'C8H14_loss', 124.207: 'C8H14N', 138.214: 'C8H14N2', 154.213: 'C8H14N2O', 166.228: 'C8H14N4', 126.199: 'C8H14O_loss', 142.198: 'C8H14O2', 158.197: 'C8H14O3_loss', 174.196: 'C8H14O4', 125.215: 'C8H15N', 139.222: 'C8H15N2', 141.214: 'C8H15NO_loss', 157.213: 'C8H15NO2', 173.212: 'C8H15NO3', 189.211: 'C8H15NO4', 112.216: 'C8H16_loss', 140.23: 'C8H16N2', 156.229: 'C8H16N2O', 174.22: 'C8H16NO3', 160.213: 'C8H16O3', 127.231: 'C8H17N', 183.259: 'C8H17N5', 143.23: 'C8H17NO', 175.228: 'C8H17NO3', 113.224: 'C8H17_loss', 144.238: 'C8H18NO', 98.104: 'C8H2_loss', 200.29: 'C8H20N6', 130.102: 'C8H2O2', 146.101: 'C8H2O3', 114.103: 'C8H2O_loss', 99.112: 'C8H3_loss', 184.025: 'C8H3Cl2N', 162.579: 'C8H3ClN2', 113.119: 'C8H3N', 157.132: 'C8H3N3O', 129.118: 'C8H3NO', 145.117: 'C8H3NO2', 161.116: 'C8H3NO3', 115.111: 'C8H3O', 131.11: 'C8H3O2', 147.109: 'C8H3O3', 163.108: 'C8H3O4', 100.12: 'C8H4_loss', 199.04: 'C8H4Cl2N2', 187.025: 'C8H4Cl2O_loss', 149.58: 'C8H4ClN', 177.594: 'C8H4ClN3', 165.579: 'C8H4ClNO', 138.116: 'C8H4F2', 154.115: 'C8H4F2O', 171.121: 'C8H4F3N', 133.125: 'C8H4FN', 149.124: 'C8H4FNO', 114.127: 'C8H4N', 128.134: 'C8H4N2', 144.133: 'C8H4N2O_loss', 160.132: 'C8H4N2O2', 160.199: 'C8H4N2S', 158.14: 'C8H4N3O', 130.126: 'C8H4NO', 146.125: 'C8H4NO2', 116.119: 'C8H4O_loss', 132.118: 'C8H4O2', 148.117: 'C8H4O3', 164.116: 'C8H4O4', 148.184: 'C8H4OS', 132.185: 'C8H4S', 136.581: 'C8H5Cl', 186.041: 'C8H5Cl2N', 214.055: 'C8H5Cl2N3', 150.588: 'C8H5ClN', 164.595: 'C8H5ClN2', 166.587: 'C8H5ClNO', 152.58: 'C8H5ClO', 168.579: 'C8H5ClO2', 120.126: 'C8H5F', 158.122: 'C8H5F3', 134.133: 'C8H5FN', 136.125: 'C8H5FO', 115.135: 'C8H5N_loss', 129.142: 'C8H5N2', 143.149: 'C8H5N3', 171.163: 'C8H5N5', 131.134: 'C8H5NO_loss', 147.133: 'C8H5NO2', 163.132: 'C8H5NO3', 147.2: 'C8H5NS', 117.127: 'C8H5O', 133.126: 'C8H5O2_loss', 149.125: 'C8H5O3', 165.124: 'C8H5O4', 133.193: 'C8H5S', 102.136: 'C8H6_loss', 151.596: 'C8H6ClN', 167.595: 'C8H6ClNO', 183.594: 'C8H6ClNO2', 140.132: 'C8H6F2', 173.137: 'C8H6F3N', 135.141: 'C8H6FN', 116.143: 'C8H6N', 130.15: 'C8H6N2_loss', 146.149: 'C8H6N2O', 162.148: 'C8H6N2O2', 176.155: 'C8H6N3O2', 132.142: 'C8H6NO', 148.141: 'C8H6NO2', 164.14: 'C8H6NO3', 148.208: 'C8H6NS', 118.135: 'C8H6O_loss', 134.134: 'C8H6O2_loss', 166.199: 'C8H6O2S', 150.133: 'C8H6O3_loss', 166.132: 'C8H6O4', 182.131: 'C8H6O5', 150.2: 'C8H6OS', 134.201: 'C8H6S', 138.597: 'C8H7Cl', 166.611: 'C8H7ClN2', 154.596: 'C8H7ClO', 170.595: 'C8H7ClO2', 122.142: 'C8H7F', 136.149: 'C8H7FN', 150.156: 'C8H7FN2', 138.141: 'C8H7FO', 117.151: 'C8H7N_loss', 131.158: 'C8H7N2', 147.157: 'C8H7N2O', 163.156: 'C8H7N2O2', 145.165: 'C8H7N3', 161.164: 'C8H7N3O', 133.15: 'C8H7NO_loss', 149.149: 'C8H7NO2', 165.148: 'C8H7NO3', 149.216: 'C8H7NS', 119.143: 'C8H7O', 135.142: 'C8H7O2', 151.141: 'C8H7O3', 104.152: 'C8H8_loss', 153.612: 'C8H8ClN', 169.611: 'C8H8ClNO', 137.157: 'C8H8FN', 118.159: 'C8H8N', 132.166: 'C8H8N2', 148.165: 'C8H8N2O', 164.164: 'C8H8N2O2', 146.173: 'C8H8N3', 160.18: 'C8H8N4', 134.158: 'C8H8NO', 150.157: 'C8H8NO2', 120.151: 'C8H8O_loss', 136.15: 'C8H8O2_loss', 152.149: 'C8H8O3', 168.148: 'C8H8O4', 184.147: 'C8H8O5', 152.216: 'C8H8OS', 136.217: 'C8H8S', 105.16: 'C8H9_loss', 119.167: 'C8H9N_loss', 133.174: 'C8H9N2', 149.173: 'C8H9N2O', 165.172: 'C8H9N2O2', 147.181: 'C8H9N3', 163.18: 'C8H9N3O', 179.179: 'C8H9N3O2', 211.177: 'C8H9N3O4', 135.166: 'C8H9NO_loss', 151.165: 'C8H9NO2_loss', 167.164: 'C8H9NO3', 151.232: 'C8H9NS', 121.159: 'C8H9O', 137.158: 'C8H9O2', 153.157: 'C8H9O3', 169.156: 'C8H9O4', 111.103: 'C8HN_loss', 97.096: 'C8H_loss', 118.179: 'C9H10_loss', 183.638: 'C9H10ClNO', 132.186: 'C9H10N', 146.193: 'C9H10N2', 162.192: 'C9H10N2O', 178.191: 'C9H10N2O2', 194.19: 'C9H10N2O3', 226.188: 'C9H10N2O5', 174.207: 'C9H10N4', 190.206: 'C9H10N4O', 148.185: 'C9H10NO', 164.184: 'C9H10NO2', 134.178: 'C9H10O_loss', 150.177: 'C9H10O2_loss', 166.176: 'C9H10O3', 182.175: 'C9H10O4_loss', 150.244: 'C9H10S', 119.187: 'C9H11', 133.194: 'C9H11N', 147.201: 'C9H11N2', 163.2: 'C9H11N2O', 193.206: 'C9H11N3O2', 149.193: 'C9H11NO_loss', 165.192: 'C9H11NO2_loss', 181.191: 'C9H11NO3', 197.19: 'C9H11NO4', 165.259: 'C9H11NS', 135.186: 'C9H11O', 151.185: 'C9H11O2', 167.184: 'C9H11O3', 183.183: 'C9H11O4', 120.195: 'C9H12_loss', 134.202: 'C9H12N', 148.209: 'C9H12N2', 164.208: 'C9H12N2O', 180.207: 'C9H12N2O2', 212.272: 'C9H12N2O2S', 212.205: 'C9H12N2O4', 180.274: 'C9H12N2S', 150.201: 'C9H12NO', 166.2: 'C9H12NO2', 198.198: 'C9H12NO4', 136.194: 'C9H12O', 152.193: 'C9H12O2_loss', 168.192: 'C9H12O3', 184.191: 'C9H12O4', 121.203: 'C9H13', 135.21: 'C9H13N', 213.213: 'C9H13N2O4', 163.224: 'C9H13N3', 191.238: 'C9H13N5', 151.209: 'C9H13NO', 167.208: 'C9H13NO2', 183.207: 'C9H13NO3', 122.211: 'C9H14', 136.218: 'C9H14N', 150.225: 'C9H14N2', 166.224: 'C9H14N2O', 182.223: 'C9H14N2O2', 192.246: 'C9H14N5', 152.217: 'C9H14NO', 138.21: 'C9H14O', 154.209: 'C9H14O2', 170.208: 'C9H14O3', 137.226: 'C9H15N_loss', 209.253: 'C9H15N5O', 153.225: 'C9H15NO', 169.224: 'C9H15NO2', 185.223: 'C9H15NO3', 124.227: 'C9H16_loss', 152.241: 'C9H16N2', 168.24: 'C9H16N2O', 184.239: 'C9H16N2O2', 200.238: 'C9H16N2O3', 156.225: 'C9H16O2_loss', 172.224: 'C9H16O3', 208.685: 'C9H17ClO3', 139.242: 'C9H17N', 155.241: 'C9H17NO', 171.24: 'C9H17NO2', 173.232: 'C9H17O3_loss', 170.256: 'C9H18N2O', 210.285: 'C9H18N6', 210.701: 'C9H19ClO3', 157.257: 'C9H19NO', 110.115: 'C9H2_loss', 126.114: 'C9H2O', 125.13: 'C9H3N_loss', 141.129: 'C9H3NO', 157.128: 'C9H3NO2', 143.121: 'C9H3O2', 159.12: 'C9H3O3', 111.123: 'C9H3_loss', 112.131: 'C9H4_loss', 211.051: 'C9H4Cl2N2', 177.59: 'C9H4ClNO', 150.127: 'C9H4F2', 145.136: 'C9H4FN', 161.135: 'C9H4FNO', 177.134: 'C9H4FNO2', 126.138: 'C9H4N_loss', 140.145: 'C9H4N2', 172.143: 'C9H4N2O2', 142.137: 'C9H4NO', 158.136: 'C9H4NO2', 128.13: 'C9H4O', 144.129: 'C9H4O2', 160.128: 'C9H4O3', 176.127: 'C9H4O4', 192.126: 'C9H4O5', 148.592: 'C9H5Cl', 214.051: 'C9H5Cl2NO', 176.606: 'C9H5ClN2', 178.598: 'C9H5ClNO', 164.591: 'C9H5ClO', 132.137: 'C9H5F', 165.142: 'C9H5F2N', 170.133: 'C9H5F3', 184.14: 'C9H5F3N', 192.149: 'C9H5FN2O2', 148.136: 'C9H5FO', 127.146: 'C9H5N', 141.153: 'C9H5N2', 157.152: 'C9H5N2O', 143.145: 'C9H5NO_loss', 159.144: 'C9H5NO2', 175.143: 'C9H5NO3', 159.211: 'C9H5NS', 129.138: 'C9H5O', 145.137: 'C9H5O2', 161.136: 'C9H5O3', 177.135: 'C9H5O4', 193.134: 'C9H5O5', 114.147: 'C9H6_loss', 149.6: 'C9H6Cl', 185.053: 'C9H6Cl2', 163.607: 'C9H6ClN', 179.606: 'C9H6ClNO', 195.605: 'C9H6ClNO2', 133.145: 'C9H6F', 152.143: 'C9H6F2', 168.142: 'C9H6F2O', 185.148: 'C9H6F3N', 147.152: 'C9H6FN', 177.158: 'C9H6FN2O', 163.151: 'C9H6FNO', 128.154: 'C9H6N', 142.161: 'C9H6N2', 158.16: 'C9H6N2O', 174.159: 'C9H6N2O2', 190.158: 'C9H6N2O3', 174.226: 'C9H6N2S', 156.168: 'C9H6N3', 172.167: 'C9H6N3O', 144.153: 'C9H6NO', 160.152: 'C9H6NO2', 176.151: 'C9H6NO3', 130.146: 'C9H6O_loss', 146.145: 'C9H6O2_loss', 162.144: 'C9H6O3', 178.143: 'C9H6O4', 194.142: 'C9H6O5', 210.141: 'C9H6O6', 146.212: 'C9H6S', 150.608: 'C9H7Cl', 200.068: 'C9H7Cl2N', 256.096: 'C9H7Cl2N5', 178.622: 'C9H7ClN2', 194.621: 'C9H7ClN2O', 258.684: 'C9H7ClN2O3S', 192.629: 'C9H7ClN3', 166.607: 'C9H7ClO', 182.606: 'C9H7ClO2', 134.153: 'C9H7F', 162.167: 'C9H7FN2', 150.152: 'C9H7FO', 129.162: 'C9H7N_loss', 143.169: 'C9H7N2', 159.168: 'C9H7N2O', 175.167: 'C9H7N2O2', 175.234: 'C9H7N2S', 157.176: 'C9H7N3', 173.175: 'C9H7N3O', 171.183: 'C9H7N4', 145.161: 'C9H7NO', 161.16: 'C9H7NO2', 177.159: 'C9H7NO3', 161.227: 'C9H7NS', 131.154: 'C9H7O', 147.153: 'C9H7O2_loss', 163.152: 'C9H7O3', 179.151: 'C9H7O4', 116.163: 'C9H8_loss', 165.623: 'C9H8ClN', 193.637: 'C9H8ClN3', 181.622: 'C9H8ClNO_loss', 197.621: 'C9H8ClNO2', 149.168: 'C9H8FN', 165.167: 'C9H8FNO', 130.17: 'C9H8N', 144.177: 'C9H8N2', 160.176: 'C9H8N2O', 176.175: 'C9H8N2O2', 192.174: 'C9H8N2O3', 176.242: 'C9H8N2S', 158.184: 'C9H8N3', 174.183: 'C9H8N3O', 204.189: 'C9H8N4O2', 146.169: 'C9H8NO', 162.168: 'C9H8NO2', 178.167: 'C9H8NO3', 132.162: 'C9H8O', 148.161: 'C9H8O2_loss', 180.226: 'C9H8O2S', 164.16: 'C9H8O3', 180.159: 'C9H8O4', 196.158: 'C9H8O5', 148.228: 'C9H8S', 152.624: 'C9H9Cl', 218.083: 'C9H9Cl2NO', 168.623: 'C9H9ClO', 136.169: 'C9H9F', 131.178: 'C9H9N_loss', 145.185: 'C9H9N2', 161.184: 'C9H9N2O', 159.192: 'C9H9N3', 175.191: 'C9H9N3O', 191.19: 'C9H9N3O2', 207.189: 'C9H9N3O3', 173.199: 'C9H9N4', 205.197: 'C9H9N4O2', 147.177: 'C9H9NO_loss', 163.176: 'C9H9NO2_loss', 179.175: 'C9H9NO3_loss', 195.174: 'C9H9NO4', 163.243: 'C9H9NS', 133.17: 'C9H9O', 149.169: 'C9H9O2', 165.168: 'C9H9O3', 181.167: 'C9H9O4', 197.166: 'C9H9O5', 125.106: 'C9HO', 140.097: 'C9O2', 124.098: 'C9O_loss', 61.471: 'CClN', 63.463: 'CClO_loss', 50.007: 'CF2_loss', 85.004: 'CF3O_loss', 69.005: 'CF3_loss', 63.487: 'CH2ClN_loss', 49.48: 'CH2Cl_loss', 47.032: 'CH2FN_loss', 58.04: 'CH2N2O_loss', 42.041: 'CH2N2_loss', 56.048: 'CH2N3_loss', 70.055: 'CH2N4_loss', 60.032: 'CH2NO2_loss', 76.031: 'CH2NO3_loss', 44.033: 'CH2NO_loss', 60.099: 'CH2NS_loss', 28.034: 'CH2N_loss', 46.025: 'CH2O2_loss', 62.024: 'CH2O3_loss', 78.023: 'CH2O4_loss', 62.091: 'CH2OS_loss', 30.026: 'CH2O_loss', 46.092: 'CH2S_loss', 14.027: 'CH2_loss', 78.502: 'CH3ClN2', 50.488: 'CH3Cl_loss', 59.048: 'CH3N2O_loss', 43.049: 'CH3N2_loss', 89.054: 'CH3N3O2_loss', 57.056: 'CH3N3_loss', 71.063: 'CH3N4_loss', 61.04: 'CH3NO2_loss', 45.041: 'CH3NO_loss', 29.042: 'CH3N_loss', 78.007: 'CH3O2P', 79.098: 'CH3O2S_loss', 47.033: 'CH3O2_loss', 63.032: 'CH3O3_loss', 79.031: 'CH3O4_loss', 95.03: 'CH3O5_loss', 31.034: 'CH3O_loss', 47.1: 'CH3S_loss', 15.035: 'CH3_loss', 76.055: 'CH4N2O2_loss', 60.056: 'CH4N2O_loss', 44.057: 'CH4N2_loss', 90.062: 'CH4N3O2_loss', 74.063: 'CH4N3O_loss', 58.064: 'CH4N3_loss', 72.071: 'CH4N4_loss', 62.048: 'CH4NO2_loss', 78.047: 'CH4NO3_loss', 46.049: 'CH4NO_loss', 30.05: 'CH4N_loss', 80.106: 'CH4O2S_loss', 48.041: 'CH4O2_loss', 64.04: 'CH4O3_loss', 96.038: 'CH4O5_loss', 64.107: 'CH4OS_loss', 32.042: 'CH4O_loss', 48.108: 'CH4S_loss', 16.043: 'CH4_loss', 61.064: 'CH5N2O_loss', 45.065: 'CH5N2_loss', 59.072: 'CH5N3_loss', 63.056: 'CH5NO2_loss', 47.057: 'CH5NO_loss', 63.123: 'CH5NS_loss', 31.058: 'CH5N_loss', 80.023: 'CH5O2P_loss', 49.049: 'CH5O2_loss', 96.022: 'CH5O3P_loss', 33.05: 'CH5O_loss', 17.051: 'CH5_loss', 78.071: 'CH6N2O2_loss', 62.072: 'CH6N2O_loss', 46.073: 'CH6N2_loss', 60.08: 'CH6N3_loss', 32.066: 'CH6N_loss', 18.059: 'CH6_loss', 61.088: 'CH7N3_loss', 33.074: 'CH7N_loss', 62.479: 'CHClN_loss', 64.471: 'CHClO_loss', 48.472: 'CHCl_loss', 70.013: 'CHF3_loss', 46.024: 'CHFN_loss', 48.016: 'CHFO_loss', 57.032: 'CHN2O_loss', 41.033: 'CHN2_loss', 87.038: 'CHN3O2_loss', 71.039: 'CHN3O_loss', 55.04: 'CHN3_loss', 59.024: 'CHNO2_loss', 43.025: 'CHNO_loss', 59.091: 'CHNS_loss', 27.026: 'CHN_loss', 45.017: 'CHO2_loss', 61.016: 'CHO3_loss', 77.015: 'CHO4_loss', 61.083: 'CHOS_loss', 29.018: 'CHO_loss', 45.084: 'CHS_loss', 13.019: 'CH_loss', 154.914: 'CIO_loss', 72.023: 'CN2O2_loss', 56.024: 'CN2O_loss', 58.016: 'CNO2_loss', 42.017: 'CNO_loss', 58.083: 'CNS_loss', 44.009: 'CO2_loss', 60.008: 'CO3_loss', 76.007: 'CO4_loss', 60.075: 'COS_loss', 28.01: 'CO_loss', 44.076: 'CS_loss', 71.914: 'Cl2H_loss', 70.906: 'Cl2_loss', 51.476: 'ClH2N_loss', 54.476: 'ClH3O_loss', 50.468: 'ClHN_loss', 36.461: 'ClH_loss', 51.452: 'ClO_loss', 35.453: 'Cl_loss', 36.005: 'FHO_loss', 20.006: 'FH_loss', 34.997: 'FO_loss', 18.998: 'F_loss', 78.027: 'H2N2O3_loss', 46.029: 'H2N2O_loss', 30.03: 'H2N2_loss', 60.036: 'H2N3O_loss', 44.037: 'H2N3_loss', 58.044: 'H2N4_loss', 72.051: 'H2N5_loss', 48.021: 'H2NO2_loss', 64.02: 'H2NO3_loss', 80.019: 'H2NO4_loss', 32.022: 'H2NO_loss', 48.088: 'H2NS_loss', 16.023: 'H2N_loss', 66.079: 'H2O2S_loss', 34.014: 'H2O2_loss', 50.013: 'H2O3_loss', 66.012: 'H2O4_loss', 82.011: 'H2O5_loss', 50.08: 'H2OS_loss', 18.015: 'H2O_loss', 66.146: 'H2S2_loss', 34.081: 'H2S_loss', 2.016: 'H2_loss', 47.037: 'H3N2O_loss', 31.038: 'H3N2_loss', 61.044: 'H3N3O_loss', 45.045: 'H3N3_loss', 59.052: 'H3N4_loss', 49.029: 'H3NO2_loss', 65.028: 'H3NO3_loss', 97.026: 'H3NO5_loss', 33.03: 'H3NO_loss', 17.031: 'H3N_loss', 35.022: 'H3O2_loss', 114.06: 'H3O3PS', 97.994: 'H3O4P', 64.044: 'H4N2O2_loss', 80.043: 'H4N2O3_loss', 48.045: 'H4N2O_loss', 32.046: 'H4N2_loss', 46.053: 'H4N3_loss', 18.039: 'H4N_loss', 36.03: 'H4O2_loss', 20.031: 'H4O_loss', 4.032: 'H4_loss', 33.054: 'H5N2_loss', 79.059: 'H5N3O2_loss', 63.06: 'H5N3O_loss', 47.061: 'H5N3_loss', 61.068: 'H5N4_loss', 35.046: 'H5NO_loss', 19.047: 'H5N_loss', 34.062: 'H6N2_loss', 62.076: 'H6N4_loss', 54.045: 'H6O3_loss', 52.077: 'H8N2O_loss', 127.912: 'HI_loss', 61.02: 'HN2O2_loss', 45.021: 'HN2O_loss', 61.087: 'HN2S_loss', 29.022: 'HN2_loss', 59.028: 'HN3O_loss', 43.029: 'HN3_loss', 57.036: 'HN4_loss', 47.013: 'HNO2_loss', 63.012: 'HNO3_loss', 79.011: 'HNO4_loss', 31.014: 'HNO_loss', 47.08: 'HNS_loss', 15.015: 'HN_loss', 63.98: 'HO2P', 96.045: 'HO2PS_loss', 65.071: 'HO2S_loss', 33.006: 'HO2_loss', 79.979: 'HO3P_loss', 81.07: 'HO3S_loss', 49.005: 'HO3_loss', 65.004: 'HO4_loss', 81.003: 'HO5_loss', 97.002: 'HO6_loss', 49.072: 'HOS_loss', 17.007: 'HO_loss', 33.073: 'HS_loss', 1.008: 'H_loss', 253.808: 'I2_loss', 126.904: 'I_loss', 60.012: 'N2O2_loss', 44.013: 'N2O_loss', 28.014: 'N2_loss', 74.019: 'N3O2_loss', 58.02: 'N3O_loss', 46.005: 'NO2_loss', 62.004: 'NO3_loss', 62.071: 'NOS_loss', 30.006: 'NO_loss', 46.072: 'NS_loss', 62.972: 'O2P_loss', 64.063: 'O2S_loss', 31.998: 'O2_loss', 80.062: 'O3S_loss', 47.997: 'O3_loss', 63.996: 'O4_loss', 79.995: 'O5_loss', 46.973: 'OP_loss', 48.064: 'OS_loss', 15.999: 'O_loss', 64.13: 'S2_loss', 32.065: 'S_loss'}\n"
     ]
    }
   ],
   "source": [
    "print(mass_to_formula_dict)"
   ]
  },
  {
   "cell_type": "code",
   "execution_count": 62,
   "metadata": {},
   "outputs": [
    {
     "name": "stdout",
     "output_type": "stream",
     "text": [
      "1\n"
     ]
    }
   ],
   "source": [
    "def convert_lines_to_list(lines):\n",
    "    mass_intensity_list = []\n",
    "    for line in lines:\n",
    "        if ' ' in line:  # Only lines with mass and intensity values have a space. Ignores label/blank lines\n",
    "            split_line = line.split()\n",
    "            mass = round(float(split_line[0]),3)\n",
    "            intensity = float(split_line[1])\n",
    "            mass_intensity_list.append((mass, intensity))\n",
    "            \n",
    "    return mass_intensity_list\n",
    "\n",
    "def count_in_vector(mass_intensities, ionization):\n",
    "    count = 0\n",
    "    for mass, intensity in mass_intensities:\n",
    "        if mass - ionization in mass_to_formula_dict.keys():\n",
    "            count += 1\n",
    "            \n",
    "    return count\n",
    "        \n",
    "# for file in os.listdir(gnps_dir):\n",
    "#     filepath = os.path.join(gnps_dir, file)\n",
    "#     print(file)\n",
    "#     with open(filepath, 'r') as f:\n",
    "#         unsplit_lines = list(islice(f, 9, None))\n",
    "#         for line in unsplit_lines:\n",
    "#             if ' ' in line:  # Only lines with mass and intensity values have a space. Ignores label/blank lines\n",
    "#                 split_line = line.split()\n",
    "#                 mass = round(float(split_line[0]))\n",
    "#                 intensity = float(split_line[1])\n",
    "\n",
    "filepath = \"G:\\\\Dev\\\\Data\\\\GNPS\\\\CCMSLIB00000001548.ms\"\n",
    "\n",
    "with open(filepath, 'r') as f:\n",
    "    unsplit_lines = list(islice(f, 9, None))\n",
    "    mass_intensity_list = convert_lines_to_list(unsplit_lines)\n",
    "    print(count_in_vector(mass_intensity_list, 23))"
   ]
  },
  {
   "cell_type": "code",
   "execution_count": 20,
   "metadata": {},
   "outputs": [],
   "source": [
    "from keras.layers import Input, Dense\n",
    "from keras.models import Model,Sequential\n",
    "from keras.wrappers.scikit_learn import KerasClassifier\n",
    "from sklearn.model_selection import cross_val_score\n",
    "from sklearn.model_selection import StratifiedKFold\n",
    "from keras.optimizers import SGD\n",
    "\n",
    "def fragments_shifts_model(input_to_network, output):\n",
    "    class_model = Sequential()\n",
    "    class_model.add(Dense(2500, input_dim=input_to_network.shape[1], kernel_initializer='normal', activation='relu'))\n",
    "    class_model.add(Dense(1000,kernel_initializer='normal',activation = 'relu'))\n",
    "    class_model.add(Dense(500,kernel_initializer='normal',activation = 'relu'))\n",
    "    class_model.add(Dense(output.shape[1],kernel_initializer='normal',activation = 'sigmoid'))\n",
    "    class_model.compile(loss='binary_crossentropy', optimizer='adam', metrics=['accuracy'])\n",
    "    return class_model"
   ]
  },
  {
   "cell_type": "code",
   "execution_count": 21,
   "metadata": {},
   "outputs": [],
   "source": [
    "def file_has_fingerprint(file_content):\n",
    "    return \"fingerprints.csv\" in file_content\n",
    "\n",
    "def file_incomplete(file_content):\n",
    "    return len(file_content) <= 2\n",
    "\n",
    "def retrieve_fingerprint_file(formula, folder):\n",
    "    content = os.listdir(folder)\n",
    "    return next((filename for filename in content if formula in filename), None)"
   ]
  },
  {
   "cell_type": "code",
   "execution_count": 22,
   "metadata": {},
   "outputs": [],
   "source": [
    "desc_list = []\n",
    "\n",
    "with open(sample_fingerprints_legend_path, 'r') as f:\n",
    "    for line in f:\n",
    "        rel_index, abs_index, desc = line.split(\"\\t\")\n",
    "        if desc[:-1] != \"description\":\n",
    "            desc_list.append(desc[:-1])\n",
    "\n",
    "desc_list = desc_list[:154]\n",
    "fingerprint_smarts = [entry.split(\" \")[0] for entry in desc_list]"
   ]
  },
  {
   "cell_type": "code",
   "execution_count": 23,
   "metadata": {},
   "outputs": [],
   "source": [
    "correct_folder_file = []\n",
    "wrong_folder_file = []\n",
    "\n",
    "for directory in os.listdir(output_file_dir):\n",
    "    file_dir = os.path.join(output_file_dir, directory)\n",
    "    files_in_output_dir = os.listdir(file_dir)\n",
    "    if file_has_fingerprint(files_in_output_dir):\n",
    "        mol = files_in_output_dir[1].split(\"_\")[-1]\n",
    "        folder = \"1_{0}_{1}\".format(directory, mol)\n",
    "        fingerprints_file_dir = os.path.join(os.path.join(file_dir, folder), \"fingerprints\")\n",
    "        if mol in spectrum_formula:\n",
    "            formula = spectrum_formula[mol]\n",
    "            if retrieve_fingerprint_file(formula, fingerprints_file_dir):\n",
    "                correct_folder_file.append((directory, mol, formula))\n",
    "            else:\n",
    "                wrong_folder_file.append((directory, mol, formula))"
   ]
  },
  {
   "cell_type": "code",
   "execution_count": 24,
   "metadata": {},
   "outputs": [],
   "source": [
    "wrong_mol_names = [stuff[1] for stuff in wrong_folder_file]"
   ]
  },
  {
   "cell_type": "code",
   "execution_count": 25,
   "metadata": {},
   "outputs": [
    {
     "name": "stdout",
     "output_type": "stream",
     "text": [
      "(5414, 5508)\n"
     ]
    }
   ],
   "source": [
    "intensities.sort_index(inplace=True)\n",
    "train_tree = intensities[~intensities.index.isin(wrong_mol_names)]\n",
    "x_train_tree = np.log(train_tree.values+1)\n",
    "print(x_train_tree.shape)\n",
    "N,M = x_train_tree.shape\n",
    "\n",
    "shuffle_order = np.random.permutation(N)\n",
    "\n",
    "#train without the 77 for wrong\n",
    "fingerprints = load_fingerprints(train_tree.index, fingerprint_smarts)\n",
    "fingerprints.sort_index(inplace=True)\n",
    "x_train_fingerprints = fingerprints.values"
   ]
  },
  {
   "cell_type": "code",
   "execution_count": 26,
   "metadata": {},
   "outputs": [],
   "source": [
    "epochs = 100\n",
    "mod = fragments_shifts_model(x_train_tree, x_train_fingerprints)\n",
    "history = mod.fit(x_train_tree[shuffle_order,:],x_train_fingerprints[shuffle_order,:],epochs=epochs,validation_split=0.2,verbose=0)"
   ]
  },
  {
   "cell_type": "code",
   "execution_count": 27,
   "metadata": {},
   "outputs": [],
   "source": [
    "test_tree = intensities[intensities.index.isin(wrong_mol_names)]\n",
    "predicted = mod.predict(test_tree.values)"
   ]
  },
  {
   "cell_type": "code",
   "execution_count": 28,
   "metadata": {},
   "outputs": [
    {
     "name": "stdout",
     "output_type": "stream",
     "text": [
      "[[  0.           0.           0.         ...   0.           0.\n",
      "    0.        ]\n",
      " [  0.           0.           0.         ...   0.           0.\n",
      "    0.        ]\n",
      " [  0.           0.           0.         ...   0.           0.\n",
      "    0.        ]\n",
      " ...\n",
      " [  0.           0.           0.         ... 427.29387259   0.\n",
      "    0.        ]\n",
      " [  0.           0.           0.         ...   0.           0.\n",
      "    0.        ]\n",
      " [  0.           0.           0.         ...   0.           0.\n",
      "   37.89738806]]\n",
      "66\n"
     ]
    }
   ],
   "source": [
    "print(test_tree.values)\n",
    "print(len(predicted))"
   ]
  },
  {
   "cell_type": "code",
   "execution_count": 61,
   "metadata": {},
   "outputs": [],
   "source": [
    "test_fingerprints = load_fingerprints(test_tree.index, fingerprint_smarts)\n",
    "test_fingerprints.sort_index(inplace=True)\n",
    "x_test_fingerprints = test_fingerprints.values"
   ]
  },
  {
   "cell_type": "code",
   "execution_count": 70,
   "metadata": {},
   "outputs": [],
   "source": [
    "from sklearn import metrics\n",
    "def compute_auc(bits, true, pred, num_samples=0, permutations=500):\n",
    "    val_start_index = 0\n",
    "    if num_samples > 0:\n",
    "        val_start_index = int(num_samples - (num_samples * val_fraction) - 1)  # Index where validation samples begin.\n",
    "\n",
    "    num_permutations = permutations  # Number of permutations to compute AUC scores for.\n",
    "\n",
    "    # Create structured array to hold statistics for each.\n",
    "    dtype = [('fp_id', int), ('nonzeros', int), ('auc', float), ('auc_percent', float)]\n",
    "    mol_stats = np.zeros((bits,), dtype=dtype)\n",
    "    # Create array to hold permutation AUC scores for plotting.\n",
    "    perm_scores = np.zeros((bits, num_permutations))\n",
    "\n",
    "    for fp_id in range(true.shape[1]):  # For every substructure\n",
    "        nonzero_vals = np.count_nonzero(true[val_start_index:, fp_id])  # Count number of nonzero values\n",
    "        if 0 < nonzero_vals < true[val_start_index:, fp_id].size:  # If there are no 1s or no 0s, can't compute.\n",
    "            # Compute actual AUC score using only the validation fraction of the dataset.\n",
    "            fp_true = true[val_start_index:, fp_id]\n",
    "            fp_pred = pred[val_start_index:, fp_id]\n",
    "            score = metrics.roc_auc_score(fp_true, fp_pred)\n",
    "\n",
    "            # Compute AUC scores for permutations and compare to actual.\n",
    "            counter = 0\n",
    "            for i in range(num_permutations):\n",
    "                permutation = np.random.permutation(fp_true)\n",
    "                perm_score = metrics.roc_auc_score(permutation, fp_pred)\n",
    "                perm_scores[fp_id, i] = perm_score\n",
    "                # Count how many permutations have a higer AUC score than actual data.\n",
    "                if perm_score >= score:\n",
    "                    counter = counter + 1\n",
    "            # Calculate % of scrambled values with higher AUC score than actual AUC\n",
    "            percentage = (counter / num_permutations) * 100\n",
    "            # Update structured array with data or non values if no AUC could be calculated.\n",
    "            mol_stats[fp_id] = fp_id, nonzero_vals, score, percentage\n",
    "        else:\n",
    "            mol_stats[fp_id] = (fp_id, nonzero_vals, 0, 100)\n",
    "\n",
    "    # Permutations take a while, print statement to say when finished.\n",
    "    print(\"Done\")\n",
    "    return mol_stats, perm_scores"
   ]
  },
  {
   "cell_type": "code",
   "execution_count": 71,
   "metadata": {},
   "outputs": [
    {
     "name": "stdout",
     "output_type": "stream",
     "text": [
      "Done\n"
     ]
    }
   ],
   "source": [
    "baseline_stats, baseline_perm_scores = compute_auc(154, x_test_fingerprints, predicted)"
   ]
  },
  {
   "cell_type": "code",
   "execution_count": 90,
   "metadata": {},
   "outputs": [
    {
     "name": "stdout",
     "output_type": "stream",
     "text": [
      "(55, 154)\n"
     ]
    }
   ],
   "source": [
    "csi_fingerprints = load_csi_fingerprints(output_file_dir, wrong_folder_file, intensities.index)\n",
    "csi_fingerprints.sort_index(inplace=True)\n",
    "print(csi_fingerprints.shape)"
   ]
  },
  {
   "cell_type": "code",
   "execution_count": 91,
   "metadata": {},
   "outputs": [
    {
     "name": "stdout",
     "output_type": "stream",
     "text": [
      "Done\n"
     ]
    }
   ],
   "source": [
    "exp_stats, exp_perm_scores = compute_auc(154, x_test_fingerprints, csi_fingerprints.values)"
   ]
  },
  {
   "cell_type": "code",
   "execution_count": 92,
   "metadata": {},
   "outputs": [],
   "source": [
    "def evaluate(base_stats, base_perm_scores, exp_stats, exp_perm_scores, names):\n",
    "    # Sort molecules in ascending order of baseline AUC score, keeping only molecules with AUC scores above 0.5\n",
    "    normal_auc = np.where((base_stats['auc'] > 0.5))\n",
    "    abnormal_auc = np.where((base_stats['auc']) < 0.5)\n",
    "    ordered_base = np.sort(base_stats[normal_auc], order='auc', axis=0)[::-1]\n",
    "\n",
    "    # Take top 30 and bottom 5 substructures by AUC score to use for boxplots.\n",
    "    sample_fps = ordered_base[:30]\n",
    "    sample_fps = np.append(sample_fps, ordered_base[-5:])\n",
    "\n",
    "    # Plot number of substructures with AUC scores above 0.7 and above 0.5 for both data sets\n",
    "    base_above_07 = len(np.where((base_stats['auc'] >= 0.7))[0])\n",
    "    exp_above_07 = len(np.where((exp_stats['auc'] >= 0.7))[0])\n",
    "    base_above_05 = len(np.where((base_stats['auc'] >= 0.5))[0])\n",
    "    exp_above_05 = len(np.where((exp_stats['auc'] >= 0.5))[0])\n",
    "\n",
    "    fig, ax = plt.subplots()\n",
    "    index = np.arange(2)\n",
    "    bar_width = 0.35\n",
    "    opacity = 0.5\n",
    "    ax.bar(index, (base_above_05, base_above_07), bar_width, alpha=opacity, color='b', label='Baseline')\n",
    "    ax.bar(index + bar_width, (exp_above_05, exp_above_07), bar_width, alpha=opacity, color='r', label='Experiment')\n",
    "\n",
    "    ax.set_xlabel('AUC Threshold')\n",
    "    ax.set_ylabel('Number of Substructures')\n",
    "    ax.set_title('AUC Score Comparison')\n",
    "    ax.set_xticks(index + bar_width / 2)\n",
    "    ax.set_xticklabels(('Above 0.5', 'Above 0.7'))\n",
    "    ax.legend()\n",
    "\n",
    "    plt.show()\n",
    "\n",
    "    # Boxplots of sample substructures for both data sets\n",
    "    boxplots(base_stats, base_perm_scores, sample_fps, names)\n",
    "    boxplots(exp_stats, exp_perm_scores, sample_fps, names)\n",
    "    tandem_boxplots(base_stats, base_perm_scores, exp_stats, sample_fps, names)\n",
    "\n",
    "    # Sort molecules in ascending order of experimental AUC score, keeping only molecules with AUC scores above 0.5\n",
    "    normal_auc = np.where((exp_stats['auc'] > 0.5))\n",
    "    abnormal_auc = np.where((exp_stats['auc']) < 0.5)\n",
    "    ordered_exp = np.sort(exp_stats[normal_auc], order='auc', axis=0)[::-1]\n",
    "\n",
    "    # Take top 30 and bottom 5 substructures by AUC score to use for boxplots.\n",
    "    sample_fps = ordered_exp[:30]\n",
    "    sample_fps = np.append(sample_fps, ordered_exp[-5:])\n",
    "\n",
    "    boxplots(base_stats, base_perm_scores, sample_fps, names)\n",
    "    boxplots(exp_stats, exp_perm_scores, sample_fps, names)\n",
    "    tandem_boxplots(base_stats, exp_perm_scores, exp_stats, sample_fps, names)"
   ]
  },
  {
   "cell_type": "code",
   "execution_count": 93,
   "metadata": {},
   "outputs": [
    {
     "data": {
      "image/png": "[encoded data removed]",
      "text/plain": [
       "<Figure size 432x288 with 1 Axes>"
      ]
     },
     "metadata": {
      "needs_background": "light"
     },
     "output_type": "display_data"
    },
    {
     "ename": "NameError",
     "evalue": "name 'boxplots' is not defined",
     "output_type": "error",
     "traceback": [
      "\u001b[1;31m---------------------------------------------------------------------------\u001b[0m",
      "\u001b[1;31mNameError\u001b[0m                                 Traceback (most recent call last)",
      "\u001b[1;32m<ipython-input-93-0ecc0f618fca>\u001b[0m in \u001b[0;36m<module>\u001b[1;34m\u001b[0m\n\u001b[1;32m----> 1\u001b[1;33m \u001b[0mevaluate\u001b[0m\u001b[1;33m(\u001b[0m\u001b[0mbaseline_stats\u001b[0m\u001b[1;33m,\u001b[0m \u001b[0mbaseline_perm_scores\u001b[0m\u001b[1;33m,\u001b[0m \u001b[0mexp_stats\u001b[0m\u001b[1;33m,\u001b[0m \u001b[0mexp_perm_scores\u001b[0m\u001b[1;33m,\u001b[0m \u001b[0mrange\u001b[0m\u001b[1;33m(\u001b[0m\u001b[1;36m154\u001b[0m\u001b[1;33m)\u001b[0m\u001b[1;33m)\u001b[0m\u001b[1;33m\u001b[0m\u001b[0m\n\u001b[0m",
      "\u001b[1;32m<ipython-input-92-de634aa77b44>\u001b[0m in \u001b[0;36mevaluate\u001b[1;34m(base_stats, base_perm_scores, exp_stats, exp_perm_scores, names)\u001b[0m\n\u001b[0;32m     32\u001b[0m \u001b[1;33m\u001b[0m\u001b[0m\n\u001b[0;32m     33\u001b[0m     \u001b[1;31m# Boxplots of sample substructures for both data sets\u001b[0m\u001b[1;33m\u001b[0m\u001b[1;33m\u001b[0m\u001b[0m\n\u001b[1;32m---> 34\u001b[1;33m     \u001b[0mboxplots\u001b[0m\u001b[1;33m(\u001b[0m\u001b[0mbase_stats\u001b[0m\u001b[1;33m,\u001b[0m \u001b[0mbase_perm_scores\u001b[0m\u001b[1;33m,\u001b[0m \u001b[0msample_fps\u001b[0m\u001b[1;33m,\u001b[0m \u001b[0mnames\u001b[0m\u001b[1;33m)\u001b[0m\u001b[1;33m\u001b[0m\u001b[0m\n\u001b[0m\u001b[0;32m     35\u001b[0m     \u001b[0mboxplots\u001b[0m\u001b[1;33m(\u001b[0m\u001b[0mexp_stats\u001b[0m\u001b[1;33m,\u001b[0m \u001b[0mexp_perm_scores\u001b[0m\u001b[1;33m,\u001b[0m \u001b[0msample_fps\u001b[0m\u001b[1;33m,\u001b[0m \u001b[0mnames\u001b[0m\u001b[1;33m)\u001b[0m\u001b[1;33m\u001b[0m\u001b[0m\n\u001b[0;32m     36\u001b[0m     \u001b[0mtandem_boxplots\u001b[0m\u001b[1;33m(\u001b[0m\u001b[0mbase_stats\u001b[0m\u001b[1;33m,\u001b[0m \u001b[0mbase_perm_scores\u001b[0m\u001b[1;33m,\u001b[0m \u001b[0mexp_stats\u001b[0m\u001b[1;33m,\u001b[0m \u001b[0msample_fps\u001b[0m\u001b[1;33m,\u001b[0m \u001b[0mnames\u001b[0m\u001b[1;33m)\u001b[0m\u001b[1;33m\u001b[0m\u001b[0m\n",
      "\u001b[1;31mNameError\u001b[0m: name 'boxplots' is not defined"
     ]
    }
   ],
   "source": [
    "evaluate(baseline_stats, baseline_perm_scores, exp_stats, exp_perm_scores, range(154))"
   ]
  },
  {
   "cell_type": "code",
   "execution_count": null,
   "metadata": {},
   "outputs": [],
   "source": []
  }
 ],
 "metadata": {
  "kernelspec": {
   "display_name": "Python 3",
   "language": "python",
   "name": "python3"
  },
  "language_info": {
   "codemirror_mode": {
    "name": "ipython",
    "version": 3
   },
   "file_extension": ".py",
   "mimetype": "text/x-python",
   "name": "python",
   "nbconvert_exporter": "python",
   "pygments_lexer": "ipython3",
   "version": "3.6.6"
  }
 },
 "nbformat": 4,
 "nbformat_minor": 2
}

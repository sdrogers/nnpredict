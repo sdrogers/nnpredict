{
 "cells": [
  {
   "cell_type": "code",
   "execution_count": 104,
   "metadata": {},
   "outputs": [],
   "source": [
    "import os\n",
    "import json\n",
    "import numpy as np\n",
    "from rdkit import Chem\n",
    "\n",
    "from matplotlib import pyplot as plt\n",
    "from itertools import islice\n",
    "import pandas as pd\n",
    "import re\n",
    "from sklearn import metrics\n",
    "from scipy import stats"
   ]
  },
  {
   "cell_type": "code",
   "execution_count": 13,
   "metadata": {},
   "outputs": [],
   "source": [
    "gnps_dir = \"G:\\\\Dev\\\\Data\\\\GNPS For Family\"\n",
    "\n",
    "path = \"G:\\\\Dev\\\\CSIFingerID\\\\\"\n",
    "sample_fingerprints_legend_path = path + \"fingerprints.csv\"\n",
    "output_file_dir = path + \"all_sirius_output_minibatches\"\n",
    "\n",
    "json_file_dir = \"G:\\\\Dev\\\\trees_gnps\"\n",
    "fragments_occurences = \"G:\\\\Dev\\\\fragment_occurences.csv\"\n",
    "losses_occurences = \"G:\\\\Dev\\\\losses_occurences.csv\"\n",
    "\n",
    "fingerprints_path = \"G:\\\\Dev\\\\Data\\\\1000\\\\GNPS Python Master\\\\Final Fingerprints.txt\""
   ]
  },
  {
   "cell_type": "code",
   "execution_count": 14,
   "metadata": {},
   "outputs": [],
   "source": [
    "fragments_df = pd.read_csv(fragments_occurences, names=[\"formula\", \"occurences\"])\n",
    "fragments_df = fragments_df.set_index(\"formula\")\n",
    "losses_df = pd.read_csv(losses_occurences, names=[\"formula\", \"occurences\"])\n",
    "losses_df = losses_df.set_index(\"formula\")"
   ]
  },
  {
   "cell_type": "code",
   "execution_count": 15,
   "metadata": {},
   "outputs": [
    {
     "name": "stdout",
     "output_type": "stream",
     "text": [
      "Index(['CO_loss', 'H2O_loss', 'C2H2_loss', 'CH3_loss', 'CHN_loss', 'CH4_loss',\n",
      "       'H3N_loss', 'H2_loss', 'C2H4_loss', 'C2H2O_loss',\n",
      "       ...\n",
      "       'C3H8S_loss', 'OP_loss', 'CH2N3_loss', 'C7H7NO3_loss', 'O2P_loss',\n",
      "       'C2H5NOS_loss', 'C10H4N3_loss', 'C9H17O3_loss', 'C3H7N4_loss',\n",
      "       'C4H6NO2_loss'],\n",
      "      dtype='object', length=892)\n",
      "Index(['BrH_loss', 'Br_loss', 'C10', 'C10H10', 'C10H10ClN', 'C10H10ClNO',\n",
      "       'C10H10ClNO2', 'C10H10F2O2', 'C10H10FN', 'C10H10N',\n",
      "       ...\n",
      "       'O2_loss', 'O3S_loss', 'O3_loss', 'O4_loss', 'O5_loss', 'OP_loss',\n",
      "       'OS_loss', 'O_loss', 'S2_loss', 'S_loss'],\n",
      "      dtype='object', length=5508)\n"
     ]
    }
   ],
   "source": [
    "losses_df.index = [index + \"_loss\" for index in losses_df.index]\n",
    "print(losses_df.index)\n",
    "combined_index = fragments_df.index.union(losses_df.index)\n",
    "print(combined_index)"
   ]
  },
  {
   "cell_type": "code",
   "execution_count": 16,
   "metadata": {},
   "outputs": [],
   "source": [
    "spectrum_smiles = {}\n",
    "spectrum_formula = {}\n",
    "\n",
    "for file in os.listdir(gnps_dir):\n",
    "    filepath = os.path.join(gnps_dir, file)\n",
    "    with open(filepath, 'r') as f:\n",
    "        content = f.readlines()\n",
    "        smiles = content[6].split(\" \")[1][:-1]\n",
    "        formula = content[1].split(\" \")[1][:-1]\n",
    "        mol_name = file[:-3]\n",
    "        spectrum_smiles[mol_name] = smiles\n",
    "        spectrum_formula[mol_name] = formula"
   ]
  },
  {
   "cell_type": "code",
   "execution_count": 17,
   "metadata": {},
   "outputs": [],
   "source": [
    "def file_has_fingerprint(file_content):\n",
    "    return \"fingerprints.csv\" in file_content\n",
    "\n",
    "def file_incomplete(file_content):\n",
    "    return len(file_content) <= 2\n",
    "\n",
    "def retrieve_fingerprint_file(formula, folder):\n",
    "    content = os.listdir(folder)\n",
    "    return next((filename for filename in content if formula in filename), None)"
   ]
  },
  {
   "cell_type": "code",
   "execution_count": 208,
   "metadata": {},
   "outputs": [],
   "source": [
    "def load_fingerprints(mol_ids, fingerprint_smarts):\n",
    "    fingerprints = pd.DataFrame(0, index=mol_ids, columns=range(154), dtype=int)\n",
    "    for index in fingerprints.index:\n",
    "        if index in spectrum_smiles:\n",
    "            smiles = spectrum_smiles[index]\n",
    "            m = Chem.MolFromSmiles(smiles)\n",
    "            for i, smarts in enumerate(fingerprint_smarts):\n",
    "                patt = Chem.MolFromSmarts(smarts)\n",
    "                fingerprints.at[index, i] = int(m.HasSubstructMatch(patt))\n",
    "            \n",
    "    return fingerprints\n",
    "\n",
    "def load_csi_fingerprints(output_file_dir, mol_folder_file):\n",
    "    mol_ids = [entry[1] for entry in mol_folder_file]\n",
    "    fingerprints = pd.DataFrame(0, index=mol_ids, columns=range(154), dtype=float)\n",
    "    for directory, mol, formula, fpt_file in mol_folder_file:\n",
    "        file_dir = os.path.join(output_file_dir, directory)\n",
    "        folder = \"1_{0}_{1}\".format(directory, mol)\n",
    "        fingerprints_file_dir = os.path.join(os.path.join(file_dir, folder), \"fingerprints\")\n",
    "        fingerprint_file = os.listdir(fingerprints_file_dir)[0]\n",
    "        full_fingerprint_filepath = os.path.join(fingerprints_file_dir, fingerprint_file)\n",
    "        with open(full_fingerprint_filepath, 'r') as f:\n",
    "            content = f.readlines()\n",
    "            rel_content = content[:154]\n",
    "            for index, prediction in enumerate(rel_content):\n",
    "                fingerprints.at[mol, index] = float(prediction[:-1])\n",
    "\n",
    "    return fingerprints"
   ]
  },
  {
   "cell_type": "code",
   "execution_count": 19,
   "metadata": {},
   "outputs": [],
   "source": [
    "desc_list = []\n",
    "\n",
    "with open(sample_fingerprints_legend_path, 'r') as f:\n",
    "    for line in f:\n",
    "        rel_index, abs_index, desc = line.split(\"\\t\")\n",
    "        if desc[:-1] != \"description\":\n",
    "            desc_list.append(desc[:-1])\n",
    "\n",
    "desc_list = desc_list[:154]\n",
    "fingerprint_smarts = [entry.split(\" \")[0] for entry in desc_list]"
   ]
  },
  {
   "cell_type": "code",
   "execution_count": 196,
   "metadata": {},
   "outputs": [
    {
     "name": "stdout",
     "output_type": "stream",
     "text": [
      "25\n",
      "56\n",
      "219\n"
     ]
    }
   ],
   "source": [
    "correct_folder_file = []\n",
    "wrong_folder_file = []\n",
    "no_fingerprints_folder_file = []\n",
    "\n",
    "for directory in os.listdir(output_file_dir):\n",
    "    file_dir = os.path.join(output_file_dir, directory)\n",
    "    files_in_output_dir = os.listdir(file_dir)\n",
    "    if file_has_fingerprint(files_in_output_dir):\n",
    "        mol = files_in_output_dir[1].split(\"_\")[-1]\n",
    "        folder = \"1_{0}_{1}\".format(directory, mol)\n",
    "        fingerprints_file_dir = os.path.join(os.path.join(file_dir, folder), \"fingerprints\")\n",
    "        if mol in spectrum_formula:\n",
    "            formula = spectrum_formula[mol]\n",
    "            file = retrieve_fingerprint_file(formula, fingerprints_file_dir)\n",
    "            if file:\n",
    "                correct_folder_file.append((directory, mol, formula, file))\n",
    "            else:\n",
    "                wrong_folder_file.append((directory, mol, formula, os.listdir(fingerprints_file_dir)[0]))\n",
    "    else:\n",
    "        if len(os.listdir(file_dir)) > 2:\n",
    "            index, dir_name, mol_name = os.listdir(file_dir)[1].split(\"_\")\n",
    "            no_fingerprints_folder_file.append((directory, mol_name))\n",
    "        \n",
    "print(len(correct_folder_file))\n",
    "print(len(wrong_folder_file))\n",
    "print(len(no_fingerprints_folder_file))"
   ]
  },
  {
   "cell_type": "code",
   "execution_count": 197,
   "metadata": {},
   "outputs": [],
   "source": [
    "wrong_mol_names = [folder_file[1] for folder_file in wrong_folder_file]\n",
    "correct_mol_names = [folder_file[1] for folder_file in correct_folder_file]\n",
    "no_fingerprints_mol_names = [folder_file[1] for folder_file in no_fingerprints_folder_file]"
   ]
  },
  {
   "cell_type": "markdown",
   "metadata": {},
   "source": [
    "Train our final model"
   ]
  },
  {
   "cell_type": "code",
   "execution_count": 24,
   "metadata": {},
   "outputs": [],
   "source": [
    "component_set = set()\n",
    "\n",
    "for formula in combined_index:\n",
    "    pure_formula = formula.split('_loss')\n",
    "    components = re.findall('[A-Z][^A-Z\\d]*', pure_formula[0])\n",
    "    for component in components:\n",
    "        component_set.add(component)\n",
    "\n",
    "mol_mass = {'C': 12.00000000000, 'H': 1.00782503214, 'O': 15.99491462210, 'N': 14.00307400524,\n",
    "            'P': 30.97376151200, 'S': 31.97207069000, 'Cl': 34.96885271000, 'I': 126.904468, 'Br': 78.9183376,\n",
    "            'Si': 27.9769265327, 'F': 18.99840320500, 'D': 2.01410177800}\n",
    "\n",
    "ion_mass = {'H': 1.007276, 'Na': 22.989218, 'K': 38.963158}\n",
    "\n",
    "def get_number(string):\n",
    "    num = 1\n",
    "    num_in_string = re.findall(\"[\\d]+\", string)\n",
    "    if len(num_in_string) > 0:\n",
    "        num = int(num_in_string[0])\n",
    "    return num\n",
    "\n",
    "def get_string(string):\n",
    "    return re.findall(\"[^\\d]+\", string)[0]  \n",
    "\n",
    "def get_molecular_mass(formula):\n",
    "    mass = 0.0\n",
    "    segments = re.findall('[A-Z][a-z]*[0-9]*', formula)\n",
    "    for segment in segments:\n",
    "        mass += mol_mass[get_string(segment)] * get_number(segment)\n",
    "    \n",
    "    return mass\n",
    "\n",
    "fragment_mass_to_formula_dict = {}\n",
    "loss_mass_to_formula_dict = {}\n",
    "\n",
    "for formula in fragments_df.index:\n",
    "    mass = get_molecular_mass(formula)\n",
    "    mass_int, decimals = str(mass).split(\".\")\n",
    "    if mass_int not in fragment_mass_to_formula_dict:\n",
    "        fragment_mass_to_formula_dict[int(mass_int)] = {}\n",
    "    fragment_mass_to_formula_dict[int(mass_int)][float(mass)] = formula\n",
    "    \n",
    "for formula in losses_df.index:\n",
    "    pure_formula = formula.split('_loss')\n",
    "    mass = get_molecular_mass(pure_formula[0])\n",
    "    mass_int, decimals = str(mass).split(\".\")\n",
    "    if mass_int not in loss_mass_to_formula_dict:\n",
    "        loss_mass_to_formula_dict[int(mass_int)] = {}\n",
    "    loss_mass_to_formula_dict[int(mass_int)][float(mass)] = pure_formula[0]"
   ]
  },
  {
   "cell_type": "code",
   "execution_count": 25,
   "metadata": {},
   "outputs": [],
   "source": [
    "def subtract_formula(a, b):\n",
    "    string = \"\"\n",
    "    a_segments = re.findall('[A-Z][a-z]*[0-9]*', a)\n",
    "    b_segments = re.findall('[A-Z][a-z]*[0-9]*', b)\n",
    "\n",
    "    a_segment_count = [(get_string(a_segment), get_number(a_segment)) for a_segment in a_segments]\n",
    "\n",
    "    for b_segment in b_segments:\n",
    "        for index, a_segment in enumerate(a_segment_count):\n",
    "            if a_segment[0] == get_string(b_segment):\n",
    "                a_segment_count[index] = (a_segment[0], a_segment[1] - get_number(b_segment))\n",
    "\n",
    "    for component, amount in a_segment_count:\n",
    "        if amount != 0:\n",
    "            if amount == 1:\n",
    "                amount = \"\"\n",
    "            string += component + str(amount)\n",
    "\n",
    "    return string"
   ]
  },
  {
   "cell_type": "code",
   "execution_count": 26,
   "metadata": {},
   "outputs": [],
   "source": [
    "def assign_between_bins(value, bins):\n",
    "    if len(bins) == 2:\n",
    "        bin1, bin2 = bins\n",
    "    elif len(bins) > 2:\n",
    "        differences_in_bins = [(mass_bin, abs(value-mass_bin)) for mass_bin in bins]\n",
    "        differences_in_bins.sort(key = lambda t: t[1])\n",
    "        bin1, bin2 = differences_in_bins[:2]\n",
    "        \n",
    "    biggest_bin = max(bin1, bin2)\n",
    "    differences = [(bin1, abs(value - bin1)), (bin2, abs(value - bin2))]\n",
    "    smallest_diff = min(differences, key = lambda t: t[1])\n",
    "    biggest_diff = max(differences, key = lambda t: t[1])\n",
    "    nearest_bin_allocation = (smallest_diff[0], 1-(smallest_diff[1]/float(biggest_bin)))\n",
    "    furthest_bin_allocation = (biggest_diff[0], smallest_diff[1]/float(biggest_bin))\n",
    "    \n",
    "    return nearest_bin_allocation, furthest_bin_allocation"
   ]
  },
  {
   "cell_type": "code",
   "execution_count": 82,
   "metadata": {},
   "outputs": [],
   "source": [
    "def convert_lines_to_list(lines):\n",
    "    mass_intensity_list = []\n",
    "    for line in lines:\n",
    "        if ' ' in line:  # Only lines with mass and intensity values have a space. Ignores label/blank lines\n",
    "            split_line = line.split()\n",
    "            mass = float(split_line[0])\n",
    "            intensity = float(split_line[1])\n",
    "            mass_intensity_list.append((mass, intensity))\n",
    "            \n",
    "    return mass_intensity_list\n",
    "\n",
    "def count_intensities_in_vector(mass_intensities, ionization):\n",
    "    total_intensity = 0\n",
    "    assigned_mass = set()\n",
    "    \n",
    "    for mass, intensity in mass_intensities:\n",
    "        non_ionized_mass = mass - ionization\n",
    "        mass_int, decimals = str(non_ionized_mass).split(\".\")\n",
    "        if int(mass_int) in fragment_mass_to_formula_dict:\n",
    "            for full_mass, formula in fragment_mass_to_formula_dict[int(mass_int)].items():\n",
    "                if full_mass-0.025 <= non_ionized_mass <= full_mass+0.025: # within 0.05 width\n",
    "                    total_intensity += intensity\n",
    "                    \n",
    "    return total_intensity"
   ]
  },
  {
   "cell_type": "code",
   "execution_count": 198,
   "metadata": {},
   "outputs": [],
   "source": [
    "def assign_to_tree(mol_ids, folder_files):\n",
    "    tree_intensities = pd.DataFrame(0.0, index=mol_ids, columns=combined_index, dtype=float)\n",
    "        \n",
    "    for folder_file in folder_files:\n",
    "        ionization_entries_count = []\n",
    "        if len(folder_file) > 2:\n",
    "            directory, mol, formula, fpt_file = folder_file\n",
    "        else:\n",
    "            directory, mol = folder_file\n",
    "            \n",
    "        spec_path = output_file_dir + \"\\\\\" + directory + \"\\\\1_{0}_{1}\\\\\".format(directory, mol) + \"spectrum.ms\"\n",
    "        if os.path.isfile(spec_path):\n",
    "            split_count = 0\n",
    "            assigned_formula_intensity = []\n",
    "            with open(spec_path, 'r') as f:\n",
    "                content = f.readlines()\n",
    "                cursor = 0\n",
    "                print(directory, mol)\n",
    "                while not content[cursor].startswith(\">ms2peaks\"):\n",
    "                    cursor += 1\n",
    "\n",
    "                mass_intensity_list = convert_lines_to_list(content[cursor+1:])\n",
    "\n",
    "                for ion in ion_mass.keys():\n",
    "                    ionization_entries_count.append((ion, count_intensities_in_vector(mass_intensity_list, ion_mass[ion])))\n",
    "                ion_with_most_entries = max(ionization_entries_count, key=lambda x:x[1])[0]\n",
    "                ionization = ion_mass[ion_with_most_entries]\n",
    "\n",
    "                for mass, intensity in mass_intensity_list:\n",
    "                    non_ionized_mass = mass - ionization\n",
    "                    mass_int, decimals = str(non_ionized_mass).split(\".\")\n",
    "                    if int(mass_int) in fragment_mass_to_formula_dict:\n",
    "                        chosen_bins = []\n",
    "                        for full_mass, formula in fragment_mass_to_formula_dict[int(mass_int)].items():\n",
    "                            if full_mass-0.025 <= non_ionized_mass <= full_mass+0.025: # within 0.05 width\n",
    "                                chosen_bins.append(full_mass)\n",
    "\n",
    "                        if len(chosen_bins) > 1:\n",
    "                            nearest_bin_allocation, furthest_bin_allocation = assign_between_bins(chosen_bins)\n",
    "                            tree_intensities.at[mol, fragment_mass_to_formula_dict[int(mass_int)][nearest_bin_allocation[0]]] += float(intensity) * nearest_bin_allocation[1]\n",
    "                            tree_intensities.at[mol, fragment_mass_to_formula_dict[int(mass_int)][furthest_bin_allocation[0]]] += float(intensity) * furthest_bin_allocation[1]\n",
    "                            assigned_formula_intensity.append((fragment_mass_to_formula_dict[int(mass_int)][nearest_bin_allocation[0]], \n",
    "                                                               nearest_bin_allocation[0], intensity*nearest_bin_allocation[1]))\n",
    "                            assigned_formula_intensity.append((fragment_mass_to_formula_dict[int(mass_int)][furthest_bin_allocation[0]], \n",
    "                                                               furthest_bin_allocation[0], intensity*furthest_bin_allocation[1]))\n",
    "                            split_count += 1\n",
    "\n",
    "                        elif len(chosen_bins) == 1:\n",
    "                            tree_intensities.at[mol, fragment_mass_to_formula_dict[int(mass_int)][chosen_bins[0]]] += float(intensity)\n",
    "                            assigned_formula_intensity.append((fragment_mass_to_formula_dict[int(mass_int)][chosen_bins[0]], chosen_bins[0], intensity))\n",
    "\n",
    "                        else:\n",
    "                            continue\n",
    "\n",
    "                assigned_formula_intensity.sort(key = lambda t: t[1])\n",
    "                assigned_formula_intensity.reverse() # highest to smallest\n",
    "\n",
    "                peak_differences = [(subtract_formula(formula_intensity_i[0], formula_intensity_j[0]) + \"_loss\", \n",
    "                                     (formula_intensity_i[2] + formula_intensity_j[2]) / 2.0 ) \n",
    "                                    for i, formula_intensity_i in enumerate(assigned_formula_intensity)\n",
    "                                    for j, formula_intensity_j in enumerate(assigned_formula_intensity) \n",
    "                                    if i != j \n",
    "                                    and j > i\n",
    "                                    and len(re.findall('[A-Z][a-z]*[0-9]*', formula_intensity_i[0])) >= len(re.findall('[A-Z][a-z]*[0-9]*', formula_intensity_j[0]))\n",
    "                                    and subtract_formula(formula_intensity_i[0], formula_intensity_j[0]) + \"_loss\" in losses_df.index]\n",
    "\n",
    "                for formula, intensity in peak_differences:\n",
    "                    tree_intensities.at[mol, formula] += float(intensity)\n",
    "\n",
    "                if np.amax(tree_intensities.loc[mol]) > 0:\n",
    "                    tree_intensities.loc[mol] = tree_intensities.loc[mol].div(np.amax(tree_intensities.loc[mol].values)).mul(999)\n",
    "\n",
    "        else:\n",
    "            tree_intensities.drop(mol, inplace=True)\n",
    "            \n",
    "    return tree_intensities"
   ]
  },
  {
   "cell_type": "code",
   "execution_count": 29,
   "metadata": {},
   "outputs": [],
   "source": [
    "assigned_tree_path = \"G:\\\\Dev\\\\Data\\\\assigned_tree_final.pkl\""
   ]
  },
  {
   "cell_type": "code",
   "execution_count": 30,
   "metadata": {},
   "outputs": [
    {
     "name": "stdout",
     "output_type": "stream",
     "text": [
      "                    BrH_loss  Br_loss       C10  C10H10  C10H10ClN  \\\n",
      "CCMSLIB00000001548       0.0      0.0  0.000000     0.0        0.0   \n",
      "CCMSLIB00000001549       0.0      0.0  0.000000     0.0        0.0   \n",
      "CCMSLIB00000001550       0.0      0.0  0.000000     0.0        0.0   \n",
      "CCMSLIB00000001555       0.0      0.0  0.000000     0.0        0.0   \n",
      "CCMSLIB00000001563       0.0      0.0  0.000000     0.0        0.0   \n",
      "CCMSLIB00000001565       0.0      0.0  0.000000     0.0        0.0   \n",
      "CCMSLIB00000001566       0.0      0.0  0.000000     0.0        0.0   \n",
      "CCMSLIB00000001568       0.0      0.0  0.000000     0.0        0.0   \n",
      "CCMSLIB00000001569       0.0      0.0  0.000000     0.0        0.0   \n",
      "CCMSLIB00000001570       0.0      0.0  0.000000     0.0        0.0   \n",
      "CCMSLIB00000001572       0.0      0.0  0.000000     0.0        0.0   \n",
      "CCMSLIB00000001574       0.0      0.0  0.000000     0.0        0.0   \n",
      "CCMSLIB00000001576       0.0      0.0  0.000000     0.0        0.0   \n",
      "CCMSLIB00000001581       0.0      0.0  0.000000     0.0        0.0   \n",
      "CCMSLIB00000001590       0.0      0.0  0.000000     0.0        0.0   \n",
      "CCMSLIB00000001598       0.0      0.0  0.000000     0.0        0.0   \n",
      "CCMSLIB00000001600       0.0      0.0  0.000000     0.0        0.0   \n",
      "CCMSLIB00000001601       0.0      0.0  0.000000     0.0        0.0   \n",
      "CCMSLIB00000001602       0.0      0.0  0.000000     0.0        0.0   \n",
      "CCMSLIB00000001603       0.0      0.0  0.000000     0.0        0.0   \n",
      "CCMSLIB00000001604       0.0      0.0  0.000000     0.0        0.0   \n",
      "CCMSLIB00000001606       0.0      0.0  0.000000     0.0        0.0   \n",
      "CCMSLIB00000001607       0.0      0.0  0.000000     0.0        0.0   \n",
      "CCMSLIB00000001608       0.0      0.0  0.000000     0.0        0.0   \n",
      "CCMSLIB00000001609       0.0      0.0  0.000000     0.0        0.0   \n",
      "CCMSLIB00000001615       0.0      0.0  0.000000     0.0        0.0   \n",
      "CCMSLIB00000001616       0.0      0.0  0.000000     0.0        0.0   \n",
      "CCMSLIB00000001617       0.0      0.0  0.000000     0.0        0.0   \n",
      "CCMSLIB00000001621       0.0      0.0  0.000000     0.0        0.0   \n",
      "CCMSLIB00000001622       0.0      0.0  0.000000     0.0        0.0   \n",
      "...                      ...      ...       ...     ...        ...   \n",
      "CCMSLIB00000579896       0.0      0.0  0.000000     0.0        0.0   \n",
      "CCMSLIB00000579897       0.0      0.0  0.000000     0.0        0.0   \n",
      "CCMSLIB00000579898       0.0      0.0  0.000000     0.0        0.0   \n",
      "CCMSLIB00000579899       0.0      0.0  0.000000     0.0        0.0   \n",
      "CCMSLIB00000579900       0.0      0.0  0.000000     0.0        0.0   \n",
      "CCMSLIB00000579901       0.0      0.0  0.000000     0.0        0.0   \n",
      "CCMSLIB00000579902       0.0      0.0  0.000000     0.0        0.0   \n",
      "CCMSLIB00000579903       0.0      0.0  0.000000     0.0        0.0   \n",
      "CCMSLIB00000579904       0.0      0.0  0.000000     0.0        0.0   \n",
      "CCMSLIB00000579905       0.0      0.0  0.000000     0.0        0.0   \n",
      "CCMSLIB00000579906       0.0      0.0  0.000000     0.0        0.0   \n",
      "CCMSLIB00000579907       0.0      0.0  0.000000     0.0        0.0   \n",
      "CCMSLIB00000579908       0.0      0.0  0.000000     0.0        0.0   \n",
      "CCMSLIB00000579909       0.0      0.0  4.707422     0.0        0.0   \n",
      "CCMSLIB00000579910       0.0      0.0  0.000000     0.0        0.0   \n",
      "CCMSLIB00000579911       0.0      0.0  0.000000     0.0        0.0   \n",
      "CCMSLIB00000579912       0.0      0.0  0.000000     0.0        0.0   \n",
      "CCMSLIB00000579913       0.0      0.0  0.000000     0.0        0.0   \n",
      "CCMSLIB00000579914       0.0      0.0  0.000000     0.0        0.0   \n",
      "CCMSLIB00000579915       0.0      0.0  0.000000     0.0        0.0   \n",
      "CCMSLIB00000579916       0.0      0.0  0.000000     0.0        0.0   \n",
      "CCMSLIB00000579917       0.0      0.0  0.000000     0.0        0.0   \n",
      "CCMSLIB00000579918       0.0      0.0  0.000000     0.0        0.0   \n",
      "CCMSLIB00000579919       0.0      0.0  0.000000     0.0        0.0   \n",
      "CCMSLIB00000579920       0.0      0.0  0.000000     0.0        0.0   \n",
      "CCMSLIB00000579921       0.0      0.0  0.000000     0.0        0.0   \n",
      "CCMSLIB00000579922       0.0      0.0  0.000000     0.0        0.0   \n",
      "CCMSLIB00000579923       0.0      0.0  0.000000     0.0        0.0   \n",
      "CCMSLIB00000579924       0.0      0.0  0.000000     0.0        0.0   \n",
      "CCMSLIB00000579925       0.0      0.0  0.000000     0.0        0.0   \n",
      "\n",
      "                    C10H10ClNO  C10H10ClNO2  C10H10F2O2  C10H10FN  C10H10N  \\\n",
      "CCMSLIB00000001548    0.000000          0.0         0.0       0.0      0.0   \n",
      "CCMSLIB00000001549  385.558788          0.0         0.0       0.0      0.0   \n",
      "CCMSLIB00000001550    0.000000          0.0         0.0       0.0      0.0   \n",
      "CCMSLIB00000001555    0.000000          0.0         0.0       0.0      0.0   \n",
      "CCMSLIB00000001563    0.000000          0.0         0.0       0.0      0.0   \n",
      "CCMSLIB00000001565    0.000000          0.0         0.0       0.0      0.0   \n",
      "CCMSLIB00000001566    0.000000          0.0         0.0       0.0      0.0   \n",
      "CCMSLIB00000001568    0.000000          0.0         0.0       0.0      0.0   \n",
      "CCMSLIB00000001569    0.000000          0.0         0.0       0.0      0.0   \n",
      "CCMSLIB00000001570    0.000000          0.0         0.0       0.0      0.0   \n",
      "CCMSLIB00000001572    0.000000          0.0         0.0       0.0      0.0   \n",
      "CCMSLIB00000001574    0.000000          0.0         0.0       0.0      0.0   \n",
      "CCMSLIB00000001576    0.000000          0.0         0.0       0.0      0.0   \n",
      "CCMSLIB00000001581    0.000000          0.0         0.0       0.0      0.0   \n",
      "CCMSLIB00000001590    0.000000          0.0         0.0       0.0      0.0   \n",
      "CCMSLIB00000001598    0.000000          0.0         0.0       0.0      0.0   \n",
      "CCMSLIB00000001600    0.000000          0.0         0.0       0.0      0.0   \n",
      "CCMSLIB00000001601    0.000000          0.0         0.0       0.0      0.0   \n",
      "CCMSLIB00000001602    0.000000          0.0         0.0       0.0      0.0   \n",
      "CCMSLIB00000001603    0.000000          0.0         0.0       0.0      0.0   \n",
      "CCMSLIB00000001604    0.000000          0.0         0.0       0.0      0.0   \n",
      "CCMSLIB00000001606    0.000000          0.0         0.0       0.0      0.0   \n",
      "CCMSLIB00000001607    0.000000          0.0         0.0       0.0      0.0   \n",
      "CCMSLIB00000001608    0.000000          0.0         0.0       0.0      0.0   \n",
      "CCMSLIB00000001609    0.000000          0.0         0.0       0.0      0.0   \n",
      "CCMSLIB00000001615    0.000000          0.0         0.0       0.0      0.0   \n",
      "CCMSLIB00000001616    0.000000          0.0         0.0       0.0      0.0   \n",
      "CCMSLIB00000001617    0.000000          0.0         0.0       0.0      0.0   \n",
      "CCMSLIB00000001621    0.000000          0.0         0.0       0.0      0.0   \n",
      "CCMSLIB00000001622    0.000000          0.0         0.0       0.0      0.0   \n",
      "...                        ...          ...         ...       ...      ...   \n",
      "CCMSLIB00000579896    0.000000          0.0         0.0       0.0      0.0   \n",
      "CCMSLIB00000579897    0.000000          0.0         0.0       0.0      0.0   \n",
      "CCMSLIB00000579898    0.000000          0.0         0.0       0.0      0.0   \n",
      "CCMSLIB00000579899    0.000000          0.0         0.0       0.0      0.0   \n",
      "CCMSLIB00000579900    0.000000          0.0         0.0       0.0      0.0   \n",
      "CCMSLIB00000579901    0.000000          0.0         0.0       0.0      0.0   \n",
      "CCMSLIB00000579902    0.000000          0.0         0.0       0.0      0.0   \n",
      "CCMSLIB00000579903    0.000000          0.0         0.0       0.0      0.0   \n",
      "CCMSLIB00000579904    0.000000          0.0         0.0       0.0      0.0   \n",
      "CCMSLIB00000579905    0.000000          0.0         0.0       0.0      0.0   \n",
      "CCMSLIB00000579906    0.000000          0.0         0.0       0.0      0.0   \n",
      "CCMSLIB00000579907    0.000000          0.0         0.0       0.0      0.0   \n",
      "CCMSLIB00000579908   35.392997          0.0         0.0       0.0      0.0   \n",
      "CCMSLIB00000579909    0.000000          0.0         0.0       0.0      0.0   \n",
      "CCMSLIB00000579910    0.000000          0.0         0.0       0.0      0.0   \n",
      "CCMSLIB00000579911    0.000000          0.0         0.0       0.0      0.0   \n",
      "CCMSLIB00000579912    0.000000          0.0         0.0       0.0      0.0   \n",
      "CCMSLIB00000579913    0.000000          0.0         0.0       0.0      0.0   \n",
      "CCMSLIB00000579914    0.000000          0.0         0.0       0.0      0.0   \n",
      "CCMSLIB00000579915    0.000000          0.0         0.0       0.0      0.0   \n",
      "CCMSLIB00000579916    0.000000          0.0         0.0       0.0      0.0   \n",
      "CCMSLIB00000579917    0.000000          0.0         0.0       0.0      0.0   \n",
      "CCMSLIB00000579918    0.000000          0.0         0.0       0.0      0.0   \n",
      "CCMSLIB00000579919    0.000000          0.0         0.0       0.0      0.0   \n",
      "CCMSLIB00000579920    0.000000          0.0         0.0       0.0      0.0   \n",
      "CCMSLIB00000579921    0.000000          0.0         0.0       0.0      0.0   \n",
      "CCMSLIB00000579922    0.000000          0.0         0.0       0.0      0.0   \n",
      "CCMSLIB00000579923    0.000000          0.0         0.0       0.0      0.0   \n",
      "CCMSLIB00000579924    0.000000          0.0         0.0       0.0      0.0   \n",
      "CCMSLIB00000579925    0.000000          0.0         0.0       0.0      0.0   \n",
      "\n",
      "                     ...      O2_loss  O3S_loss    O3_loss  O4_loss  O5_loss  \\\n",
      "CCMSLIB00000001548   ...     0.000000       0.0   0.000000      0.0      0.0   \n",
      "CCMSLIB00000001549   ...     0.000000       0.0   0.000000      0.0      0.0   \n",
      "CCMSLIB00000001550   ...     0.000000       0.0   0.000000      0.0      0.0   \n",
      "CCMSLIB00000001555   ...     0.000000       0.0   0.000000      0.0      0.0   \n",
      "CCMSLIB00000001563   ...     0.000000       0.0   0.000000      0.0      0.0   \n",
      "CCMSLIB00000001565   ...     0.000000       0.0   0.000000      0.0      0.0   \n",
      "CCMSLIB00000001566   ...     0.000000       0.0   0.000000      0.0      0.0   \n",
      "CCMSLIB00000001568   ...     0.000000       0.0   0.000000      0.0      0.0   \n",
      "CCMSLIB00000001569   ...     0.000000       0.0   0.000000      0.0      0.0   \n",
      "CCMSLIB00000001570   ...     0.000000       0.0   0.000000      0.0      0.0   \n",
      "CCMSLIB00000001572   ...     0.000000       0.0   0.000000      0.0      0.0   \n",
      "CCMSLIB00000001574   ...     9.899821       0.0   0.000000      0.0      0.0   \n",
      "CCMSLIB00000001576   ...     0.000000       0.0   0.000000      0.0      0.0   \n",
      "CCMSLIB00000001581   ...     0.000000       0.0   0.000000      0.0      0.0   \n",
      "CCMSLIB00000001590   ...     0.000000       0.0   0.000000      0.0      0.0   \n",
      "CCMSLIB00000001598   ...     0.000000       0.0   0.000000      0.0      0.0   \n",
      "CCMSLIB00000001600   ...     0.000000       0.0  21.205997      0.0      0.0   \n",
      "CCMSLIB00000001601   ...     0.000000       0.0   0.000000      0.0      0.0   \n",
      "CCMSLIB00000001602   ...     0.000000       0.0   0.000000      0.0      0.0   \n",
      "CCMSLIB00000001603   ...     0.000000       0.0   0.000000      0.0      0.0   \n",
      "CCMSLIB00000001604   ...     0.000000       0.0   0.000000      0.0      0.0   \n",
      "CCMSLIB00000001606   ...    16.584325       0.0   0.000000      0.0      0.0   \n",
      "CCMSLIB00000001607   ...     0.000000       0.0   0.000000      0.0      0.0   \n",
      "CCMSLIB00000001608   ...     0.000000       0.0   0.000000      0.0      0.0   \n",
      "CCMSLIB00000001609   ...     0.000000       0.0   0.000000      0.0      0.0   \n",
      "CCMSLIB00000001615   ...     0.000000       0.0   0.000000      0.0      0.0   \n",
      "CCMSLIB00000001616   ...     0.000000       0.0   0.000000      0.0      0.0   \n",
      "CCMSLIB00000001617   ...    11.663548       0.0   0.000000      0.0      0.0   \n",
      "CCMSLIB00000001621   ...     0.000000       0.0   0.000000      0.0      0.0   \n",
      "CCMSLIB00000001622   ...     0.000000       0.0   0.000000      0.0      0.0   \n",
      "...                  ...          ...       ...        ...      ...      ...   \n",
      "CCMSLIB00000579896   ...     0.000000       0.0   0.000000      0.0      0.0   \n",
      "CCMSLIB00000579897   ...     0.000000       0.0   0.000000      0.0      0.0   \n",
      "CCMSLIB00000579898   ...     0.000000       0.0   0.000000      0.0      0.0   \n",
      "CCMSLIB00000579899   ...     0.000000       0.0   0.000000      0.0      0.0   \n",
      "CCMSLIB00000579900   ...     1.913946       0.0   0.000000      0.0      0.0   \n",
      "CCMSLIB00000579901   ...    16.353895       0.0   0.000000      0.0      0.0   \n",
      "CCMSLIB00000579902   ...     0.000000       0.0   0.000000      0.0      0.0   \n",
      "CCMSLIB00000579903   ...     0.000000       0.0   0.000000      0.0      0.0   \n",
      "CCMSLIB00000579904   ...     0.000000       0.0   0.000000      0.0      0.0   \n",
      "CCMSLIB00000579905   ...     0.000000       0.0   0.000000      0.0      0.0   \n",
      "CCMSLIB00000579906   ...     0.000000       0.0   0.000000      0.0      0.0   \n",
      "CCMSLIB00000579907   ...     0.000000       0.0   0.000000      0.0      0.0   \n",
      "CCMSLIB00000579908   ...     0.000000       0.0   0.000000      0.0      0.0   \n",
      "CCMSLIB00000579909   ...     0.000000       0.0   0.000000      0.0      0.0   \n",
      "CCMSLIB00000579910   ...     0.000000       0.0   0.000000      0.0      0.0   \n",
      "CCMSLIB00000579911   ...     0.000000       0.0   0.000000      0.0      0.0   \n",
      "CCMSLIB00000579912   ...     0.000000       0.0   0.000000      0.0      0.0   \n",
      "CCMSLIB00000579913   ...     0.000000       0.0   0.000000      0.0      0.0   \n",
      "CCMSLIB00000579914   ...     0.000000       0.0   0.000000      0.0      0.0   \n",
      "CCMSLIB00000579915   ...     0.000000       0.0   0.000000      0.0      0.0   \n",
      "CCMSLIB00000579916   ...     0.000000       0.0   0.000000      0.0      0.0   \n",
      "CCMSLIB00000579917   ...     0.000000       0.0   0.000000      0.0      0.0   \n",
      "CCMSLIB00000579918   ...     0.000000       0.0   0.000000      0.0      0.0   \n",
      "CCMSLIB00000579919   ...     0.000000       0.0   0.000000      0.0      0.0   \n",
      "CCMSLIB00000579920   ...     0.000000       0.0   0.000000      0.0      0.0   \n",
      "CCMSLIB00000579921   ...     0.000000       0.0   0.000000      0.0      0.0   \n",
      "CCMSLIB00000579922   ...     0.000000       0.0   0.000000      0.0      0.0   \n",
      "CCMSLIB00000579923   ...     0.000000       0.0   0.000000      0.0      0.0   \n",
      "CCMSLIB00000579924   ...     0.000000       0.0   0.000000      0.0      0.0   \n",
      "CCMSLIB00000579925   ...     0.000000       0.0   0.000000      0.0      0.0   \n",
      "\n",
      "                    OP_loss  OS_loss      O_loss  S2_loss  S_loss  \n",
      "CCMSLIB00000001548      0.0      0.0    0.000000      0.0     0.0  \n",
      "CCMSLIB00000001549      0.0      0.0    0.000000      0.0     0.0  \n",
      "CCMSLIB00000001550      0.0      0.0    0.000000      0.0     0.0  \n",
      "CCMSLIB00000001555      0.0      0.0    0.000000      0.0     0.0  \n",
      "CCMSLIB00000001563      0.0      0.0    0.000000      0.0     0.0  \n",
      "CCMSLIB00000001565      0.0      0.0    0.000000      0.0     0.0  \n",
      "CCMSLIB00000001566      0.0      0.0    0.000000      0.0     0.0  \n",
      "CCMSLIB00000001568      0.0      0.0    0.000000      0.0     0.0  \n",
      "CCMSLIB00000001569      0.0      0.0    0.000000      0.0     0.0  \n",
      "CCMSLIB00000001570      0.0      0.0    0.000000      0.0     0.0  \n",
      "CCMSLIB00000001572      0.0      0.0    0.000000      0.0     0.0  \n",
      "CCMSLIB00000001574      0.0      0.0    0.000000      0.0     0.0  \n",
      "CCMSLIB00000001576      0.0      0.0    0.000000      0.0     0.0  \n",
      "CCMSLIB00000001581      0.0      0.0    0.000000      0.0     0.0  \n",
      "CCMSLIB00000001590      0.0      0.0    0.000000      0.0     0.0  \n",
      "CCMSLIB00000001598      0.0      0.0    0.000000      0.0     0.0  \n",
      "CCMSLIB00000001600      0.0      0.0  379.909534      0.0     0.0  \n",
      "CCMSLIB00000001601      0.0      0.0    0.000000      0.0     0.0  \n",
      "CCMSLIB00000001602      0.0      0.0    0.000000      0.0     0.0  \n",
      "CCMSLIB00000001603      0.0      0.0    0.000000      0.0     0.0  \n",
      "CCMSLIB00000001604      0.0      0.0    0.000000      0.0     0.0  \n",
      "CCMSLIB00000001606      0.0      0.0    0.000000      0.0     0.0  \n",
      "CCMSLIB00000001607      0.0      0.0    0.000000      0.0     0.0  \n",
      "CCMSLIB00000001608      0.0      0.0    0.000000      0.0     0.0  \n",
      "CCMSLIB00000001609      0.0      0.0    0.000000      0.0     0.0  \n",
      "CCMSLIB00000001615      0.0      0.0   59.636414      0.0     0.0  \n",
      "CCMSLIB00000001616      0.0      0.0    0.000000      0.0     0.0  \n",
      "CCMSLIB00000001617      0.0      0.0    0.000000      0.0     0.0  \n",
      "CCMSLIB00000001621      0.0      0.0    0.000000      0.0     0.0  \n",
      "CCMSLIB00000001622      0.0      0.0    0.000000      0.0     0.0  \n",
      "...                     ...      ...         ...      ...     ...  \n",
      "CCMSLIB00000579896      0.0      0.0    0.000000      0.0     0.0  \n",
      "CCMSLIB00000579897      0.0      0.0    0.000000      0.0     0.0  \n",
      "CCMSLIB00000579898      0.0      0.0    8.041995      0.0     0.0  \n",
      "CCMSLIB00000579899      0.0      0.0    0.000000      0.0     0.0  \n",
      "CCMSLIB00000579900      0.0      0.0    0.000000      0.0     0.0  \n",
      "CCMSLIB00000579901      0.0      0.0  946.950542      0.0     0.0  \n",
      "CCMSLIB00000579902      0.0      0.0    0.000000      0.0     0.0  \n",
      "CCMSLIB00000579903      0.0      0.0    0.000000      0.0     0.0  \n",
      "CCMSLIB00000579904      0.0      0.0    0.000000      0.0     0.0  \n",
      "CCMSLIB00000579905      0.0      0.0    0.000000      0.0     0.0  \n",
      "CCMSLIB00000579906      0.0      0.0    0.000000      0.0     0.0  \n",
      "CCMSLIB00000579907      0.0      0.0    0.000000      0.0     0.0  \n",
      "CCMSLIB00000579908      0.0      0.0    0.000000      0.0     0.0  \n",
      "CCMSLIB00000579909      0.0      0.0    0.000000      0.0     0.0  \n",
      "CCMSLIB00000579910      0.0      0.0    0.000000      0.0     0.0  \n",
      "CCMSLIB00000579911      0.0      0.0    0.000000      0.0     0.0  \n",
      "CCMSLIB00000579912      0.0      0.0    0.000000      0.0     0.0  \n",
      "CCMSLIB00000579913      0.0      0.0    0.000000      0.0     0.0  \n",
      "CCMSLIB00000579914      0.0      0.0    0.000000      0.0     0.0  \n",
      "CCMSLIB00000579915      0.0      0.0    0.000000      0.0     0.0  \n",
      "CCMSLIB00000579916      0.0      0.0    0.000000      0.0     0.0  \n",
      "CCMSLIB00000579917      0.0      0.0    0.000000      0.0     0.0  \n",
      "CCMSLIB00000579918      0.0      0.0    0.000000      0.0     0.0  \n",
      "CCMSLIB00000579919      0.0      0.0    0.000000      0.0     0.0  \n",
      "CCMSLIB00000579920      0.0      0.0    0.000000      0.0     0.0  \n",
      "CCMSLIB00000579921      0.0      0.0    0.000000      0.0     0.0  \n",
      "CCMSLIB00000579922      0.0      0.0    0.000000      0.0     0.0  \n",
      "CCMSLIB00000579923      0.0      0.0    0.000000      0.0     0.0  \n",
      "CCMSLIB00000579924      0.0      0.0    0.000000      0.0     0.0  \n",
      "CCMSLIB00000579925      0.0      0.0    0.000000      0.0     0.0  \n",
      "\n",
      "[5770 rows x 5508 columns]\n"
     ]
    }
   ],
   "source": [
    "assigned_tree = pd.read_pickle(assigned_tree_path)\n",
    "print(assigned_tree)"
   ]
  },
  {
   "cell_type": "code",
   "execution_count": 31,
   "metadata": {},
   "outputs": [],
   "source": [
    "fingerprints = load_fingerprints(assigned_tree.index, fingerprint_smarts)"
   ]
  },
  {
   "cell_type": "code",
   "execution_count": 32,
   "metadata": {},
   "outputs": [],
   "source": [
    "assigned_tree.sort_index(inplace=True)\n",
    "fingerprints.sort_index(inplace=True)"
   ]
  },
  {
   "cell_type": "code",
   "execution_count": 33,
   "metadata": {},
   "outputs": [
    {
     "name": "stderr",
     "output_type": "stream",
     "text": [
      "Using TensorFlow backend.\n"
     ]
    }
   ],
   "source": [
    "from keras.layers import Input, Dense\n",
    "from keras.models import Model,Sequential\n",
    "from keras.wrappers.scikit_learn import KerasClassifier\n",
    "from sklearn.model_selection import cross_val_score\n",
    "from sklearn.model_selection import StratifiedKFold\n",
    "from keras.optimizers import SGD\n",
    "\n",
    "def baseline_model(x_train_formula, x_train_fingerprints):\n",
    "    class_model = Sequential()\n",
    "    class_model.add(Dense(1000, input_dim=x_train_formula.shape[1], kernel_initializer='normal', activation='relu'))\n",
    "    class_model.add(Dense(500,kernel_initializer='normal',activation = 'relu'))\n",
    "    class_model.add(Dense(x_train_fingerprints.shape[1],kernel_initializer='normal',activation = 'sigmoid'))\n",
    "    class_model.compile(loss='binary_crossentropy', optimizer='adam', metrics=['accuracy'])\n",
    "    \n",
    "    return class_model"
   ]
  },
  {
   "cell_type": "code",
   "execution_count": 91,
   "metadata": {},
   "outputs": [],
   "source": [
    "def compute_auc(indexes, true, pred):\n",
    "    auc_scores = []\n",
    "    \n",
    "    for i, index in enumerate(indexes):\n",
    "        nonzero_vals = np.count_nonzero(true[:, i]) # Count number of nonzero values\n",
    "        if nonzero_vals > 0 and nonzero_vals < true[:, i].size: # If there are no 1s or no 0s, can't compute.\n",
    "            fp_true = true[:, i]\n",
    "            fp_pred = pred[:, i]\n",
    "            score = metrics.roc_auc_score(fp_true, fp_pred)\n",
    "            auc_scores.append((index, score))\n",
    "        else:\n",
    "            auc_scores.append((index, 0.0))\n",
    "            \n",
    "    print(\"Compute AUC done\")\n",
    "    return auc_scores\n",
    "\n",
    "def compute_f1(indexes, true, pred):\n",
    "    f1_scores = []\n",
    "    \n",
    "    for i, index in enumerate(indexes):\n",
    "        nonzero_vals = np.count_nonzero(true[:, i]) # Count number of nonzero values\n",
    "        if nonzero_vals > 0 and nonzero_vals < true[:, i].size: # If there are no 1s or no 0s, can't compute.\n",
    "            fp_true = true[:, i]\n",
    "            fp_pred = pred[:, i]\n",
    "            score = metrics.f1_score(fp_true, fp_pred, average='micro')\n",
    "            f1_scores.append((index, score))\n",
    "        else:\n",
    "            f1_scores.append((index, 0.0))\n",
    "            \n",
    "    print(\"Compute F1 done\")\n",
    "    return f1_scores"
   ]
  },
  {
   "cell_type": "code",
   "execution_count": 99,
   "metadata": {},
   "outputs": [],
   "source": [
    "def benjamini_fdr(pvalues):\n",
    "    num_tests = len(pvalues)\n",
    "    pvalues.sort(key=lambda x: float(x[1])) # Arrange from smallest to highest\n",
    "    rank = range(1, num_tests+1)\n",
    "    pvalues_with_rank = [(pvalue[0], pvalue[1], rank[index]) for index, pvalue in enumerate(pvalues)]\n",
    "    new_values = []\n",
    "    \n",
    "    for fingerprint, pvalue, rank in pvalues_with_rank:\n",
    "        critical_value = (rank / num_tests) * 0.05 # fdr of 0.05 is used\n",
    "        new_values.append((fingerprint, pvalue, rank, critical_value))\n",
    "    \n",
    "        max_pvalue_less_than_crit = 0.0\n",
    "        max_pvalue_less_than_crit_rank = 0\n",
    "    \n",
    "        for fingerprint, pvalue, rank, critical_value in new_values:\n",
    "            if pvalue > max_pvalue_less_than_crit and pvalue < critical_value:\n",
    "                max_pvalue_less_than_crit = pvalue\n",
    "                max_pvalue_less_than_crit_rank = rank\n",
    "    \n",
    "    return new_values, max_pvalue_less_than_crit_rank"
   ]
  },
  {
   "cell_type": "code",
   "execution_count": 34,
   "metadata": {},
   "outputs": [],
   "source": [
    "epochs = 100\n",
    "\n",
    "mod = baseline_model(assigned_tree, fingerprints)\n",
    "preprocessed_assigned_tree = np.log(assigned_tree.values+1)\n",
    "\n",
    "history = mod.fit(preprocessed_assigned_tree, fingerprints.values, epochs=epochs, validation_split=0.2, verbose=0)"
   ]
  },
  {
   "cell_type": "code",
   "execution_count": 201,
   "metadata": {},
   "outputs": [
    {
     "name": "stdout",
     "output_type": "stream",
     "text": [
      "batch110 CCMSLIB00000072234\n",
      "batch111 CCMSLIB00000072237\n",
      "batch172 CCMSLIB00000075308\n",
      "batch19 CCMSLIB00000001606\n",
      "batch236 CCMSLIB00000223870\n",
      "batch239 CCMSLIB00000223876\n",
      "batch246 CCMSLIB00000223902\n",
      "batch25 CCMSLIB00000001621\n",
      "batch254 CCMSLIB00000424790\n",
      "batch27 CCMSLIB00000001623\n",
      "batch278 CCMSLIB00000424918\n",
      "batch279 CCMSLIB00000424925\n",
      "batch286 CCMSLIB00000427300\n",
      "batch287 CCMSLIB00000427303\n",
      "batch29 CCMSLIB00000001625\n",
      "batch294 CCMSLIB00000478584\n",
      "batch299 CCMSLIB00000478593\n",
      "batch302 CCMSLIB00000478652\n",
      "batch308 CCMSLIB00000531504\n",
      "batch314 CCMSLIB00000539139\n",
      "batch32 CCMSLIB00000001645\n",
      "batch343 CCMSLIB00000006292\n",
      "batch348 CCMSLIB00000077108\n",
      "batch350 CCMSLIB00000077134\n",
      "batch77 CCMSLIB00000072062\n",
      "(25, 5508)\n"
     ]
    }
   ],
   "source": [
    "correct_assigned_trees = assign_to_tree(correct_mol_names, correct_folder_file)\n",
    "print(correct_assigned_trees.shape)"
   ]
  },
  {
   "cell_type": "code",
   "execution_count": 202,
   "metadata": {},
   "outputs": [],
   "source": [
    "correct_fingerprints = load_fingerprints(correct_assigned_trees.index, fingerprint_smarts)"
   ]
  },
  {
   "cell_type": "code",
   "execution_count": 203,
   "metadata": {},
   "outputs": [],
   "source": [
    "correct_assigned_trees.sort_index(inplace=True)\n",
    "correct_fingerprints.sort_index(inplace=True)"
   ]
  },
  {
   "cell_type": "code",
   "execution_count": 204,
   "metadata": {},
   "outputs": [],
   "source": [
    "predicted = mod.predict(np.log(correct_assigned_trees.values + 1))"
   ]
  },
  {
   "cell_type": "code",
   "execution_count": 205,
   "metadata": {},
   "outputs": [
    {
     "name": "stdout",
     "output_type": "stream",
     "text": [
      "Compute AUC done\n"
     ]
    }
   ],
   "source": [
    "assign_auc = compute_auc(correct_fingerprints.columns.tolist(), correct_fingerprints.values, predicted)"
   ]
  },
  {
   "cell_type": "markdown",
   "metadata": {},
   "source": [
    "Load CSI prediction"
   ]
  },
  {
   "cell_type": "code",
   "execution_count": 209,
   "metadata": {},
   "outputs": [
    {
     "name": "stdout",
     "output_type": "stream",
     "text": [
      "(25, 154)\n"
     ]
    }
   ],
   "source": [
    "csi_fingerprints = load_csi_fingerprints(output_file_dir, correct_folder_file)\n",
    "csi_fingerprints.sort_index(inplace=True)\n",
    "print(csi_fingerprints.shape)"
   ]
  },
  {
   "cell_type": "code",
   "execution_count": 210,
   "metadata": {},
   "outputs": [
    {
     "name": "stdout",
     "output_type": "stream",
     "text": [
      "Compute AUC done\n"
     ]
    }
   ],
   "source": [
    "csi_correct_auc = compute_auc(correct_fingerprints.columns.tolist(), correct_fingerprints.values, csi_fingerprints.values)"
   ]
  },
  {
   "cell_type": "code",
   "execution_count": 211,
   "metadata": {},
   "outputs": [
    {
     "name": "stdout",
     "output_type": "stream",
     "text": [
      "0.05750298800466345\n"
     ]
    }
   ],
   "source": [
    "differences = []\n",
    "pvalues = []\n",
    "base_aucs = []\n",
    "exp_aucs = []\n",
    "\n",
    "for i, auc in csi_correct_auc:\n",
    "    difference = assign_auc[i][1] - auc # remove outliers\n",
    "\n",
    "    if difference != 0:\n",
    "        base_aucs.append(assign_auc[i][1])\n",
    "        exp_aucs.append(auc)\n",
    "        differences.append((i, difference))\n",
    "\n",
    "t_test = stats.wilcoxon(base_aucs, exp_aucs)\n",
    "\n",
    "print(t_test.pvalue)"
   ]
  },
  {
   "cell_type": "code",
   "execution_count": 212,
   "metadata": {},
   "outputs": [],
   "source": [
    "base_aucs.sort()\n",
    "exp_aucs.sort()"
   ]
  },
  {
   "cell_type": "code",
   "execution_count": 213,
   "metadata": {},
   "outputs": [
    {
     "data": {
      "image/png": "[encoded data removed]",
      "text/plain": [
       "<Figure size 576x432 with 1 Axes>"
      ]
     },
     "metadata": {
      "needs_background": "light"
     },
     "output_type": "display_data"
    }
   ],
   "source": [
    "plt.title(\"Mean AUC across 10 experiments\")\n",
    "plt.rcParams['figure.figsize'] = (8,6)\n",
    "plt.plot(range(0, len(exp_aucs)), exp_aucs, label=\"csi\")\n",
    "plt.plot(range(0, len(base_aucs)), base_aucs, label=\"assign\")\n",
    "\n",
    "plt.legend()\n",
    "plt.xticks([])\n",
    "plt.xlabel(\"Fingerprints\")\n",
    "plt.ylabel(\"Mean AUC\")\n",
    "plt.ylim(0.5, 1)\n",
    "plt.show()"
   ]
  },
  {
   "cell_type": "code",
   "execution_count": 214,
   "metadata": {},
   "outputs": [
    {
     "name": "stdout",
     "output_type": "stream",
     "text": [
      "batch11 CCMSLIB00000001565\n",
      "batch118 CCMSLIB00000072257\n",
      "batch152 CCMSLIB00000072565\n",
      "batch155 CCMSLIB00000075015\n",
      "batch170 CCMSLIB00000075306\n",
      "batch178 CCMSLIB00000075314\n",
      "batch20 CCMSLIB00000001607\n",
      "batch208 CCMSLIB00000078898\n",
      "batch224 CCMSLIB00000081221\n",
      "batch226 CCMSLIB00000081265\n",
      "batch227 CCMSLIB00000081267\n",
      "batch229 CCMSLIB00000081287\n",
      "batch234 CCMSLIB00000204740\n",
      "batch237 CCMSLIB00000223873\n",
      "batch238 CCMSLIB00000223874\n",
      "batch24 CCMSLIB00000001616\n",
      "batch240 CCMSLIB00000223877\n",
      "batch248 CCMSLIB00000223956\n",
      "batch251 CCMSLIB00000223959\n",
      "batch259 CCMSLIB00000424857\n",
      "batch260 CCMSLIB00000424858\n",
      "batch261 CCMSLIB00000424859\n",
      "batch262 CCMSLIB00000424860\n",
      "batch264 CCMSLIB00000424862\n",
      "batch266 CCMSLIB00000424864\n",
      "batch267 CCMSLIB00000424865\n",
      "batch268 CCMSLIB00000424872\n",
      "batch269 CCMSLIB00000424873\n",
      "batch271 CCMSLIB00000424908\n",
      "batch276 CCMSLIB00000424916\n",
      "batch277 CCMSLIB00000424917\n",
      "batch28 CCMSLIB00000001624\n",
      "batch288 CCMSLIB00000427306\n",
      "batch293 CCMSLIB00000478582\n",
      "batch297 CCMSLIB00000478591\n",
      "batch298 CCMSLIB00000478592\n",
      "batch30 CCMSLIB00000001635\n",
      "batch300 CCMSLIB00000478595\n",
      "batch319 CCMSLIB00000004459\n",
      "batch322 CCMSLIB00000004694\n",
      "batch325 CCMSLIB00000004912\n",
      "batch340 CCMSLIB00000006289\n",
      "batch344 CCMSLIB00000078118\n",
      "batch347 CCMSLIB00000077082\n",
      "batch37 CCMSLIB00000001653\n",
      "batch38 CCMSLIB00000001655\n",
      "batch5 CCMSLIB00000001555\n",
      "batch50 CCMSLIB00000001784\n",
      "batch52 CCMSLIB00000006841\n",
      "batch53 CCMSLIB00000006864\n",
      "batch56 CCMSLIB00000006867\n",
      "batch57 CCMSLIB00000006868\n",
      "batch58 CCMSLIB00000006869\n",
      "batch68 CCMSLIB00000070270\n",
      "batch82 CCMSLIB00000072094\n",
      "batch85 CCMSLIB00000072100\n",
      "(56, 5508)\n"
     ]
    }
   ],
   "source": [
    "wrong_assigned_trees = assign_to_tree(wrong_mol_names, wrong_folder_file)\n",
    "print(wrong_assigned_trees.shape)"
   ]
  },
  {
   "cell_type": "code",
   "execution_count": 215,
   "metadata": {},
   "outputs": [],
   "source": [
    "wrong_fingerprints = load_fingerprints(wrong_assigned_trees.index, fingerprint_smarts)"
   ]
  },
  {
   "cell_type": "code",
   "execution_count": 216,
   "metadata": {},
   "outputs": [],
   "source": [
    "wrong_assigned_trees.sort_index(inplace=True)\n",
    "wrong_fingerprints.sort_index(inplace=True)"
   ]
  },
  {
   "cell_type": "code",
   "execution_count": 217,
   "metadata": {},
   "outputs": [],
   "source": [
    "predicted = mod.predict(np.log(wrong_assigned_trees.values + 1))"
   ]
  },
  {
   "cell_type": "code",
   "execution_count": 218,
   "metadata": {},
   "outputs": [
    {
     "name": "stdout",
     "output_type": "stream",
     "text": [
      "Compute AUC done\n"
     ]
    }
   ],
   "source": [
    "assign_auc = compute_auc(wrong_fingerprints.columns.tolist(), wrong_fingerprints.values, predicted)"
   ]
  },
  {
   "cell_type": "code",
   "execution_count": 219,
   "metadata": {},
   "outputs": [
    {
     "name": "stdout",
     "output_type": "stream",
     "text": [
      "(56, 154)\n"
     ]
    }
   ],
   "source": [
    "csi_fingerprints = load_csi_fingerprints(output_file_dir, wrong_folder_file)\n",
    "csi_fingerprints.sort_index(inplace=True)\n",
    "print(csi_fingerprints.shape)"
   ]
  },
  {
   "cell_type": "code",
   "execution_count": 220,
   "metadata": {},
   "outputs": [
    {
     "name": "stdout",
     "output_type": "stream",
     "text": [
      "Compute AUC done\n"
     ]
    }
   ],
   "source": [
    "csi_correct_auc = compute_auc(wrong_fingerprints.columns.tolist(), wrong_fingerprints.values, csi_fingerprints.values)"
   ]
  },
  {
   "cell_type": "code",
   "execution_count": 221,
   "metadata": {},
   "outputs": [
    {
     "name": "stdout",
     "output_type": "stream",
     "text": [
      "1.3166781581200632e-05\n"
     ]
    }
   ],
   "source": [
    "differences = []\n",
    "pvalues = []\n",
    "base_aucs = []\n",
    "exp_aucs = []\n",
    "\n",
    "for i, auc in csi_correct_auc:\n",
    "    difference = assign_auc[i][1] - auc # remove outliers\n",
    "\n",
    "    if difference != 0:\n",
    "        base_aucs.append(assign_auc[i][1])\n",
    "        exp_aucs.append(auc)\n",
    "        differences.append((i, difference))\n",
    "\n",
    "t_test = stats.wilcoxon(base_aucs, exp_aucs)\n",
    "\n",
    "print(t_test.pvalue)"
   ]
  },
  {
   "cell_type": "code",
   "execution_count": 222,
   "metadata": {},
   "outputs": [],
   "source": [
    "base_aucs.sort()\n",
    "exp_aucs.sort()"
   ]
  },
  {
   "cell_type": "code",
   "execution_count": 223,
   "metadata": {},
   "outputs": [
    {
     "data": {
      "image/png": "[encoded data removed]",
      "text/plain": [
       "<Figure size 576x432 with 1 Axes>"
      ]
     },
     "metadata": {
      "needs_background": "light"
     },
     "output_type": "display_data"
    }
   ],
   "source": [
    "plt.title(\"Mean AUC across 10 experiments\")\n",
    "plt.plot(range(0, len(exp_aucs)), exp_aucs, label=\"csi\")\n",
    "plt.plot(range(0, len(base_aucs)), base_aucs, label=\"assign\")\n",
    "\n",
    "plt.legend()\n",
    "plt.xticks([])\n",
    "plt.xlabel(\"Fingerprints\")\n",
    "plt.ylabel(\"Mean AUC\")\n",
    "plt.ylim(0.5, 1)\n",
    "plt.show()"
   ]
  },
  {
   "cell_type": "code",
   "execution_count": 224,
   "metadata": {},
   "outputs": [
    {
     "name": "stdout",
     "output_type": "stream",
     "text": [
      "batch1 CCMSLIB00000001550\n",
      "batch10 CCMSLIB00000001564\n",
      "batch100 CCMSLIB00000072149\n",
      "batch101 CCMSLIB00000072176\n",
      "batch102 CCMSLIB00000072177\n",
      "batch103 CCMSLIB00000072178\n",
      "batch104 CCMSLIB00000072179\n",
      "batch105 CCMSLIB00000072181\n",
      "batch106 CCMSLIB00000072182\n",
      "batch107 CCMSLIB00000072183\n",
      "batch108 CCMSLIB00000072185\n",
      "batch109 CCMSLIB00000072186\n",
      "batch112 CCMSLIB00000072246\n",
      "batch113 CCMSLIB00000072247\n",
      "batch114 CCMSLIB00000072248\n",
      "batch115 CCMSLIB00000072249\n",
      "batch116 CCMSLIB00000072255\n",
      "batch117 CCMSLIB00000072256\n",
      "batch119 CCMSLIB00000072258\n",
      "batch12 CCMSLIB00000001567\n",
      "batch120 CCMSLIB00000072259\n",
      "batch121 CCMSLIB00000072260\n",
      "batch125 CCMSLIB00000072264\n",
      "batch127 CCMSLIB00000072266\n",
      "batch128 CCMSLIB00000072267\n",
      "batch129 CCMSLIB00000072268\n",
      "batch13 CCMSLIB00000001569\n",
      "batch130 CCMSLIB00000072269\n",
      "batch132 CCMSLIB00000072271\n",
      "batch134 CCMSLIB00000072273\n",
      "batch136 CCMSLIB00000072275\n",
      "batch137 CCMSLIB00000072284\n",
      "batch138 CCMSLIB00000072285\n",
      "batch139 CCMSLIB00000072286\n",
      "batch14 CCMSLIB00000001571\n",
      "batch140 CCMSLIB00000072287\n",
      "batch141 CCMSLIB00000072288\n",
      "batch142 CCMSLIB00000072289\n",
      "batch143 CCMSLIB00000072290\n",
      "batch145 CCMSLIB00000072305\n",
      "batch148 CCMSLIB00000072509\n",
      "batch15 CCMSLIB00000001573\n",
      "batch150 CCMSLIB00000072521\n",
      "batch151 CCMSLIB00000072522\n",
      "batch154 CCMSLIB00000075014\n",
      "batch156 CCMSLIB00000075016\n",
      "batch157 CCMSLIB00000075017\n",
      "batch159 CCMSLIB00000075069\n",
      "batch16 CCMSLIB00000001575\n",
      "batch160 CCMSLIB00000075070\n",
      "batch163 CCMSLIB00000075073\n",
      "batch165 CCMSLIB00000075075\n",
      "batch166 CCMSLIB00000075076\n",
      "batch167 CCMSLIB00000075077\n",
      "batch168 CCMSLIB00000075084\n",
      "batch169 CCMSLIB00000075305\n",
      "batch17 CCMSLIB00000001602\n",
      "batch171 CCMSLIB00000075307\n",
      "batch173 CCMSLIB00000075309\n",
      "batch174 CCMSLIB00000075310\n",
      "batch175 CCMSLIB00000075311\n",
      "batch176 CCMSLIB00000075312\n",
      "batch177 CCMSLIB00000075313\n",
      "batch179 CCMSLIB00000075315\n",
      "batch18 CCMSLIB00000001604\n",
      "batch180 CCMSLIB00000075316\n",
      "batch181 CCMSLIB00000075317\n",
      "batch182 CCMSLIB00000075318\n",
      "batch183 CCMSLIB00000075319\n",
      "batch184 CCMSLIB00000075320\n",
      "batch185 CCMSLIB00000075321\n",
      "batch186 CCMSLIB00000075322\n",
      "batch187 CCMSLIB00000075327\n",
      "batch188 CCMSLIB00000075328\n",
      "batch189 CCMSLIB00000075329\n",
      "batch190 CCMSLIB00000075330\n",
      "batch191 CCMSLIB00000075331\n",
      "batch192 CCMSLIB00000075332\n",
      "batch193 CCMSLIB00000075333\n",
      "batch194 CCMSLIB00000075334\n",
      "batch195 CCMSLIB00000075335\n",
      "batch196 CCMSLIB00000075336\n",
      "batch197 CCMSLIB00000075341\n",
      "batch198 CCMSLIB00000075342\n",
      "batch199 CCMSLIB00000075343\n",
      "batch200 CCMSLIB00000075344\n",
      "batch201 CCMSLIB00000075346\n",
      "batch202 CCMSLIB00000075348\n",
      "batch203 CCMSLIB00000075349\n",
      "batch204 CCMSLIB00000077211\n",
      "batch205 CCMSLIB00000077216\n",
      "batch206 CCMSLIB00000077217\n",
      "batch207 CCMSLIB00000078823\n",
      "batch21 CCMSLIB00000001613\n",
      "batch210 CCMSLIB00000081150\n",
      "batch211 CCMSLIB00000081151\n",
      "batch212 CCMSLIB00000081153\n",
      "batch213 CCMSLIB00000081175\n",
      "batch214 CCMSLIB00000081176\n",
      "batch215 CCMSLIB00000081177\n",
      "batch217 CCMSLIB00000081196\n",
      "batch218 CCMSLIB00000081197\n",
      "batch219 CCMSLIB00000081198\n",
      "batch220 CCMSLIB00000081199\n",
      "batch221 CCMSLIB00000081200\n",
      "batch223 CCMSLIB00000081217\n",
      "batch225 CCMSLIB00000081226\n",
      "batch228 CCMSLIB00000081268\n",
      "batch23 CCMSLIB00000001615\n",
      "batch230 CCMSLIB00000081288\n",
      "batch231 CCMSLIB00000081679\n",
      "batch232 CCMSLIB00000081680\n",
      "batch233 CCMSLIB00000081752\n",
      "batch241 CCMSLIB00000223878\n",
      "batch242 CCMSLIB00000223879\n",
      "batch243 CCMSLIB00000223882\n",
      "batch245 CCMSLIB00000223884\n",
      "batch249 CCMSLIB00000223957\n",
      "batch250 CCMSLIB00000223958\n",
      "batch252 CCMSLIB00000223995\n",
      "batch253 CCMSLIB00000223998\n",
      "batch255 CCMSLIB00000424805\n",
      "batch256 CCMSLIB00000424806\n",
      "batch257 CCMSLIB00000424807\n",
      "batch258 CCMSLIB00000424808\n",
      "batch26 CCMSLIB00000001622\n",
      "batch263 CCMSLIB00000424861\n",
      "batch270 CCMSLIB00000424874\n",
      "batch272 CCMSLIB00000424909\n",
      "batch273 CCMSLIB00000424913\n",
      "batch274 CCMSLIB00000424914\n",
      "batch275 CCMSLIB00000424915\n",
      "batch280 CCMSLIB00000425007\n",
      "batch281 CCMSLIB00000425008\n",
      "batch282 CCMSLIB00000425009\n",
      "batch283 CCMSLIB00000425010\n",
      "batch284 CCMSLIB00000425011\n",
      "batch285 CCMSLIB00000425012\n",
      "batch289 CCMSLIB00000429792\n",
      "batch290 CCMSLIB00000478118\n",
      "batch291 CCMSLIB00000478123\n",
      "batch292 CCMSLIB00000478579\n",
      "batch295 CCMSLIB00000478585\n",
      "batch296 CCMSLIB00000478586\n",
      "batch3 CCMSLIB00000001553\n",
      "batch303 CCMSLIB00000531481\n",
      "batch304 CCMSLIB00000531483\n",
      "batch305 CCMSLIB00000531487\n",
      "batch307 CCMSLIB00000531491\n",
      "batch31 CCMSLIB00000001637\n",
      "batch311 CCMSLIB00000539136\n",
      "batch312 CCMSLIB00000539137\n",
      "batch313 CCMSLIB00000539138\n",
      "batch315 CCMSLIB00000574964\n",
      "batch316 CCMSLIB00000479609\n",
      "batch326 CCMSLIB00000005329\n",
      "batch327 CCMSLIB00000005330\n",
      "batch328 CCMSLIB00000005331\n",
      "batch329 CCMSLIB00000005332\n",
      "batch330 CCMSLIB00000005333\n",
      "batch331 CCMSLIB00000005334\n",
      "batch332 CCMSLIB00000005335\n",
      "batch333 CCMSLIB00000005336\n",
      "batch334 CCMSLIB00000005337\n",
      "batch335 CCMSLIB00000006284\n",
      "batch336 CCMSLIB00000006285\n",
      "batch337 CCMSLIB00000006286\n",
      "batch34 CCMSLIB00000001649\n",
      "batch345 CCMSLIB00000079263\n",
      "batch35 CCMSLIB00000001651\n",
      "batch36 CCMSLIB00000001652\n",
      "batch4 CCMSLIB00000001554\n",
      "batch40 CCMSLIB00000001659\n",
      "batch44 CCMSLIB00000001723\n",
      "batch45 CCMSLIB00000001756\n",
      "batch46 CCMSLIB00000001776\n",
      "batch47 CCMSLIB00000001777\n",
      "batch48 CCMSLIB00000001778\n",
      "batch54 CCMSLIB00000006865\n",
      "batch55 CCMSLIB00000006866\n",
      "batch59 CCMSLIB00000006870\n",
      "batch60 CCMSLIB00000006871\n",
      "batch61 CCMSLIB00000006877\n",
      "batch62 CCMSLIB00000006878\n",
      "batch63 CCMSLIB00000006899\n",
      "batch64 CCMSLIB00000006901\n",
      "batch65 CCMSLIB00000006902\n",
      "batch66 CCMSLIB00000006903\n",
      "batch67 CCMSLIB00000070263\n",
      "batch69 CCMSLIB00000070271\n",
      "batch7 CCMSLIB00000001558\n",
      "batch70 CCMSLIB00000071754\n",
      "batch72 CCMSLIB00000071756\n",
      "batch74 CCMSLIB00000071760\n",
      "batch75 CCMSLIB00000072039\n",
      "batch76 CCMSLIB00000072040\n",
      "batch78 CCMSLIB00000072063\n",
      "batch79 CCMSLIB00000072064\n",
      "batch8 CCMSLIB00000001560\n",
      "batch80 CCMSLIB00000072065\n",
      "batch81 CCMSLIB00000072066\n",
      "batch83 CCMSLIB00000072095\n",
      "batch84 CCMSLIB00000072096\n",
      "batch86 CCMSLIB00000072101\n",
      "batch87 CCMSLIB00000072125\n",
      "batch88 CCMSLIB00000072126\n",
      "batch89 CCMSLIB00000072138\n",
      "batch90 CCMSLIB00000072139\n",
      "batch91 CCMSLIB00000072140\n",
      "batch92 CCMSLIB00000072141\n",
      "batch93 CCMSLIB00000072142\n",
      "batch94 CCMSLIB00000072143\n",
      "batch95 CCMSLIB00000072144\n",
      "batch96 CCMSLIB00000072145\n",
      "batch97 CCMSLIB00000072146\n",
      "batch98 CCMSLIB00000072147\n",
      "batch99 CCMSLIB00000072148\n",
      "(217, 5508)\n"
     ]
    }
   ],
   "source": [
    "no_fingerprints_assigned_trees = assign_to_tree(no_fingerprints_mol_names, no_fingerprints_folder_file)\n",
    "print(no_fingerprints_assigned_trees.shape)"
   ]
  },
  {
   "cell_type": "code",
   "execution_count": 225,
   "metadata": {},
   "outputs": [],
   "source": [
    "no_fingerprints_fingerprints = load_fingerprints(no_fingerprints_assigned_trees.index, fingerprint_smarts)\n",
    "no_fingerprints_fingerprints = no_fingerprints_fingerprints[no_fingerprints_fingerprints.index.isin(no_fingerprints_assigned_trees.index)]"
   ]
  },
  {
   "cell_type": "code",
   "execution_count": 226,
   "metadata": {},
   "outputs": [],
   "source": [
    "no_fingerprints_assigned_trees.sort_index(inplace=True)\n",
    "no_fingerprints_fingerprints.sort_index(inplace=True)"
   ]
  },
  {
   "cell_type": "code",
   "execution_count": 227,
   "metadata": {},
   "outputs": [],
   "source": [
    "predicted = mod.predict(np.log(no_fingerprints_assigned_trees.values + 1))"
   ]
  },
  {
   "cell_type": "code",
   "execution_count": 228,
   "metadata": {},
   "outputs": [
    {
     "name": "stdout",
     "output_type": "stream",
     "text": [
      "Compute AUC done\n"
     ]
    }
   ],
   "source": [
    "assign_auc = compute_auc(no_fingerprints_fingerprints.columns.tolist(), no_fingerprints_fingerprints.values, predicted)"
   ]
  },
  {
   "cell_type": "code",
   "execution_count": 229,
   "metadata": {},
   "outputs": [
    {
     "name": "stdout",
     "output_type": "stream",
     "text": [
      "[(0, 0.8016431924882629), (1, 0.8075117370892019), (2, 0.6310679611650486), (3, 0.8999999999999999), (4, 0.817346481398476), (5, 0.7444444444444445), (6, 0.9984423676012462), (7, 0.0), (8, 1.0), (9, 0.6528202514441047), (10, 0.6694713581506033), (11, 0.7349773242630385), (12, 0.7853614964270702), (13, 0.7147435897435898), (14, 0.0), (15, 0.7612085769980507), (16, 0.0), (17, 0.6372173913043478), (18, 0.7311043845166024), (19, 0.8021546516310915), (20, 0.8790697674418604), (21, 0.7245813397129186), (22, 0.7043781094527364), (23, 0.5202691194004428), (24, 0.8215962441314554), (25, 0.569614339109752), (26, 0.5535592932381923), (27, 0.7423076923076923), (28, 0.8007735996866432), (29, 1.0), (30, 0.9722222222222222), (31, 0.9264150943396227), (32, 1.0), (33, 0.6785228046289994), (34, 0.6484615384615384), (35, 0.7564305849189571), (36, 0.8696581196581197), (37, 0.8553194333066027), (38, 0.962962962962963), (39, 0.702153110047847), (40, 0.0), (41, 0.7615160349854228), (42, 0.7512562814070352), (43, 0.6793048973143759), (44, 0.7292609351432882), (45, 0.0), (46, 0.0), (47, 0.7678076496674057), (48, 0.7527472527472526), (49, 0.9018867924528301), (50, 0.9675925925925926), (51, 0.0), (52, 1.0), (53, 0.0), (54, 0.0), (55, 0.0), (56, 0.0), (57, 0.3657407407407407), (58, 0.0), (59, 0.6179245283018868), (60, 0.0), (61, 0.8158415841584158), (62, 0.8309409888357256), (63, 0.0), (64, 0.8771573604060914), (65, 0.7227053140096619), (66, 0.8665501165501166), (67, 0.9923708920187793), (68, 0.9911971830985915), (69, 0.9629629629629629), (70, 0.9589201877934271), (71, 0.9847417840375587), (72, 0.0), (73, 0.7325203252032519), (74, 0.7923383084577115), (75, 0.6598613251155624), (76, 0.0), (77, 0.5650982615268331), (78, 0.47035957240038867), (79, 0.5979477611940299), (80, 0.7829787234042553), (81, 0.0), (82, 0.8187361419068736), (83, 0.8701409135082605), (84, 0.0), (85, 0.9976744186046511), (86, 0.0), (87, 0.0), (88, 0.0), (89, 0.0), (90, 0.8216981132075472), (91, 0.5540609137055837), (92, 0.49893162393162394), (93, 0.5950704225352114), (94, 0.9017647058823529), (95, 0.8857142857142857), (96, 0.7752341311134235), (97, 0.9924528301886792), (98, 0.0), (99, 0.8437499999999999), (100, 0.0), (101, 0.9069767441860465), (102, 0.0), (103, 0.8794715447154473), (104, 0.0), (105, 0.9311320754716981), (106, 0.0), (107, 0.0), (108, 0.0), (109, 0.0), (110, 0.0), (111, 0.7312206572769953), (112, 0.6635294117647059), (113, 0.9976635514018692), (114, 0.6390205371248026), (115, 0.8615023474178404), (116, 0.0), (117, 0.7541666666666667), (118, 1.0), (119, 0.0), (120, 0.0), (121, 0.0), (122, 0.0), (123, 0.0), (124, 0.0), (125, 0.0), (126, 0.0), (127, 0.0), (128, 0.0), (129, 0.0), (130, 0.0), (131, 0.0), (132, 0.0), (133, 0.6524442173394651), (134, 0.8395348837209302), (135, 0.9537414965986394), (136, 0.7680748213535098), (137, 0.7653061224489796), (138, 0.8999999999999999), (139, 0.8667512690355329), (140, 0.9084928229665071), (141, 0.8150406504065041), (142, 0.8094298245614034), (143, 0.0), (144, 0.0), (145, 0.0), (146, 0.5154999148356327), (147, 0.7969483568075117), (148, 0.6059048428207306), (149, 0.819290465631929), (150, 0.5302837240910635), (151, 0.8892736486486487), (152, 0.7659742468415938), (153, 0.5154999148356327)]\n"
     ]
    }
   ],
   "source": [
    "print(assign_auc)"
   ]
  },
  {
   "cell_type": "code",
   "execution_count": null,
   "metadata": {},
   "outputs": [],
   "source": []
  }
 ],
 "metadata": {
  "kernelspec": {
   "display_name": "Python 3",
   "language": "python",
   "name": "python3"
  },
  "language_info": {
   "codemirror_mode": {
    "name": "ipython",
    "version": 3
   },
   "file_extension": ".py",
   "mimetype": "text/x-python",
   "name": "python",
   "nbconvert_exporter": "python",
   "pygments_lexer": "ipython3",
   "version": "3.6.6"
  }
 },
 "nbformat": 4,
 "nbformat_minor": 2
}

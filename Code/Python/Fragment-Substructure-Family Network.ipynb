{
 "cells": [
  {
   "cell_type": "code",
   "execution_count": 1,
   "metadata": {},
   "outputs": [],
   "source": [
    "import numpy as np\n",
    "import os\n",
    "\n",
    "import copy"
   ]
  },
  {
   "cell_type": "markdown",
   "metadata": {},
   "source": [
    "Set up variables for constants such as absolute datapaths and the desired valdiation fraction split."
   ]
  },
  {
   "cell_type": "code",
   "execution_count": 2,
   "metadata": {},
   "outputs": [],
   "source": [
    "#gnps\n",
    "datapath = \"G:\\\\Dev\\\\Data\\\\For Family\\\\GNPS Python Master\\\\Final Data.txt\"\n",
    "fingerprints_path = \"G:\\\\Dev\\\\Data\\\\For Family\\\\GNPS Python Master\\\\Final Fingerprints.txt\"\n",
    "fingerprints_names_path = \"G:\\\\Dev\\\\Data\\\\1000\\\\GNPS Python Master\\\\Fingerprint Legend.txt\"\n",
    "\n",
    "#gnps for family\n",
    "gnps_for_family_datapath = \"G:\\\\Dev\\\\Data\\\\For Family Q3\\\\GNPS Python Master\\\\Final Data.txt\"\n",
    "fingerprints_for_family_gnps_path = \"G:\\\\Dev\\\\Data\\\\For Family Q3\\\\GNPS Python Master\\\\Final Fingerprints.txt\"\n",
    "\n",
    "#mibig\n",
    "mibig_fingerprints_path = \"G:\\\\Dev\\\\Data\\\\Fingerprint Bitmaps 2\\\\mibig_unique_smiles.txt\"\n",
    "mibig_families_path = \"G:\\\\Dev\\\\Data\\\\Final Families.txt\"\n",
    "mibig_filtered_fingerprints_path = \"G:\\\\Dev\\\\Data\\\\Filtered Mibig GNPS Links\\\\Filtered Mibig Fingerprints.tsv\"\n",
    "mibig_filtered_families_path = \"G:\\\\Dev\\\\Data\\\\mibig_family.txt\"\n",
    "\n",
    "#npatlas\n",
    "npatlas_smiles_fingerprints_path = \"G:\\\\Dev\\\\Data\\\\Fingerprint Bitmaps 2\\\\NPAtlas_DB_last_version_filtered.txt\"\n",
    "npatlas_final_families_path = \"G:\\\\Dev\\\\Data\\\\NPAtlas_Final_Families.txt\"\n",
    "\n",
    "#test\n",
    "test_datapath = \"G:\\\\Dev\\\\Data\\\\For Family Test Q3\\\\GNPS Python Master\\\\Final Data.txt\"\n",
    "test_fingerprint_path = \"G:\\\\Dev\\\\Data\\\\For Family Test Q3\\\\GNPS Python Master\\\\Final Fingerprints.txt\"\n",
    "\n",
    "linked_fingerprints_path = \"G:\\\\Dev\\\\Data\\\\Linked GNPS Fingerprints.tsv\"\n",
    "families_names_path = \"G:\\\\Dev\\\\Data\\\\Family Legend.txt\"\n",
    "\n",
    "num_samples = 5770\n",
    "num_smiles_families_samples = 1368\n",
    "val_fraction = 0.1"
   ]
  },
  {
   "cell_type": "markdown",
   "metadata": {},
   "source": [
    "Import methods from ultilities"
   ]
  },
  {
   "cell_type": "code",
   "execution_count": 3,
   "metadata": {},
   "outputs": [
    {
     "name": "stderr",
     "output_type": "stream",
     "text": [
      "C:\\Users\\CherWei\\Anaconda3\\lib\\site-packages\\h5py\\__init__.py:36: FutureWarning: Conversion of the second argument of issubdtype from `float` to `np.floating` is deprecated. In future, it will be treated as `np.float64 == np.dtype(float).type`.\n",
      "  from ._conv import register_converters as _register_converters\n",
      "Using TensorFlow backend.\n"
     ]
    }
   ],
   "source": [
    "from nn_evaluation_interface import plot_loss, compute_auc, evaluate, compute_predicted_family_proportion\n",
    "from nn_files_load_interface import *\n",
    "from nn_interface import simplified_fingerprint_model, simplified_family_model\n",
    "from nn_training_splits_interface import train_diff_splits"
   ]
  },
  {
   "cell_type": "markdown",
   "metadata": {},
   "source": [
    "Load the data to variables"
   ]
  },
  {
   "cell_type": "code",
   "execution_count": 4,
   "metadata": {},
   "outputs": [
    {
     "name": "stdout",
     "output_type": "stream",
     "text": [
      "Done\n"
     ]
    }
   ],
   "source": [
    "spectra = load_master_file(path=datapath)\n",
    "fingerprints = load_fingerprints_master(path=fingerprints_path)\n",
    "\n",
    "gnps_spectra = load_master_file(path=gnps_for_family_datapath)\n",
    "gnps_fingerprints = load_fingerprints_master(path=fingerprints_for_family_gnps_path, number_of_rows=1)\n",
    "\n",
    "mibig_fingerprints = load_fingerprints_master(path=mibig_fingerprints_path)\n",
    "mibig_families = load_families_master(path=mibig_families_path)\n",
    "mibig_filtered_fingerprints = load_fingerprints_master(path=mibig_filtered_fingerprints_path, number_of_rows=1)\n",
    "mibig_filtered_families = load_families_master(path=mibig_filtered_families_path)\n",
    "\n",
    "fingerprint_names = load_fingerprint_legend(path=fingerprints_names_path)\n",
    "family_names = load_family_legend(path=families_names_path)\n",
    "\n",
    "test_spectra = load_master_file(path=test_datapath)\n",
    "test_fingerprint = load_fingerprints_master(path=test_fingerprint_path)\n",
    "\n",
    "print(\"Done\")"
   ]
  },
  {
   "cell_type": "markdown",
   "metadata": {},
   "source": [
    "The training/evaluation process"
   ]
  },
  {
   "cell_type": "code",
   "execution_count": 5,
   "metadata": {
    "scrolled": true
   },
   "outputs": [
    {
     "name": "stderr",
     "output_type": "stream",
     "text": [
      "C:\\Dev\\nnpredict\\Code\\Python\\nn_interface.py:117: UserWarning: Update your `Model` call to the Keras 2 API: `Model(inputs=Tensor(\"in..., outputs=Tensor(\"de...)`\n",
      "  auto_model = Model(input=input_layer, output=out_layer)\n"
     ]
    },
    {
     "name": "stdout",
     "output_type": "stream",
     "text": [
      "Train on 5702 samples, validate on 634 samples\n",
      "Epoch 1/100\n",
      "5702/5702 [==============================] - 5s 917us/step - loss: 0.5197 - val_loss: 0.3222\n",
      "Epoch 2/100\n",
      "5702/5702 [==============================] - 2s 399us/step - loss: 0.1851 - val_loss: 0.1617\n",
      "Epoch 3/100\n",
      "5702/5702 [==============================] - 2s 430us/step - loss: 0.1228 - val_loss: 0.1329\n",
      "Epoch 4/100\n",
      "5702/5702 [==============================] - 5s 832us/step - loss: 0.1117 - val_loss: 0.1221\n",
      "Epoch 5/100\n",
      "5702/5702 [==============================] - 4s 639us/step - loss: 0.1073 - val_loss: 0.1165\n",
      "Epoch 6/100\n",
      "5702/5702 [==============================] - 4s 677us/step - loss: 0.1049 - val_loss: 0.1131\n",
      "Epoch 7/100\n",
      "5702/5702 [==============================] - 4s 704us/step - loss: 0.1033 - val_loss: 0.1106\n",
      "Epoch 8/100\n",
      "5702/5702 [==============================] - 4s 618us/step - loss: 0.1020 - val_loss: 0.1088\n",
      "Epoch 9/100\n",
      "5702/5702 [==============================] - 4s 645us/step - loss: 0.1011 - val_loss: 0.1073\n",
      "Epoch 10/100\n",
      "5702/5702 [==============================] - 4s 732us/step - loss: 0.1003 - val_loss: 0.1061\n",
      "Epoch 11/100\n",
      "5702/5702 [==============================] - 4s 653us/step - loss: 0.0995 - val_loss: 0.1051\n",
      "Epoch 12/100\n",
      "5702/5702 [==============================] - 4s 735us/step - loss: 0.0989 - val_loss: 0.1041\n",
      "Epoch 13/100\n",
      "5702/5702 [==============================] - 4s 697us/step - loss: 0.0983 - val_loss: 0.1033\n",
      "Epoch 14/100\n",
      "5702/5702 [==============================] - 5s 843us/step - loss: 0.0978 - val_loss: 0.1026\n",
      "Epoch 15/100\n",
      "5702/5702 [==============================] - 4s 646us/step - loss: 0.0972 - val_loss: 0.1019\n",
      "Epoch 16/100\n",
      "5702/5702 [==============================] - 4s 678us/step - loss: 0.0968 - val_loss: 0.1013\n",
      "Epoch 17/100\n",
      "5702/5702 [==============================] - 5s 807us/step - loss: 0.0963 - val_loss: 0.1007\n",
      "Epoch 18/100\n",
      "5702/5702 [==============================] - 5s 812us/step - loss: 0.0959 - val_loss: 0.1002\n",
      "Epoch 19/100\n",
      "5702/5702 [==============================] - 4s 712us/step - loss: 0.0954 - val_loss: 0.0996\n",
      "Epoch 20/100\n",
      "5702/5702 [==============================] - 4s 740us/step - loss: 0.0950 - val_loss: 0.0992\n",
      "Epoch 21/100\n",
      "5702/5702 [==============================] - 4s 725us/step - loss: 0.0946 - val_loss: 0.0987\n",
      "Epoch 22/100\n",
      "5702/5702 [==============================] - 5s 800us/step - loss: 0.0942 - val_loss: 0.0982\n",
      "Epoch 23/100\n",
      "5702/5702 [==============================] - 4s 715us/step - loss: 0.0939 - val_loss: 0.0978\n",
      "Epoch 24/100\n",
      "5702/5702 [==============================] - 5s 858us/step - loss: 0.0935 - val_loss: 0.0974\n",
      "Epoch 25/100\n",
      "5702/5702 [==============================] - 4s 713us/step - loss: 0.0931 - val_loss: 0.0970\n",
      "Epoch 26/100\n",
      "5702/5702 [==============================] - 4s 705us/step - loss: 0.0928 - val_loss: 0.0966\n",
      "Epoch 27/100\n",
      "5702/5702 [==============================] - 5s 805us/step - loss: 0.0925 - val_loss: 0.0962\n",
      "Epoch 28/100\n",
      "5702/5702 [==============================] - 5s 852us/step - loss: 0.0921 - val_loss: 0.0959\n",
      "Epoch 29/100\n",
      "5702/5702 [==============================] - 5s 815us/step - loss: 0.0918 - val_loss: 0.0955\n",
      "Epoch 30/100\n",
      "5702/5702 [==============================] - 4s 776us/step - loss: 0.0915 - val_loss: 0.0952\n",
      "Epoch 31/100\n",
      "5702/5702 [==============================] - 5s 830us/step - loss: 0.0912 - val_loss: 0.0949\n",
      "Epoch 32/100\n",
      "5702/5702 [==============================] - 5s 832us/step - loss: 0.0909 - val_loss: 0.0945\n",
      "Epoch 33/100\n",
      "5702/5702 [==============================] - 4s 753us/step - loss: 0.0906 - val_loss: 0.0942\n",
      "Epoch 34/100\n",
      "5702/5702 [==============================] - 5s 826us/step - loss: 0.0903 - val_loss: 0.0939\n",
      "Epoch 35/100\n",
      "5702/5702 [==============================] - 5s 831us/step - loss: 0.0900 - val_loss: 0.0936\n",
      "Epoch 36/100\n",
      "5702/5702 [==============================] - 5s 828us/step - loss: 0.0897 - val_loss: 0.0933\n",
      "Epoch 37/100\n",
      "5702/5702 [==============================] - 5s 844us/step - loss: 0.0895 - val_loss: 0.0931\n",
      "Epoch 38/100\n",
      "5702/5702 [==============================] - 5s 804us/step - loss: 0.0892 - val_loss: 0.0928\n",
      "Epoch 39/100\n",
      "5702/5702 [==============================] - 5s 832us/step - loss: 0.0889 - val_loss: 0.0925\n",
      "Epoch 40/100\n",
      "5702/5702 [==============================] - 5s 861us/step - loss: 0.0887 - val_loss: 0.0923\n",
      "Epoch 41/100\n",
      "5702/5702 [==============================] - 5s 950us/step - loss: 0.0884 - val_loss: 0.0920\n",
      "Epoch 42/100\n",
      "5702/5702 [==============================] - 5s 850us/step - loss: 0.0882 - val_loss: 0.0918\n",
      "Epoch 43/100\n",
      "5702/5702 [==============================] - 5s 833us/step - loss: 0.0880 - val_loss: 0.0915\n",
      "Epoch 44/100\n",
      "5702/5702 [==============================] - 5s 923us/step - loss: 0.0877 - val_loss: 0.0913\n",
      "Epoch 45/100\n",
      "5702/5702 [==============================] - 6s 1ms/step - loss: 0.0875 - val_loss: 0.0911\n",
      "Epoch 46/100\n",
      "5702/5702 [==============================] - 5s 900us/step - loss: 0.0873 - val_loss: 0.0909\n",
      "Epoch 47/100\n",
      "5702/5702 [==============================] - 6s 975us/step - loss: 0.0870 - val_loss: 0.0907\n",
      "Epoch 48/100\n",
      "5702/5702 [==============================] - 5s 938us/step - loss: 0.0868 - val_loss: 0.0904\n",
      "Epoch 49/100\n",
      "5702/5702 [==============================] - 5s 887us/step - loss: 0.0866 - val_loss: 0.0902\n",
      "Epoch 50/100\n",
      "5702/5702 [==============================] - 5s 930us/step - loss: 0.0864 - val_loss: 0.0900\n",
      "Epoch 51/100\n",
      "5702/5702 [==============================] - 5s 952us/step - loss: 0.0862 - val_loss: 0.0899\n",
      "Epoch 52/100\n",
      "5702/5702 [==============================] - 6s 974us/step - loss: 0.0859 - val_loss: 0.0897\n",
      "Epoch 53/100\n",
      "5702/5702 [==============================] - 6s 1ms/step - loss: 0.0857 - val_loss: 0.0895\n",
      "Epoch 54/100\n",
      "5702/5702 [==============================] - 7s 1ms/step - loss: 0.0855 - val_loss: 0.0893\n",
      "Epoch 55/100\n",
      "5702/5702 [==============================] - 6s 997us/step - loss: 0.0853 - val_loss: 0.0891\n",
      "Epoch 56/100\n",
      "5702/5702 [==============================] - 6s 1ms/step - loss: 0.0851 - val_loss: 0.0890\n",
      "Epoch 57/100\n",
      "5702/5702 [==============================] - 6s 1ms/step - loss: 0.0849 - val_loss: 0.0888\n",
      "Epoch 58/100\n",
      "5702/5702 [==============================] - 7s 1ms/step - loss: 0.0847 - val_loss: 0.0886\n",
      "Epoch 59/100\n",
      "5702/5702 [==============================] - 7s 1ms/step - loss: 0.0846 - val_loss: 0.0885\n",
      "Epoch 60/100\n",
      "5702/5702 [==============================] - 6s 1ms/step - loss: 0.0844 - val_loss: 0.0883\n",
      "Epoch 61/100\n",
      "5702/5702 [==============================] - 7s 1ms/step - loss: 0.0842 - val_loss: 0.0882\n",
      "Epoch 62/100\n",
      "5702/5702 [==============================] - 6s 1ms/step - loss: 0.0840 - val_loss: 0.0880\n",
      "Epoch 63/100\n",
      "5702/5702 [==============================] - 6s 1ms/step - loss: 0.0838 - val_loss: 0.0879\n",
      "Epoch 64/100\n",
      "5702/5702 [==============================] - 6s 1ms/step - loss: 0.0836 - val_loss: 0.0877\n",
      "Epoch 65/100\n",
      "5702/5702 [==============================] - 6s 1ms/step - loss: 0.0835 - val_loss: 0.0876\n",
      "Epoch 66/100\n",
      "5702/5702 [==============================] - 6s 1ms/step - loss: 0.0833 - val_loss: 0.0874\n",
      "Epoch 67/100\n",
      "5702/5702 [==============================] - 6s 1ms/step - loss: 0.0831 - val_loss: 0.0873\n",
      "Epoch 68/100\n",
      "5702/5702 [==============================] - 6s 1ms/step - loss: 0.0829 - val_loss: 0.0872\n",
      "Epoch 69/100\n",
      "5702/5702 [==============================] - 6s 1ms/step - loss: 0.0828 - val_loss: 0.0870\n",
      "Epoch 70/100\n",
      "5702/5702 [==============================] - 6s 1ms/step - loss: 0.0826 - val_loss: 0.0869\n",
      "Epoch 71/100\n",
      "5702/5702 [==============================] - 6s 1ms/step - loss: 0.0824 - val_loss: 0.0868\n",
      "Epoch 72/100\n",
      "5702/5702 [==============================] - 6s 1ms/step - loss: 0.0823 - val_loss: 0.0867\n",
      "Epoch 73/100\n",
      "5702/5702 [==============================] - 6s 1ms/step - loss: 0.0821 - val_loss: 0.0865\n",
      "Epoch 74/100\n",
      "5702/5702 [==============================] - 6s 1ms/step - loss: 0.0819 - val_loss: 0.0864\n",
      "Epoch 75/100\n",
      "5702/5702 [==============================] - 6s 1ms/step - loss: 0.0818 - val_loss: 0.0863\n",
      "Epoch 76/100\n",
      "5702/5702 [==============================] - 7s 1ms/step - loss: 0.0816 - val_loss: 0.0862\n",
      "Epoch 77/100\n",
      "5702/5702 [==============================] - 6s 1ms/step - loss: 0.0815 - val_loss: 0.0861\n",
      "Epoch 78/100\n",
      "5702/5702 [==============================] - 4s 749us/step - loss: 0.0813 - val_loss: 0.0860\n",
      "Epoch 79/100\n",
      "5702/5702 [==============================] - 4s 731us/step - loss: 0.0811 - val_loss: 0.0859\n",
      "Epoch 80/100\n",
      "5702/5702 [==============================] - 4s 634us/step - loss: 0.0810 - val_loss: 0.0857\n",
      "Epoch 81/100\n",
      "5702/5702 [==============================] - 4s 620us/step - loss: 0.0808 - val_loss: 0.0856\n",
      "Epoch 82/100\n",
      "5702/5702 [==============================] - 5s 866us/step - loss: 0.0807 - val_loss: 0.0855\n",
      "Epoch 83/100\n",
      "5702/5702 [==============================] - 4s 665us/step - loss: 0.0805 - val_loss: 0.0854ss: 0.08\n",
      "Epoch 84/100\n",
      "5702/5702 [==============================] - 4s 651us/step - loss: 0.0804 - val_loss: 0.0853\n",
      "Epoch 85/100\n",
      "5702/5702 [==============================] - 4s 640us/step - loss: 0.0802 - val_loss: 0.0852\n",
      "Epoch 86/100\n",
      "5702/5702 [==============================] - 3s 589us/step - loss: 0.0801 - val_loss: 0.0851\n",
      "Epoch 87/100\n",
      "5702/5702 [==============================] - 3s 580us/step - loss: 0.0799 - val_loss: 0.0850\n",
      "Epoch 88/100\n",
      "5702/5702 [==============================] - 4s 730us/step - loss: 0.0798 - val_loss: 0.0849\n",
      "Epoch 89/100\n",
      "5702/5702 [==============================] - 4s 661us/step - loss: 0.0797 - val_loss: 0.0849\n",
      "Epoch 90/100\n",
      "5702/5702 [==============================] - 4s 679us/step - loss: 0.0795 - val_loss: 0.0848\n",
      "Epoch 91/100\n",
      "5702/5702 [==============================] - 4s 725us/step - loss: 0.0794 - val_loss: 0.0847\n",
      "Epoch 92/100\n",
      "5702/5702 [==============================] - 4s 776us/step - loss: 0.0792 - val_loss: 0.0846\n",
      "Epoch 93/100\n",
      "5702/5702 [==============================] - 5s 909us/step - loss: 0.0791 - val_loss: 0.0845\n",
      "Epoch 94/100\n",
      "5702/5702 [==============================] - 4s 736us/step - loss: 0.0790 - val_loss: 0.0844\n",
      "Epoch 95/100\n",
      "5702/5702 [==============================] - 4s 699us/step - loss: 0.0788 - val_loss: 0.0843\n",
      "Epoch 96/100\n",
      "5702/5702 [==============================] - 4s 656us/step - loss: 0.0787 - val_loss: 0.0843\n",
      "Epoch 97/100\n",
      "5702/5702 [==============================] - 4s 736us/step - loss: 0.0786 - val_loss: 0.0842\n",
      "Epoch 98/100\n",
      "5702/5702 [==============================] - 5s 797us/step - loss: 0.0784 - val_loss: 0.0841\n",
      "Epoch 99/100\n",
      "5702/5702 [==============================] - 4s 767us/step - loss: 0.0783 - val_loss: 0.0840\n",
      "Epoch 100/100\n",
      "5702/5702 [==============================] - 5s 790us/step - loss: 0.0782 - val_loss: 0.0839\n"
     ]
    },
    {
     "data": {
      "image/png": "[encoded data removed]",
      "text/plain": [
       "<Figure size 432x288 with 1 Axes>"
      ]
     },
     "metadata": {},
     "output_type": "display_data"
    },
    {
     "name": "stdout",
     "output_type": "stream",
     "text": [
      "Done\n"
     ]
    }
   ],
   "source": [
    "# Training network 1 (exclude links)\n",
    "epochs = 100\n",
    "x_train_spectra = np.log(gnps_spectra+1)\n",
    "x_train_fingerprints = gnps_fingerprints.values\n",
    "x_test_spectra = np.log(test_spectra+1)\n",
    "\n",
    "enc1 = simplified_fingerprint_model(x_train_spectra, x_train_fingerprints, epochs=epochs)\n",
    "\n",
    "actual = test_fingerprint.values\n",
    "predicted = enc1.predict(x_test_spectra)\n",
    "\n",
    "n1_stats, n1_perm_scores = compute_auc(320, actual, predicted)"
   ]
  },
  {
   "cell_type": "code",
   "execution_count": null,
   "metadata": {},
   "outputs": [],
   "source": [
    "# Training network 2 (exclude links)\n",
    "epochs = 100\n",
    "x_train_fingerprints = mibig_filtered_fingerprints\n",
    "x_train_families = mibig_filtered_families\n",
    "\n",
    "enc2 = simplified_family_model(x_train_fingerprints.values, x_train_families.values, epochs=epochs)"
   ]
  },
  {
   "cell_type": "markdown",
   "metadata": {},
   "source": [
    "Compute the families AUC in the fingerprint - family network by using predicted fingerprint"
   ]
  },
  {
   "cell_type": "code",
   "execution_count": 7,
   "metadata": {
    "scrolled": false
   },
   "outputs": [
    {
     "name": "stdout",
     "output_type": "stream",
     "text": [
      "Done\n",
      "[(0, 14, 0.67667173,   1.6) (1, 63, 0.56743177,   5.6)\n",
      " (2,  7, 0.61904762,  12.2) (3, 12, 0.42061404,  81.4)\n",
      " (4,  0, 0.        , 100. ) (5, 10, 0.44166667,  73.2)\n",
      " (6, 91, 0.58573409,   2. ) (7, 23, 0.64087928,   1.4)]\n",
      "\n",
      "[[0.63487842 0.65159574 0.55091185 ... 0.41147416 0.51329787 0.32370821]\n",
      " [0.41521069 0.4897796  0.54402193 ... 0.55201553 0.51604431 0.47470595]\n",
      " [0.48131868 0.60879121 0.58827839 ... 0.61611722 0.4989011  0.65054945]\n",
      " ...\n",
      " [0.56666667 0.28854167 0.625      ... 0.56927083 0.49947917 0.375     ]\n",
      " [0.52648253 0.51861202 0.54657955 ... 0.47331947 0.51633502 0.48203148]\n",
      " [0.52963323 0.55635171 0.54700024 ... 0.4248239  0.51566675 0.50777265]]\n",
      "\n"
     ]
    }
   ],
   "source": [
    "# using linked mibig-gnps as test set\n",
    "x_train_spectra = load_master_file(path=test_datapath)\n",
    "predicted = enc1.predict(x_train_spectra)\n",
    "\n",
    "gnps_families_path = \"G:\\\\Dev\\\\Data\\\\gnps_family.txt\"\n",
    "x_train_families = load_families_master(gnps_families_path)\n",
    "x_train_fingerprints = load_fingerprints_master(test_fingerprint_path, number_of_rows=1)\n",
    "\n",
    "actual = x_train_families.values\n",
    "predicted = enc2.predict(predicted) # using predicted fingerprints\n",
    "exp_stats, exp_perm_scores = compute_auc(8, actual, predicted)\n",
    "\n",
    "print(exp_stats)\n",
    "print()\n",
    "print(exp_perm_scores)\n",
    "print()"
   ]
  },
  {
   "cell_type": "code",
   "execution_count": 8,
   "metadata": {},
   "outputs": [
    {
     "name": "stdout",
     "output_type": "stream",
     "text": [
      "{'Alkaloid': 14, 'NRP': 63, 'Terpene': 7, 'RiPP': 12, 'Nucleoside': 0, 'Saccharide': 10, 'Polyketide': 91, 'Other': 23}\n",
      "Family, proportion guessed correctly, proportion missed\n",
      "Alkaloid, 28.57142857142857, 5.339805825242718\n",
      "NRP, 25.396825396825395, 22.29299363057325\n",
      "Terpene, 14.285714285714285, 3.286384976525822\n",
      "RiPP, 0.0, 0.0\n",
      "Nucleoside no sample\n",
      "Saccharide, 0.0, 0.0\n",
      "Polyketide, 62.637362637362635, 47.286821705426355\n",
      "Other, 13.043478260869565, 3.5532994923857872\n"
     ]
    }
   ],
   "source": [
    "compute_predicted_family_proportion(gnps_families_path, family_names, x_train_families.index, predicted)"
   ]
  },
  {
   "cell_type": "markdown",
   "metadata": {},
   "source": [
    "Compute the families AUC in the fingerprint - family network by using true fingerprints"
   ]
  },
  {
   "cell_type": "code",
   "execution_count": 9,
   "metadata": {},
   "outputs": [
    {
     "name": "stdout",
     "output_type": "stream",
     "text": [
      "Done\n",
      "[(0, 14, 0.95744681,   0. ) (1, 63, 0.71953865,   0. )\n",
      " (2,  7, 0.72747253,   1.6) (3, 12, 0.90745614,   0. )\n",
      " (4,  0, 0.        , 100. ) (5, 10, 0.9171875 ,   0. )\n",
      " (6, 91, 0.95198495,   0. ) (7, 23, 0.73718727,   0. )]\n",
      "\n",
      "[[0.64152736 0.5193769  0.62518997 ... 0.51101824 0.4481383  0.54711246]\n",
      " [0.49046477 0.49314834 0.44290282 ... 0.52295307 0.48030147 0.5081078 ]\n",
      " [0.58278388 0.73333333 0.62454212 ... 0.58205128 0.43589744 0.53076923]\n",
      " ...\n",
      " [0.48697917 0.5203125  0.46302083 ... 0.40078125 0.43984375 0.54322917]\n",
      " [0.498317   0.57128007 0.497921   ... 0.48500149 0.45752896 0.43114543]\n",
      " [0.49417051 0.4143794  0.45397134 ... 0.58379888 0.41984455 0.53497692]]\n",
      "\n"
     ]
    }
   ],
   "source": [
    "predicted = enc2.predict(x_train_fingerprints.values) # using true fingerprints\n",
    "exp_stats, exp_perm_scores = compute_auc(8, actual, predicted)\n",
    "\n",
    "print(exp_stats)\n",
    "print()\n",
    "print(exp_perm_scores)\n",
    "print()"
   ]
  },
  {
   "cell_type": "code",
   "execution_count": 10,
   "metadata": {},
   "outputs": [
    {
     "name": "stdout",
     "output_type": "stream",
     "text": [
      "{'Alkaloid': 14, 'NRP': 63, 'Terpene': 7, 'RiPP': 12, 'Nucleoside': 0, 'Saccharide': 10, 'Polyketide': 91, 'Other': 23}\n",
      "Family, proportion guessed correctly, proportion missed\n",
      "Alkaloid, 28.57142857142857, 0.0\n",
      "NRP, 34.92063492063492, 14.64968152866242\n",
      "Terpene, 28.57142857142857, 5.164319248826291\n",
      "RiPP, 25.0, 0.0\n",
      "Nucleoside no sample\n",
      "Saccharide, 40.0, 0.0\n",
      "Polyketide, 87.91208791208791, 33.33333333333333\n",
      "Other, 26.08695652173913, 2.030456852791878\n"
     ]
    }
   ],
   "source": [
    "compute_predicted_family_proportion(gnps_families_path, family_names, x_train_families.index, predicted)"
   ]
  },
  {
   "cell_type": "markdown",
   "metadata": {},
   "source": [
    "Use a bigger test dataset (the whole MIBiG - 1813 samples)"
   ]
  },
  {
   "cell_type": "code",
   "execution_count": 11,
   "metadata": {},
   "outputs": [
    {
     "name": "stdout",
     "output_type": "stream",
     "text": [
      "Done\n",
      "[(0,  90, 0.97726193,  0. ) (1, 505, 0.91723844,  0. )\n",
      " (2, 131, 0.97507483,  0. ) (3,  72, 0.98806566,  0. )\n",
      " (4,   1, 0.36514523, 70.2) (5, 103, 0.97257859,  0. )\n",
      " (6, 722, 0.94090744,  0. ) (7, 189, 0.90664194,  0. )]\n",
      "\n",
      "[[0.52821174 0.48218701 0.49755179 ... 0.49547613 0.45286989 0.53128224]\n",
      " [0.5061466  0.50264026 0.49309348 ... 0.51179815 0.49401947 0.49233882]\n",
      " [0.47892933 0.49305958 0.49462285 ... 0.50692882 0.54400914 0.48169911]\n",
      " ...\n",
      " [0.47137584 0.48255461 0.57166696 ... 0.49147235 0.53282839 0.55850526]\n",
      " [0.51535199 0.47943261 0.47413984 ... 0.47324864 0.48801987 0.48528417]\n",
      " [0.50537933 0.48186842 0.52425114 ... 0.46736232 0.47150302 0.50251512]]\n",
      "\n"
     ]
    }
   ],
   "source": [
    "# using mibig all as test dataset\n",
    "x_train_fingerprints = mibig_fingerprints\n",
    "x_train_families = mibig_families\n",
    "\n",
    "actual = x_train_families.values\n",
    "predicted = enc2.predict(x_train_fingerprints.values) # using true fingerprints\n",
    "exp_stats, exp_perm_scores = compute_auc(8, actual, predicted)\n",
    "\n",
    "print(exp_stats)\n",
    "print()\n",
    "print(exp_perm_scores)\n",
    "print()"
   ]
  },
  {
   "cell_type": "code",
   "execution_count": 12,
   "metadata": {},
   "outputs": [
    {
     "name": "stdout",
     "output_type": "stream",
     "text": [
      "{'Alkaloid': 90, 'NRP': 505, 'Terpene': 131, 'RiPP': 72, 'Nucleoside': 1, 'Saccharide': 103, 'Polyketide': 722, 'Other': 189}\n",
      "Family, proportion guessed correctly, proportion missed\n",
      "Alkaloid, 46.666666666666664, 0.6964596633778294\n",
      "NRP, 63.366336633663366, 5.045871559633028\n",
      "Terpene, 74.80916030534351, 0.8323424494649228\n",
      "RiPP, 63.888888888888886, 0.402067777139575\n",
      "Nucleoside, 0.0, 0.0\n",
      "Saccharide, 19.41747572815534, 0.11695906432748539\n",
      "Polyketide, 83.5180055401662, 8.340971585701192\n",
      "Other, 48.67724867724868, 2.0935960591133003\n"
     ]
    }
   ],
   "source": [
    "compute_predicted_family_proportion(mibig_families_path, family_names, x_train_families.index, predicted)"
   ]
  },
  {
   "cell_type": "markdown",
   "metadata": {},
   "source": [
    "Get common fingerprint for each family"
   ]
  },
  {
   "cell_type": "code",
   "execution_count": 15,
   "metadata": {},
   "outputs": [
    {
     "name": "stdout",
     "output_type": "stream",
     "text": [
      "Done\n"
     ]
    }
   ],
   "source": [
    "family_common_fingerprint_path = \"G:\\\\Dev\\\\Data\\\\family_common_substructures.txt\"\n",
    "family_substructure_auc_path = \"G:\\\\Dev\\\\Data\\\\family_substructure_auc.txt\"\n",
    "family_substructure_auc = {}\n",
    "n1_stats = list(n1_stats)\n",
    "\n",
    "with open(family_common_fingerprint_path, 'r') as f:\n",
    "    for line in f:\n",
    "        family, bit_name, occurrence, occurence_other, diff = line.split(\"  \")\n",
    "        if family not in family_substructure_auc:\n",
    "            family_substructure_auc[family] = {}\n",
    "        family_substructure_auc[family][bit_name] = n1_stats[fingerprint_names.index(bit_name)][2]\n",
    "\n",
    "with open(family_substructure_auc_path, 'w') as f:\n",
    "    for key, details in family_substructure_auc.items():\n",
    "        for substructure, auc in details.items():\n",
    "            f.write(key + \",\" + substructure + \",\" + str(round(auc,2)) + \"\\n\")\n",
    "\n",
    "print(\"Done\")"
   ]
  },
  {
   "cell_type": "code",
   "execution_count": null,
   "metadata": {},
   "outputs": [],
   "source": [
    "# Training network 1 (include links)\n",
    "epochs = 100\n",
    "x_train_spectra = np.log(spectra+1)\n",
    "x_train_fingerprints = fingerprints.values\n",
    "\n",
    "enc1 = simplified_fingerprint_model(x_train_spectra, x_train_fingerprints, epochs=epochs)"
   ]
  },
  {
   "cell_type": "code",
   "execution_count": 12,
   "metadata": {
    "scrolled": true
   },
   "outputs": [
    {
     "name": "stderr",
     "output_type": "stream",
     "text": [
      "C:\\Dev\\nnpredict\\Code\\Python\\nn_interface.py:157: UserWarning: Update your `Model` call to the Keras 2 API: `Model(inputs=Tensor(\"in..., outputs=Tensor(\"de...)`\n",
      "  auto_model = Model(input=input_layer, output=out_layer)\n"
     ]
    },
    {
     "name": "stdout",
     "output_type": "stream",
     "text": [
      "Train on 1231 samples, validate on 137 samples\n",
      "Epoch 1/100\n",
      "1231/1231 [==============================] - 1s 902us/step - loss: 0.5226 - val_loss: 0.3818\n",
      "Epoch 2/100\n",
      "1231/1231 [==============================] - 1s 451us/step - loss: 0.3585 - val_loss: 0.3259\n",
      "Epoch 3/100\n",
      "1231/1231 [==============================] - 1s 635us/step - loss: 0.3297 - val_loss: 0.3123\n",
      "Epoch 4/100\n",
      "1231/1231 [==============================] - 1s 692us/step - loss: 0.3170 - val_loss: 0.3045\n",
      "Epoch 5/100\n",
      "1231/1231 [==============================] - 1s 563us/step - loss: 0.3073 - val_loss: 0.2983\n",
      "Epoch 6/100\n",
      "1231/1231 [==============================] - 1s 634us/step - loss: 0.2990 - val_loss: 0.2928\n",
      "Epoch 7/100\n",
      "1231/1231 [==============================] - 1s 553us/step - loss: 0.2917 - val_loss: 0.2878\n",
      "Epoch 8/100\n",
      "1231/1231 [==============================] - 1s 469us/step - loss: 0.2852 - val_loss: 0.2833\n",
      "Epoch 9/100\n",
      "1231/1231 [==============================] - 0s 395us/step - loss: 0.2793 - val_loss: 0.2792\n",
      "Epoch 10/100\n",
      "1231/1231 [==============================] - 1s 505us/step - loss: 0.2740 - val_loss: 0.2754\n",
      "Epoch 11/100\n",
      "1231/1231 [==============================] - 1s 505us/step - loss: 0.2693 - val_loss: 0.2719\n",
      "Epoch 12/100\n",
      "1231/1231 [==============================] - 1s 728us/step - loss: 0.2649 - val_loss: 0.2685\n",
      "Epoch 13/100\n",
      "1231/1231 [==============================] - 1s 758us/step - loss: 0.2608 - val_loss: 0.2654\n",
      "Epoch 14/100\n",
      "1231/1231 [==============================] - 1s 724us/step - loss: 0.2569 - val_loss: 0.2625\n",
      "Epoch 15/100\n",
      "1231/1231 [==============================] - 1s 497us/step - loss: 0.2533 - val_loss: 0.2598\n",
      "Epoch 16/100\n",
      "1231/1231 [==============================] - 1s 487us/step - loss: 0.2499 - val_loss: 0.2572\n",
      "Epoch 17/100\n",
      "1231/1231 [==============================] - 1s 534us/step - loss: 0.2467 - val_loss: 0.2548\n",
      "Epoch 18/100\n",
      "1231/1231 [==============================] - 1s 651us/step - loss: 0.2436 - val_loss: 0.2526\n",
      "Epoch 19/100\n",
      "1231/1231 [==============================] - 1s 761us/step - loss: 0.2407 - val_loss: 0.2505\n",
      "Epoch 20/100\n",
      "1231/1231 [==============================] - 1s 648us/step - loss: 0.2379 - val_loss: 0.2485\n",
      "Epoch 21/100\n",
      "1231/1231 [==============================] - 1s 553us/step - loss: 0.2353 - val_loss: 0.2466\n",
      "Epoch 22/100\n",
      "1231/1231 [==============================] - 1s 575us/step - loss: 0.2328 - val_loss: 0.2449\n",
      "Epoch 23/100\n",
      "1231/1231 [==============================] - 1s 514us/step - loss: 0.2304 - val_loss: 0.2433\n",
      "Epoch 24/100\n",
      "1231/1231 [==============================] - 1s 646us/step - loss: 0.2281 - val_loss: 0.2417\n",
      "Epoch 25/100\n",
      "1231/1231 [==============================] - 1s 440us/step - loss: 0.2259 - val_loss: 0.2402\n",
      "Epoch 26/100\n",
      "1231/1231 [==============================] - 1s 486us/step - loss: 0.2238 - val_loss: 0.2388\n",
      "Epoch 27/100\n",
      "1231/1231 [==============================] - 1s 555us/step - loss: 0.2218 - val_loss: 0.2375\n",
      "Epoch 28/100\n",
      "1231/1231 [==============================] - 1s 715us/step - loss: 0.2199 - val_loss: 0.2363\n",
      "Epoch 29/100\n",
      "1231/1231 [==============================] - 1s 597us/step - loss: 0.2181 - val_loss: 0.2351\n",
      "Epoch 30/100\n",
      "1231/1231 [==============================] - 1s 713us/step - loss: 0.2163 - val_loss: 0.2339\n",
      "Epoch 31/100\n",
      "1231/1231 [==============================] - 1s 551us/step - loss: 0.2146 - val_loss: 0.2329\n",
      "Epoch 32/100\n",
      "1231/1231 [==============================] - 1s 546us/step - loss: 0.2129 - val_loss: 0.2318\n",
      "Epoch 33/100\n",
      "1231/1231 [==============================] - 1s 696us/step - loss: 0.2113 - val_loss: 0.2308\n",
      "Epoch 34/100\n",
      "1231/1231 [==============================] - 1s 573us/step - loss: 0.2097 - val_loss: 0.2299\n",
      "Epoch 35/100\n",
      "1231/1231 [==============================] - 1s 582us/step - loss: 0.2082 - val_loss: 0.2290\n",
      "Epoch 36/100\n",
      "1231/1231 [==============================] - 0s 357us/step - loss: 0.2067 - val_loss: 0.2281\n",
      "Epoch 37/100\n",
      "1231/1231 [==============================] - 1s 516us/step - loss: 0.2053 - val_loss: 0.2273\n",
      "Epoch 38/100\n",
      "1231/1231 [==============================] - 1s 514us/step - loss: 0.2039 - val_loss: 0.2265\n",
      "Epoch 39/100\n",
      "1231/1231 [==============================] - 1s 476us/step - loss: 0.2026 - val_loss: 0.2257\n",
      "Epoch 40/100\n",
      "1231/1231 [==============================] - 1s 554us/step - loss: 0.2013 - val_loss: 0.2249\n",
      "Epoch 41/100\n",
      "1231/1231 [==============================] - 1s 557us/step - loss: 0.2000 - val_loss: 0.2242\n",
      "Epoch 42/100\n",
      "1231/1231 [==============================] - 1s 577us/step - loss: 0.1987 - val_loss: 0.2235\n",
      "Epoch 43/100\n",
      "1231/1231 [==============================] - 1s 468us/step - loss: 0.1975 - val_loss: 0.2228\n",
      "Epoch 44/100\n",
      "1231/1231 [==============================] - 1s 486us/step - loss: 0.1963 - val_loss: 0.2221\n",
      "Epoch 45/100\n",
      "1231/1231 [==============================] - 1s 434us/step - loss: 0.1952 - val_loss: 0.2215\n",
      "Epoch 46/100\n",
      "1231/1231 [==============================] - 1s 501us/step - loss: 0.1940 - val_loss: 0.2209\n",
      "Epoch 47/100\n",
      "1231/1231 [==============================] - 1s 489us/step - loss: 0.1929 - val_loss: 0.2203\n",
      "Epoch 48/100\n",
      "1231/1231 [==============================] - 0s 300us/step - loss: 0.1918 - val_loss: 0.2197\n",
      "Epoch 49/100\n",
      "1231/1231 [==============================] - 1s 441us/step - loss: 0.1907 - val_loss: 0.2192\n",
      "Epoch 50/100\n",
      "1231/1231 [==============================] - 0s 405us/step - loss: 0.1897 - val_loss: 0.2187\n",
      "Epoch 51/100\n",
      "1231/1231 [==============================] - 1s 498us/step - loss: 0.1886 - val_loss: 0.2181\n",
      "Epoch 52/100\n",
      "1231/1231 [==============================] - 0s 366us/step - loss: 0.1876 - val_loss: 0.2176\n",
      "Epoch 53/100\n",
      "1231/1231 [==============================] - 1s 416us/step - loss: 0.1866 - val_loss: 0.2171\n",
      "Epoch 54/100\n",
      "1231/1231 [==============================] - 1s 545us/step - loss: 0.1857 - val_loss: 0.2167\n",
      "Epoch 55/100\n",
      "1231/1231 [==============================] - 1s 498us/step - loss: 0.1847 - val_loss: 0.2162\n",
      "Epoch 56/100\n",
      "1231/1231 [==============================] - 1s 526us/step - loss: 0.1837 - val_loss: 0.2157\n",
      "Epoch 57/100\n",
      "1231/1231 [==============================] - 1s 448us/step - loss: 0.1828 - val_loss: 0.2153\n",
      "Epoch 58/100\n",
      "1231/1231 [==============================] - 1s 590us/step - loss: 0.1818 - val_loss: 0.2149\n",
      "Epoch 59/100\n",
      "1231/1231 [==============================] - 1s 443us/step - loss: 0.1809 - val_loss: 0.2145\n",
      "Epoch 60/100\n",
      "1231/1231 [==============================] - 1s 530us/step - loss: 0.1800 - val_loss: 0.2141\n",
      "Epoch 61/100\n",
      "1231/1231 [==============================] - 1s 589us/step - loss: 0.1791 - val_loss: 0.2137\n",
      "Epoch 62/100\n",
      "1231/1231 [==============================] - 1s 563us/step - loss: 0.1782 - val_loss: 0.2134\n",
      "Epoch 63/100\n",
      "1231/1231 [==============================] - 1s 548us/step - loss: 0.1774 - val_loss: 0.2130\n",
      "Epoch 64/100\n",
      "1231/1231 [==============================] - 1s 545us/step - loss: 0.1765 - val_loss: 0.2127\n",
      "Epoch 65/100\n",
      "1231/1231 [==============================] - 1s 568us/step - loss: 0.1757 - val_loss: 0.2124\n",
      "Epoch 66/100\n",
      "1231/1231 [==============================] - 1s 559us/step - loss: 0.1748 - val_loss: 0.2121\n",
      "Epoch 67/100\n",
      "1231/1231 [==============================] - 1s 515us/step - loss: 0.1740 - val_loss: 0.2117\n",
      "Epoch 68/100\n",
      "1231/1231 [==============================] - 1s 598us/step - loss: 0.1731 - val_loss: 0.2115\n",
      "Epoch 69/100\n",
      "1231/1231 [==============================] - 1s 534us/step - loss: 0.1723 - val_loss: 0.2112\n",
      "Epoch 70/100\n",
      "1231/1231 [==============================] - 1s 539us/step - loss: 0.1715 - val_loss: 0.2109\n",
      "Epoch 71/100\n",
      "1231/1231 [==============================] - 1s 525us/step - loss: 0.1707 - val_loss: 0.2106\n",
      "Epoch 72/100\n",
      "1231/1231 [==============================] - 1s 553us/step - loss: 0.1699 - val_loss: 0.2103\n",
      "Epoch 73/100\n",
      "1231/1231 [==============================] - 1s 537us/step - loss: 0.1692 - val_loss: 0.2101\n",
      "Epoch 74/100\n",
      "1231/1231 [==============================] - 1s 505us/step - loss: 0.1684 - val_loss: 0.2098\n",
      "Epoch 75/100\n",
      "1231/1231 [==============================] - 1s 621us/step - loss: 0.1676 - val_loss: 0.2096TA: 0s - loss: 0\n",
      "Epoch 76/100\n",
      "1231/1231 [==============================] - 1s 581us/step - loss: 0.1668 - val_loss: 0.2093\n",
      "Epoch 77/100\n",
      "1231/1231 [==============================] - 1s 542us/step - loss: 0.1661 - val_loss: 0.2091\n"
     ]
    },
    {
     "name": "stdout",
     "output_type": "stream",
     "text": [
      "Epoch 78/100\n",
      "1231/1231 [==============================] - 1s 555us/step - loss: 0.1653 - val_loss: 0.2089\n",
      "Epoch 79/100\n",
      "1231/1231 [==============================] - 1s 531us/step - loss: 0.1646 - val_loss: 0.2086\n",
      "Epoch 80/100\n",
      "1231/1231 [==============================] - 1s 563us/step - loss: 0.1639 - val_loss: 0.2084\n",
      "Epoch 81/100\n",
      "1231/1231 [==============================] - 1s 528us/step - loss: 0.1631 - val_loss: 0.2082\n",
      "Epoch 82/100\n",
      "1231/1231 [==============================] - 1s 504us/step - loss: 0.1624 - val_loss: 0.2080\n",
      "Epoch 83/100\n",
      "1231/1231 [==============================] - 1s 524us/step - loss: 0.1617 - val_loss: 0.2078\n",
      "Epoch 84/100\n",
      "1231/1231 [==============================] - 1s 501us/step - loss: 0.1610 - val_loss: 0.2076\n",
      "Epoch 85/100\n",
      "1231/1231 [==============================] - 1s 563us/step - loss: 0.1603 - val_loss: 0.2074\n",
      "Epoch 86/100\n",
      "1231/1231 [==============================] - 1s 531us/step - loss: 0.1596 - val_loss: 0.2072\n",
      "Epoch 87/100\n",
      "1231/1231 [==============================] - 1s 488us/step - loss: 0.1589 - val_loss: 0.2070\n",
      "Epoch 88/100\n",
      "1231/1231 [==============================] - 1s 524us/step - loss: 0.1582 - val_loss: 0.2068\n",
      "Epoch 89/100\n",
      "1231/1231 [==============================] - 1s 546us/step - loss: 0.1575 - val_loss: 0.2067\n",
      "Epoch 90/100\n",
      "1231/1231 [==============================] - 1s 581us/step - loss: 0.1568 - val_loss: 0.2065\n",
      "Epoch 91/100\n",
      "1231/1231 [==============================] - 1s 543us/step - loss: 0.1561 - val_loss: 0.2064\n",
      "Epoch 92/100\n",
      "1231/1231 [==============================] - 1s 563us/step - loss: 0.1555 - val_loss: 0.2063\n",
      "Epoch 93/100\n",
      "1231/1231 [==============================] - 1s 547us/step - loss: 0.1548 - val_loss: 0.2062\n",
      "Epoch 94/100\n",
      "1231/1231 [==============================] - 1s 501us/step - loss: 0.1541 - val_loss: 0.2061\n",
      "Epoch 95/100\n",
      "1231/1231 [==============================] - 1s 624us/step - loss: 0.1535 - val_loss: 0.2060\n",
      "Epoch 96/100\n",
      "1231/1231 [==============================] - 1s 609us/step - loss: 0.1528 - val_loss: 0.2060\n",
      "Epoch 97/100\n",
      "1231/1231 [==============================] - 1s 618us/step - loss: 0.1522 - val_loss: 0.2059\n",
      "Epoch 98/100\n",
      "1231/1231 [==============================] - 1s 663us/step - loss: 0.1516 - val_loss: 0.2058\n",
      "Epoch 99/100\n",
      "1231/1231 [==============================] - 1s 603us/step - loss: 0.1509 - val_loss: 0.2058\n",
      "Epoch 100/100\n",
      "1231/1231 [==============================] - 1s 547us/step - loss: 0.1503 - val_loss: 0.2057\n"
     ]
    },
    {
     "data": {
      "image/png": "[encoded data removed]",
      "text/plain": [
       "<Figure size 432x288 with 1 Axes>"
      ]
     },
     "metadata": {},
     "output_type": "display_data"
    }
   ],
   "source": [
    "# Training network 2 (include links)\n",
    "epochs = 100\n",
    "x_train_fingerprints = mibig_fingerprints\n",
    "x_train_families = mibig_families\n",
    "\n",
    "enc2 = simplified_family_model(x_train_fingerprints.values, x_train_families.values, epochs=epochs)"
   ]
  },
  {
   "cell_type": "code",
   "execution_count": null,
   "metadata": {},
   "outputs": [],
   "source": [
    "mibig_links_path = \"G:\\\\Dev\\\\Data\\\\mibig_gnps_links_q3_loose.csv\"\n",
    "mibig_family_path = \"G:\\\\Dev\\\\Data\\\\mibig_family\\\\gene_family.txt\"\n",
    "mibig_gnps_df = pd.read_csv(mibig_links_path, sep=\",\")\n",
    "\n",
    "mibig_gnps_dict = {}\n",
    "mibig_families = {}\n",
    "mibig_families_count = {}\n",
    "\n",
    "for index, row in mibig_gnps_df.iterrows():\n",
    "    if row[\"gnps_id\"] not in mibig_gnps_dict:\n",
    "        mibig_gnps_dict[row[\"gnps_id\"]] = set()\n",
    "    mibig_gnps_dict[row[\"gnps_id\"]].add(row[\"#mibig_id\"])\n",
    "\n",
    "with open(mibig_family_path, 'r') as f:\n",
    "    for line in f:\n",
    "        mibig_id, family = line.split(\"  \")\n",
    "        if mibig_id not in mibig_families:\n",
    "            mibig_families[mibig_id] = []\n",
    "        mibig_families[mibig_id].append(family[:-1])\n",
    "        \n",
    "probability_report_path = \"G:\\\\Dev\\\\Data\\\\gnps_prediction_report.csv\"\n",
    "families = [\"Alkaloid\", \"NRP\", \"Terpene\", \"RiPP\", \"Nucleoside\", \"Saccharide\", \"Polyketide\", \"Other\"]\n",
    "true_family_counter = {}\n",
    "family_correct_counter = {}\n",
    "\n",
    "for family in families:\n",
    "    true_family_counter[family] = 0\n",
    "    family_correct_counter[family] = 0\n",
    "\n",
    "with open(probability_report_path, 'w') as f:\n",
    "    f.write(\"#mibig_id,gnps_id,Alkaloid,NRP,Terpene,RiPP,Nucleoside,Saccharide,Polyketide,Other,True Label\\n\")\n",
    "\n",
    "with open(probability_report_path, 'a') as f:    \n",
    "    for index, probabilities in enumerate(predicted):\n",
    "        temp = copy.deepcopy(probabilities).tolist()\n",
    "        gnps_id = x_train_fingerprints.index[index]\n",
    "        prob_string = \",\".join(map(str, probabilities))\n",
    "        for mibig_id in mibig_gnps_dict[gnps_id]:\n",
    "            true_labels = []\n",
    "            max_indexes = []\n",
    "            for true_family in mibig_families[mibig_id]:\n",
    "                true_labels.append(true_family)\n",
    "                max_index = temp.index(max(temp))\n",
    "                max_indexes.append(max_index)\n",
    "                temp.remove(temp[max_index])\n",
    "                true_family_counter[true_family] += 1\n",
    "                f.write(mibig_id + \",\" + gnps_id + \",\" + prob_string + \",\" + true_family + \"\\n\")\n",
    "            for index in max_indexes:\n",
    "                if families[index] in true_labels:\n",
    "                    family_correct_counter[families[index]] += 1\n",
    "    \n",
    "prediction_comparison_report_path = \"G:\\\\Dev\\\\Data\\\\prediction_comparison_report.txt\"\n",
    "with open(prediction_comparison_report_path, 'w') as f:\n",
    "    f.write(\"family,matched,actual,proportion\\n\")\n",
    "\n",
    "with open(prediction_comparison_report_path, 'a') as f:\n",
    "    for family in family_correct_counter:\n",
    "        matched = family_correct_counter[family]\n",
    "        actual = true_family_counter[family]\n",
    "        proportion = 0\n",
    "        if actual != 0:\n",
    "            proportion = matched / actual\n",
    "        f.write(family + \",\" + str(matched) + \",\" + str(actual) + \",\" + str(proportion*100) + \"\\n\")\n",
    "    \n",
    "print(\"Done\")"
   ]
  },
  {
   "cell_type": "code",
   "execution_count": null,
   "metadata": {},
   "outputs": [],
   "source": [
    "filepath = \"G:\\\\Dev\\\\Data\\\\saved_spectrum_fingerprint_non_binary_model.h5\"\n",
    "enc1.save(filepath)\n",
    "\n",
    "filepath = \"G:\\\\Dev\\\\Data\\\\saved_fingerprint_families_non_binary_model.h5\"\n",
    "enc2.save(filepath)"
   ]
  }
 ],
 "metadata": {
  "kernelspec": {
   "display_name": "Python 3",
   "language": "python",
   "name": "python3"
  },
  "language_info": {
   "codemirror_mode": {
    "name": "ipython",
    "version": 3
   },
   "file_extension": ".py",
   "mimetype": "text/x-python",
   "name": "python",
   "nbconvert_exporter": "python",
   "pygments_lexer": "ipython3",
   "version": "3.6.5"
  }
 },
 "nbformat": 4,
 "nbformat_minor": 1
}

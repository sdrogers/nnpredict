{
 "cells": [
  {
   "cell_type": "code",
   "execution_count": 1,
   "metadata": {},
   "outputs": [],
   "source": [
    "import numpy as np\n",
    "import os\n",
    "\n",
    "import copy"
   ]
  },
  {
   "cell_type": "code",
   "execution_count": 2,
   "metadata": {},
   "outputs": [],
   "source": [
    "from spectrum_family_utilities import *"
   ]
  },
  {
   "cell_type": "markdown",
   "metadata": {},
   "source": [
    "Filtering relevant files based on linked mibig gnps file"
   ]
  },
  {
   "cell_type": "code",
   "execution_count": 3,
   "metadata": {},
   "outputs": [
    {
     "name": "stdout",
     "output_type": "stream",
     "text": [
      "Done\n"
     ]
    }
   ],
   "source": [
    "gnps_test_dataset_spectrum_dir = \"G:\\\\Dev\\\\Data\\\\GNPS For Family Test Q3\"\n",
    "linked_gnps_path = \"G:\\\\Dev\\\\Data\\\\Linked GNPS Fingerprints.txt\"\n",
    "linked_mibig_gnps_path = \"G:\\\\Dev\\\\Data\\\\mibig_gnps_links_q3_loose.csv\"\n",
    "\n",
    "#input\n",
    "final_data_path = \"G:\\\\Dev\\\\Data\\\\For Family Q3\\\\GNPS Python Master\\\\Final Data.txt\"\n",
    "final_fingerprints_data_path = \"G:\\\\Dev\\\\Data\\\\For Family Q3\\\\GNPS Python Master\\\\Final Fingerprints.txt\"\n",
    "mibig_family_path = \"G:\\\\Dev\\\\Data\\\\mibig_family\\\\gene_family.txt\"\n",
    "gnps_datapath = \"G:\\\\Dev\\\\Data\\\\Fingerprint Bitmaps 2\\\\Mega big GNPS Final Fingerprints.txt\"\n",
    "mibig_datapath = \"G:\\\\Dev\\\\Data\\\\Fingerprint Bitmaps 2\\\\mibig_unique_smiles.txt\"\n",
    "\n",
    "# output\n",
    "filtered_final_data_path = \"G:\\\\Dev\\\\Data\\\\For Family Test Q3\\\\GNPS Python Master\\\\Final Data.txt\"\n",
    "filtered_final_fingerprints_data_path = \"G:\\\\Dev\\\\Data\\\\For Family Test Q3\\\\GNPS Python Master\\\\Final Fingerprints.txt\"\n",
    "gnps_family_path = \"G:\\\\Dev\\\\Data\\\\gnps_family.txt\"\n",
    "filtered_mibig_path = \"G:\\\\Dev\\\\Data\\\\Filtered Mibig GNPS Links\\\\Filtered Mibig Fingerprints.txt\"\n",
    "filtered_gnps_path = \"G:\\\\Dev\\\\Data\\\\Filtered Mibig GNPS Links\\\\Filtered GNPS Fingerprints.txt\"\n",
    "\n",
    "filter_gnps_data(gnps_datapath, linked_mibig_gnps_path, filtered_gnps_path)\n",
    "filter_mibig_data(mibig_datapath, linked_mibig_gnps_path, filtered_mibig_path)\n",
    "\n",
    "generate_linked_gnps_fingerprints(gnps_datapath, linked_mibig_gnps_path, linked_gnps_path)\n",
    "get_linked_gnps_data(final_data_path, linked_gnps_path, filtered_final_data_path)\n",
    "get_linked_gnps_data(final_fingerprints_data_path, linked_gnps_path, filtered_final_fingerprints_data_path)\n",
    "\n",
    "filter_gnps_dir(gnps_test_dataset_spectrum_dir, linked_gnps_path)\n",
    "print(\"Done\")"
   ]
  },
  {
   "cell_type": "markdown",
   "metadata": {},
   "source": [
    "Set up variables for constants such as absolute datapaths and the desired valdiation fraction split."
   ]
  },
  {
   "cell_type": "code",
   "execution_count": 4,
   "metadata": {},
   "outputs": [],
   "source": [
    "#gnps\n",
    "datapath = \"G:\\\\Dev\\\\Data\\\\For Family\\\\GNPS Python Master\\\\Final Data.txt\"\n",
    "fingerprints_path = \"G:\\\\Dev\\\\Data\\\\For Family\\\\GNPS Python Master\\\\Final Fingerprints.txt\"\n",
    "fingerprints_names_path = \"G:\\\\Dev\\\\Data\\\\1000\\\\GNPS Python Master\\\\Fingerprint Legend.txt\"\n",
    "\n",
    "#gnps for family\n",
    "gnps_for_family_datapath = \"G:\\\\Dev\\\\Data\\\\For Family Q3\\\\GNPS Python Master\\\\Final Data.txt\"\n",
    "fingerprints_for_family_gnps_path = \"G:\\\\Dev\\\\Data\\\\For Family Q3\\\\GNPS Python Master\\\\Final Fingerprints.txt\"\n",
    "\n",
    "#mibig\n",
    "mibig_fingerprints_path = \"G:\\\\Dev\\\\Data\\\\Fingerprint Bitmaps 2\\\\mibig_unique_smiles.txt\"\n",
    "mibig_families_path = \"G:\\\\Dev\\\\Data\\\\Final Families.txt\"\n",
    "mibig_filtered_fingerprints_path = \"G:\\\\Dev\\\\Data\\\\Filtered Mibig GNPS Links\\\\Filtered Mibig Fingerprints.tsv\"\n",
    "mibig_filtered_families_path = \"G:\\\\Dev\\\\Data\\\\mibig_family.txt\"\n",
    "\n",
    "#npatlas\n",
    "npatlas_smiles_fingerprints_path = \"G:\\\\Dev\\\\Data\\\\Fingerprint Bitmaps 2\\\\NPAtlas_DB_last_version_filtered.txt\"\n",
    "npatlas_final_families_path = \"G:\\\\Dev\\\\Data\\\\NPAtlas_Final_Families.txt\"\n",
    "\n",
    "#test\n",
    "test_datapath = \"G:\\\\Dev\\\\Data\\\\For Family Test Q3\\\\GNPS Python Master\\\\Final Data.txt\"\n",
    "test_fingerprint_path = \"G:\\\\Dev\\\\Data\\\\For Family Test Q3\\\\GNPS Python Master\\\\Final Fingerprints.txt\"\n",
    "\n",
    "linked_fingerprints_path = \"G:\\\\Dev\\\\Data\\\\Linked GNPS Fingerprints.tsv\"\n",
    "families_names_path = \"G:\\\\Dev\\\\Data\\\\Family Legend.txt\"\n",
    "\n",
    "num_samples = 5770\n",
    "num_smiles_families_samples = 1368\n",
    "val_fraction = 0.1"
   ]
  },
  {
   "cell_type": "markdown",
   "metadata": {},
   "source": [
    "Import methods from ultilities"
   ]
  },
  {
   "cell_type": "code",
   "execution_count": 5,
   "metadata": {},
   "outputs": [
    {
     "name": "stderr",
     "output_type": "stream",
     "text": [
      "C:\\Users\\CherWei\\Anaconda3\\lib\\site-packages\\h5py\\__init__.py:36: FutureWarning: Conversion of the second argument of issubdtype from `float` to `np.floating` is deprecated. In future, it will be treated as `np.float64 == np.dtype(float).type`.\n",
      "  from ._conv import register_converters as _register_converters\n",
      "Using TensorFlow backend.\n"
     ]
    }
   ],
   "source": [
    "from nn_evaluation_interface import plot_loss, compute_auc, evaluate, compute_predicted_family_proportion\n",
    "from nn_files_load_interface import *\n",
    "from nn_interface import simplified_fingerprint_model, simplified_family_model\n",
    "from nn_training_splits_interface import train_diff_splits"
   ]
  },
  {
   "cell_type": "markdown",
   "metadata": {},
   "source": [
    "Load the data to variables"
   ]
  },
  {
   "cell_type": "code",
   "execution_count": 6,
   "metadata": {},
   "outputs": [
    {
     "name": "stdout",
     "output_type": "stream",
     "text": [
      "{'CCMSLIB00000072234': {'BGC0000259', 'BGC0000260', 'BGC0000258', 'BGC0000257'}, 'CCMSLIB00000531481': {'BGC0001565', 'BGC0000334'}, 'CCMSLIB00000081147': {'BGC0000067', 'BGC0000068', 'BGC0000066'}, 'CCMSLIB00000070270': {'BGC0000478', 'BGC0000482'}, 'CCMSLIB00000070271': {'BGC0000478', 'BGC0000482'}, 'CCMSLIB00000427303': {'BGC0001034'}, 'CCMSLIB00000478586': {'BGC0001104', 'BGC0001025'}, 'CCMSLIB00000478595': {'BGC0001104', 'BGC0001025'}, 'CCMSLIB00000081287': {'BGC0000100', 'BGC0001670'}, 'CCMSLIB00000081288': {'BGC0000100', 'BGC0001670'}, 'CCMSLIB00000075305': {'BGC0000055', 'BGC0000054'}, 'CCMSLIB00000075306': {'BGC0000055', 'BGC0000054'}, 'CCMSLIB00000006284': {'BGC0000055', 'BGC0000054'}, 'CCMSLIB00000006285': {'BGC0000055', 'BGC0000054'}, 'CCMSLIB00000006286': {'BGC0000055', 'BGC0000054'}, 'CCMSLIB00000006287': {'BGC0000055', 'BGC0000054'}, 'CCMSLIB00000006288': {'BGC0000055', 'BGC0000054'}, 'CCMSLIB00000006289': {'BGC0000055', 'BGC0000054'}, 'CCMSLIB00000006290': {'BGC0000055', 'BGC0000054'}, 'CCMSLIB00000006291': {'BGC0000055', 'BGC0000054'}, 'CCMSLIB00000006292': {'BGC0000055', 'BGC0000054'}, 'CCMSLIB00000075307': {'BGC0000705', 'BGC0000706', 'BGC0000702', 'BGC0000703', 'BGC0000704'}, 'CCMSLIB00000075308': {'BGC0000705', 'BGC0000706', 'BGC0000702', 'BGC0000703', 'BGC0000704'}, 'CCMSLIB00000539136': {'BGC0000538', 'BGC0000536', 'BGC0000537', 'BGC0001701', 'BGC0000535'}, 'CCMSLIB00000539137': {'BGC0000538', 'BGC0000536', 'BGC0000537', 'BGC0001701', 'BGC0000535'}, 'CCMSLIB00000539138': {'BGC0000538', 'BGC0000536', 'BGC0000537', 'BGC0001701', 'BGC0000535'}, 'CCMSLIB00000478582': {'BGC0001344', 'BGC0001053'}, 'CCMSLIB00000004910': {'BGC0000893'}, 'CCMSLIB00000004911': {'BGC0000893'}, 'CCMSLIB00000004912': {'BGC0000893'}, 'CCMSLIB00000006864': {'BGC0001694', 'BGC0000001'}, 'CCMSLIB00000006865': {'BGC0001694', 'BGC0000001'}, 'CCMSLIB00000006866': {'BGC0001694', 'BGC0000001'}, 'CCMSLIB00000006867': {'BGC0001694', 'BGC0000001'}, 'CCMSLIB00000006868': {'BGC0001694', 'BGC0000001'}, 'CCMSLIB00000006869': {'BGC0001694', 'BGC0000001'}, 'CCMSLIB00000072284': {'BGC0000437'}, 'CCMSLIB00000072285': {'BGC0000437'}, 'CCMSLIB00000072286': {'BGC0000437'}, 'CCMSLIB00000075327': {'BGC0000437'}, 'CCMSLIB00000075328': {'BGC0000437'}, 'CCMSLIB00000075329': {'BGC0000437'}, 'CCMSLIB00000075330': {'BGC0000437'}, 'CCMSLIB00000077211': {'BGC0000518'}, 'CCMSLIB00000078823': {'BGC0000518'}, 'CCMSLIB00000001606': {'BGC0001290'}, 'CCMSLIB00000001607': {'BGC0001290'}, 'CCMSLIB00000072246': {'BGC0000551'}, 'CCMSLIB00000072247': {'BGC0000551'}, 'CCMSLIB00000479609': {'BGC0001238', 'BGC0001239'}, 'CCMSLIB00000075315': {'BGC0000605'}, 'CCMSLIB00000075316': {'BGC0000605'}, 'CCMSLIB00000081752': {'BGC0000013', 'BGC0001284'}, 'CCMSLIB00000223902': {'BGC0000426'}, 'CCMSLIB00000078898': {'BGC0000900', 'BGC0000901'}, 'CCMSLIB00000075309': {'BGC0000724', 'BGC0000717', 'BGC0000718'}, 'CCMSLIB00000075310': {'BGC0000724', 'BGC0000717', 'BGC0000718'}, 'CCMSLIB00000072304': {'BGC0000612'}, 'CCMSLIB00000072305': {'BGC0000612'}, 'CCMSLIB00000424790': {'BGC0001583'}, 'CCMSLIB00000001602': {'BGC0001050'}, 'CCMSLIB00000001604': {'BGC0001050'}, 'CCMSLIB00000539101': {'BGC0001557', 'BGC0001436'}, 'CCMSLIB00000001657': {'BGC0001006', 'BGC0001007'}, 'CCMSLIB00000001659': {'BGC0001006', 'BGC0001007'}, 'CCMSLIB00000478585': {'BGC0000153'}, 'CCMSLIB00000081153': {'BGC0001206'}, 'CCMSLIB00000072248': {'BGC0000595'}, 'CCMSLIB00000072249': {'BGC0000595'}, 'CCMSLIB00000075342': {'BGC0000595'}, 'CCMSLIB00000001723': {'BGC0001560'}, 'CCMSLIB00000004692': {'BGC0000108', 'BGC0001690'}, 'CCMSLIB00000004693': {'BGC0000108', 'BGC0001690'}, 'CCMSLIB00000004694': {'BGC0000108', 'BGC0001690'}, 'CCMSLIB00000001776': {'BGC0000396', 'BGC0001705'}, 'CCMSLIB00000001777': {'BGC0000396', 'BGC0001705'}, 'CCMSLIB00000001778': {'BGC0000396', 'BGC0001705'}, 'CCMSLIB00000001645': {'BGC0000220', 'BGC0000618'}, 'CCMSLIB00000001647': {'BGC0000220', 'BGC0000618'}, 'CCMSLIB00000006837': {'BGC0001080'}, 'CCMSLIB00000081190': {'BGC0001030'}, 'CCMSLIB00000075311': {'BGC0000455'}, 'CCMSLIB00000075312': {'BGC0000455'}, 'CCMSLIB00000001621': {'BGC0000940', 'BGC0000941', 'BGC0001478', 'BGC0001572'}, 'CCMSLIB00000001622': {'BGC0000940', 'BGC0000941', 'BGC0001478', 'BGC0001572'}, 'CCMSLIB00000072100': {'BGC0000940', 'BGC0000941', 'BGC0001478', 'BGC0001572'}, 'CCMSLIB00000072101': {'BGC0000940', 'BGC0000941', 'BGC0001478', 'BGC0001572'}, 'CCMSLIB00000075313': {'BGC0000940', 'BGC0000941', 'BGC0001478', 'BGC0001572'}, 'CCMSLIB00000075314': {'BGC0000940', 'BGC0000941', 'BGC0001478', 'BGC0001572'}, 'CCMSLIB00000223883': {'BGC0000940', 'BGC0000941', 'BGC0001478', 'BGC0001572'}, 'CCMSLIB00000223884': {'BGC0000940', 'BGC0000941', 'BGC0001478', 'BGC0001572'}, 'CCMSLIB00000531491': {'BGC0000940', 'BGC0000941', 'BGC0001478', 'BGC0001572'}, 'CCMSLIB00000072094': {'BGC0000325'}, 'CCMSLIB00000072095': {'BGC0000325'}, 'CCMSLIB00000072096': {'BGC0000325'}, 'CCMSLIB00000223869': {'BGC0001004', 'BGC0001183'}, 'CCMSLIB00000006877': {'BGC0000894', 'BGC0001338'}, 'CCMSLIB00000006878': {'BGC0000894', 'BGC0001338'}, 'CCMSLIB00000001649': {'BGC0000240', 'BGC0000241'}, 'CCMSLIB00000081196': {'BGC0000240', 'BGC0000241'}, 'CCMSLIB00000081197': {'BGC0000240', 'BGC0000241'}, 'CCMSLIB00000081198': {'BGC0000240', 'BGC0000241'}, 'CCMSLIB00000081199': {'BGC0000240', 'BGC0000241'}, 'CCMSLIB00000075084': {'BGC0000985'}, 'CCMSLIB00000075320': {'BGC0000985'}, 'CCMSLIB00000075321': {'BGC0000985'}, 'CCMSLIB00000075322': {'BGC0000985'}, 'CCMSLIB00000075333': {'BGC0000985'}, 'CCMSLIB00000075334': {'BGC0000985'}, 'CCMSLIB00000075335': {'BGC0000985'}, 'CCMSLIB00000075336': {'BGC0000985'}, 'CCMSLIB00000075068': {'BGC0000431'}, 'CCMSLIB00000075069': {'BGC0000431'}, 'CCMSLIB00000075070': {'BGC0000431'}, 'CCMSLIB00000075071': {'BGC0000431'}, 'CCMSLIB00000075072': {'BGC0000431'}, 'CCMSLIB00000075073': {'BGC0000431'}, 'CCMSLIB00000075074': {'BGC0000431'}, 'CCMSLIB00000075075': {'BGC0000431'}, 'CCMSLIB00000075076': {'BGC0000431'}, 'CCMSLIB00000075077': {'BGC0000431'}, 'CCMSLIB00000075349': {'BGC0000578'}, 'CCMSLIB00000072062': {'BGC0000300'}, 'CCMSLIB00000072063': {'BGC0000300'}, 'CCMSLIB00000072064': {'BGC0000300'}, 'CCMSLIB00000072065': {'BGC0000300'}, 'CCMSLIB00000072066': {'BGC0000300'}, 'CCMSLIB00000081265': {'BGC0000820'}, 'CCMSLIB00000079263': {'BGC0000820'}, 'CCMSLIB00000223870': {'BGC0001329', 'BGC0001328', 'BGC0001327'}, 'CCMSLIB00000075343': {'BGC0000596'}, 'CCMSLIB00000075344': {'BGC0000596'}, 'CCMSLIB00000001635': {'BGC0000136', 'BGC0000137'}, 'CCMSLIB00000001637': {'BGC0000136', 'BGC0000137'}, 'CCMSLIB00000001651': {'BGC0000136', 'BGC0000137'}, 'CCMSLIB00000001653': {'BGC0000136', 'BGC0000137'}, 'CCMSLIB00000478607': {'BGC0000136', 'BGC0000137'}, 'CCMSLIB00000001756': {'BGC0001165', 'BGC0000976', 'BGC0000043'}, 'CCMSLIB00000006901': {'BGC0000453', 'BGC0001341'}, 'CCMSLIB00000006902': {'BGC0000453', 'BGC0001341'}, 'CCMSLIB00000006903': {'BGC0000453', 'BGC0001341'}, 'CCMSLIB00000531483': {'BGC0000453', 'BGC0001341'}, 'CCMSLIB00000424925': {'BGC0000956'}, 'CCMSLIB00000531504': {'BGC0000377'}, 'CCMSLIB00000478118': {'BGC0001088'}, 'CCMSLIB00000574964': {'BGC0000479'}, 'CCMSLIB00000223955': {'BGC0001285'}, 'CCMSLIB00000223956': {'BGC0001285'}, 'CCMSLIB00000072039': {'BGC0000194'}, 'CCMSLIB00000072040': {'BGC0000194'}, 'CCMSLIB00000223995': {'BGC0001228'}, 'CCMSLIB00000478579': {'BGC0000974'}, 'CCMSLIB00000478592': {'BGC0000974'}, 'CCMSLIB00000001655': {'BGC0000826', 'BGC0000827', 'BGC0000825'}, 'CCMSLIB00000006899': {'BGC0000826', 'BGC0000827', 'BGC0000825'}, 'CCMSLIB00000223876': {'BGC0000826', 'BGC0000827', 'BGC0000825'}, 'CCMSLIB00000223878': {'BGC0000339'}, 'CCMSLIB00000075348': {'BGC0000553'}, 'CCMSLIB00000427300': {'BGC0001022'}, 'CCMSLIB00000478652': {'BGC0001110'}, 'CCMSLIB00000478584': {'BGC0000147'}, 'CCMSLIB00000072176': {'BGC0000407'}, 'CCMSLIB00000072177': {'BGC0000407'}, 'CCMSLIB00000072178': {'BGC0000407'}, 'CCMSLIB00000072179': {'BGC0000407'}, 'CCMSLIB00000072181': {'BGC0000407'}, 'CCMSLIB00000072182': {'BGC0000407'}, 'CCMSLIB00000072183': {'BGC0000407'}, 'CCMSLIB00000072185': {'BGC0000407'}, 'CCMSLIB00000072186': {'BGC0000407'}, 'CCMSLIB00000006870': {'BGC0000296'}, 'CCMSLIB00000006871': {'BGC0000296'}, 'CCMSLIB00000223879': {'BGC0000296'}, 'CCMSLIB00000005329': {'BGC0000336'}, 'CCMSLIB00000005330': {'BGC0000336'}, 'CCMSLIB00000005331': {'BGC0000336'}, 'CCMSLIB00000005332': {'BGC0000336'}, 'CCMSLIB00000005333': {'BGC0000336'}, 'CCMSLIB00000005334': {'BGC0000336'}, 'CCMSLIB00000005335': {'BGC0000336'}, 'CCMSLIB00000005336': {'BGC0000336'}, 'CCMSLIB00000005337': {'BGC0000336'}, 'CCMSLIB00000078118': {'BGC0000336'}, 'CCMSLIB00000001573': {'BGC0000962'}, 'CCMSLIB00000001575': {'BGC0000962'}, 'CCMSLIB00000001554': {'BGC0000333'}, 'CCMSLIB00000001556': {'BGC0000333'}, 'CCMSLIB00000001613': {'BGC0000333'}, 'CCMSLIB00000001614': {'BGC0000333'}, 'CCMSLIB00000425007': {'BGC0000593', 'BGC0000594', 'BGC0000592'}, 'CCMSLIB00000425008': {'BGC0000593', 'BGC0000594', 'BGC0000592'}, 'CCMSLIB00000425009': {'BGC0000593', 'BGC0000594', 'BGC0000592'}, 'CCMSLIB00000425010': {'BGC0000593', 'BGC0000594', 'BGC0000592'}, 'CCMSLIB00000425011': {'BGC0000593', 'BGC0000594', 'BGC0000592'}, 'CCMSLIB00000425012': {'BGC0000593', 'BGC0000594', 'BGC0000592'}, 'CCMSLIB00000001560': {'BGC0001001'}, 'CCMSLIB00000001562': {'BGC0001001'}, 'CCMSLIB00000001564': {'BGC0001001'}, 'CCMSLIB00000001565': {'BGC0001001'}, 'CCMSLIB00000001567': {'BGC0001001'}, 'CCMSLIB00000001569': {'BGC0001001'}, 'CCMSLIB00000001571': {'BGC0001001'}, 'CCMSLIB00000001783': {'BGC0001001'}, 'CCMSLIB00000001784': {'BGC0001001'}, 'CCMSLIB00000072507': {'BGC0001001'}, 'CCMSLIB00000072508': {'BGC0001001'}, 'CCMSLIB00000072509': {'BGC0001001'}, 'CCMSLIB00000072510': {'BGC0001001'}, 'CCMSLIB00000539122': {'BGC0001235'}, 'CCMSLIB00000531490': {'BGC0000367'}, 'CCMSLIB00000223957': {'BGC0001766'}, 'CCMSLIB00000223958': {'BGC0001766'}, 'CCMSLIB00000223959': {'BGC0001766'}, 'CCMSLIB00000478593': {'BGC0000954'}, 'CCMSLIB00000077081': {'BGC0000070'}, 'CCMSLIB00000077082': {'BGC0000070'}, 'CCMSLIB00000075341': {'BGC0000496'}, 'CCMSLIB00000223873': {'BGC0000223'}, 'CCMSLIB00000223874': {'BGC0000223'}, 'CCMSLIB00000424857': {'BGC0001772'}, 'CCMSLIB00000424858': {'BGC0001772'}, 'CCMSLIB00000424859': {'BGC0001772'}, 'CCMSLIB00000424860': {'BGC0001772'}, 'CCMSLIB00000424861': {'BGC0001772'}, 'CCMSLIB00000424862': {'BGC0001772'}, 'CCMSLIB00000424863': {'BGC0001772'}, 'CCMSLIB00000424864': {'BGC0001772'}, 'CCMSLIB00000424865': {'BGC0001772'}, 'CCMSLIB00000424872': {'BGC0001772'}, 'CCMSLIB00000424873': {'BGC0001772'}, 'CCMSLIB00000424874': {'BGC0001772'}, 'CCMSLIB00000427306': {'BGC0001051', 'BGC0001342'}, 'CCMSLIB00000223882': {'BGC0001779'}, 'CCMSLIB00000072255': {'BGC0000602'}, 'CCMSLIB00000072256': {'BGC0000602'}, 'CCMSLIB00000075346': {'BGC0000597'}, 'CCMSLIB00000071754': {'BGC0000332'}, 'CCMSLIB00000071755': {'BGC0000332'}, 'CCMSLIB00000071756': {'BGC0000332'}, 'CCMSLIB00000075331': {'BGC0000015', 'BGC0000016'}, 'CCMSLIB00000075332': {'BGC0000015', 'BGC0000016'}, 'CCMSLIB00000223998': {'BGC0000015', 'BGC0000016'}, 'CCMSLIB00000424805': {'BGC0000015', 'BGC0000016'}, 'CCMSLIB00000424806': {'BGC0000015', 'BGC0000016'}, 'CCMSLIB00000424807': {'BGC0000015', 'BGC0000016'}, 'CCMSLIB00000424808': {'BGC0000015', 'BGC0000016'}, 'CCMSLIB00000429792': {'BGC0000015', 'BGC0000016'}, 'CCMSLIB00000478123': {'BGC0000015', 'BGC0000016'}, 'CCMSLIB00000001663': {'BGC0000198'}, 'CCMSLIB00000001669': {'BGC0000198'}, 'CCMSLIB00000001670': {'BGC0000198'}, 'CCMSLIB00000081200': {'BGC0000198'}, 'CCMSLIB00000081201': {'BGC0000198'}, 'CCMSLIB00000004457': {'BGC0000254'}, 'CCMSLIB00000004458': {'BGC0000254'}, 'CCMSLIB00000004459': {'BGC0000254'}, 'CCMSLIB00000006841': {'BGC0000412'}, 'CCMSLIB00000072237': {'BGC0000412'}, 'CCMSLIB00000072565': {'BGC0000412'}, 'CCMSLIB00000539139': {'BGC0000412'}, 'CCMSLIB00000081679': {'BGC0000676'}, 'CCMSLIB00000081680': {'BGC0000676'}, 'CCMSLIB00000077133': {'BGC0000089', 'BGC0000088'}, 'CCMSLIB00000077134': {'BGC0000089', 'BGC0000088'}, 'CCMSLIB00000081267': {'BGC0001315'}, 'CCMSLIB00000081268': {'BGC0001315'}, 'CCMSLIB00000081175': {'BGC0000439'}, 'CCMSLIB00000081176': {'BGC0000439'}, 'CCMSLIB00000081177': {'BGC0000439'}, 'CCMSLIB00000072287': {'BGC0000443'}, 'CCMSLIB00000072288': {'BGC0000443'}, 'CCMSLIB00000072289': {'BGC0000443'}, 'CCMSLIB00000072290': {'BGC0000443'}, 'CCMSLIB00000072125': {'BGC0000374'}, 'CCMSLIB00000072126': {'BGC0000374'}, 'CCMSLIB00000081217': {'BGC0000374'}, 'CCMSLIB00000478591': {'BGC0000969'}, 'CCMSLIB00000001552': {'BGC0001000'}, 'CCMSLIB00000001553': {'BGC0001000'}, 'CCMSLIB00000001555': {'BGC0001000'}, 'CCMSLIB00000001558': {'BGC0001000'}, 'CCMSLIB00000001652': {'BGC0001000'}, 'CCMSLIB00000072521': {'BGC0001000'}, 'CCMSLIB00000072522': {'BGC0001000'}, 'CCMSLIB00000075317': {'BGC0000654'}, 'CCMSLIB00000075318': {'BGC0000654'}, 'CCMSLIB00000075319': {'BGC0000654'}, 'CCMSLIB00000077108': {'BGC0000182'}, 'CCMSLIB00000071759': {'BGC0000483'}, 'CCMSLIB00000071760': {'BGC0000483'}, 'CCMSLIB00000081221': {'BGC0001105'}, 'CCMSLIB00000081226': {'BGC0001105'}, 'CCMSLIB00000075013': {'BGC0000950'}, 'CCMSLIB00000075014': {'BGC0000950'}, 'CCMSLIB00000075015': {'BGC0000950'}, 'CCMSLIB00000075016': {'BGC0000950'}, 'CCMSLIB00000075017': {'BGC0000950'}, 'CCMSLIB00000001615': {'BGC0001830'}, 'CCMSLIB00000001616': {'BGC0001830'}, 'CCMSLIB00000223877': {'BGC0001830'}, 'CCMSLIB00000001623': {'BGC0000091'}, 'CCMSLIB00000001624': {'BGC0000091'}, 'CCMSLIB00000001625': {'BGC0000091'}, 'CCMSLIB00000077216': {'BGC0001310'}, 'CCMSLIB00000077217': {'BGC0001310'}, 'CCMSLIB00000424908': {'BGC0001612'}, 'CCMSLIB00000424909': {'BGC0001612'}, 'CCMSLIB00000424915': {'BGC0001612'}, 'CCMSLIB00000424916': {'BGC0001612'}, 'CCMSLIB00000424917': {'BGC0001612'}, 'CCMSLIB00000424918': {'BGC0001612'}, 'CCMSLIB00000204740': {'BGC0000252'}, 'CCMSLIB00000001550': {'BGC0000824'}, 'CCMSLIB00000070263': {'BGC0000824'}, 'CCMSLIB00000424913': {'BGC0000824'}, 'CCMSLIB00000424914': {'BGC0000824'}, 'CCMSLIB00000081150': {'BGC0000264'}, 'CCMSLIB00000081151': {'BGC0000264'}, 'CCMSLIB00000072257': {'BGC0000433'}, 'CCMSLIB00000072258': {'BGC0000433'}, 'CCMSLIB00000072259': {'BGC0000433'}, 'CCMSLIB00000072260': {'BGC0000433'}, 'CCMSLIB00000072261': {'BGC0000433'}, 'CCMSLIB00000072262': {'BGC0000433'}, 'CCMSLIB00000072263': {'BGC0000433'}, 'CCMSLIB00000072264': {'BGC0000433'}, 'CCMSLIB00000072265': {'BGC0000433'}, 'CCMSLIB00000072266': {'BGC0000433'}, 'CCMSLIB00000072267': {'BGC0000433'}, 'CCMSLIB00000072268': {'BGC0000433'}, 'CCMSLIB00000072269': {'BGC0000433'}, 'CCMSLIB00000072270': {'BGC0000433'}, 'CCMSLIB00000072271': {'BGC0000433'}, 'CCMSLIB00000072272': {'BGC0000433'}, 'CCMSLIB00000072273': {'BGC0000433'}, 'CCMSLIB00000072274': {'BGC0000433'}, 'CCMSLIB00000072275': {'BGC0000433'}, 'CCMSLIB00000531487': {'BGC0000433'}, 'CCMSLIB00000072138': {'BGC0001416'}, 'CCMSLIB00000072139': {'BGC0001416'}, 'CCMSLIB00000072140': {'BGC0001416'}, 'CCMSLIB00000072141': {'BGC0001416'}, 'CCMSLIB00000072142': {'BGC0001416'}, 'CCMSLIB00000072143': {'BGC0001416'}, 'CCMSLIB00000072144': {'BGC0001416'}, 'CCMSLIB00000072145': {'BGC0001416'}, 'CCMSLIB00000072146': {'BGC0001416'}, 'CCMSLIB00000072147': {'BGC0001416'}, 'CCMSLIB00000072148': {'BGC0001416'}, 'CCMSLIB00000072149': {'BGC0001416'}}\n"
     ]
    },
    {
     "name": "stdout",
     "output_type": "stream",
     "text": [
      "Alkaloid,14\n",
      "NRP,63\n",
      "Terpene,7\n",
      "RiPP,12\n",
      "Nucleoside,0\n",
      "Saccharide,10\n",
      "Polyketide,91\n",
      "Other,23\n",
      "Done\n"
     ]
    }
   ],
   "source": [
    "spectra = load_master_file(path=datapath)\n",
    "fingerprints = load_fingerprints_master(path=fingerprints_path)\n",
    "\n",
    "gnps_spectra = load_master_file(path=gnps_for_family_datapath)\n",
    "gnps_fingerprints = load_fingerprints_master(path=fingerprints_for_family_gnps_path, number_of_rows=1)\n",
    "\n",
    "mibig_fingerprints = load_fingerprints_master(path=mibig_fingerprints_path)\n",
    "mibig_families = load_families_master(path=mibig_families_path)\n",
    "mibig_filtered_fingerprints = load_fingerprints_master(path=mibig_filtered_fingerprints_path, number_of_rows=1)\n",
    "mibig_filtered_families = load_families_master(path=mibig_filtered_families_path)\n",
    "\n",
    "fingerprint_names = load_fingerprint_legend(path=fingerprints_names_path)\n",
    "family_names = load_family_legend(path=families_names_path)\n",
    "\n",
    "test_spectra = load_master_file(path=test_datapath)\n",
    "test_fingerprint = load_fingerprints_master(path=test_fingerprint_path)\n",
    "\n",
    "get_gnps_families(mibig_family_path, family_names, linked_mibig_gnps_path, gnps_datapath, gnps_family_path)\n",
    "\n",
    "print(\"Done\")"
   ]
  },
  {
   "cell_type": "markdown",
   "metadata": {},
   "source": [
    "The training/evaluation process"
   ]
  },
  {
   "cell_type": "code",
   "execution_count": 7,
   "metadata": {
    "scrolled": true
   },
   "outputs": [
    {
     "name": "stderr",
     "output_type": "stream",
     "text": [
      "C:\\Dev\\nnpredict\\Code\\Python\\nn_interface.py:117: UserWarning: Update your `Model` call to the Keras 2 API: `Model(inputs=Tensor(\"in..., outputs=Tensor(\"de...)`\n",
      "  auto_model = Model(input=input_layer, output=out_layer)\n"
     ]
    },
    {
     "name": "stdout",
     "output_type": "stream",
     "text": [
      "Train on 5884 samples, validate on 654 samples\n",
      "Epoch 1/100\n",
      "5884/5884 [==============================] - 8s 1ms/step - loss: 0.5015 - val_loss: 0.3027\n",
      "Epoch 2/100\n",
      "5884/5884 [==============================] - 5s 783us/step - loss: 0.1756 - val_loss: 0.1612\n",
      "Epoch 3/100\n",
      "5884/5884 [==============================] - 5s 774us/step - loss: 0.1226 - val_loss: 0.1348\n",
      "Epoch 4/100\n",
      "5884/5884 [==============================] - 5s 870us/step - loss: 0.1121 - val_loss: 0.1245\n",
      "Epoch 5/100\n",
      "5884/5884 [==============================] - 6s 978us/step - loss: 0.1079 - val_loss: 0.1189\n",
      "Epoch 6/100\n",
      "5884/5884 [==============================] - 6s 982us/step - loss: 0.1055 - val_loss: 0.1154\n",
      "Epoch 7/100\n",
      "5884/5884 [==============================] - 5s 913us/step - loss: 0.1039 - val_loss: 0.1129\n",
      "Epoch 8/100\n",
      "5884/5884 [==============================] - 6s 1ms/step - loss: 0.1027 - val_loss: 0.1110\n",
      "Epoch 9/100\n",
      "5884/5884 [==============================] - 7s 1ms/step - loss: 0.1017 - val_loss: 0.1095\n",
      "Epoch 10/100\n",
      "5884/5884 [==============================] - 8s 1ms/step - loss: 0.1009 - val_loss: 0.1082\n",
      "Epoch 11/100\n",
      "5884/5884 [==============================] - 8s 1ms/step - loss: 0.1002 - val_loss: 0.1071 ETA: 4 - ETA: 0s - loss: 0.099 - ETA: 0s - loss: 0.100\n",
      "Epoch 12/100\n",
      "5884/5884 [==============================] - 5s 933us/step - loss: 0.0995 - val_loss: 0.1062\n",
      "Epoch 13/100\n",
      "5884/5884 [==============================] - 5s 915us/step - loss: 0.0989 - val_loss: 0.1053\n",
      "Epoch 14/100\n",
      "5884/5884 [==============================] - 5s 882us/step - loss: 0.0984 - val_loss: 0.1046 0.09\n",
      "Epoch 15/100\n",
      "5884/5884 [==============================] - 5s 861us/step - loss: 0.0978 - val_loss: 0.1039\n",
      "Epoch 16/100\n",
      "5884/5884 [==============================] - 6s 952us/step - loss: 0.0973 - val_loss: 0.1032\n",
      "Epoch 17/100\n",
      "5884/5884 [==============================] - 6s 1ms/step - loss: 0.0969 - val_loss: 0.1026\n",
      "Epoch 18/100\n",
      "5884/5884 [==============================] - 5s 877us/step - loss: 0.0964 - val_loss: 0.1020\n",
      "Epoch 19/100\n",
      "5884/5884 [==============================] - 4s 682us/step - loss: 0.0960 - val_loss: 0.1015\n",
      "Epoch 20/100\n",
      "5884/5884 [==============================] - 7s 1ms/step - loss: 0.0956 - val_loss: 0.1010\n",
      "Epoch 21/100\n",
      "5884/5884 [==============================] - 5s 767us/step - loss: 0.0952 - val_loss: 0.1005\n",
      "Epoch 22/100\n",
      "5884/5884 [==============================] - 5s 843us/step - loss: 0.0948 - val_loss: 0.1000\n",
      "Epoch 23/100\n",
      "5884/5884 [==============================] - 7s 1ms/step - loss: 0.0944 - val_loss: 0.0996\n",
      "Epoch 24/100\n",
      "5884/5884 [==============================] - 7s 1ms/step - loss: 0.0940 - val_loss: 0.0991\n",
      "Epoch 25/100\n",
      "5884/5884 [==============================] - 8s 1ms/step - loss: 0.0937 - val_loss: 0.0987\n",
      "Epoch 26/100\n",
      "5884/5884 [==============================] - 7s 1ms/step - loss: 0.0933 - val_loss: 0.0983\n",
      "Epoch 27/100\n",
      "5884/5884 [==============================] - 8s 1ms/step - loss: 0.0930 - val_loss: 0.0979ETA: 0s - loss\n",
      "Epoch 28/100\n",
      "5884/5884 [==============================] - 9s 1ms/step - loss: 0.0927 - val_loss: 0.0976\n",
      "Epoch 29/100\n",
      "5884/5884 [==============================] - 7s 1ms/step - loss: 0.0923 - val_loss: 0.0972\n",
      "Epoch 30/100\n",
      "5884/5884 [==============================] - 7s 1ms/step - loss: 0.0920 - val_loss: 0.0968\n",
      "Epoch 31/100\n",
      "5884/5884 [==============================] - 9s 1ms/step - loss: 0.0917 - val_loss: 0.0965\n",
      "Epoch 32/100\n",
      "5884/5884 [==============================] - 9s 1ms/step - loss: 0.0914 - val_loss: 0.0962\n",
      "Epoch 33/100\n",
      "5884/5884 [==============================] - 8s 1ms/step - loss: 0.0911 - val_loss: 0.0959\n",
      "Epoch 34/100\n",
      "5884/5884 [==============================] - 7s 1ms/step - loss: 0.0908 - val_loss: 0.0956\n",
      "Epoch 35/100\n",
      "5884/5884 [==============================] - 8s 1ms/step - loss: 0.0906 - val_loss: 0.0953\n",
      "Epoch 36/100\n",
      "5884/5884 [==============================] - 7s 1ms/step - loss: 0.0903 - val_loss: 0.0950\n",
      "Epoch 37/100\n",
      "5884/5884 [==============================] - 7s 1ms/step - loss: 0.0900 - val_loss: 0.0947\n",
      "Epoch 38/100\n",
      "5884/5884 [==============================] - 7s 1ms/step - loss: 0.0898 - val_loss: 0.0944\n",
      "Epoch 39/100\n",
      "5884/5884 [==============================] - 8s 1ms/step - loss: 0.0895 - val_loss: 0.0941\n",
      "Epoch 40/100\n",
      "5884/5884 [==============================] - 7s 1ms/step - loss: 0.0893 - val_loss: 0.0939\n",
      "Epoch 41/100\n",
      "5884/5884 [==============================] - 8s 1ms/step - loss: 0.0890 - val_loss: 0.0936\n",
      "Epoch 42/100\n",
      "5884/5884 [==============================] - 9s 2ms/step - loss: 0.0888 - val_loss: 0.0934: 0s - loss:\n",
      "Epoch 43/100\n",
      "5884/5884 [==============================] - 7s 1ms/step - loss: 0.0885 - val_loss: 0.0931\n",
      "Epoch 44/100\n",
      "5884/5884 [==============================] - 4s 704us/step - loss: 0.0883 - val_loss: 0.0929\n",
      "Epoch 45/100\n",
      "5884/5884 [==============================] - 5s 866us/step - loss: 0.0881 - val_loss: 0.0927\n",
      "Epoch 46/100\n",
      "5884/5884 [==============================] - 5s 877us/step - loss: 0.0878 - val_loss: 0.0924\n",
      "Epoch 47/100\n",
      "5884/5884 [==============================] - 3s 530us/step - loss: 0.0876 - val_loss: 0.0922\n",
      "Epoch 48/100\n",
      "5884/5884 [==============================] - 5s 894us/step - loss: 0.0874 - val_loss: 0.0920\n",
      "Epoch 49/100\n",
      "5884/5884 [==============================] - 5s 917us/step - loss: 0.0872 - val_loss: 0.0918\n",
      "Epoch 50/100\n",
      "5884/5884 [==============================] - 6s 943us/step - loss: 0.0870 - val_loss: 0.0916\n",
      "Epoch 51/100\n",
      "5884/5884 [==============================] - 7s 1ms/step - loss: 0.0867 - val_loss: 0.0914\n",
      "Epoch 52/100\n",
      "5884/5884 [==============================] - 10s 2ms/step - loss: 0.0865 - val_loss: 0.0912\n",
      "Epoch 53/100\n",
      "5884/5884 [==============================] - 6s 967us/step - loss: 0.0863 - val_loss: 0.0910\n",
      "Epoch 54/100\n",
      "5884/5884 [==============================] - 5s 822us/step - loss: 0.0861 - val_loss: 0.0908\n",
      "Epoch 55/100\n",
      "5884/5884 [==============================] - 4s 709us/step - loss: 0.0859 - val_loss: 0.0906\n",
      "Epoch 56/100\n",
      "5884/5884 [==============================] - 4s 700us/step - loss: 0.0857 - val_loss: 0.0905\n",
      "Epoch 57/100\n",
      "5884/5884 [==============================] - 5s 894us/step - loss: 0.0855 - val_loss: 0.0903ETA - ETA: 0s\n",
      "Epoch 58/100\n",
      "5884/5884 [==============================] - 5s 878us/step - loss: 0.0853 - val_loss: 0.0901\n",
      "Epoch 59/100\n",
      "5884/5884 [==============================] - 5s 893us/step - loss: 0.0851 - val_loss: 0.0900\n",
      "Epoch 60/100\n",
      "5884/5884 [==============================] - 5s 794us/step - loss: 0.0850 - val_loss: 0.0898 ETA: 0s - loss: 0.084\n",
      "Epoch 61/100\n",
      "5884/5884 [==============================] - 5s 919us/step - loss: 0.0848 - val_loss: 0.0896\n",
      "Epoch 62/100\n",
      "5884/5884 [==============================] - 5s 826us/step - loss: 0.0846 - val_loss: 0.0895: 0s - loss: \n",
      "Epoch 63/100\n",
      "5884/5884 [==============================] - 5s 845us/step - loss: 0.0844 - val_loss: 0.0893\n",
      "Epoch 64/100\n",
      "5884/5884 [==============================] - 5s 850us/step - loss: 0.0842 - val_loss: 0.0892\n",
      "Epoch 65/100\n",
      "5884/5884 [==============================] - 5s 844us/step - loss: 0.0840 - val_loss: 0.0890\n",
      "Epoch 66/100\n",
      "5884/5884 [==============================] - 5s 914us/step - loss: 0.0839 - val_loss: 0.0889\n",
      "Epoch 67/100\n",
      "5884/5884 [==============================] - 8s 1ms/step - loss: 0.0837 - val_loss: 0.0887\n",
      "Epoch 68/100\n",
      "5884/5884 [==============================] - 7s 1ms/step - loss: 0.0835 - val_loss: 0.0886\n",
      "Epoch 69/100\n",
      "5884/5884 [==============================] - 11s 2ms/step - loss: 0.0833 - val_loss: 0.0885\n",
      "Epoch 70/100\n",
      "5884/5884 [==============================] - 9s 1ms/step - loss: 0.0832 - val_loss: 0.0883\n",
      "Epoch 71/100\n",
      "5884/5884 [==============================] - 8s 1ms/step - loss: 0.0830 - val_loss: 0.0882\n",
      "Epoch 72/100\n",
      "5884/5884 [==============================] - 7s 1ms/step - loss: 0.0828 - val_loss: 0.0881\n",
      "Epoch 73/100\n",
      "5884/5884 [==============================] - 7s 1ms/step - loss: 0.0827 - val_loss: 0.0880\n",
      "Epoch 74/100\n",
      "5884/5884 [==============================] - 5s 810us/step - loss: 0.0825 - val_loss: 0.0878\n",
      "Epoch 75/100\n",
      "5884/5884 [==============================] - 8s 1ms/step - loss: 0.0823 - val_loss: 0.0877\n",
      "Epoch 76/100\n",
      "5884/5884 [==============================] - 9s 2ms/step - loss: 0.0822 - val_loss: 0.0876\n",
      "Epoch 77/100\n",
      "5884/5884 [==============================] - 8s 1ms/step - loss: 0.0820 - val_loss: 0.0875\n",
      "Epoch 78/100\n",
      "5884/5884 [==============================] - 7s 1ms/step - loss: 0.0819 - val_loss: 0.0874\n",
      "Epoch 79/100\n",
      "5884/5884 [==============================] - 7s 1ms/step - loss: 0.0817 - val_loss: 0.0872\n",
      "Epoch 80/100\n",
      "5884/5884 [==============================] - 8s 1ms/step - loss: 0.0816 - val_loss: 0.0871\n",
      "Epoch 81/100\n",
      "5884/5884 [==============================] - 8s 1ms/step - loss: 0.0814 - val_loss: 0.0870\n",
      "Epoch 82/100\n",
      "5884/5884 [==============================] - 8s 1ms/step - loss: 0.0812 - val_loss: 0.0869\n",
      "Epoch 83/100\n",
      "5884/5884 [==============================] - 8s 1ms/step - loss: 0.0811 - val_loss: 0.0868\n",
      "Epoch 84/100\n",
      "5884/5884 [==============================] - 9s 1ms/step - loss: 0.0809 - val_loss: 0.0867\n",
      "Epoch 85/100\n",
      "5884/5884 [==============================] - 9s 1ms/step - loss: 0.0808 - val_loss: 0.0866\n",
      "Epoch 86/100\n",
      "5884/5884 [==============================] - 7s 1ms/step - loss: 0.0806 - val_loss: 0.0865\n",
      "Epoch 87/100\n",
      "5884/5884 [==============================] - 8s 1ms/step - loss: 0.0805 - val_loss: 0.0864\n",
      "Epoch 88/100\n",
      "5884/5884 [==============================] - 8s 1ms/step - loss: 0.0804 - val_loss: 0.0863\n",
      "Epoch 89/100\n",
      "5884/5884 [==============================] - 8s 1ms/step - loss: 0.0802 - val_loss: 0.0862\n",
      "Epoch 90/100\n",
      "5884/5884 [==============================] - 9s 1ms/step - loss: 0.0801 - val_loss: 0.0861\n",
      "Epoch 91/100\n",
      "5884/5884 [==============================] - 8s 1ms/step - loss: 0.0799 - val_loss: 0.0860\n",
      "Epoch 92/100\n",
      "5884/5884 [==============================] - 9s 1ms/step - loss: 0.0798 - val_loss: 0.0859\n",
      "Epoch 93/100\n",
      "5884/5884 [==============================] - 8s 1ms/step - loss: 0.0796 - val_loss: 0.0859\n",
      "Epoch 94/100\n",
      "5884/5884 [==============================] - 8s 1ms/step - loss: 0.0795 - val_loss: 0.0858\n",
      "Epoch 95/100\n",
      "5884/5884 [==============================] - 11s 2ms/step - loss: 0.0794 - val_loss: 0.0857A: 1s - loss: 0.07 - \n",
      "Epoch 96/100\n",
      "5884/5884 [==============================] - 9s 1ms/step - loss: 0.0792 - val_loss: 0.0856\n",
      "Epoch 97/100\n",
      "5884/5884 [==============================] - 7s 1ms/step - loss: 0.0791 - val_loss: 0.0855\n",
      "Epoch 98/100\n",
      "5884/5884 [==============================] - 7s 1ms/step - loss: 0.0790 - val_loss: 0.0854\n",
      "Epoch 99/100\n",
      "5884/5884 [==============================] - 9s 1ms/step - loss: 0.0788 - val_loss: 0.0854\n",
      "Epoch 100/100\n",
      "5884/5884 [==============================] - 9s 2ms/step - loss: 0.0787 - val_loss: 0.0853\n"
     ]
    },
    {
     "data": {
      "image/png": "[encoded data removed]",
      "text/plain": [
       "<Figure size 432x288 with 1 Axes>"
      ]
     },
     "metadata": {},
     "output_type": "display_data"
    },
    {
     "name": "stdout",
     "output_type": "stream",
     "text": [
      "Done\n"
     ]
    }
   ],
   "source": [
    "# Training network 1 (exclude links)\n",
    "epochs = 100\n",
    "x_train_spectra = np.log(gnps_spectra+1)\n",
    "x_train_fingerprints = gnps_fingerprints.values\n",
    "x_test_spectra = np.log(test_spectra+1)\n",
    "\n",
    "enc1 = simplified_fingerprint_model(x_train_spectra, x_train_fingerprints, epochs=epochs)\n",
    "\n",
    "actual = test_fingerprint.values\n",
    "predicted = enc1.predict(x_test_spectra)\n",
    "\n",
    "n1_stats, n1_perm_scores = compute_auc(320, actual, predicted)"
   ]
  },
  {
   "cell_type": "code",
   "execution_count": 8,
   "metadata": {},
   "outputs": [
    {
     "name": "stderr",
     "output_type": "stream",
     "text": [
      "C:\\Dev\\nnpredict\\Code\\Python\\nn_interface.py:157: UserWarning: Update your `Model` call to the Keras 2 API: `Model(inputs=Tensor(\"in..., outputs=Tensor(\"de...)`\n",
      "  auto_model = Model(input=input_layer, output=out_layer)\n"
     ]
    },
    {
     "name": "stdout",
     "output_type": "stream",
     "text": [
      "Train on 1165 samples, validate on 130 samples\n",
      "Epoch 1/100\n",
      "1165/1165 [==============================] - 3s 3ms/step - loss: 0.5217 - val_loss: 0.3917\n",
      "Epoch 2/100\n",
      "1165/1165 [==============================] - 1s 1ms/step - loss: 0.3654 - val_loss: 0.3304\n",
      "Epoch 3/100\n",
      "1165/1165 [==============================] - 1s 842us/step - loss: 0.3351 - val_loss: 0.3148\n",
      "Epoch 4/100\n",
      "1165/1165 [==============================] - 1s 1ms/step - loss: 0.3224 - val_loss: 0.3068\n",
      "Epoch 5/100\n",
      "1165/1165 [==============================] - 1s 1ms/step - loss: 0.3131 - val_loss: 0.3007\n",
      "Epoch 6/100\n",
      "1165/1165 [==============================] - ETA: 0s - loss: 0.305 - 1s 1ms/step - loss: 0.3052 - val_loss: 0.2955\n",
      "Epoch 7/100\n",
      "1165/1165 [==============================] - 1s 1ms/step - loss: 0.2982 - val_loss: 0.2909\n",
      "Epoch 8/100\n",
      "1165/1165 [==============================] - 1s 1ms/step - loss: 0.2920 - val_loss: 0.2868\n",
      "Epoch 9/100\n",
      "1165/1165 [==============================] - 2s 1ms/step - loss: 0.2864 - val_loss: 0.2830\n",
      "Epoch 10/100\n",
      "1165/1165 [==============================] - ETA: 0s - loss: 0.281 - 1s 795us/step - loss: 0.2813 - val_loss: 0.2795\n",
      "Epoch 11/100\n",
      "1165/1165 [==============================] - 1s 853us/step - loss: 0.2766 - val_loss: 0.2762: 0s - loss: 0.2 - ETA: 0s - loss: 0.2 - ETA: 0s - loss: 0.27\n",
      "Epoch 12/100\n",
      "1165/1165 [==============================] - 1s 875us/step - loss: 0.2722 - val_loss: 0.2731\n",
      "Epoch 13/100\n",
      "1165/1165 [==============================] - 1s 1ms/step - loss: 0.2680 - val_loss: 0.2701\n",
      "Epoch 14/100\n",
      "1165/1165 [==============================] - 1s 1ms/step - loss: 0.2641 - val_loss: 0.2672\n",
      "Epoch 15/100\n",
      "1165/1165 [==============================] - 2s 2ms/step - loss: 0.2603 - val_loss: 0.2645\n",
      "Epoch 16/100\n",
      "1165/1165 [==============================] - 2s 2ms/step - loss: 0.2567 - val_loss: 0.2618\n",
      "Epoch 17/100\n",
      "1165/1165 [==============================] - 2s 2ms/step - loss: 0.2533 - val_loss: 0.2592\n",
      "Epoch 18/100\n",
      "1165/1165 [==============================] - 2s 2ms/step - loss: 0.2500 - val_loss: 0.2567\n",
      "Epoch 19/100\n",
      "1165/1165 [==============================] - 2s 2ms/step - loss: 0.2468 - val_loss: 0.2543\n",
      "Epoch 20/100\n",
      "1165/1165 [==============================] - 2s 2ms/step - loss: 0.2437 - val_loss: 0.2520\n",
      "Epoch 21/100\n",
      "1165/1165 [==============================] - 2s 2ms/step - loss: 0.2408 - val_loss: 0.2497\n",
      "Epoch 22/100\n",
      "1165/1165 [==============================] - 2s 1ms/step - loss: 0.2379 - val_loss: 0.2476\n",
      "Epoch 23/100\n",
      "1165/1165 [==============================] - 1s 1ms/step - loss: 0.2352 - val_loss: 0.2455\n",
      "Epoch 24/100\n",
      "1165/1165 [==============================] - 1s 1ms/step - loss: 0.2326 - val_loss: 0.2435\n",
      "Epoch 25/100\n",
      "1165/1165 [==============================] - 1s 1ms/step - loss: 0.2301 - val_loss: 0.2416\n",
      "Epoch 26/100\n",
      "1165/1165 [==============================] - 1s 1ms/step - loss: 0.2277 - val_loss: 0.2398\n",
      "Epoch 27/100\n",
      "1165/1165 [==============================] - 1s 1ms/step - loss: 0.2254 - val_loss: 0.2381\n",
      "Epoch 28/100\n",
      "1165/1165 [==============================] - 1s 1ms/step - loss: 0.2232 - val_loss: 0.2364\n",
      "Epoch 29/100\n",
      "1165/1165 [==============================] - 1s 1ms/step - loss: 0.2210 - val_loss: 0.2349\n",
      "Epoch 30/100\n",
      "1165/1165 [==============================] - 2s 1ms/step - loss: 0.2190 - val_loss: 0.2334\n",
      "Epoch 31/100\n",
      "1165/1165 [==============================] - 1s 1ms/step - loss: 0.2170 - val_loss: 0.2320\n",
      "Epoch 32/100\n",
      "1165/1165 [==============================] - 1s 1ms/step - loss: 0.2152 - val_loss: 0.2307 - ETA: 0s - loss: 0.\n",
      "Epoch 33/100\n",
      "1165/1165 [==============================] - 1s 1ms/step - loss: 0.2134 - val_loss: 0.2294\n",
      "Epoch 34/100\n",
      "1165/1165 [==============================] - 2s 2ms/step - loss: 0.2117 - val_loss: 0.2282\n",
      "Epoch 35/100\n",
      "1165/1165 [==============================] - 1s 1ms/step - loss: 0.2100 - val_loss: 0.2271\n",
      "Epoch 36/100\n",
      "1165/1165 [==============================] - 1s 1ms/step - loss: 0.2084 - val_loss: 0.2260\n",
      "Epoch 37/100\n",
      "1165/1165 [==============================] - 2s 1ms/step - loss: 0.2069 - val_loss: 0.2250\n",
      "Epoch 38/100\n",
      "1165/1165 [==============================] - 2s 1ms/step - loss: 0.2054 - val_loss: 0.2241TA: 0s - lo\n",
      "Epoch 39/100\n",
      "1165/1165 [==============================] - 1s 1ms/step - loss: 0.2040 - val_loss: 0.2231\n",
      "Epoch 40/100\n",
      "1165/1165 [==============================] - 1s 1ms/step - loss: 0.2026 - val_loss: 0.2223\n",
      "Epoch 41/100\n",
      "1165/1165 [==============================] - 2s 1ms/step - loss: 0.2013 - val_loss: 0.2214\n",
      "Epoch 42/100\n",
      "1165/1165 [==============================] - 1s 1ms/step - loss: 0.2000 - val_loss: 0.2206\n",
      "Epoch 43/100\n",
      "1165/1165 [==============================] - 1s 1ms/step - loss: 0.1988 - val_loss: 0.2199A: 0s - loss: 0.2\n",
      "Epoch 44/100\n",
      "1165/1165 [==============================] - 1s 1ms/step - loss: 0.1976 - val_loss: 0.2191\n",
      "Epoch 45/100\n",
      "1165/1165 [==============================] - 2s 1ms/step - loss: 0.1964 - val_loss: 0.2184\n",
      "Epoch 46/100\n",
      "1165/1165 [==============================] - 1s 1ms/step - loss: 0.1953 - val_loss: 0.2178\n",
      "Epoch 47/100\n",
      "1165/1165 [==============================] - 1s 687us/step - loss: 0.1941 - val_loss: 0.2172\n",
      "Epoch 48/100\n",
      "1165/1165 [==============================] - 1s 791us/step - loss: 0.1931 - val_loss: 0.2166\n",
      "Epoch 49/100\n",
      "1165/1165 [==============================] - 1s 828us/step - loss: 0.1920 - val_loss: 0.2160\n",
      "Epoch 50/100\n",
      "1165/1165 [==============================] - 1s 961us/step - loss: 0.1910 - val_loss: 0.2154\n",
      "Epoch 51/100\n",
      "1165/1165 [==============================] - 1s 1ms/step - loss: 0.1900 - val_loss: 0.2149\n",
      "Epoch 52/100\n",
      "1165/1165 [==============================] - 1s 861us/step - loss: 0.1890 - val_loss: 0.2144\n",
      "Epoch 53/100\n",
      "1165/1165 [==============================] - 1s 877us/step - loss: 0.1880 - val_loss: 0.2139\n",
      "Epoch 54/100\n",
      "1165/1165 [==============================] - 1s 981us/step - loss: 0.1871 - val_loss: 0.2135\n",
      "Epoch 55/100\n",
      "1165/1165 [==============================] - 1s 1ms/step - loss: 0.1861 - val_loss: 0.2130\n",
      "Epoch 56/100\n",
      "1165/1165 [==============================] - 1s 1ms/step - loss: 0.1852 - val_loss: 0.2126\n",
      "Epoch 57/100\n",
      "1165/1165 [==============================] - 1s 949us/step - loss: 0.1843 - val_loss: 0.2122\n",
      "Epoch 58/100\n",
      "1165/1165 [==============================] - 1s 997us/step - loss: 0.1835 - val_loss: 0.2118\n",
      "Epoch 59/100\n",
      "1165/1165 [==============================] - 2s 1ms/step - loss: 0.1826 - val_loss: 0.2115\n",
      "Epoch 60/100\n",
      "1165/1165 [==============================] - 2s 1ms/step - loss: 0.1817 - val_loss: 0.2111\n",
      "Epoch 61/100\n",
      "1165/1165 [==============================] - 2s 1ms/step - loss: 0.1809 - val_loss: 0.2108\n",
      "Epoch 62/100\n",
      "1165/1165 [==============================] - 2s 2ms/step - loss: 0.1801 - val_loss: 0.2104\n",
      "Epoch 63/100\n",
      "1165/1165 [==============================] - 1s 1ms/step - loss: 0.1793 - val_loss: 0.2101\n",
      "Epoch 64/100\n",
      "1165/1165 [==============================] - 1s 917us/step - loss: 0.1785 - val_loss: 0.2098\n",
      "Epoch 65/100\n",
      "1165/1165 [==============================] - 2s 1ms/step - loss: 0.1777 - val_loss: 0.2095\n",
      "Epoch 66/100\n",
      "1165/1165 [==============================] - 1s 1ms/step - loss: 0.1769 - val_loss: 0.2093\n",
      "Epoch 67/100\n",
      "1165/1165 [==============================] - 2s 1ms/step - loss: 0.1761 - val_loss: 0.2090\n",
      "Epoch 68/100\n",
      "1165/1165 [==============================] - 1s 1ms/step - loss: 0.1754 - val_loss: 0.2088\n",
      "Epoch 69/100\n",
      "1165/1165 [==============================] - ETA: 0s - loss: 0.173 - 1s 1ms/step - loss: 0.1746 - val_loss: 0.2086\n",
      "Epoch 70/100\n",
      "1165/1165 [==============================] - 2s 1ms/step - loss: 0.1739 - val_loss: 0.2084- ETA: 0s - loss - ETA: 0s - loss\n",
      "Epoch 71/100\n",
      "1165/1165 [==============================] - 3s 2ms/step - loss: 0.1732 - val_loss: 0.2082\n",
      "Epoch 72/100\n",
      "1165/1165 [==============================] - 2s 1ms/step - loss: 0.1724 - val_loss: 0.2080\n",
      "Epoch 73/100\n",
      "1165/1165 [==============================] - 1s 1ms/step - loss: 0.1717 - val_loss: 0.2079\n",
      "Epoch 74/100\n",
      "1165/1165 [==============================] - 2s 1ms/step - loss: 0.1710 - val_loss: 0.2077\n",
      "Epoch 75/100\n",
      "1165/1165 [==============================] - 1s 977us/step - loss: 0.1704 - val_loss: 0.2075\n",
      "Epoch 76/100\n",
      "1165/1165 [==============================] - 1s 1ms/step - loss: 0.1697 - val_loss: 0.2074\n",
      "Epoch 77/100\n"
     ]
    },
    {
     "name": "stdout",
     "output_type": "stream",
     "text": [
      "1165/1165 [==============================] - 1s 1ms/step - loss: 0.1690 - val_loss: 0.2072\n",
      "Epoch 78/100\n",
      "1165/1165 [==============================] - 1s 1ms/step - loss: 0.1684 - val_loss: 0.2071\n",
      "Epoch 79/100\n",
      "1165/1165 [==============================] - 1s 1ms/step - loss: 0.1677 - val_loss: 0.2070\n",
      "Epoch 80/100\n",
      "1165/1165 [==============================] - 1s 802us/step - loss: 0.1670 - val_loss: 0.2068\n",
      "Epoch 81/100\n",
      "1165/1165 [==============================] - 1s 1ms/step - loss: 0.1664 - val_loss: 0.2067\n",
      "Epoch 82/100\n",
      "1165/1165 [==============================] - 2s 2ms/step - loss: 0.1658 - val_loss: 0.2066\n",
      "Epoch 83/100\n",
      "1165/1165 [==============================] - 3s 2ms/step - loss: 0.1651 - val_loss: 0.2065\n",
      "Epoch 84/100\n",
      "1165/1165 [==============================] - 2s 2ms/step - loss: 0.1645 - val_loss: 0.2065\n",
      "Epoch 85/100\n",
      "1165/1165 [==============================] - 2s 2ms/step - loss: 0.1639 - val_loss: 0.2064\n",
      "Epoch 86/100\n",
      "1165/1165 [==============================] - 2s 1ms/step - loss: 0.1633 - val_loss: 0.2063\n",
      "Epoch 87/100\n",
      "1165/1165 [==============================] - 1s 1ms/step - loss: 0.1627 - val_loss: 0.2063\n",
      "Epoch 88/100\n",
      "1165/1165 [==============================] - 1s 1ms/step - loss: 0.1621 - val_loss: 0.2062\n",
      "Epoch 89/100\n",
      "1165/1165 [==============================] - 1s 653us/step - loss: 0.1615 - val_loss: 0.2061\n",
      "Epoch 90/100\n",
      "1165/1165 [==============================] - 1s 694us/step - loss: 0.1609 - val_loss: 0.2061\n",
      "Epoch 91/100\n",
      "1165/1165 [==============================] - 1s 647us/step - loss: 0.1603 - val_loss: 0.2061\n",
      "Epoch 92/100\n",
      "1165/1165 [==============================] - 1s 758us/step - loss: 0.1597 - val_loss: 0.2060\n",
      "Epoch 93/100\n",
      "1165/1165 [==============================] - 1s 1ms/step - loss: 0.1591 - val_loss: 0.2060\n",
      "Epoch 94/100\n",
      "1165/1165 [==============================] - 1s 881us/step - loss: 0.1586 - val_loss: 0.2060\n",
      "Epoch 95/100\n",
      "1165/1165 [==============================] - 1s 586us/step - loss: 0.1580 - val_loss: 0.2060\n",
      "Epoch 96/100\n",
      "1165/1165 [==============================] - 1s 492us/step - loss: 0.1574 - val_loss: 0.2059\n",
      "Epoch 97/100\n",
      "1165/1165 [==============================] - 1s 613us/step - loss: 0.1569 - val_loss: 0.2059\n",
      "Epoch 98/100\n",
      "1165/1165 [==============================] - 1s 644us/step - loss: 0.1563 - val_loss: 0.2059\n",
      "Epoch 99/100\n",
      "1165/1165 [==============================] - 1s 721us/step - loss: 0.1558 - val_loss: 0.2058\n",
      "Epoch 100/100\n",
      "1165/1165 [==============================] - 1s 1ms/step - loss: 0.1552 - val_loss: 0.2058\n"
     ]
    },
    {
     "data": {
      "image/png": "[encoded data removed]",
      "text/plain": [
       "<Figure size 432x288 with 1 Axes>"
      ]
     },
     "metadata": {},
     "output_type": "display_data"
    }
   ],
   "source": [
    "# Training network 2 (exclude links)\n",
    "epochs = 100\n",
    "x_train_fingerprints = mibig_filtered_fingerprints\n",
    "x_train_families = mibig_filtered_families\n",
    "\n",
    "enc2 = simplified_family_model(x_train_fingerprints.values, x_train_families.values, epochs=epochs)"
   ]
  },
  {
   "cell_type": "markdown",
   "metadata": {},
   "source": [
    "Compute the families AUC in the fingerprint - family network by using predicted fingerprint"
   ]
  },
  {
   "cell_type": "code",
   "execution_count": 9,
   "metadata": {
    "scrolled": false
   },
   "outputs": [
    {
     "name": "stdout",
     "output_type": "stream",
     "text": [
      "Done\n",
      "[(0, 14, 0.80889058,   0. ) (1, 63, 0.58593125,   2.8)\n",
      " (2,  7, 0.59267399,  19.2) (3, 12, 0.42017544,  83. )\n",
      " (4,  0, 0.        , 100. ) (5, 10, 0.63541667,   7.4)\n",
      " (6, 91, 0.5996436 ,   0.6) (7, 23, 0.57128977,  17.4)]\n",
      "\n",
      "[[0.56117021 0.43731003 0.45706687 ... 0.53704407 0.5174772  0.54673252]\n",
      " [0.55726847 0.52963344 0.52609341 ... 0.53557154 0.5425374  0.53831221]\n",
      " [0.33479853 0.31282051 0.50842491 ... 0.47912088 0.58901099 0.50989011]\n",
      " ...\n",
      " [0.53020833 0.50833333 0.53072917 ... 0.62447917 0.59114583 0.62239583]\n",
      " [0.54588655 0.54291654 0.45213345 ... 0.44500545 0.46431046 0.52668053]\n",
      " [0.46295846 0.49453486 0.52732572 ... 0.4870051  0.57687637 0.55210104]]\n",
      "\n"
     ]
    }
   ],
   "source": [
    "# using linked mibig-gnps as test set\n",
    "x_train_spectra = load_master_file(path=test_datapath)\n",
    "predicted = enc1.predict(x_train_spectra)\n",
    "\n",
    "\n",
    "gnps_families_path = \"G:\\\\Dev\\\\Data\\\\gnps_family.txt\"\n",
    "x_train_families = load_families_master(gnps_families_path)\n",
    "x_train_fingerprints = load_fingerprints_master(test_fingerprint_path, number_of_rows=1)\n",
    "\n",
    "actual = x_train_families.values\n",
    "predicted = enc2.predict(predicted) # using predicted fingerprints\n",
    "exp_stats, exp_perm_scores = compute_auc(8, actual, predicted)\n",
    "\n",
    "print(exp_stats)\n",
    "print()\n",
    "print(exp_perm_scores)\n",
    "print()"
   ]
  },
  {
   "cell_type": "code",
   "execution_count": 10,
   "metadata": {},
   "outputs": [
    {
     "name": "stdout",
     "output_type": "stream",
     "text": [
      "{'Alkaloid': 14, 'NRP': 63, 'Terpene': 7, 'RiPP': 12, 'Nucleoside': 0, 'Saccharide': 10, 'Polyketide': 91, 'Other': 23}\n",
      "Family, proportion guessed correctly, proportion missed\n",
      "Alkaloid, 28.57142857142857, 3.8834951456310676\n",
      "NRP, 15.873015873015872, 11.464968152866243\n",
      "Terpene, 0.0, 2.3474178403755865\n",
      "RiPP, 0.0, 0.0\n",
      "Nucleoside no sample\n",
      "Saccharide, 0.0, 0.0\n",
      "Polyketide, 73.62637362637363, 63.565891472868216\n",
      "Other, 13.043478260869565, 2.5380710659898478\n"
     ]
    }
   ],
   "source": [
    "compute_predicted_family_proportion(gnps_families_path, family_names, x_train_families.index, predicted)"
   ]
  },
  {
   "cell_type": "markdown",
   "metadata": {},
   "source": [
    "Compute the families AUC in the fingerprint - family network by using true fingerprints"
   ]
  },
  {
   "cell_type": "code",
   "execution_count": 11,
   "metadata": {},
   "outputs": [
    {
     "name": "stdout",
     "output_type": "stream",
     "text": [
      "Done\n",
      "[(0, 14, 0.94946809,   0. ) (1, 63, 0.73758136,   0. )\n",
      " (2,  7, 0.8014652 ,   0.8) (3, 12, 0.91535088,   0. )\n",
      " (4,  0, 0.        , 100. ) (5, 10, 0.9234375 ,   0. )\n",
      " (6, 91, 0.94911395,   0. ) (7, 23, 0.63760019,   1.4)]\n",
      "\n",
      "[[0.54160334 0.4006459  0.49506079 ... 0.52754559 0.48822188 0.44490881]\n",
      " [0.44747059 0.54128126 0.54282288 ... 0.51073427 0.54584904 0.46779719]\n",
      " [0.54615385 0.49377289 0.63956044 ... 0.47838828 0.42564103 0.47179487]\n",
      " ...\n",
      " [0.60859375 0.48515625 0.46197917 ... 0.57708333 0.446875   0.47109375]\n",
      " [0.45208395 0.50648451 0.53395703 ... 0.52757153 0.53262053 0.50985051]\n",
      " [0.61173184 0.50315764 0.52404664 ... 0.47303862 0.50109303 0.48664076]]\n",
      "\n"
     ]
    }
   ],
   "source": [
    "predicted = enc2.predict(x_train_fingerprints.values) # using true fingerprints\n",
    "exp_stats, exp_perm_scores = compute_auc(8, actual, predicted)\n",
    "\n",
    "print(exp_stats)\n",
    "print()\n",
    "print(exp_perm_scores)\n",
    "print()"
   ]
  },
  {
   "cell_type": "code",
   "execution_count": 12,
   "metadata": {},
   "outputs": [
    {
     "name": "stdout",
     "output_type": "stream",
     "text": [
      "{'Alkaloid': 14, 'NRP': 63, 'Terpene': 7, 'RiPP': 12, 'Nucleoside': 0, 'Saccharide': 10, 'Polyketide': 91, 'Other': 23}\n",
      "Family, proportion guessed correctly, proportion missed\n",
      "Alkaloid, 14.285714285714285, 0.48543689320388345\n",
      "NRP, 36.507936507936506, 11.464968152866243\n",
      "Terpene, 28.57142857142857, 3.755868544600939\n",
      "RiPP, 25.0, 0.0\n",
      "Nucleoside no sample\n",
      "Saccharide, 40.0, 0.0\n",
      "Polyketide, 94.5054945054945, 20.930232558139537\n",
      "Other, 39.130434782608695, 9.644670050761421\n"
     ]
    }
   ],
   "source": [
    "compute_predicted_family_proportion(gnps_families_path, family_names, x_train_families.index, predicted)"
   ]
  },
  {
   "cell_type": "markdown",
   "metadata": {},
   "source": [
    "Use a bigger test dataset (the whole MIBiG - 1813 samples)"
   ]
  },
  {
   "cell_type": "code",
   "execution_count": 13,
   "metadata": {},
   "outputs": [
    {
     "name": "stdout",
     "output_type": "stream",
     "text": [
      "Done\n",
      "[(0,  90, 0.96615901,  0. ) (1, 505, 0.91012697,  0. )\n",
      " (2, 131, 0.97419894,  0. ) (3,  72, 0.98460101,  0. )\n",
      " (4,   1, 0.1659751 , 83.2) (5, 103, 0.97228964,  0. )\n",
      " (6, 722, 0.94093801,  0. ) (7, 189, 0.90389549,  0. )]\n",
      "\n",
      "[[0.58241218 0.44507083 0.48048391 ... 0.49814542 0.46986817 0.48865144]\n",
      " [0.50999769 0.5007967  0.4884583  ... 0.50290934 0.50095647 0.49637594]\n",
      " [0.53619864 0.49290877 0.46955556 ... 0.50543806 0.55201397 0.51580953]\n",
      " ...\n",
      " [0.55795264 0.51569363 0.51985813 ... 0.5067795  0.52570937 0.47132888]\n",
      " [0.50354189 0.5159681  0.487015   ... 0.48618111 0.51134397 0.50666253]\n",
      " [0.51140847 0.50151202 0.51990226 ... 0.49513589 0.51362707 0.47247458]]\n",
      "\n"
     ]
    }
   ],
   "source": [
    "# using mibig all as test dataset\n",
    "x_train_fingerprints = mibig_fingerprints\n",
    "x_train_families = mibig_families\n",
    "\n",
    "actual = x_train_families.values\n",
    "predicted = enc2.predict(x_train_fingerprints.values) # using true fingerprints\n",
    "exp_stats, exp_perm_scores = compute_auc(8, actual, predicted)\n",
    "\n",
    "print(exp_stats)\n",
    "print()\n",
    "print(exp_perm_scores)\n",
    "print()"
   ]
  },
  {
   "cell_type": "code",
   "execution_count": 14,
   "metadata": {},
   "outputs": [
    {
     "name": "stdout",
     "output_type": "stream",
     "text": [
      "{'Alkaloid': 90, 'NRP': 505, 'Terpene': 131, 'RiPP': 72, 'Nucleoside': 1, 'Saccharide': 103, 'Polyketide': 722, 'Other': 189}\n",
      "Family, proportion guessed correctly, proportion missed\n",
      "Alkaloid, 32.22222222222222, 0.3482298316889147\n",
      "NRP, 62.97029702970297, 5.81039755351682\n",
      "Terpene, 73.2824427480916, 1.1296076099881094\n",
      "RiPP, 56.94444444444444, 0.402067777139575\n",
      "Nucleoside, 0.0, 0.0\n",
      "Saccharide, 18.446601941747574, 0.11695906432748539\n",
      "Polyketide, 84.07202216066482, 8.615948670944087\n",
      "Other, 49.735449735449734, 2.401477832512315\n"
     ]
    }
   ],
   "source": [
    "compute_predicted_family_proportion(mibig_families_path, family_names, x_train_families.index, predicted)"
   ]
  },
  {
   "cell_type": "markdown",
   "metadata": {},
   "source": [
    "Get common fingerprint for each family"
   ]
  },
  {
   "cell_type": "code",
   "execution_count": 15,
   "metadata": {},
   "outputs": [
    {
     "name": "stdout",
     "output_type": "stream",
     "text": [
      "Done\n"
     ]
    }
   ],
   "source": [
    "family_common_fingerprint_path = \"G:\\\\Dev\\\\Data\\\\family_common_substructures.txt\"\n",
    "family_substructure_auc_path = \"G:\\\\Dev\\\\Data\\\\family_substructure_auc.txt\"\n",
    "family_substructure_auc = {}\n",
    "n1_stats = list(n1_stats)\n",
    "\n",
    "with open(family_common_fingerprint_path, 'r') as f:\n",
    "    for line in f:\n",
    "        family, bit_name, occurrence, occurence_other, diff = line.split(\"  \")\n",
    "        if family not in family_substructure_auc:\n",
    "            family_substructure_auc[family] = {}\n",
    "        family_substructure_auc[family][bit_name] = n1_stats[fingerprint_names.index(bit_name)][2]\n",
    "\n",
    "with open(family_substructure_auc_path, 'w') as f:\n",
    "    for key, details in family_substructure_auc.items():\n",
    "        for substructure, auc in details.items():\n",
    "            f.write(key + \",\" + substructure + \",\" + str(round(auc,2)) + \"\\n\")\n",
    "\n",
    "print(\"Done\")"
   ]
  },
  {
   "cell_type": "markdown",
   "metadata": {},
   "source": [
    "Classification accuracy saved into .csv report in format of id, families... , true label"
   ]
  },
  {
   "cell_type": "code",
   "execution_count": null,
   "metadata": {},
   "outputs": [],
   "source": [
    "mibig_links_path = \"G:\\\\Dev\\\\Data\\\\mibig_gnps_links_q3_loose.csv\"\n",
    "mibig_family_path = \"G:\\\\Dev\\\\Data\\\\mibig_family\\\\gene_family.txt\"\n",
    "mibig_gnps_df = pd.read_csv(mibig_links_path, sep=\",\")\n",
    "\n",
    "mibig_gnps_dict = {}\n",
    "mibig_families = {}\n",
    "mibig_families_count = {}\n",
    "\n",
    "for index, row in mibig_gnps_df.iterrows():\n",
    "    if row[\"gnps_id\"] not in mibig_gnps_dict:\n",
    "        mibig_gnps_dict[row[\"gnps_id\"]] = set()\n",
    "    mibig_gnps_dict[row[\"gnps_id\"]].add(row[\"#mibig_id\"])\n",
    "\n",
    "with open(mibig_family_path, 'r') as f:\n",
    "    for line in f:\n",
    "        mibig_id, family = line.split(\"  \")\n",
    "        if mibig_id not in mibig_families:\n",
    "            mibig_families[mibig_id] = []\n",
    "        mibig_families[mibig_id].append(family[:-1])\n",
    "        \n",
    "probability_report_path = \"G:\\\\Dev\\\\Data\\\\gnps_prediction_report.csv\"\n",
    "families = [\"Alkaloid\", \"NRP\", \"Terpene\", \"RiPP\", \"Nucleoside\", \"Saccharide\", \"Polyketide\", \"Other\"]\n",
    "true_family_counter = {}\n",
    "family_correct_counter = {}\n",
    "\n",
    "for family in families:\n",
    "    true_family_counter[family] = 0\n",
    "    family_correct_counter[family] = 0\n",
    "\n",
    "with open(probability_report_path, 'w') as f:\n",
    "    f.write(\"#mibig_id,gnps_id,Alkaloid,NRP,Terpene,RiPP,Nucleoside,Saccharide,Polyketide,Other,True Label\\n\")\n",
    "\n",
    "with open(probability_report_path, 'a') as f:    \n",
    "    for index, probabilities in enumerate(predicted):\n",
    "        temp = copy.deepcopy(probabilities).tolist()\n",
    "        gnps_id = x_train_fingerprints.index[index]\n",
    "        prob_string = \",\".join(map(str, probabilities))\n",
    "        for mibig_id in mibig_gnps_dict[gnps_id]:\n",
    "            true_labels = []\n",
    "            max_indexes = []\n",
    "            for true_family in mibig_families[mibig_id]:\n",
    "                true_labels.append(true_family)\n",
    "                max_index = temp.index(max(temp))\n",
    "                max_indexes.append(max_index)\n",
    "                temp.remove(temp[max_index])\n",
    "                true_family_counter[true_family] += 1\n",
    "                f.write(mibig_id + \",\" + gnps_id + \",\" + prob_string + \",\" + true_family + \"\\n\")\n",
    "            for index in max_indexes:\n",
    "                if families[index] in true_labels:\n",
    "                    family_correct_counter[families[index]] += 1\n",
    "    \n",
    "prediction_comparison_report_path = \"G:\\\\Dev\\\\Data\\\\prediction_comparison_report.txt\"\n",
    "with open(prediction_comparison_report_path, 'w') as f:\n",
    "    f.write(\"family,matched,actual,proportion\\n\")\n",
    "\n",
    "with open(prediction_comparison_report_path, 'a') as f:\n",
    "    for family in family_correct_counter:\n",
    "        matched = family_correct_counter[family]\n",
    "        actual = true_family_counter[family]\n",
    "        proportion = 0\n",
    "        if actual != 0:\n",
    "            proportion = matched / actual\n",
    "        f.write(family + \",\" + str(matched) + \",\" + str(actual) + \",\" + str(proportion*100) + \"\\n\")\n",
    "    \n",
    "print(\"Done\")"
   ]
  },
  {
   "cell_type": "markdown",
   "metadata": {},
   "source": [
    "Save model into .h5 format"
   ]
  },
  {
   "cell_type": "code",
   "execution_count": null,
   "metadata": {},
   "outputs": [],
   "source": [
    "filepath = \"G:\\\\Dev\\\\Data\\\\saved_spectrum_fingerprint_non_binary_model.h5\"\n",
    "enc1.save(filepath)\n",
    "\n",
    "filepath = \"G:\\\\Dev\\\\Data\\\\saved_fingerprint_families_non_binary_model.h5\"\n",
    "enc2.save(filepath)"
   ]
  }
 ],
 "metadata": {
  "kernelspec": {
   "display_name": "Python 3",
   "language": "python",
   "name": "python3"
  },
  "language_info": {
   "codemirror_mode": {
    "name": "ipython",
    "version": 3
   },
   "file_extension": ".py",
   "mimetype": "text/x-python",
   "name": "python",
   "nbconvert_exporter": "python",
   "pygments_lexer": "ipython3",
   "version": "3.6.5"
  }
 },
 "nbformat": 4,
 "nbformat_minor": 1
}

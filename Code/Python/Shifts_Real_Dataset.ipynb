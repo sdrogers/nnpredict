{
 "cells": [
  {
   "cell_type": "markdown",
   "metadata": {},
   "source": [
    "## Notebook to play with convolution for networks\n",
    "\n",
    "- Setup a binary classification task\n",
    "- Have peak probabilities for each class\n",
    "- Then have some shifts also for the class and see if convolution can improve this"
   ]
  },
  {
   "cell_type": "code",
   "execution_count": 8,
   "metadata": {},
   "outputs": [],
   "source": [
    "import os\n",
    "import numpy as np\n",
    "from matplotlib import pylab as plt\n",
    "\n",
    "import pandas as pd\n",
    "import math"
   ]
  },
  {
   "cell_type": "markdown",
   "metadata": {},
   "source": [
    "Import the real dataset"
   ]
  },
  {
   "cell_type": "code",
   "execution_count": 19,
   "metadata": {},
   "outputs": [
    {
     "name": "stdout",
     "output_type": "stream",
     "text": [
      "40525\n",
      "[[0. 0. 0. ... 0. 0. 0.]\n",
      " [0. 0. 0. ... 0. 0. 0.]\n",
      " [0. 0. 0. ... 0. 0. 0.]\n",
      " ...\n",
      " [0. 0. 0. ... 0. 0. 0.]\n",
      " [0. 0. 0. ... 0. 0. 0.]\n",
      " [0. 0. 0. ... 0. 0. 0.]]\n"
     ]
    }
   ],
   "source": [
    "filtered_dataset_dir = \"G:\\\\Dev\\\\Data\\\\MSMS-NIST\\\\Python Filtered\"\n",
    "filtered_file_list = os.listdir(filtered_dataset_dir)\n",
    "filtered_name_list = [filename[:-4] for filename in filtered_file_list]\n",
    "number_files = len(filtered_file_list)\n",
    "print(number_files)\n",
    "\n",
    "intensities = pd.DataFrame(0.0, index = filtered_name_list, columns=range(1000), dtype=float)\n",
    "\n",
    "for file in filtered_file_list:\n",
    "    filepath = os.path.join(filtered_dataset_dir, file)\n",
    "    filename = file[:-4]\n",
    "    with open(filepath, 'r') as f:\n",
    "        for index, line in enumerate(f):\n",
    "            mass, intensity = line.split(\" \")\n",
    "            if not math.isnan(float(intensity)):\n",
    "                intensities.at[filename, int(mass)-1] = float(intensity)\n",
    "                \n",
    "print(intensities.values)"
   ]
  },
  {
   "cell_type": "markdown",
   "metadata": {},
   "source": [
    "Make a simple keras model to classify this data"
   ]
  },
  {
   "cell_type": "code",
   "execution_count": 20,
   "metadata": {},
   "outputs": [],
   "source": [
    "from keras.layers import Input, Dense\n",
    "from keras.models import Model,Sequential\n",
    "from keras.wrappers.scikit_learn import KerasClassifier\n",
    "from sklearn.model_selection import cross_val_score\n",
    "from sklearn.model_selection import StratifiedKFold\n",
    "from keras.optimizers import SGD\n",
    "def baseline_model():\n",
    "    class_model = Sequential()\n",
    "    class_model.add(Dense(50, input_dim=X.shape[1], kernel_initializer='normal', activation='relu'))\n",
    "    class_model.add(Dense(10,kernel_initializer='normal',activation = 'relu'))\n",
    "    class_model.add(Dense(1,kernel_initializer='normal',activation = 'sigmoid'))\n",
    "    class_model.compile(loss='binary_crossentropy', optimizer='adam', metrics=['accuracy'])\n",
    "    return class_model"
   ]
  },
  {
   "cell_type": "markdown",
   "metadata": {},
   "source": [
    "Following model is a convolutional model for this data"
   ]
  },
  {
   "cell_type": "markdown",
   "metadata": {},
   "source": [
    "These methods generate spectra that include these shifts and convert the data into the necessary tensor format\n",
    "\n",
    "- To generate a spectrum, we choose a number of peaks from a Poisson\n",
    "- We then sample a shift from the class-specific shift distribution\n",
    "- Sample a starting point\n",
    "- Sample an intensity for the start and end\n",
    "- Increment the spectra"
   ]
  },
  {
   "cell_type": "code",
   "execution_count": 21,
   "metadata": {},
   "outputs": [],
   "source": [
    "def generate_shift_spec(n_bins = 100,n_peak_poiss = 2,intensity_poiss = 20,poss_shifts = [1,2,3,4,5,6,7,8,9,10],\n",
    "                        shift_probs = [1.0/10 for i in range(10)]):\n",
    "    spec = np.zeros(n_bins,np.double)\n",
    "    n_peaks = np.random.poisson(n_peak_poiss)\n",
    "    for i in range(n_peaks):\n",
    "        shift = np.random.choice(poss_shifts,p = shift_probs)\n",
    "        start_point = np.random.choice(n_bins-shift)\n",
    "        i1 = np.random.poisson(intensity_poiss)\n",
    "        i2 = np.random.poisson(intensity_poiss)\n",
    "        spec[start_point] += i1\n",
    "        spec[start_point+shift] += i2\n",
    "    return spec\n",
    "\n",
    "\n",
    "def shift_spec_into_tensor(spec_array,shift=[10,20]):\n",
    "    n_spec,n_bins = spec_array.shape\n",
    "    spec_tensor = np.zeros((n_spec,n_bins,len(shift)+1),np.double)\n",
    "    for i in range(n_spec):\n",
    "        spec = spec_array[i,:]\n",
    "        shift_spec = np.copy(spec)\n",
    "        for s in shift:\n",
    "            shift_spec = np.vstack((shift_spec,np.hstack((spec[s:],np.zeros(s)))))\n",
    "        spec_tensor[i,:,:] = shift_spec.T\n",
    "    return spec_tensor[:,:,:,None]\n",
    "\n",
    "\n",
    "def generate_shifts_from_spec(spec, intensity_poiss = 20):\n",
    "    shift_bins = np.zeros(n_bins, np.double)\n",
    "    for peak, intensity in enumerate(spec):\n",
    "        for i in range(1,len(spec)-peak):\n",
    "            average_intensity = (intensity + spec[peak+i]) / 2.0\n",
    "            if average_intensity > 0 and intensity > 0 and spec[peak+i] > 0:\n",
    "                shift_bins[i] += np.random.poisson(intensity_poiss)\n",
    "                \n",
    "    return shift_bins"
   ]
  },
  {
   "cell_type": "code",
   "execution_count": 22,
   "metadata": {},
   "outputs": [],
   "source": [
    "def add_noise(X,n_noise = 5000):\n",
    "    N,M = X.shape\n",
    "    for n in range(N):\n",
    "        X[n,:] += np.random.multinomial(np.random.poisson(n_noise),[1.0/M for m in range(M)])\n",
    "    return X\n",
    "def normalise(X):\n",
    "    for i,row in enumerate(X):\n",
    "        tot = row.sum()\n",
    "        for j in range(len(row)):\n",
    "            X[i,j] = (1.0*row[j])/tot\n",
    "    return X"
   ]
  },
  {
   "cell_type": "markdown",
   "metadata": {},
   "source": [
    "- Generate data for the two classes, add some noise and normalise\n",
    "- Note that `use_shifts` is what the model uses.\n",
    "- We don't need all the possible shifts to be in `use_shifts` as long as the kernel has sufficient width"
   ]
  },
  {
   "cell_type": "code",
   "execution_count": 23,
   "metadata": {},
   "outputs": [
    {
     "name": "stderr",
     "output_type": "stream",
     "text": [
      "C:\\Users\\CherWei\\Anaconda3\\envs\\tensorflow\\lib\\site-packages\\ipykernel_launcher.py:10: RuntimeWarning: invalid value encountered in double_scalars\n",
      "  # Remove the CWD from sys.path while we load stuff.\n"
     ]
    },
    {
     "name": "stdout",
     "output_type": "stream",
     "text": [
      "[57]\n",
      "(40525, 1000, 2, 1)\n"
     ]
    }
   ],
   "source": [
    "X = intensities.values\n",
    "\n",
    "# Compute the average total signal per spec and then add noise up to a proportion of that\n",
    "mean_sig = ((X.sum(axis=1)).mean())\n",
    "n_noise = int(mean_sig/4)\n",
    "X = add_noise(X,n_noise=n_noise)\n",
    "X = normalise(X)\n",
    "\n",
    "#use_shifts = np.arange(1,21,5)\n",
    "use_shifts = np.asarray([57])\n",
    "print(use_shifts)\n",
    "\n",
    "X_tensor = shift_spec_into_tensor(X,shift=use_shifts)\n",
    "print(X_tensor.shape)"
   ]
  },
  {
   "cell_type": "code",
   "execution_count": 26,
   "metadata": {},
   "outputs": [],
   "source": [
    "from keras.layers import Conv2D,Flatten,MaxPooling2D,AveragePooling2D\n",
    "def conv_model(n_kernels = 2,kernel_width=1):\n",
    "    class_model = Sequential()\n",
    "    input_shape = (n_bins,len(use_shifts)+1,1)\n",
    "    n_kernels = n_kernels\n",
    "    \n",
    "    pool_width = n_bins - (kernel_width+1)\n",
    "    pool_size = (pool_width,1)\n",
    "    \n",
    "    kernel_size = (kernel_width,len(use_shifts)+1)\n",
    "    class_model.add(Conv2D(n_kernels, input_shape=input_shape, \n",
    "                           kernel_initializer='normal', activation='relu',strides=1,\n",
    "                          kernel_size = kernel_size))\n",
    "\n",
    "#     class_model.add(AveragePooling2D(pool_size = pool_size))\n",
    "    class_model.add(MaxPooling2D(pool_size = pool_size))\n",
    "    class_model.add(Flatten())\n",
    "    class_model.add(Dense(1,kernel_initializer='normal',activation = 'sigmoid'))\n",
    "    class_model.compile(loss='binary_crossentropy', optimizer='adam', metrics=['accuracy'])\n",
    "    return class_model\n"
   ]
  },
  {
   "cell_type": "code",
   "execution_count": 27,
   "metadata": {},
   "outputs": [
    {
     "data": {
      "text/plain": [
       "<matplotlib.image.AxesImage at 0x1b98189bfd0>"
      ]
     },
     "execution_count": 27,
     "metadata": {},
     "output_type": "execute_result"
    },
    {
     "data": {
      "image/png": "[encoded data removed]",
      "text/plain": [
       "<Figure size 432x288 with 1 Axes>"
      ]
     },
     "metadata": {
      "needs_background": "light"
     },
     "output_type": "display_data"
    }
   ],
   "source": [
    "plt.imshow(X,aspect='auto')"
   ]
  },
  {
   "cell_type": "markdown",
   "metadata": {},
   "source": [
    "Train the standard model - this is unlikely to work well!\n",
    "\n",
    "- Note how many parameters is has - it overfits like mad"
   ]
  },
  {
   "cell_type": "code",
   "execution_count": 25,
   "metadata": {},
   "outputs": [
    {
     "name": "stdout",
     "output_type": "stream",
     "text": [
      "_________________________________________________________________\n",
      "Layer (type)                 Output Shape              Param #   \n",
      "=================================================================\n",
      "dense_8 (Dense)              (None, 50)                5050      \n",
      "_________________________________________________________________\n",
      "dense_9 (Dense)              (None, 10)                510       \n",
      "_________________________________________________________________\n",
      "dense_10 (Dense)             (None, 1)                 11        \n",
      "=================================================================\n",
      "Total params: 5,571\n",
      "Trainable params: 5,571\n",
      "Non-trainable params: 0\n",
      "_________________________________________________________________\n"
     ]
    },
    {
     "data": {
      "text/plain": [
       "[<matplotlib.lines.Line2D at 0x21786f66e80>]"
      ]
     },
     "execution_count": 25,
     "metadata": {},
     "output_type": "execute_result"
    },
    {
     "data": {
      "image/png": "[encoded data removed]",
      "text/plain": [
       "<Figure size 432x288 with 1 Axes>"
      ]
     },
     "metadata": {
      "needs_background": "light"
     },
     "output_type": "display_data"
    }
   ],
   "source": [
    "N,_,_,_ = X_tensor.shape\n",
    "shuffle_order = np.random.permutation(N)\n",
    "labels = [0 for i in range(n_in_class)] + [1 for i in range(n_in_class)]\n",
    "labels = np.array(labels)[:,None]\n",
    "epochs = 200\n",
    "mod = baseline_model()\n",
    "mod.summary()\n",
    "history = mod.fit(X[shuffle_order,:],labels[shuffle_order],epochs=epochs,validation_split=0.2,verbose=0)\n",
    "\n",
    "plt.plot(np.arange(epochs),history.history['val_acc'],'k')\n",
    "plt.plot(np.arange(epochs),history.history['acc'],'r')"
   ]
  },
  {
   "cell_type": "markdown",
   "metadata": {},
   "source": [
    "Train the convolutional model\n",
    "\n",
    "- This will work and with only a small number of parameters!"
   ]
  },
  {
   "cell_type": "code",
   "execution_count": 26,
   "metadata": {},
   "outputs": [
    {
     "name": "stdout",
     "output_type": "stream",
     "text": [
      "_________________________________________________________________\n",
      "Layer (type)                 Output Shape              Param #   \n",
      "=================================================================\n",
      "conv2d_2 (Conv2D)            (None, 96, 1, 3)          33        \n",
      "_________________________________________________________________\n",
      "max_pooling2d_2 (MaxPooling2 (None, 1, 1, 3)           0         \n",
      "_________________________________________________________________\n",
      "flatten_2 (Flatten)          (None, 3)                 0         \n",
      "_________________________________________________________________\n",
      "dense_11 (Dense)             (None, 1)                 4         \n",
      "=================================================================\n",
      "Total params: 37\n",
      "Trainable params: 37\n",
      "Non-trainable params: 0\n",
      "_________________________________________________________________\n"
     ]
    },
    {
     "data": {
      "text/plain": [
       "[<matplotlib.lines.Line2D at 0x217a1528550>]"
      ]
     },
     "execution_count": 26,
     "metadata": {},
     "output_type": "execute_result"
    },
    {
     "data": {
      "image/png": "[encoded data removed]",
      "text/plain": [
       "<Figure size 432x288 with 1 Axes>"
      ]
     },
     "metadata": {
      "needs_background": "light"
     },
     "output_type": "display_data"
    },
    {
     "data": {
      "image/png": "[encoded data removed]",
      "text/plain": [
       "<Figure size 432x288 with 1 Axes>"
      ]
     },
     "metadata": {
      "needs_background": "light"
     },
     "output_type": "display_data"
    }
   ],
   "source": [
    "n_kernels = 3\n",
    "kernel_width = 5\n",
    "mod = conv_model(n_kernels = n_kernels,kernel_width=kernel_width)\n",
    "mod.summary()\n",
    "epochs = 200\n",
    "history = mod.fit(X_tensor[shuffle_order,:,:],labels[shuffle_order],epochs=epochs,validation_split=0.2,verbose=0)\n",
    "plt.plot(np.arange(epochs),history.history['val_acc'],'k')\n",
    "plt.plot(np.arange(epochs),history.history['acc'],'r')\n",
    "plt.figure()\n",
    "plt.plot(np.arange(epochs),history.history['val_loss'],'k')\n",
    "plt.plot(np.arange(epochs),history.history['loss'],'r')\n",
    "\n"
   ]
  },
  {
   "cell_type": "markdown",
   "metadata": {},
   "source": [
    "Do some extra epochs if necessary"
   ]
  },
  {
   "cell_type": "code",
   "execution_count": 27,
   "metadata": {},
   "outputs": [
    {
     "data": {
      "text/plain": [
       "[<matplotlib.lines.Line2D at 0x217a1571550>]"
      ]
     },
     "execution_count": 27,
     "metadata": {},
     "output_type": "execute_result"
    },
    {
     "data": {
      "image/png": "[encoded data removed]",
      "text/plain": [
       "<Figure size 432x288 with 1 Axes>"
      ]
     },
     "metadata": {
      "needs_background": "light"
     },
     "output_type": "display_data"
    },
    {
     "data": {
      "image/png": "[encoded data removed]",
      "text/plain": [
       "<Figure size 432x288 with 1 Axes>"
      ]
     },
     "metadata": {
      "needs_background": "light"
     },
     "output_type": "display_data"
    }
   ],
   "source": [
    "extra_epochs = 100\n",
    "history = mod.fit(X_tensor[shuffle_order,:,:],labels[shuffle_order],epochs=extra_epochs,validation_split=0.2,verbose=0)\n",
    "plt.plot(np.arange(extra_epochs),history.history['val_acc'],'k')\n",
    "plt.plot(np.arange(extra_epochs),history.history['acc'],'r')\n",
    "plt.figure()\n",
    "plt.plot(np.arange(extra_epochs),history.history['val_loss'],'k')\n",
    "plt.plot(np.arange(extra_epochs),history.history['loss'],'r')\n",
    "\n"
   ]
  },
  {
   "cell_type": "markdown",
   "metadata": {},
   "source": [
    "Visualise the convolution weights"
   ]
  },
  {
   "cell_type": "code",
   "execution_count": 28,
   "metadata": {},
   "outputs": [
    {
     "name": "stdout",
     "output_type": "stream",
     "text": [
      "(5, 2, 1, 3)\n"
     ]
    },
    {
     "data": {
      "image/png": "[encoded data removed]",
      "text/plain": [
       "<Figure size 432x288 with 2 Axes>"
      ]
     },
     "metadata": {
      "needs_background": "light"
     },
     "output_type": "display_data"
    },
    {
     "data": {
      "image/png": "[encoded data removed]",
      "text/plain": [
       "<Figure size 432x288 with 2 Axes>"
      ]
     },
     "metadata": {
      "needs_background": "light"
     },
     "output_type": "display_data"
    },
    {
     "data": {
      "image/png": "[encoded data removed]",
      "text/plain": [
       "<Figure size 432x288 with 2 Axes>"
      ]
     },
     "metadata": {
      "needs_background": "light"
     },
     "output_type": "display_data"
    }
   ],
   "source": [
    "conv_layer = mod.layers[0]\n",
    "weights = conv_layer.get_weights()\n",
    "print(weights[0].shape)\n",
    "w = weights[0][:,:,0,:]\n",
    "for n in range(n_kernels):\n",
    "    plt.figure()\n",
    "    plt.imshow(w[:,:,n])\n",
    "    plt.colorbar()"
   ]
  },
  {
   "cell_type": "markdown",
   "metadata": {},
   "source": [
    "Visualise the weights into the last layer"
   ]
  },
  {
   "cell_type": "code",
   "execution_count": 29,
   "metadata": {},
   "outputs": [
    {
     "data": {
      "text/plain": [
       "<BarContainer object of 3 artists>"
      ]
     },
     "execution_count": 29,
     "metadata": {},
     "output_type": "execute_result"
    },
    {
     "data": {
      "image/png": "[encoded data removed]",
      "text/plain": [
       "<Figure size 432x288 with 1 Axes>"
      ]
     },
     "metadata": {
      "needs_background": "light"
     },
     "output_type": "display_data"
    }
   ],
   "source": [
    "out_layer = mod.layers[-1]\n",
    "w = out_layer.get_weights()[0]\n",
    "plt.bar(range(n_kernels),w.flatten())"
   ]
  },
  {
   "cell_type": "code",
   "execution_count": 38,
   "metadata": {},
   "outputs": [
    {
     "name": "stdout",
     "output_type": "stream",
     "text": [
      "[[ 0.  0.  0.  0.  0.  0.  0.  0.  0.  0.  0.  0.  0.  0.  0.  0.  0.  0.\n",
      "   0.  0.  0.  0.  0.  0.  0.  0.  0.  7. 12.  0.  0.  0.  0.  0.  0.  0.\n",
      "   0.  0.  0.  0.  0.  0.  0.  0.  0.  0.  0.  0.  0.  0.  0.  0.  0.  0.\n",
      "   0.  0.  0.  0.  0.  0.  0.  0.  0.  0.  0.  0.  0.  0.  0.  0.  0.  0.\n",
      "   0.  0.  0.  0.  0.  0.  0.  0.  0.  0.  0.  0.  0.  0.  0.  0.  0.  0.\n",
      "   0.  0.  0.  0.  0.  0.  0.  0.  0.  0.]\n",
      " [ 0.  0.  9.  0.  0.  0.  9.  0.  0.  0.  0.  0.  0.  0.  0.  0.  0.  0.\n",
      "   0.  0.  0.  0.  0.  0.  0.  0.  0.  0.  0.  0.  0.  0.  0.  0.  0.  0.\n",
      "   0.  0.  0.  0.  0.  0.  0.  0.  0.  0.  0.  0.  0.  0.  0.  0.  0.  0.\n",
      "   0.  0.  0.  0.  0.  0.  0.  0.  0.  0.  0.  0.  0.  0.  0.  0.  0.  0.\n",
      "   0.  0.  0.  0.  0.  0.  0.  0.  0.  0.  0.  0.  0.  0.  0.  0.  0.  0.\n",
      "   0.  0.  0.  0.  0.  0.  0.  0.  0.  0.]]\n",
      "(2, 100)\n"
     ]
    },
    {
     "data": {
      "text/plain": [
       "array([[0.30321068],\n",
       "       [0.6257887 ]], dtype=float32)"
      ]
     },
     "execution_count": 38,
     "metadata": {},
     "output_type": "execute_result"
    }
   ],
   "source": [
    "dummy_spec = np.zeros((2,n_bins))\n",
    "start_pos = np.random.choice(n_bins - max(glycine_shift))\n",
    "end_pos = start_pos + poss_shifts[class1_shift_probs.argmax()]\n",
    "dummy_spec[0,start_pos] = np.random.poisson(10)\n",
    "dummy_spec[0,end_pos] = np.random.poisson(10)\n",
    "\n",
    "start_pos = np.random.choice(n_bins - max(poss_shifts))\n",
    "dummy_spec[1,start_pos] = np.random.poisson(10)\n",
    "end_pos = start_pos + poss_shifts[class2_shift_probs.argmax()]\n",
    "dummy_spec[1,end_pos] = np.random.poisson(10)\n",
    "\n",
    "dummy_spec = add_noise(dummy_spec,n_noise=50)\n",
    "dummy_spec = normalise(dummy_spec)\n",
    "dummy_tensor = shift_spec_into_tensor(dummy_spec,shift=use_shifts)\n",
    "mod.predict(dummy_tensor)"
   ]
  },
  {
   "cell_type": "code",
   "execution_count": 39,
   "metadata": {},
   "outputs": [
    {
     "data": {
      "text/plain": [
       "<BarContainer object of 100 artists>"
      ]
     },
     "execution_count": 39,
     "metadata": {},
     "output_type": "execute_result"
    },
    {
     "data": {
      "image/png": "[encoded data removed]",
      "text/plain": [
       "<Figure size 432x288 with 1 Axes>"
      ]
     },
     "metadata": {
      "needs_background": "light"
     },
     "output_type": "display_data"
    }
   ],
   "source": [
    "plt.bar(range(n_bins),dummy_spec[0,:])"
   ]
  },
  {
   "cell_type": "markdown",
   "metadata": {},
   "source": [
    "Second model for comparison"
   ]
  },
  {
   "cell_type": "code",
   "execution_count": 40,
   "metadata": {},
   "outputs": [],
   "source": [
    "def generate_shifts_from_spec(spec, intensity_poiss = 20):\n",
    "    shift_bins = np.zeros(n_bins, np.double)\n",
    "    for peak, intensity in enumerate(spec):\n",
    "        for i in range(1,len(spec)-peak):\n",
    "            average_intensity = (intensity + spec[peak+i]) / 2.0\n",
    "            if average_intensity > 0 and intensity > 0 and spec[peak+i] > 0:\n",
    "                shift_bins[i] += np.random.poisson(intensity_poiss)\n",
    "                \n",
    "    return shift_bins"
   ]
  },
  {
   "cell_type": "code",
   "execution_count": 41,
   "metadata": {},
   "outputs": [
    {
     "name": "stdout",
     "output_type": "stream",
     "text": [
      "(400, 100)\n",
      "[[0. 0. 0. ... 0. 0. 0.]\n",
      " [0. 0. 0. ... 0. 0. 0.]\n",
      " [0. 0. 0. ... 0. 0. 0.]\n",
      " ...\n",
      " [0. 0. 0. ... 0. 0. 0.]\n",
      " [0. 0. 0. ... 0. 0. 0.]\n",
      " [0. 0. 0. ... 0. 0. 0.]]\n",
      "(400, 100)\n"
     ]
    }
   ],
   "source": [
    "data = []\n",
    "\n",
    "for n in range(0, n_in_class):\n",
    "    spec = generate_shift_spec(poss_shifts = glycine_shift,shift_probs=class1_shift_probs)\n",
    "    shifts = generate_shifts_from_spec(spec)\n",
    "    data.append(shifts)\n",
    "    \n",
    "for n in range(n_in_class, n_in_class*2):\n",
    "    spec = generate_shift_spec(poss_shifts = poss_shifts, shift_probs=class2_shift_probs)\n",
    "    shifts = generate_shifts_from_spec(spec)\n",
    "    data.append(shifts)\n",
    "\n",
    "X_shifts = np.array(data)\n",
    "print(X_shifts.shape)\n",
    "\n",
    "# Compute the average total signal per spec and then add noise up to a proportion of that\n",
    "mean_sig = ((X_shifts.sum(axis=1)).mean())\n",
    "n_noise = int(mean_sig/4)\n",
    "X_shifts = add_noise(X_shifts,n_noise=n_noise)\n",
    "X_shifts = normalise(X_shifts)"
   ]
  },
  {
   "cell_type": "code",
   "execution_count": 42,
   "metadata": {},
   "outputs": [
    {
     "name": "stdout",
     "output_type": "stream",
     "text": [
      "(400, 100)\n",
      "_________________________________________________________________\n",
      "Layer (type)                 Output Shape              Param #   \n",
      "=================================================================\n",
      "dense_12 (Dense)             (None, 50)                5050      \n",
      "_________________________________________________________________\n",
      "dense_13 (Dense)             (None, 10)                510       \n",
      "_________________________________________________________________\n",
      "dense_14 (Dense)             (None, 1)                 11        \n",
      "=================================================================\n",
      "Total params: 5,571\n",
      "Trainable params: 5,571\n",
      "Non-trainable params: 0\n",
      "_________________________________________________________________\n"
     ]
    },
    {
     "data": {
      "text/plain": [
       "[<matplotlib.lines.Line2D at 0x217887c3be0>]"
      ]
     },
     "execution_count": 42,
     "metadata": {},
     "output_type": "execute_result"
    },
    {
     "data": {
      "image/png": "[encoded data removed]",
      "text/plain": [
       "<Figure size 432x288 with 1 Axes>"
      ]
     },
     "metadata": {
      "needs_background": "light"
     },
     "output_type": "display_data"
    }
   ],
   "source": [
    "N,_ = X_shifts.shape\n",
    "shuffle_order = np.random.permutation(N)\n",
    "labels = [0 for i in range(n_in_class)] + [1 for i in range(n_in_class)]\n",
    "labels = np.array(labels)[:,None]\n",
    "print(X_shifts.shape)\n",
    "epochs = 200\n",
    "mod = baseline_model()\n",
    "mod.summary()\n",
    "history = mod.fit(X_shifts[shuffle_order,:],labels[shuffle_order],epochs=epochs,validation_split=0.2,verbose=0)\n",
    "\n",
    "plt.plot(np.arange(epochs),history.history['val_acc'],'k')\n",
    "plt.plot(np.arange(epochs),history.history['acc'],'r')"
   ]
  },
  {
   "cell_type": "code",
   "execution_count": 43,
   "metadata": {},
   "outputs": [
    {
     "data": {
      "text/plain": [
       "[<matplotlib.lines.Line2D at 0x21788a94ac8>]"
      ]
     },
     "execution_count": 43,
     "metadata": {},
     "output_type": "execute_result"
    },
    {
     "data": {
      "image/png": "[encoded data removed]",
      "text/plain": [
       "<Figure size 432x288 with 1 Axes>"
      ]
     },
     "metadata": {
      "needs_background": "light"
     },
     "output_type": "display_data"
    },
    {
     "data": {
      "image/png": "[encoded data removed]",
      "text/plain": [
       "<Figure size 432x288 with 1 Axes>"
      ]
     },
     "metadata": {
      "needs_background": "light"
     },
     "output_type": "display_data"
    }
   ],
   "source": [
    "extra_epochs = 100\n",
    "history = mod.fit(X_shifts[shuffle_order,:],labels[shuffle_order],epochs=extra_epochs,validation_split=0.2,verbose=0)\n",
    "plt.plot(np.arange(extra_epochs),history.history['val_acc'],'k')\n",
    "plt.plot(np.arange(extra_epochs),history.history['acc'],'r')\n",
    "plt.figure()\n",
    "plt.plot(np.arange(extra_epochs),history.history['val_loss'],'k')\n",
    "plt.plot(np.arange(extra_epochs),history.history['loss'],'r')"
   ]
  },
  {
   "cell_type": "code",
   "execution_count": 44,
   "metadata": {},
   "outputs": [
    {
     "name": "stdout",
     "output_type": "stream",
     "text": [
      "(2, 100)\n",
      "[[ 0. 24.  0.  0.  0.  0.  0.  0.  0.  0.  0.  0.  0.  0.  0.  0.  0.  0.\n",
      "   0.  0.  0.  0.  0.  0.  0.  0.  0.  0.  0.  0.  0.  0.  0.  0.  0.  0.\n",
      "   0.  0.  0.  0.  0.  0.  0.  0.  0.  0.  0.  0.  0.  0.  0.  0.  0.  0.\n",
      "   0.  0.  0.  0.  0.  0.  0.  0.  0.  0.  0.  0.  0.  0.  0.  0.  0.  0.\n",
      "   0.  0.  0.  0.  0.  0.  0.  0.  0.  0.  0.  0.  0.  0.  0.  0.  0.  0.\n",
      "   0.  0.  0.  0.  0.  0.  0.  0.  0.  0.]\n",
      " [ 0.  0.  0.  0. 29.  0.  0.  0.  0.  0.  0.  0.  0.  0.  0.  0.  0.  0.\n",
      "   0.  0.  0.  0.  0.  0.  0.  0.  0.  0.  0.  0.  0.  0.  0.  0.  0.  0.\n",
      "   0.  0.  0.  0.  0.  0.  0.  0.  0.  0.  0.  0.  0.  0.  0.  0.  0.  0.\n",
      "   0.  0.  0.  0.  0.  0.  0.  0.  0.  0.  0.  0.  0.  0.  0.  0.  0.  0.\n",
      "   0.  0.  0.  0.  0.  0.  0.  0.  0.  0.  0.  0.  0.  0.  0.  0.  0.  0.\n",
      "   0.  0.  0.  0.  0.  0.  0.  0.  0.  0.]]\n",
      "(2, 100)\n"
     ]
    },
    {
     "data": {
      "text/plain": [
       "array([[7.002519e-05],\n",
       "       [1.000000e+00]], dtype=float32)"
      ]
     },
     "execution_count": 44,
     "metadata": {},
     "output_type": "execute_result"
    }
   ],
   "source": [
    "X = []\n",
    "\n",
    "#with glycine shifts\n",
    "dummy_spec = np.zeros(n_bins)\n",
    "start_pos = np.random.choice(n_bins - max(glycine_shift))\n",
    "dummy_spec[start_pos] = np.random.poisson(10)\n",
    "end_pos = start_pos + poss_shifts[class1_shift_probs.argmax()]\n",
    "dummy_spec[end_pos] = np.random.poisson(10)\n",
    "\n",
    "X.append(generate_shifts_from_spec(dummy_spec))\n",
    "\n",
    "# with other shifts\n",
    "dummy_spec = np.zeros(n_bins)\n",
    "start_pos = np.random.choice(n_bins - max(poss_shifts))\n",
    "dummy_spec[start_pos] = np.random.poisson(10)\n",
    "end_pos = start_pos + poss_shifts[class2_shift_probs.argmax()]\n",
    "dummy_spec[end_pos] = np.random.poisson(10)\n",
    "\n",
    "X.append(generate_shifts_from_spec(dummy_spec))\n",
    "dummy_shifts = np.array(X)\n",
    "\n",
    "print(dummy_shifts.shape)\n",
    "\n",
    "dummy_shifts = add_noise(dummy_shifts,n_noise=50)\n",
    "dummy_shifts = normalise(dummy_shifts)\n",
    "mod.predict(dummy_shifts)"
   ]
  },
  {
   "cell_type": "code",
   "execution_count": 51,
   "metadata": {},
   "outputs": [
    {
     "data": {
      "text/plain": [
       "<BarContainer object of 100 artists>"
      ]
     },
     "execution_count": 51,
     "metadata": {},
     "output_type": "execute_result"
    },
    {
     "data": {
      "image/png": "[encoded data removed]",
      "text/plain": [
       "<Figure size 432x288 with 1 Axes>"
      ]
     },
     "metadata": {
      "needs_background": "light"
     },
     "output_type": "display_data"
    }
   ],
   "source": [
    "plt.bar(range(n_bins),dummy_shifts[1,:])"
   ]
  },
  {
   "cell_type": "code",
   "execution_count": null,
   "metadata": {},
   "outputs": [],
   "source": []
  }
 ],
 "metadata": {
  "kernelspec": {
   "display_name": "Python 3",
   "language": "python",
   "name": "python3"
  },
  "language_info": {
   "codemirror_mode": {
    "name": "ipython",
    "version": 3
   },
   "file_extension": ".py",
   "mimetype": "text/x-python",
   "name": "python",
   "nbconvert_exporter": "python",
   "pygments_lexer": "ipython3",
   "version": "3.6.6"
  }
 },
 "nbformat": 4,
 "nbformat_minor": 2
}

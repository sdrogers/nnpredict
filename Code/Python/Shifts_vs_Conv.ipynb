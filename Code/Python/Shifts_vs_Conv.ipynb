{
 "cells": [
  {
   "cell_type": "code",
   "execution_count": 41,
   "metadata": {},
   "outputs": [],
   "source": [
    "import os\n",
    "import numpy as np\n",
    "from matplotlib import pylab as plt\n",
    "\n",
    "import pandas as pd\n",
    "import math\n",
    "import random\n",
    "from sklearn.metrics import roc_auc_score, f1_score\n",
    "from functools import reduce\n",
    "\n",
    "import statistics\n",
    "from scipy.stats import wilcoxon\n",
    "plt.rcParams['figure.figsize'] = (8,6)"
   ]
  },
  {
   "cell_type": "code",
   "execution_count": 2,
   "metadata": {},
   "outputs": [],
   "source": [
    "def build_training_and_test_set(has_substructure_path):\n",
    "    substructure = np.loadtxt(has_substructure_path, np.int)\n",
    "    all_ones = np.where(substructure == 1)\n",
    "    all_zeros = np.where(substructure == 0)\n",
    "\n",
    "    number_of_training_set = int(len(all_ones[0]) * 0.7)\n",
    "    \n",
    "    training_random_ones = random.sample(list(all_ones[0]), number_of_training_set)\n",
    "    training_random_zeros = random.sample(list(all_zeros[0]), number_of_training_set)\n",
    "\n",
    "    test_random_ones = [ones for ones in all_ones[0] if ones not in training_random_ones]\n",
    "    test_random_zeros = [zeros for zeros in all_zeros[0] if zeros not in training_random_zeros]\n",
    "    test_random_zeros = random.sample(test_random_zeros, len(test_random_ones))\n",
    "    \n",
    "    return training_random_ones, training_random_zeros, test_random_ones, test_random_zeros\n",
    "    \n",
    "def get_list_of_ids(dataset):\n",
    "    return [\"GNPS_ALL_\" + str(index+1) for index in dataset]"
   ]
  },
  {
   "cell_type": "markdown",
   "metadata": {},
   "source": [
    "Building training and test dataset"
   ]
  },
  {
   "cell_type": "code",
   "execution_count": 3,
   "metadata": {},
   "outputs": [],
   "source": [
    "def load_training_spec(spec_path, training_set):\n",
    "    file_list = os.listdir(spec_path)\n",
    "    \n",
    "    filtered_file_list = [file for file in file_list if file[:-13] in training_set]\n",
    "    filtered_name_list = [filename[:-13] for filename in filtered_file_list]\n",
    "\n",
    "    intensities = pd.DataFrame(0.0, index = filtered_name_list, columns=range(1000), dtype=float)\n",
    "\n",
    "    for file in filtered_file_list:\n",
    "        filepath = os.path.join(spec_path, file)\n",
    "        mol_name = file[:-13]\n",
    "        with open(filepath, 'r') as f:\n",
    "            for index, line in enumerate(f):\n",
    "                mass, intensity = line.split(\" \")\n",
    "                if not math.isnan(float(intensity)):\n",
    "                    intensities.at[mol_name, int(mass)-1] = float(intensity)\n",
    "            \n",
    "    return intensities\n",
    "\n",
    "def load_test_spec(spec_path, test_set):\n",
    "    file_list = os.listdir(spec_path)\n",
    "    \n",
    "    filtered_file_list = [file for file in file_list if file[:-13] in test_set]\n",
    "    filtered_name_list = [filename[:-13] for filename in filtered_file_list]\n",
    "\n",
    "    test_intensities = pd.DataFrame(0.0, index = filtered_name_list, columns=range(1000), dtype=float)\n",
    "\n",
    "    for file in filtered_file_list:\n",
    "        filepath = os.path.join(spec_path, file)\n",
    "        mol_name = file[:-13]\n",
    "        with open(filepath, 'r') as f:\n",
    "            for index, line in enumerate(f):\n",
    "                mass, intensity = line.split(\" \")\n",
    "                if not math.isnan(float(intensity)):\n",
    "                    test_intensities.at[mol_name, int(mass)-1] = float(intensity)\n",
    "            \n",
    "    return test_intensities"
   ]
  },
  {
   "cell_type": "code",
   "execution_count": 4,
   "metadata": {},
   "outputs": [],
   "source": [
    "def load_has_substructure(content, intensities):\n",
    "    has_substructure_truth_values = []\n",
    "    for index in intensities.index:\n",
    "        has_substructure_truth_values.append(int(content[int(index.split('_')[2]) - 1][:-1]))\n",
    "        \n",
    "    return has_substructure_truth_values"
   ]
  },
  {
   "cell_type": "markdown",
   "metadata": {},
   "source": [
    "Make a simple keras model to classify this data"
   ]
  },
  {
   "cell_type": "code",
   "execution_count": 5,
   "metadata": {},
   "outputs": [
    {
     "name": "stderr",
     "output_type": "stream",
     "text": [
      "Using TensorFlow backend.\n"
     ]
    }
   ],
   "source": [
    "from keras.layers import Input, Dense\n",
    "from keras.models import Model,Sequential\n",
    "from keras.wrappers.scikit_learn import KerasClassifier\n",
    "from sklearn.model_selection import cross_val_score\n",
    "from sklearn.model_selection import StratifiedKFold\n",
    "from keras.optimizers import SGD\n",
    "\n",
    "def baseline_model(input_to_network):\n",
    "    class_model = Sequential()\n",
    "    class_model.add(Dense(500, input_dim=input_to_network.shape[1], kernel_initializer='normal', activation='relu'))\n",
    "    class_model.add(Dense(200,kernel_initializer='normal',activation = 'relu'))\n",
    "    class_model.add(Dense(100,kernel_initializer='normal',activation = 'relu'))\n",
    "    class_model.add(Dense(50,kernel_initializer='normal',activation = 'relu'))\n",
    "    class_model.add(Dense(1,kernel_initializer='normal',activation = 'sigmoid'))\n",
    "    class_model.compile(loss='binary_crossentropy', optimizer='adam', metrics=['accuracy'])\n",
    "    return class_model"
   ]
  },
  {
   "cell_type": "markdown",
   "metadata": {},
   "source": [
    "Following model is a convolutional model for this data"
   ]
  },
  {
   "cell_type": "code",
   "execution_count": 6,
   "metadata": {},
   "outputs": [],
   "source": [
    "def shift_spec_into_tensor(spec_array,shift=[10,20]):\n",
    "    n_spec,n_bins = spec_array.shape\n",
    "    spec_tensor = np.zeros((n_spec,n_bins,len(shift)+1),np.double)\n",
    "    for i in range(n_spec):\n",
    "        spec = spec_array[i,:]\n",
    "        shift_spec = np.copy(spec)\n",
    "        for s in shift:\n",
    "            shift_spec = np.vstack((shift_spec,np.hstack((spec[s:],np.zeros(s)))))\n",
    "        spec_tensor[i,:,:] = shift_spec.T\n",
    "    return spec_tensor[:,:,:,None]"
   ]
  },
  {
   "cell_type": "code",
   "execution_count": 7,
   "metadata": {},
   "outputs": [],
   "source": [
    "def add_noise(X,n_noise = 5000):\n",
    "    N,M = X.shape\n",
    "    for n in range(N):\n",
    "        X[n,:] += np.random.multinomial(np.random.poisson(n_noise),[1.0/M for m in range(M)])\n",
    "    return X\n",
    "def normalise(X):\n",
    "    for i,row in enumerate(X):\n",
    "        tot = row.sum()\n",
    "        if tot > 0:\n",
    "            for j in range(len(row)):\n",
    "                X[i,j] = (1.0*row[j])/tot\n",
    "    return X"
   ]
  },
  {
   "cell_type": "markdown",
   "metadata": {},
   "source": [
    "- Generate data for the two classes, add some noise and normalise\n",
    "- Note that `use_shifts` is what the model uses.\n",
    "- We don't need all the possible shifts to be in `use_shifts` as long as the kernel has sufficient width"
   ]
  },
  {
   "cell_type": "code",
   "execution_count": 8,
   "metadata": {},
   "outputs": [],
   "source": [
    "from keras.layers import Conv2D,Flatten,MaxPooling2D,AveragePooling2D\n",
    "def conv_model(n_bins = 1000, n_kernels = 2,kernel_width=1,use_shifts=[15]):\n",
    "    class_model = Sequential()\n",
    "    input_shape = (n_bins,len(use_shifts)+1,1)\n",
    "    n_kernels = n_kernels\n",
    "    \n",
    "    pool_width = n_bins - (kernel_width+1)\n",
    "    pool_size = (pool_width,1)\n",
    "    \n",
    "    kernel_size = (kernel_width,len(use_shifts)+1)\n",
    "    class_model.add(Conv2D(n_kernels, input_shape=input_shape, \n",
    "                           kernel_initializer='normal', activation='relu',strides=1,\n",
    "                          kernel_size = kernel_size))\n",
    "\n",
    "    class_model.add(MaxPooling2D(pool_size = pool_size))\n",
    "    class_model.add(Flatten())\n",
    "    class_model.add(Dense(1,kernel_initializer='normal',activation = 'sigmoid'))\n",
    "    class_model.compile(loss='binary_crossentropy', optimizer='adam', metrics=['accuracy'])\n",
    "    return class_model\n"
   ]
  },
  {
   "cell_type": "markdown",
   "metadata": {},
   "source": [
    "Second model for comparison"
   ]
  },
  {
   "cell_type": "code",
   "execution_count": 9,
   "metadata": {},
   "outputs": [],
   "source": [
    "def calc_peak_differences(spec):\n",
    "    non_zero_peaks = list(np.where(spec>0)[0])\n",
    "    peak_differences = [(abs(i-j), (spec[i]+spec[j]/2.0)) for i in non_zero_peaks for j in non_zero_peaks if i != j and j > i]\n",
    "    \n",
    "    return peak_differences"
   ]
  },
  {
   "cell_type": "code",
   "execution_count": 10,
   "metadata": {},
   "outputs": [],
   "source": [
    "def load_shift_bins(intensities):\n",
    "    shift_bins = np.zeros(intensities.shape, np.double)\n",
    "\n",
    "    for index, spec in enumerate(intensities.values):\n",
    "        peak_differences = calc_peak_differences(spec)\n",
    "        for shift, average_intensity in peak_differences:\n",
    "            shift_bins[index, shift - 1] += average_intensity\n",
    "\n",
    "    return shift_bins"
   ]
  },
  {
   "cell_type": "code",
   "execution_count": 11,
   "metadata": {},
   "outputs": [],
   "source": [
    "def initialise_training_test_set(has_substruct_path):\n",
    "    training_random_ones, training_random_zeros, test_random_ones, test_random_zeros = build_training_and_test_set(has_substruct_path)\n",
    "    training_random_ones_id = get_list_of_ids(training_random_ones)\n",
    "    training_random_zeros_id = get_list_of_ids(training_random_zeros)\n",
    "    training_set = training_random_ones_id + training_random_zeros_id\n",
    "\n",
    "    test_random_ones_id = get_list_of_ids(test_random_ones)\n",
    "    test_random_zeros_id = get_list_of_ids(test_random_zeros)\n",
    "    test_set = test_random_ones_id + test_random_zeros_id\n",
    "    return training_set, test_set\n",
    "\n",
    "def train_conv_diff_splits(path, name, has_substruct_dataset, training_set, test_set, shift, splits=10):\n",
    "    filtered_dataset_dir = \"G:\\\\Dev\\\\Data\\\\MSMS-NIST\\\\Python Filtered\"\n",
    "    epochs = 100\n",
    "    path = path + name\n",
    "    n_kernels = 3\n",
    "    kernel_width = 5\n",
    "    truth_values = []\n",
    "    test_truth_values = []\n",
    "    aucs = []\n",
    "    f1_scores = []\n",
    "\n",
    "    with open(has_substruct_dataset, 'r') as f:\n",
    "        content = f.readlines()\n",
    "\n",
    "    for i in range(splits):\n",
    "        intensities = load_training_spec(filtered_dataset_dir, training_set)\n",
    "        intensities = intensities.reindex(index=intensities.index.to_series().str.rsplit('_').str[-1].astype(int).sort_values().index)\n",
    "\n",
    "        test_intensities = load_test_spec(filtered_dataset_dir, test_set)\n",
    "        test_intensities = test_intensities.reindex(index=test_intensities.index.to_series().str.rsplit('_').str[-1].astype(int).sort_values().index)\n",
    "\n",
    "        truth_values = load_has_substructure(content, intensities)\n",
    "        test_truth_values = load_has_substructure(content, test_intensities)\n",
    "\n",
    "        X = intensities.values\n",
    "        N,M = X.shape\n",
    "        labels = truth_values\n",
    "        labels = np.array(labels)[:,None]\n",
    "        test_labels = test_truth_values\n",
    "        test_labels = np.array(test_labels)[:,None]\n",
    "\n",
    "        use_shifts = np.asarray([shift])\n",
    "\n",
    "        X_tensor = shift_spec_into_tensor(X,shift=use_shifts)\n",
    "        print(X_tensor.shape)\n",
    "\n",
    "        mod = conv_model(n_kernels = n_kernels, kernel_width=kernel_width, use_shifts=use_shifts)\n",
    "        mod.fit(X_tensor,labels,epochs=epochs,validation_split=0.2,verbose=0)\n",
    "\n",
    "        test_tensor = shift_spec_into_tensor(test_intensities.values,shift=use_shifts)\n",
    "        predicted = mod.predict(test_tensor)\n",
    "        prediction = np.zeros((predicted.shape))\n",
    "        prediction[predicted > 0.5] = 1\n",
    "\n",
    "        auc = roc_auc_score(test_labels, predicted)\n",
    "        f1 = f1_score(test_labels, prediction)\n",
    "    \n",
    "        aucs.append((i, auc))\n",
    "        f1_scores.append((i, f1))\n",
    "    \n",
    "    with open(path + \"AUC.txt\", 'w') as f:\n",
    "        for i, auc in aucs:\n",
    "            f.write(str(auc) + \"\\n\")\n",
    "    \n",
    "    with open(path + \"F1.txt\", 'w') as f:\n",
    "        for i, f1 in f1_scores:\n",
    "            f.write(str(f1) + \"\\n\")\n",
    "        \n",
    "def train_shifts_diff_splits(path, name, has_substruct_dataset, training_set, test_set, splits=10):\n",
    "    filtered_dataset_dir = \"G:\\\\Dev\\\\Data\\\\MSMS-NIST\\\\Python Filtered\"\n",
    "    epochs = 100\n",
    "    path = path + name\n",
    "    truth_values = []\n",
    "    test_truth_values = []\n",
    "    aucs = []\n",
    "    f1_scores = []\n",
    "    \n",
    "    with open(has_substruct_dataset, 'r') as f:\n",
    "        content = f.readlines()\n",
    "\n",
    "    for i in range(splits):\n",
    "        intensities = load_training_spec(filtered_dataset_dir, training_set)\n",
    "        intensities = intensities.reindex(index=intensities.index.to_series().str.rsplit('_').str[-1].astype(int).sort_values().index)\n",
    "\n",
    "        test_intensities = load_test_spec(filtered_dataset_dir, test_set)\n",
    "        test_intensities = test_intensities.reindex(index=test_intensities.index.to_series().str.rsplit('_').str[-1].astype(int).sort_values().index)\n",
    "\n",
    "        truth_values = load_has_substructure(content, intensities)\n",
    "        test_truth_values = load_has_substructure(content, test_intensities)\n",
    "\n",
    "        X = intensities.values\n",
    "        N,M = X.shape\n",
    "        labels = truth_values\n",
    "        labels = np.array(labels)[:,None]\n",
    "        test_labels = test_truth_values\n",
    "        test_labels = np.array(test_labels)[:,None]\n",
    "\n",
    "        shift_bins = load_shift_bins(intensities)\n",
    "\n",
    "        X_shifts = normalise(shift_bins)\n",
    "        print(X_shifts.shape)\n",
    "\n",
    "        mod = baseline_model(X_shifts)\n",
    "        mod.fit(X_shifts,labels,epochs=epochs,validation_split=0.2,verbose=0)\n",
    "\n",
    "        test_shift_bins = load_shift_bins(test_intensities)\n",
    "        X_test_shifts = normalise(test_shift_bins)\n",
    "        print(X_test_shifts.shape)\n",
    "\n",
    "        predicted = mod.predict(X_test_shifts)\n",
    "        prediction = np.zeros((predicted.shape))\n",
    "        prediction[predicted > 0.5] = 1\n",
    "\n",
    "        auc = roc_auc_score(test_labels, predicted)\n",
    "        f1 = f1_score(test_labels, prediction)\n",
    "        \n",
    "        aucs.append((i, auc))\n",
    "        f1_scores.append((i, f1))\n",
    "    \n",
    "    with open(path + \"AUC.txt\", 'w') as f:\n",
    "        for i, auc in aucs:\n",
    "            f.write(str(auc) + \"\\n\")\n",
    "    \n",
    "    with open(path + \"F1.txt\", 'w') as f:\n",
    "        for i, f1 in f1_scores:\n",
    "            f.write(str(f1) + \"\\n\")\n",
    "        "
   ]
  },
  {
   "cell_type": "code",
   "execution_count": 12,
   "metadata": {},
   "outputs": [
    {
     "name": "stdout",
     "output_type": "stream",
     "text": [
      "[('Alanine', 71), ('Arginine', 156), ('Asparagine', 114), ('Aspartic Acid', 115), ('Cysteine', 103), ('Glutamic Acid', 129), ('Glutamine', 128), ('Glycine', 57), ('Histidine', 137), ('Isoleucine', 113), ('Leucine', 113), ('Lysine', 128), ('Methionine', 131), ('Phenylalanine', 147), ('Proline', 97), ('Serine', 87), ('Threonine', 101), ('Tryptophan', 186), ('Tyrosine', 163), ('Valine', 99)]\n"
     ]
    }
   ],
   "source": [
    "amino_acid_path = \"G:\\\\Dev\\\\Data\\\\Fragment Masses.txt\"\n",
    "amino_acids_with_shifts = []\n",
    "\n",
    "with open(amino_acid_path, 'r') as f:\n",
    "    for line in f:\n",
    "        amino_acid, shift = line.split(\", \")\n",
    "        amino_acids_with_shifts.append((amino_acid, int(float(shift[:-1]))))\n",
    "\n",
    "print(amino_acids_with_shifts)"
   ]
  },
  {
   "cell_type": "code",
   "execution_count": 13,
   "metadata": {
    "scrolled": true
   },
   "outputs": [
    {
     "name": "stdout",
     "output_type": "stream",
     "text": [
      "(872, 1000)\n",
      "(376, 1000)\n",
      "(872, 1000)\n",
      "(376, 1000)\n",
      "(872, 1000)\n",
      "(376, 1000)\n",
      "(872, 1000)\n",
      "(376, 1000)\n",
      "(872, 1000)\n",
      "(376, 1000)\n",
      "(872, 1000)\n",
      "(376, 1000)\n",
      "(872, 1000)\n",
      "(376, 1000)\n",
      "(872, 1000)\n",
      "(376, 1000)\n",
      "(872, 1000)\n",
      "(376, 1000)\n",
      "(872, 1000)\n",
      "(376, 1000)\n",
      "(872, 1000, 2, 1)\n",
      "(872, 1000, 2, 1)\n",
      "(872, 1000, 2, 1)\n",
      "(872, 1000, 2, 1)\n",
      "(872, 1000, 2, 1)\n",
      "(872, 1000, 2, 1)\n",
      "(872, 1000, 2, 1)\n",
      "(872, 1000, 2, 1)\n",
      "(872, 1000, 2, 1)\n",
      "(872, 1000, 2, 1)\n",
      "(610, 1000)\n",
      "(264, 1000)\n",
      "(610, 1000)\n",
      "(264, 1000)\n",
      "(610, 1000)\n",
      "(264, 1000)\n",
      "(610, 1000)\n",
      "(264, 1000)\n",
      "(610, 1000)\n",
      "(264, 1000)\n",
      "(610, 1000)\n",
      "(264, 1000)\n",
      "(610, 1000)\n",
      "(264, 1000)\n",
      "(610, 1000)\n",
      "(264, 1000)\n",
      "(610, 1000)\n",
      "(264, 1000)\n",
      "(610, 1000)\n",
      "(264, 1000)\n",
      "(610, 1000, 2, 1)\n",
      "(610, 1000, 2, 1)\n",
      "(610, 1000, 2, 1)\n",
      "(610, 1000, 2, 1)\n"
     ]
    },
    {
     "name": "stderr",
     "output_type": "stream",
     "text": [
      "C:\\Users\\CherWei\\Anaconda3\\envs\\tensorflow\\lib\\site-packages\\sklearn\\metrics\\classification.py:1143: UndefinedMetricWarning: F-score is ill-defined and being set to 0.0 due to no predicted samples.\n",
      "  'precision', 'predicted', average, warn_for)\n"
     ]
    },
    {
     "name": "stdout",
     "output_type": "stream",
     "text": [
      "(610, 1000, 2, 1)\n",
      "(610, 1000, 2, 1)\n",
      "(610, 1000, 2, 1)\n",
      "(610, 1000, 2, 1)\n"
     ]
    },
    {
     "name": "stderr",
     "output_type": "stream",
     "text": [
      "C:\\Users\\CherWei\\Anaconda3\\envs\\tensorflow\\lib\\site-packages\\sklearn\\metrics\\classification.py:1143: UndefinedMetricWarning: F-score is ill-defined and being set to 0.0 due to no predicted samples.\n",
      "  'precision', 'predicted', average, warn_for)\n"
     ]
    },
    {
     "name": "stdout",
     "output_type": "stream",
     "text": [
      "(610, 1000, 2, 1)\n",
      "(610, 1000, 2, 1)\n",
      "(644, 1000)\n",
      "(276, 1000)\n",
      "(644, 1000)\n",
      "(276, 1000)\n",
      "(644, 1000)\n",
      "(276, 1000)\n",
      "(644, 1000)\n",
      "(276, 1000)\n",
      "(644, 1000)\n",
      "(276, 1000)\n",
      "(644, 1000)\n",
      "(276, 1000)\n",
      "(644, 1000)\n",
      "(276, 1000)\n",
      "(644, 1000)\n",
      "(276, 1000)\n",
      "(644, 1000)\n",
      "(276, 1000)\n",
      "(644, 1000)\n",
      "(276, 1000)\n",
      "(644, 1000, 2, 1)\n",
      "(644, 1000, 2, 1)\n",
      "(644, 1000, 2, 1)\n",
      "(644, 1000, 2, 1)\n",
      "(644, 1000, 2, 1)\n",
      "(644, 1000, 2, 1)\n",
      "(644, 1000, 2, 1)\n",
      "(644, 1000, 2, 1)\n",
      "(644, 1000, 2, 1)\n"
     ]
    },
    {
     "name": "stderr",
     "output_type": "stream",
     "text": [
      "C:\\Users\\CherWei\\Anaconda3\\envs\\tensorflow\\lib\\site-packages\\sklearn\\metrics\\classification.py:1143: UndefinedMetricWarning: F-score is ill-defined and being set to 0.0 due to no predicted samples.\n",
      "  'precision', 'predicted', average, warn_for)\n"
     ]
    },
    {
     "name": "stdout",
     "output_type": "stream",
     "text": [
      "(644, 1000, 2, 1)\n",
      "(702, 1000)\n",
      "(302, 1000)\n",
      "(702, 1000)\n",
      "(302, 1000)\n",
      "(702, 1000)\n",
      "(302, 1000)\n",
      "(702, 1000)\n",
      "(302, 1000)\n",
      "(702, 1000)\n",
      "(302, 1000)\n",
      "(702, 1000)\n",
      "(302, 1000)\n",
      "(702, 1000)\n",
      "(302, 1000)\n",
      "(702, 1000)\n",
      "(302, 1000)\n",
      "(702, 1000)\n",
      "(302, 1000)\n",
      "(702, 1000)\n",
      "(302, 1000)\n",
      "(702, 1000, 2, 1)\n",
      "(702, 1000, 2, 1)\n"
     ]
    },
    {
     "name": "stderr",
     "output_type": "stream",
     "text": [
      "C:\\Users\\CherWei\\Anaconda3\\envs\\tensorflow\\lib\\site-packages\\sklearn\\metrics\\classification.py:1143: UndefinedMetricWarning: F-score is ill-defined and being set to 0.0 due to no predicted samples.\n",
      "  'precision', 'predicted', average, warn_for)\n"
     ]
    },
    {
     "name": "stdout",
     "output_type": "stream",
     "text": [
      "(702, 1000, 2, 1)\n",
      "(702, 1000, 2, 1)\n",
      "(702, 1000, 2, 1)\n",
      "(702, 1000, 2, 1)\n",
      "(702, 1000, 2, 1)\n",
      "(702, 1000, 2, 1)\n"
     ]
    },
    {
     "name": "stderr",
     "output_type": "stream",
     "text": [
      "C:\\Users\\CherWei\\Anaconda3\\envs\\tensorflow\\lib\\site-packages\\sklearn\\metrics\\classification.py:1143: UndefinedMetricWarning: F-score is ill-defined and being set to 0.0 due to no predicted samples.\n",
      "  'precision', 'predicted', average, warn_for)\n"
     ]
    },
    {
     "name": "stdout",
     "output_type": "stream",
     "text": [
      "(702, 1000, 2, 1)\n",
      "(702, 1000, 2, 1)\n",
      "(728, 1000)\n",
      "(314, 1000)\n",
      "(728, 1000)\n",
      "(314, 1000)\n",
      "(728, 1000)\n",
      "(314, 1000)\n",
      "(728, 1000)\n",
      "(314, 1000)\n",
      "(728, 1000)\n",
      "(314, 1000)\n",
      "(728, 1000)\n",
      "(314, 1000)\n",
      "(728, 1000)\n",
      "(314, 1000)\n",
      "(728, 1000)\n",
      "(314, 1000)\n",
      "(728, 1000)\n",
      "(314, 1000)\n",
      "(728, 1000)\n",
      "(314, 1000)\n",
      "(728, 1000, 2, 1)\n",
      "(728, 1000, 2, 1)\n"
     ]
    },
    {
     "name": "stderr",
     "output_type": "stream",
     "text": [
      "C:\\Users\\CherWei\\Anaconda3\\envs\\tensorflow\\lib\\site-packages\\sklearn\\metrics\\classification.py:1143: UndefinedMetricWarning: F-score is ill-defined and being set to 0.0 due to no predicted samples.\n",
      "  'precision', 'predicted', average, warn_for)\n"
     ]
    },
    {
     "name": "stdout",
     "output_type": "stream",
     "text": [
      "(728, 1000, 2, 1)\n",
      "(728, 1000, 2, 1)\n",
      "(728, 1000, 2, 1)\n",
      "(728, 1000, 2, 1)\n",
      "(728, 1000, 2, 1)\n",
      "(728, 1000, 2, 1)\n"
     ]
    },
    {
     "name": "stderr",
     "output_type": "stream",
     "text": [
      "C:\\Users\\CherWei\\Anaconda3\\envs\\tensorflow\\lib\\site-packages\\sklearn\\metrics\\classification.py:1143: UndefinedMetricWarning: F-score is ill-defined and being set to 0.0 due to no predicted samples.\n",
      "  'precision', 'predicted', average, warn_for)\n"
     ]
    },
    {
     "name": "stdout",
     "output_type": "stream",
     "text": [
      "(728, 1000, 2, 1)\n",
      "(728, 1000, 2, 1)\n"
     ]
    },
    {
     "name": "stderr",
     "output_type": "stream",
     "text": [
      "C:\\Users\\CherWei\\Anaconda3\\envs\\tensorflow\\lib\\site-packages\\sklearn\\metrics\\classification.py:1143: UndefinedMetricWarning: F-score is ill-defined and being set to 0.0 due to no predicted samples.\n",
      "  'precision', 'predicted', average, warn_for)\n"
     ]
    },
    {
     "name": "stdout",
     "output_type": "stream",
     "text": [
      "(716, 1000)\n",
      "(308, 1000)\n",
      "(716, 1000)\n",
      "(308, 1000)\n",
      "(716, 1000)\n",
      "(308, 1000)\n",
      "(716, 1000)\n",
      "(308, 1000)\n",
      "(716, 1000)\n",
      "(308, 1000)\n",
      "(716, 1000)\n",
      "(308, 1000)\n",
      "(716, 1000)\n",
      "(308, 1000)\n",
      "(716, 1000)\n",
      "(308, 1000)\n",
      "(716, 1000)\n",
      "(308, 1000)\n",
      "(716, 1000)\n",
      "(308, 1000)\n",
      "(716, 1000, 2, 1)\n",
      "(716, 1000, 2, 1)\n",
      "(716, 1000, 2, 1)\n"
     ]
    },
    {
     "name": "stderr",
     "output_type": "stream",
     "text": [
      "C:\\Users\\CherWei\\Anaconda3\\envs\\tensorflow\\lib\\site-packages\\sklearn\\metrics\\classification.py:1143: UndefinedMetricWarning: F-score is ill-defined and being set to 0.0 due to no predicted samples.\n",
      "  'precision', 'predicted', average, warn_for)\n"
     ]
    },
    {
     "name": "stdout",
     "output_type": "stream",
     "text": [
      "(716, 1000, 2, 1)\n"
     ]
    },
    {
     "name": "stderr",
     "output_type": "stream",
     "text": [
      "C:\\Users\\CherWei\\Anaconda3\\envs\\tensorflow\\lib\\site-packages\\sklearn\\metrics\\classification.py:1143: UndefinedMetricWarning: F-score is ill-defined and being set to 0.0 due to no predicted samples.\n",
      "  'precision', 'predicted', average, warn_for)\n"
     ]
    },
    {
     "name": "stdout",
     "output_type": "stream",
     "text": [
      "(716, 1000, 2, 1)\n",
      "(716, 1000, 2, 1)\n"
     ]
    },
    {
     "name": "stderr",
     "output_type": "stream",
     "text": [
      "C:\\Users\\CherWei\\Anaconda3\\envs\\tensorflow\\lib\\site-packages\\sklearn\\metrics\\classification.py:1143: UndefinedMetricWarning: F-score is ill-defined and being set to 0.0 due to no predicted samples.\n",
      "  'precision', 'predicted', average, warn_for)\n"
     ]
    },
    {
     "name": "stdout",
     "output_type": "stream",
     "text": [
      "(716, 1000, 2, 1)\n",
      "(716, 1000, 2, 1)\n",
      "(716, 1000, 2, 1)\n"
     ]
    },
    {
     "name": "stderr",
     "output_type": "stream",
     "text": [
      "C:\\Users\\CherWei\\Anaconda3\\envs\\tensorflow\\lib\\site-packages\\sklearn\\metrics\\classification.py:1143: UndefinedMetricWarning: F-score is ill-defined and being set to 0.0 due to no predicted samples.\n",
      "  'precision', 'predicted', average, warn_for)\n"
     ]
    },
    {
     "name": "stdout",
     "output_type": "stream",
     "text": [
      "(716, 1000, 2, 1)\n"
     ]
    },
    {
     "name": "stderr",
     "output_type": "stream",
     "text": [
      "C:\\Users\\CherWei\\Anaconda3\\envs\\tensorflow\\lib\\site-packages\\sklearn\\metrics\\classification.py:1143: UndefinedMetricWarning: F-score is ill-defined and being set to 0.0 due to no predicted samples.\n",
      "  'precision', 'predicted', average, warn_for)\n"
     ]
    }
   ],
   "source": [
    "missing_amino_acid = \"Glutamine\"\n",
    "path = \"G:\\\\Dev\\\\Data\\\\Convolution vs Dense Experiments 2\\\\\"\n",
    "processed_amino_acid = []\n",
    "\n",
    "# might run out of memory at some point, need to keep track of what is processed and reload notebook and rerun this\n",
    "# processed_amino_acid = [\"Alanine\", \"Arginine\", \"Asparagine\", \"Aspartic Acid\", \"Cysteine\", \"Glutamic Acid\",\n",
    "#                        \"Glycine\", \"Histidine\", \"Isoleucine\", \"Leucine\", \"Lysine\", \"Methionine\", \"Phenylalanine\"]\n",
    "\n",
    "for amino_acid, shift in amino_acids_with_shifts:\n",
    "    if amino_acid != missing_amino_acid and amino_acid not in processed_amino_acid:\n",
    "        dataset = \"G:\\\\Dev\\\\Data\\\\NIST Amino Acids\\\\NIST {} Has Substructure.txt\".format(amino_acid)\n",
    "        training_set, test_set = initialise_training_test_set(dataset)\n",
    "        train_shifts_diff_splits(path, \"Shifts {} \".format(amino_acid), dataset, training_set, test_set)\n",
    "        train_conv_diff_splits(path, \"Conv {} \".format(amino_acid), dataset, training_set, test_set, shift)"
   ]
  },
  {
   "cell_type": "code",
   "execution_count": 14,
   "metadata": {},
   "outputs": [],
   "source": [
    "def benjamini_fdr(pvalues):\n",
    "    num_tests = len(pvalues)\n",
    "    pvalues.sort(key=lambda x: float(x[1])) # Arrange from smallest to highest\n",
    "    rank = range(1, num_tests+1)\n",
    "    pvalues_with_rank = [(pvalue[0], pvalue[1], rank[index]) for index, pvalue in enumerate(pvalues)]\n",
    "    new_values = []\n",
    "    \n",
    "    for fingerprint, pvalue, rank in pvalues_with_rank:\n",
    "        critical_value = (rank / num_tests) * 0.05 # fdr of 0.05 is used\n",
    "        new_values.append((fingerprint, pvalue, rank, critical_value))\n",
    "    \n",
    "        max_pvalue_less_than_crit = 0.0\n",
    "        max_pvalue_less_than_crit_rank = 0\n",
    "    \n",
    "        for fingerprint, pvalue, rank, critical_value in new_values:\n",
    "            if pvalue > max_pvalue_less_than_crit and pvalue < critical_value:\n",
    "                max_pvalue_less_than_crit = pvalue\n",
    "                max_pvalue_less_than_crit_rank = rank\n",
    "    \n",
    "    return new_values, max_pvalue_less_than_crit_rank"
   ]
  },
  {
   "cell_type": "code",
   "execution_count": 28,
   "metadata": {},
   "outputs": [],
   "source": [
    "nist_baseline_auc_path = \"G:\\\\Dev\\\\Data\\\\NIST Amino Acids\\\\NIST Baseline AUC.txt\"\n",
    "result_path = \"G:\\\\Dev\\\\Data\\\\Convolution vs Dense Experiments 2\\\\\" # each amino acid has 10 aucs\n",
    "\n",
    "amino_acid_names = [amino_acid[0] for amino_acid in amino_acids_with_shifts]\n",
    "\n",
    "#AUC\n",
    "baseline_aucs = []\n",
    "mean_shift_aucs = []\n",
    "mean_conv_aucs = []\n",
    "shift_stds = []\n",
    "conv_stds = []\n",
    "shift_aucs = []\n",
    "conv_aucs = []\n",
    "\n",
    "# F1\n",
    "mean_shift_f1s = []\n",
    "mean_conv_f1s = []\n",
    "shift_f1_stds = []\n",
    "conv_f1_stds = []\n",
    "shift_f1s = []\n",
    "conv_f1s = []\n",
    "\n",
    "with open(nist_baseline_auc_path, 'r') as f:\n",
    "    for line in f:\n",
    "        amino_acid, baseline_auc = line.split(\",\")\n",
    "        baseline_aucs.append(float(baseline_auc[:-1]))\n",
    "\n",
    "missing_amino_acid = \"Glutamine\"\n",
    "for amino_acid in amino_acid_names:\n",
    "    if amino_acid != missing_amino_acid:\n",
    "        amino_acid_shifts_auc_path = os.path.join(result_path, \"Shifts {} AUC.txt\".format(amino_acid))\n",
    "        amino_acid_conv_auc_path = os.path.join(result_path, \"Conv {} AUC.txt\".format(amino_acid))\n",
    "        amino_acid_shifts_f1_path = os.path.join(result_path, \"Shifts {} F1.txt\".format(amino_acid))\n",
    "        amino_acid_conv_f1_path = os.path.join(result_path, \"Conv {} F1.txt\".format(amino_acid))\n",
    "        \n",
    "        with open(amino_acid_shifts_auc_path, 'r') as f:\n",
    "            numbers = list((float(line[:-1]) for line in f))\n",
    "            shift_aucs.append(numbers)\n",
    "            mean_shift_auc = statistics.mean(numbers)\n",
    "            shift_std = statistics.stdev(numbers)\n",
    "            mean_shift_aucs.append((amino_acid, mean_shift_auc))\n",
    "            shift_stds.append((amino_acid, shift_std))\n",
    "            \n",
    "        with open(amino_acid_conv_auc_path, 'r') as f:\n",
    "            numbers = list((float(line[:-1]) for line in f))\n",
    "            conv_aucs.append(numbers)\n",
    "            mean_conv_auc = statistics.mean(numbers)\n",
    "            conv_std = statistics.stdev(numbers)\n",
    "            mean_conv_aucs.append((amino_acid, mean_conv_auc))\n",
    "            conv_stds.append((amino_acid, conv_std))\n",
    "\n",
    "        with open(amino_acid_shifts_f1_path, 'r') as f:\n",
    "            numbers = list((float(line[:-1]) for line in f))\n",
    "            shift_f1s.append(numbers)\n",
    "            mean_shift_f1 = statistics.mean(numbers)\n",
    "            shift_f1_std = statistics.stdev(numbers)\n",
    "            mean_shift_f1s.append((amino_acid, mean_shift_f1))\n",
    "            shift_f1_stds.append((amino_acid, shift_f1_std))\n",
    "            \n",
    "        with open(amino_acid_conv_auc_path, 'r') as f:\n",
    "            numbers = list((float(line[:-1]) for line in f))\n",
    "            conv_f1s.append(numbers)\n",
    "            mean_conv_f1 = statistics.mean(numbers)\n",
    "            conv_f1_std = statistics.stdev(numbers)\n",
    "            mean_conv_f1s.append((amino_acid, mean_conv_f1))\n",
    "            conv_f1_stds.append((amino_acid, conv_f1_std))"
   ]
  },
  {
   "cell_type": "code",
   "execution_count": 29,
   "metadata": {},
   "outputs": [],
   "source": [
    "shift_auc_scores = [aa[1] for aa in mean_shift_aucs]\n",
    "conv_auc_scores = [aa[1] for aa in mean_conv_aucs]\n",
    "\n",
    "amino_acid_names_without_glutamine = [name for name in amino_acid_names if name != \"Glutamine\"]"
   ]
  },
  {
   "cell_type": "markdown",
   "metadata": {},
   "source": [
    "Trend comparison"
   ]
  },
  {
   "cell_type": "code",
   "execution_count": 44,
   "metadata": {},
   "outputs": [
    {
     "data": {
      "image/png": "[encoded data removed]",
      "text/plain": [
       "<Figure size 576x432 with 1 Axes>"
      ]
     },
     "metadata": {
      "needs_background": "light"
     },
     "output_type": "display_data"
    }
   ],
   "source": [
    "plt.title(\"Mean AUC across 10 experiments\")\n",
    "plt.scatter(amino_acid_names_without_glutamine, shift_auc_scores, label=\"shift\")\n",
    "plt.scatter(amino_acid_names_without_glutamine, conv_auc_scores, label=\"conv\")\n",
    "plt.scatter(amino_acid_names_without_glutamine, baseline_aucs, label=\"baseline\")\n",
    "plt.legend(loc='upper center', bbox_to_anchor=(0.75, -0.35), shadow=True, ncol=3)\n",
    "plt.xticks(amino_acid_names_without_glutamine, rotation=90, ha='center')\n",
    "plt.ylabel(\"Difference in AUC\")\n",
    "plt.show()"
   ]
  },
  {
   "cell_type": "markdown",
   "metadata": {},
   "source": [
    "Compare shift against conv"
   ]
  },
  {
   "cell_type": "code",
   "execution_count": 32,
   "metadata": {},
   "outputs": [],
   "source": [
    "differences = []\n",
    "z_differences = []\n",
    "pvalues = []\n",
    "\n",
    "f1_differences = []\n",
    "f1_z_differences = []\n",
    "f1_pvalues = []\n",
    "\n",
    "for i, amino_acid_auc in enumerate(mean_shift_aucs):\n",
    "    shift_amino_acid, shift_auc = amino_acid_auc\n",
    "    conv_amino_acid, conv_auc = mean_conv_aucs[i]\n",
    "    z_score = float(shift_auc - conv_auc)/(((shift_stds[i][1]**2)+(conv_stds[i][1]**2))**(float(1)/2))\n",
    "    \n",
    "    differences.append((shift_amino_acid, shift_auc-conv_auc))\n",
    "    z_differences.append((shift_amino_acid, z_score))\n",
    "    \n",
    "    t_test = wilcoxon(conv_aucs[i], shift_aucs[i])\n",
    "    pvalues.append((shift_amino_acid, t_test.pvalue))\n",
    "    \n",
    "for i, amino_acid_auc in enumerate(mean_shift_f1s):\n",
    "    shift_amino_acid, shift_f1 = amino_acid_auc\n",
    "    conv_amino_acid, conv_f1 = mean_conv_f1s[i]\n",
    "    f1_z_score = float(shift_f1 - conv_f1)/(((shift_f1_stds[i][1]**2)+(conv_f1_stds[i][1]**2))**(float(1)/2))\n",
    "    \n",
    "    f1_differences.append((shift_amino_acid, shift_f1-conv_f1))\n",
    "    f1_z_differences.append((shift_amino_acid, f1_z_score))\n",
    "    \n",
    "    t_test = wilcoxon(conv_f1s[i], shift_f1s[i])\n",
    "    f1_pvalues.append((shift_amino_acid, t_test.pvalue))"
   ]
  },
  {
   "cell_type": "code",
   "execution_count": 33,
   "metadata": {},
   "outputs": [],
   "source": [
    "differences.sort(key=lambda x: float(x[1]))\n",
    "z_differences.sort(key=lambda x: float(x[1]))\n",
    "f1_differences.sort(key=lambda x: float(x[1]))\n",
    "f1_z_differences.sort(key=lambda x: float(x[1]))\n",
    "\n",
    "differences.reverse()\n",
    "z_differences.reverse()\n",
    "f1_differences.reverse()\n",
    "f1_z_differences.reverse()"
   ]
  },
  {
   "cell_type": "code",
   "execution_count": 34,
   "metadata": {},
   "outputs": [],
   "source": [
    "ranked_pvalues_with_critical_value, max_pvalue_less_than_crit_rank = benjamini_fdr(pvalues)\n",
    "stat_significant_results = ranked_pvalues_with_critical_value[:max_pvalue_less_than_crit_rank]\n",
    "stat_significant_aa = [result[0] for result in stat_significant_results]"
   ]
  },
  {
   "cell_type": "code",
   "execution_count": 35,
   "metadata": {},
   "outputs": [],
   "source": [
    "amino_acids = [aa[0] + \"*\" if aa[0] in stat_significant_aa else aa[0] for aa in differences]\n",
    "\n",
    "z_aa = [aa[0] + \"*\" if aa[0] in stat_significant_aa else aa[0] for aa in z_differences]\n",
    "\n",
    "score_differences = [aa[1] for aa in differences]\n",
    "z_scores = [aa[1] for aa in z_differences]"
   ]
  },
  {
   "cell_type": "code",
   "execution_count": 36,
   "metadata": {},
   "outputs": [
    {
     "data": {
      "image/png": "[encoded data removed]",
      "text/plain": [
       "<Figure size 432x288 with 1 Axes>"
      ]
     },
     "metadata": {
      "needs_background": "light"
     },
     "output_type": "display_data"
    },
    {
     "name": "stdout",
     "output_type": "stream",
     "text": [
      "2 significantly different mean aucs\n",
      "2 significantly positive difference\n",
      "0 significantly negative difference\n"
     ]
    }
   ],
   "source": [
    "error_config = {'ecolor': '0.05'}\n",
    "\n",
    "plt.title(\"Mean AUC across 10 experiments\")\n",
    "plt.bar(z_aa, z_scores, align='center')\n",
    "plt.xticks(rotation=90)\n",
    "plt.ylabel(\"Z scores\")\n",
    "plt.show()\n",
    "\n",
    "positive_result = [result for result in differences if result[1] > 0 and result[0] in stat_significant_aa]\n",
    "negative_result = [result for result in differences if result[1] < 0 and result[0] in stat_significant_aa]\n",
    "\n",
    "print(\"{} significantly different mean aucs\".format(max_pvalue_less_than_crit_rank))\n",
    "print(\"{} significantly positive difference\".format(len(positive_result)))\n",
    "print(\"{} significantly negative difference\".format(len(negative_result)))\n"
   ]
  },
  {
   "cell_type": "code",
   "execution_count": 37,
   "metadata": {},
   "outputs": [],
   "source": [
    "ranked_f1_pvalues_with_critical_value, max_f1_pvalue_less_than_crit_rank = benjamini_fdr(f1_pvalues)\n",
    "f1_stat_significant_results = ranked_f1_pvalues_with_critical_value[:max_f1_pvalue_less_than_crit_rank]\n",
    "f1_stat_significant_aa = [result[0] for result in f1_stat_significant_results]"
   ]
  },
  {
   "cell_type": "code",
   "execution_count": 38,
   "metadata": {},
   "outputs": [],
   "source": [
    "amino_acids = [aa[0] + \"*\" if aa[0] in f1_stat_significant_aa else aa[0] for aa in f1_differences]\n",
    "\n",
    "z_aa = [aa[0] + \"*\" if aa[0] in f1_stat_significant_aa else aa[0] for aa in f1_z_differences]\n",
    "\n",
    "score_differences = [aa[1] for aa in f1_differences]\n",
    "z_scores = [aa[1] for aa in f1_z_differences]"
   ]
  },
  {
   "cell_type": "code",
   "execution_count": 40,
   "metadata": {},
   "outputs": [
    {
     "data": {
      "image/png": "[encoded data removed]",
      "text/plain": [
       "<Figure size 432x288 with 1 Axes>"
      ]
     },
     "metadata": {
      "needs_background": "light"
     },
     "output_type": "display_data"
    },
    {
     "name": "stdout",
     "output_type": "stream",
     "text": [
      "2 significantly different mean f1s\n",
      "2 significantly positive difference\n",
      "0 significantly negative difference\n"
     ]
    }
   ],
   "source": [
    "error_config = {'ecolor': '0.05'}\n",
    "\n",
    "plt.title(\"Mean F1 scores across 10 experiments\")\n",
    "plt.bar(z_aa, z_scores, align='center')\n",
    "plt.xticks(rotation=90)\n",
    "plt.ylabel(\"Z scores\")\n",
    "plt.show()\n",
    "\n",
    "positive_result = [result for result in f1_differences if result[1] > 0 and result[0] in f1_stat_significant_aa]\n",
    "negative_result = [result for result in f1_differences if result[1] < 0 and result[0] in f1_stat_significant_aa]\n",
    "\n",
    "print(\"{} significantly different mean f1s\".format(max_f1_pvalue_less_than_crit_rank))\n",
    "print(\"{} significantly positive difference\".format(len(positive_result)))\n",
    "print(\"{} significantly negative difference\".format(len(negative_result)))\n"
   ]
  }
 ],
 "metadata": {
  "kernelspec": {
   "display_name": "Python 3",
   "language": "python",
   "name": "python3"
  },
  "language_info": {
   "codemirror_mode": {
    "name": "ipython",
    "version": 3
   },
   "file_extension": ".py",
   "mimetype": "text/x-python",
   "name": "python",
   "nbconvert_exporter": "python",
   "pygments_lexer": "ipython3",
   "version": "3.6.6"
  }
 },
 "nbformat": 4,
 "nbformat_minor": 2
}

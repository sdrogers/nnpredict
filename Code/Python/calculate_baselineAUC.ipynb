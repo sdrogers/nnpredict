{
 "cells": [
  {
   "cell_type": "code",
   "execution_count": null,
   "metadata": {},
   "outputs": [],
   "source": [
    "import os\n",
    "import numpy as np\n",
    "from itertools import islice\n",
    "import os"
   ]
  },
  {
   "cell_type": "code",
   "execution_count": null,
   "metadata": {},
   "outputs": [],
   "source": [
    "from rdkit import Chem\n",
    "from sklearn.metrics import roc_auc_score"
   ]
  },
  {
   "cell_type": "code",
   "execution_count": null,
   "metadata": {},
   "outputs": [],
   "source": [
    "datapath = \"G:\\\\Dev\\\\Data\"\n",
    "\n",
    "all_gnps_path = datapath + os.sep + \"GNPSLibraries_allSMILES.mgf\"\n",
    "all_gnps_fragments_path = datapath + os.sep + \"GNPS 35000 Spectrum Fragments\"\n",
    "binned_datapath = datapath + os.sep + \"GNPS 35000\" + os.sep + \"GNPS Python Binned\"\n",
    "filtered_datapath = datapath + os.sep + \"GNPS 35000\" + os.sep + \"GNPS Python Filtered\"\n",
    "\n",
    "nist_path = datapath + os.sep + \"MSMS-NIST-Curated-Pos-MfKit.msp\"\n",
    "nist_fragments_path = datapath + os.sep + \"MSMS-NIST Fragments\"\n",
    "binned_nist_datapath = datapath + os.sep + \"MSMS-NIST\" + os.sep + \"Python Binned\"\n",
    "filtered_nist_datapath = datapath + os.sep + \"MSMS-NIST\" + os.sep + \"Python Filtered\"\n",
    "\n",
    "spectrum_smiles_path = datapath + os.sep + \"Spectrum-Smiles.tsv\"\n",
    "nist_spectrum_smiles_path = datapath + os.sep + \"NIST Spectrum-Smiles.tsv\"\n",
    "\n",
    "amino_acid_path = datapath + os.sep + \"Amino Acids\"\n",
    "nist_amino_acid_path = datapath + os.sep + \"NIST Amino Acids\"\n",
    "\n",
    "amino_acid_shifts_path = datapath + os.sep + \"Fragment Masses.txt\""
   ]
  },
  {
   "cell_type": "code",
   "execution_count": null,
   "metadata": {},
   "outputs": [],
   "source": [
    "amino_acid_smarts = {}\n",
    "\n",
    "# amino acid SMARTS string taken from http://www.daylight.com/dayhtml_tutorials/languages/smarts/smarts_examples.html\n",
    "# note that glutamine SMARTS is not found\n",
    "amino_acid_smarts['Alanine'] = '[$([NX3H2,NX4H3+]),$([NX3H](C)(C))][CX4H]([CH3X4])[CX3](=[OX1])[OX2H,OX1-,N]'\n",
    "amino_acid_smarts['Arginine'] = '[$([NX3H2,NX4H3+]),$([NX3H](C)(C))][CX4H]([CH2X4][CH2X4][CH2X4][NHX3][CH0X3](=[NH2X3+,NHX2+0])[NH2X3])[CX3](=[OX1])[OX2H,OX1-,N]'\n",
    "amino_acid_smarts['Asparagine'] = '[$([NX3H2,NX4H3+]),$([NX3H](C)(C))][CX4H]([CH2X4][CX3](=[OX1])[NX3H2])[CX3](=[OX1])[OX2H,OX1-,N]'\n",
    "amino_acid_smarts['Aspartic Acid'] = '[$([NX3H2,NX4H3+]),$([NX3H](C)(C))][CX4H]([CH2X4][CX3](=[OX1])[OH0-,OH])[CX3](=[OX1])[OX2H,OX1-,N]'\n",
    "amino_acid_smarts['Cysteine'] = '[$([NX3H2,NX4H3+]),$([NX3H](C)(C))][CX4H]([CH2X4][SX2H,SX1H0-])[CX3](=[OX1])[OX2H,OX1-,N]'\n",
    "amino_acid_smarts['Glutamic Acid'] = '[$([NX3H2,NX4H3+]),$([NX3H](C)(C))][CX4H]([CH2X4][CH2X4][CX3](=[OX1])[OH0-,OH])[CX3](=[OX1])[OX2H,OX1-,N]'\n",
    "amino_acid_smarts['Glutamine'] = ''\n",
    "amino_acid_smarts['Glycine'] = '[$([$([NX3H2,NX4H3+]),$([NX3H](C)(C))][CX4H2][CX3](=[OX1])[OX2H,OX1-,N])]'\n",
    "amino_acid_smarts['Histidine'] = '[$([NX3H2,NX4H3+]),$([NX3H](C)(C))][CX4H]([CH2X4][#6X3]1:[$([#7X3H+,#7X2H0+0]:[#6X3H]:[#7X3H]),$([#7X3H])]:[#6X3H]:[$([#7X3H+,#7X2H0+0]:[#6X3H]:[#7X3H]),$([#7X3H])]:[#6X3H]1)[CX3](=[OX1])[OX2H,OX1-,N]'\n",
    "amino_acid_smarts['Isoleucine'] = '[$([NX3H2,NX4H3+]),$([NX3H](C)(C))][CX4H]([CHX4]([CH3X4])[CH2X4][CH3X4])[CX3](=[OX1])[OX2H,OX1-,N]'\n",
    "amino_acid_smarts['Leucine'] = '[$([NX3H2,NX4H3+]),$([NX3H](C)(C))][CX4H]([CH2X4][CHX4]([CH3X4])[CH3X4])[CX3](=[OX1])[OX2H,OX1-,N]'\n",
    "amino_acid_smarts['Lysine'] = '[$([NX3H2,NX4H3+]),$([NX3H](C)(C))][CX4H]([CH2X4][CH2X4][CH2X4][CH2X4][NX4+,NX3+0])[CX3](=[OX1])[OX2H,OX1-,N]'\n",
    "amino_acid_smarts['Methionine'] = '[$([NX3H2,NX4H3+]),$([NX3H](C)(C))][CX4H]([CH2X4][CH2X4][SX2][CH3X4])[CX3](=[OX1])[OX2H,OX1-,N]'\n",
    "amino_acid_smarts['Phenylalanine'] = '[$([NX3H2,NX4H3+]),$([NX3H](C)(C))][CX4H]([CH2X4][cX3]1[cX3H][cX3H][cX3H][cX3H][cX3H]1)[CX3](=[OX1])[OX2H,OX1-,N]'\n",
    "amino_acid_smarts['Proline'] = '[$([NX3H,NX4H2+]),$([NX3](C)(C)(C))]1[CX4H]([CH2][CH2][CH2]1)[CX3](=[OX1])[OX2H,OX1-,N]'\n",
    "amino_acid_smarts['Serine'] = '[$([NX3H2,NX4H3+]),$([NX3H](C)(C))][CX4H]([CH2X4][OX2H])[CX3](=[OX1])[OX2H,OX1-,N]'\n",
    "amino_acid_smarts['Threonine'] = '[$([NX3H2,NX4H3+]),$([NX3H](C)(C))][CX4H]([CHX4]([CH3X4])[OX2H])[CX3](=[OX1])[OX2H,OX1-,N]'\n",
    "amino_acid_smarts['Tryptophan'] = '[$([NX3H2,NX4H3+]),$([NX3H](C)(C))][CX4H]([CH2X4][cX3]1[cX3H][nX3H][cX3]2[cX3H][cX3H][cX3H][cX3H][cX3]12)[CX3](=[OX1])[OX2H,OX1-,N]'\n",
    "amino_acid_smarts['Tyrosine'] = '[$([NX3H2,NX4H3+]),$([NX3H](C)(C))][CX4H]([CH2X4][cX3]1[cX3H][cX3H][cX3]([OHX2,OH0X1-])[cX3H][cX3H]1)[CX3](=[OX1])[OX2H,OX1-,N]'\n",
    "amino_acid_smarts['Valine'] = '[$([NX3H2,NX4H3+]),$([NX3H](C)(C))][CX4H]([CHX4]([CH3X4])[CH3X4])[CX3](=[OX1])[OX2H,OX1-,N]'\n"
   ]
  },
  {
   "cell_type": "code",
   "execution_count": null,
   "metadata": {},
   "outputs": [],
   "source": [
    "mol_shifts = []\n",
    "#amino_acid_shifts_path = datapath + os.sep + \"Fragment Masses Shuffled.txt\"\n",
    "\n",
    "with open(amino_acid_shifts_path, 'r') as f:\n",
    "    for line in f:\n",
    "        mol_name, shift = line.split(\", \")\n",
    "        mol_shifts.append((mol_name, amino_acid_smarts[mol_name], int(float(shift[:-1]))))"
   ]
  },
  {
   "cell_type": "code",
   "execution_count": null,
   "metadata": {},
   "outputs": [],
   "source": [
    "def save_averaged_peaks_intensities(amino_acid, path, filtered_path, shift, average_dict):\n",
    "    average_dict[amino_acid] = {}\n",
    "    \n",
    "    with open(path, 'w') as f:\n",
    "        for file in os.listdir(filtered_path):\n",
    "            filename = file[:-4]\n",
    "            print(filename)\n",
    "            filepath = os.path.join(filtered_path, file)\n",
    "            data = np.loadtxt(filepath, np.float32)\n",
    "            max_avg = 0.0\n",
    "\n",
    "            for i in range(0, 999-shift+1):\n",
    "                intensity1 = float(data[i][1])\n",
    "                intensity2 = float(data[i+shift][1])\n",
    "                if intensity1 == 0 or intensity2 == 0:\n",
    "                    average = 0.0\n",
    "                else:\n",
    "                    average = (intensity1 + intensity2)/2\n",
    "\n",
    "                if average > max_avg:\n",
    "                    max_avg = average\n",
    "            \n",
    "            mol_name = filename.split(\" \")[0]\n",
    "            average_dict[amino_acid][mol_name] = max_avg\n",
    "            f.write(str(max_avg) + \"\\n\")"
   ]
  },
  {
   "cell_type": "code",
   "execution_count": null,
   "metadata": {},
   "outputs": [],
   "source": [
    "with open(spectrum_smiles_path, 'r') as f:\n",
    "    gnps_content = f.readlines()\n",
    "\n",
    "with open(nist_spectrum_smiles_path, 'r') as f:\n",
    "    nist_content = f.readlines()"
   ]
  },
  {
   "cell_type": "code",
   "execution_count": null,
   "metadata": {},
   "outputs": [],
   "source": [
    "def has_substruct_match_smiles_smarts(amino_acid, path, content, smarts, has_sub_dict):\n",
    "    count = 0\n",
    "    has_sub_dict[amino_acid] = {}\n",
    "    \n",
    "    with open(path, 'w') as f:    \n",
    "        for line in content:\n",
    "            mol_name, smiles = line.split(\"\\t\")\n",
    "            m = Chem.MolFromSmiles(smiles[:-1])\n",
    "            patt = Chem.MolFromSmarts(smarts)\n",
    "            if m is not None:\n",
    "                has_sub_dict[amino_acid][mol_name] = int(m.HasSubstructMatch(patt))\n",
    "                f.write(str(int(m.HasSubstructMatch(patt))) + \"\\n\")\n",
    "            else:\n",
    "                count += 1\n",
    "                has_sub_dict[amino_acid][mol_name] = 0\n",
    "                f.write(\"0\\n\")\n",
    "\n",
    "    print(count)"
   ]
  },
  {
   "cell_type": "code",
   "execution_count": null,
   "metadata": {},
   "outputs": [],
   "source": [
    "def calculate_auc_score(amino_acid, peaks_dict, has_substructure_dict):  \n",
    "    y_values = []\n",
    "    y_true = []\n",
    "    \n",
    "    for mol_name, average in peaks_dict[amino_acid].items():\n",
    "        y_values.append(peaks_dict[amino_acid][mol_name])\n",
    "        y_true.append(has_substructure_dict[amino_acid][mol_name])\n",
    "    \n",
    "    y_values_arr = np.array(y_values)\n",
    "    y_true_arr = np.array(y_true)\n",
    "    \n",
    "    score = roc_auc_score(y_true_arr, y_values_arr)\n",
    "    amino_acid_baseline_aucs[amino_acid] = score\n",
    "    nist_amino_acid_baseline_aucs[amino_acid] = score"
   ]
  },
  {
   "cell_type": "code",
   "execution_count": null,
   "metadata": {},
   "outputs": [],
   "source": [
    "amino_acid_baseline_aucs = {}\n",
    "nist_amino_acid_baseline_aucs = {}\n",
    "\n",
    "for mol_name, smarts, shift in mol_shifts:\n",
    "\n",
    "    if smarts != '':\n",
    "        spectrum_max_average_dict = {}\n",
    "        nist_spectrum_max_average_dict = {}\n",
    "        has_substructure_dict = {}\n",
    "        nist_has_substructure_dict = {}\n",
    "        new_path = amino_acid_path + os.sep + mol_name + \" Peaks Shift Averaged.txt\"\n",
    "        new_nist_path = nist_amino_acid_path + os.sep + (\"NIST %s Peaks Shift Averaged.txt\" % mol_name)\n",
    "        save_averaged_peaks_intensities(mol_name, new_path, filtered_datapath, shift, spectrum_max_average_dict)\n",
    "        save_averaged_peaks_intensities(mol_name, new_nist_path, filtered_nist_datapath, shift, nist_spectrum_max_average_dict)\n",
    "        new_path = amino_acid_path + os.sep + mol_name + \" Has Substructure.txt\"\n",
    "        new_nist_path = nist_amino_acid_path + os.sep + (\"NIST %s Has Substructure.txt\" % mol_name)\n",
    "        has_substruct_match_smiles_smarts(mol_name, new_path, gnps_content, smarts, has_substructure_dict)\n",
    "        has_substruct_match_smiles_smarts(mol_name, new_nist_path, nist_content, smarts, nist_has_substructure_dict)\n",
    "        calculate_auc_score(mol_name, spectrum_max_average_dict, has_substructure_dict)\n",
    "        calculate_auc_score(mol_name, nist_spectrum_max_average_dict, nist_has_substructure_dict)\n"
   ]
  },
  {
   "cell_type": "code",
   "execution_count": null,
   "metadata": {},
   "outputs": [],
   "source": [
    "baseline_auc_path = amino_acid_path + os.sep + \"Baseline AUC.txt\"\n",
    "nist_baseline_auc_path = nist_amino_acid_path + os.sep + \"NIST Baseline AUC.txt\"\n",
    "\n",
    "with open(baseline_auc_path, 'w') as f:\n",
    "    for amino_acid, score in amino_acid_baseline_aucs.items():\n",
    "        f.write(amino_acid + \",\" + score + \"\\n\")\n",
    "\n",
    "with open(nist_baseline_auc_path, 'w') as f:\n",
    "    for amino_acid, score in nist_amino_acid_baseline_aucs.items():\n",
    "        f.write(amino_acid + \",\" + score + \"\\n\")"
   ]
  },
  {
   "cell_type": "code",
   "execution_count": null,
   "metadata": {},
   "outputs": [],
   "source": [
    "peak_average_intensities_path = amino_acid_path + os.sep + \"Valine Peaks Shift Averaged.txt\"\n",
    "has_sub_path = amino_acid_path + os.sep + \"Valine Has Substructure.txt\"\n",
    "\n",
    "has_substructure = np.loadtxt(has_sub_path, np.int32)\n",
    "peak_average_intensities = np.loadtxt(peak_average_intensities_path, np.float32)\n",
    "\n",
    "all_ones = np.where(has_substructure == 1)\n",
    "non_zeroes = np.where(peak_average_intensities > 0.0)\n",
    "\n",
    "print(len(all_ones[0]))\n",
    "print(len(non_zeroes[0]))\n",
    "\n",
    "count = 0\n",
    "\n",
    "for index, max_average_intensity in enumerate(peak_average_intensities):\n",
    "    if (has_substructure[index] == 1 and max_average_intensity > 0) or (has_substructure[index] == 0 and max_average_intensity == 0) :\n",
    "        count += 1\n",
    "        \n",
    "print(count/len(peak_average_intensities))"
   ]
  }
 ],
 "metadata": {
  "kernelspec": {
   "display_name": "Python 3",
   "language": "python",
   "name": "python3"
  },
  "language_info": {
   "codemirror_mode": {
    "name": "ipython",
    "version": 3
   },
   "file_extension": ".py",
   "mimetype": "text/x-python",
   "name": "python",
   "nbconvert_exporter": "python",
   "pygments_lexer": "ipython3",
   "version": "3.6.6"
  }
 },
 "nbformat": 4,
 "nbformat_minor": 2
}

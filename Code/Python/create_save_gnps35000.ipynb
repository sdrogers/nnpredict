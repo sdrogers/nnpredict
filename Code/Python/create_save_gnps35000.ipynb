{
 "cells": [
  {
   "cell_type": "code",
   "execution_count": 2,
   "metadata": {},
   "outputs": [],
   "source": [
    "import os\n",
    "import numpy as np\n",
    "from itertools import islice\n",
    "import os"
   ]
  },
  {
   "cell_type": "code",
   "execution_count": 3,
   "metadata": {},
   "outputs": [],
   "source": [
    "from rdkit import Chem"
   ]
  },
  {
   "cell_type": "code",
   "execution_count": 17,
   "metadata": {},
   "outputs": [],
   "source": [
    "datapath = \"G:\\\\Dev\\\\Data\"\n",
    "\n",
    "all_gnps_path = datapath + os.sep + \"GNPSLibraries_allSMILES.mgf\"\n",
    "all_gnps_fragments_path = datapath + os.sep + \"GNPS 35000 Spectrum Fragments\"\n",
    "binned_datapath = datapath + os.sep + \"GNPS 35000\" + os.sep + \"GNPS Python Binned\"\n",
    "filtered_datapath = datapath + os.sep + \"GNPS 35000\" + os.sep + \"GNPS Python Filtered\"\n",
    "\n",
    "nist_path = datapath + os.sep + \"MSMS-NIST-Curated-Pos-MfKit.msp\"\n",
    "nist_fragments_path = datapath + os.sep + \"MSMS-NIST Fragments\"\n",
    "binned_nist_datapath = datapath + os.sep + \"MSMS-NIST\" + os.sep + \"Python Binned\"\n",
    "filtered_nist_datapath = datapath + os.sep + \"MSMS-NIST\" + os.sep + \"Python Filtered\"\n",
    "\n",
    "spectrum_smiles_path = datapath + os.sep + \"Spectrum-Smiles.tsv\"\n",
    "nist_spectrum_smiles_path = datapath + os.sep + \"NIST Spectrum-Smiles.tsv\"\n",
    "\n",
    "amino_acid_path = datapath + os.sep + \"Amino Acids\"\n",
    "nist_amino_acid_path = datapath + os.sep + \"NIST Amino Acids\"\n",
    "\n",
    "amino_acid_shifts_path = datapath + os.sep + \"Fragment Masses.txt\""
   ]
  },
  {
   "cell_type": "code",
   "execution_count": 5,
   "metadata": {},
   "outputs": [],
   "source": [
    "amino_acid_smarts = {}\n",
    "\n",
    "# amino acid SMARTS string taken from http://www.daylight.com/dayhtml_tutorials/languages/smarts/smarts_examples.html\n",
    "# note that glutamine SMARTS is not found\n",
    "amino_acid_smarts['Alanine'] = '[$([NX3H2,NX4H3+]),$([NX3H](C)(C))][CX4H]([CH3X4])[CX3](=[OX1])[OX2H,OX1-,N]'\n",
    "amino_acid_smarts['Arginine'] = '[$([NX3H2,NX4H3+]),$([NX3H](C)(C))][CX4H]([CH2X4][CH2X4][CH2X4][NHX3][CH0X3](=[NH2X3+,NHX2+0])[NH2X3])[CX3](=[OX1])[OX2H,OX1-,N]'\n",
    "amino_acid_smarts['Asparagine'] = '[$([NX3H2,NX4H3+]),$([NX3H](C)(C))][CX4H]([CH2X4][CX3](=[OX1])[NX3H2])[CX3](=[OX1])[OX2H,OX1-,N]'\n",
    "amino_acid_smarts['Aspartic Acid'] = '[$([NX3H2,NX4H3+]),$([NX3H](C)(C))][CX4H]([CH2X4][CX3](=[OX1])[OH0-,OH])[CX3](=[OX1])[OX2H,OX1-,N]'\n",
    "amino_acid_smarts['Cysteine'] = '[$([NX3H2,NX4H3+]),$([NX3H](C)(C))][CX4H]([CH2X4][SX2H,SX1H0-])[CX3](=[OX1])[OX2H,OX1-,N]'\n",
    "amino_acid_smarts['Glutamic Acid'] = '[$([NX3H2,NX4H3+]),$([NX3H](C)(C))][CX4H]([CH2X4][CH2X4][CX3](=[OX1])[OH0-,OH])[CX3](=[OX1])[OX2H,OX1-,N]'\n",
    "amino_acid_smarts['Glutamine'] = ''\n",
    "amino_acid_smarts['Glycine'] = '[$([$([NX3H2,NX4H3+]),$([NX3H](C)(C))][CX4H2][CX3](=[OX1])[OX2H,OX1-,N])]'\n",
    "amino_acid_smarts['Histidine'] = '[$([NX3H2,NX4H3+]),$([NX3H](C)(C))][CX4H]([CH2X4][#6X3]1:[$([#7X3H+,#7X2H0+0]:[#6X3H]:[#7X3H]),$([#7X3H])]:[#6X3H]:[$([#7X3H+,#7X2H0+0]:[#6X3H]:[#7X3H]),$([#7X3H])]:[#6X3H]1)[CX3](=[OX1])[OX2H,OX1-,N]'\n",
    "amino_acid_smarts['Isoleucine'] = '[$([NX3H2,NX4H3+]),$([NX3H](C)(C))][CX4H]([CHX4]([CH3X4])[CH2X4][CH3X4])[CX3](=[OX1])[OX2H,OX1-,N]'\n",
    "amino_acid_smarts['Leucine'] = '[$([NX3H2,NX4H3+]),$([NX3H](C)(C))][CX4H]([CH2X4][CHX4]([CH3X4])[CH3X4])[CX3](=[OX1])[OX2H,OX1-,N]'\n",
    "amino_acid_smarts['Lysine'] = '[$([NX3H2,NX4H3+]),$([NX3H](C)(C))][CX4H]([CH2X4][CH2X4][CH2X4][CH2X4][NX4+,NX3+0])[CX3](=[OX1])[OX2H,OX1-,N]'\n",
    "amino_acid_smarts['Methionine'] = '[$([NX3H2,NX4H3+]),$([NX3H](C)(C))][CX4H]([CH2X4][CH2X4][SX2][CH3X4])[CX3](=[OX1])[OX2H,OX1-,N]'\n",
    "amino_acid_smarts['Phenylalanine'] = '[$([NX3H2,NX4H3+]),$([NX3H](C)(C))][CX4H]([CH2X4][cX3]1[cX3H][cX3H][cX3H][cX3H][cX3H]1)[CX3](=[OX1])[OX2H,OX1-,N]'\n",
    "amino_acid_smarts['Proline'] = '[$([NX3H,NX4H2+]),$([NX3](C)(C)(C))]1[CX4H]([CH2][CH2][CH2]1)[CX3](=[OX1])[OX2H,OX1-,N]'\n",
    "amino_acid_smarts['Serine'] = '[$([NX3H2,NX4H3+]),$([NX3H](C)(C))][CX4H]([CH2X4][OX2H])[CX3](=[OX1])[OX2H,OX1-,N]'\n",
    "amino_acid_smarts['Threonine'] = '[$([NX3H2,NX4H3+]),$([NX3H](C)(C))][CX4H]([CHX4]([CH3X4])[OX2H])[CX3](=[OX1])[OX2H,OX1-,N]'\n",
    "amino_acid_smarts['Tryptophan'] = '[$([NX3H2,NX4H3+]),$([NX3H](C)(C))][CX4H]([CH2X4][cX3]1[cX3H][nX3H][cX3]2[cX3H][cX3H][cX3H][cX3H][cX3]12)[CX3](=[OX1])[OX2H,OX1-,N]'\n",
    "amino_acid_smarts['Tyrosine'] = '[$([NX3H2,NX4H3+]),$([NX3H](C)(C))][CX4H]([CH2X4][cX3]1[cX3H][cX3H][cX3]([OHX2,OH0X1-])[cX3H][cX3H]1)[CX3](=[OX1])[OX2H,OX1-,N]'\n",
    "amino_acid_smarts['Valine'] = '[$([NX3H2,NX4H3+]),$([NX3H](C)(C))][CX4H]([CHX4]([CH3X4])[CH3X4])[CX3](=[OX1])[OX2H,OX1-,N]'\n"
   ]
  },
  {
   "cell_type": "code",
   "execution_count": 7,
   "metadata": {},
   "outputs": [],
   "source": [
    "def save_spectrum_smiles(path, spectrum_smiles):\n",
    "    with open(path, 'w') as f:\n",
    "        for mol_name, smiles in spectrum_smiles:\n",
    "            f.write(mol_name + \"\\t\" + smiles + \"\\n\")"
   ]
  },
  {
   "cell_type": "code",
   "execution_count": 8,
   "metadata": {},
   "outputs": [],
   "source": [
    "with open(all_gnps_path, 'r') as f:\n",
    "    gnps_content = f.readlines()"
   ]
  },
  {
   "cell_type": "code",
   "execution_count": 25,
   "metadata": {},
   "outputs": [
    {
     "name": "stdout",
     "output_type": "stream",
     "text": [
      "Done\n"
     ]
    }
   ],
   "source": [
    "# >compound Kanamycin A M+H\n",
    "# >formula C18H36N4O11\n",
    "# >parentmass 485.0\n",
    "# >ionization [M + H]+\n",
    "# >InChI InChI=1S/C18H36N4O11/c19-2-6-10(25)12(27)13(28)18(30-6)33-16-5(21)1-4(20)15(14(16)29)32-17-11(26)8(22)9(24)7(3-23)31-17/h4-18,23-29H,1-3,19-22H2/t4-,5+,6-,7-,8+,9-,10-,11-,12+,13-,14-,15+,16-,17-,18-/m1/s1\n",
    "# >InChIKey N/A\n",
    "# >smiles O\n",
    "#\n",
    "# >ms2peaks\n",
    "\n",
    "count = 1\n",
    "spectrum_smiles = []\n",
    "\n",
    "for index, line in enumerate(gnps_content):\n",
    "    if line.startswith(\"INCHIKEY=\"):\n",
    "        inchi_key_index = index\n",
    "        loop_index = inchi_key_index + 1\n",
    "        smiles_index = inchi_key_index - 1\n",
    "        parent_mass_index = smiles_index - 6\n",
    "        if gnps_content[parent_mass_index].startswith(\"MSLEVEL\"):\n",
    "            parent_mass_index -= 3\n",
    "\n",
    "        starting_index = parent_mass_index - 2\n",
    "\n",
    "        while not gnps_content[starting_index].startswith(\"BEGIN IONS\"):\n",
    "            starting_index -= 1\n",
    "\n",
    "        filepath = os.path.join(all_gnps_fragments_path, \"GNPS_ALL_\" + str(count) + \".ms\")\n",
    "\n",
    "        inchi_key = line[9:-1]\n",
    "\n",
    "        if inchi_key != \"\" and gnps_content[loop_index] != \"END IONS\\n\":\n",
    "            mol_name = \"GNPS_ALL_\" + str(count)\n",
    "            spectrum_smiles.append((mol_name, gnps_content[smiles_index][7:-1]))\n",
    "\n",
    "            with open(filepath, 'w') as f:\n",
    "                f.write(\">compound \" + mol_name + \"\\n\")\n",
    "                f.write(\">formula N/A\\n\")\n",
    "                f.write(\">parentmass \" + gnps_content[parent_mass_index][8:])\n",
    "                f.write(\">ionization N/A\\n\")\n",
    "                f.write(\">InChI N/A\\n\")\n",
    "                f.write(\">InChIKey \" + inchi_key + \"\\n\")\n",
    "                f.write(\">smiles \" + gnps_content[smiles_index][7:])\n",
    "                f.write(\"\\n\")\n",
    "                f.write(\">ms2peaks\\n\")\n",
    "                while gnps_content[loop_index] != \"END IONS\\n\":\n",
    "                    mass, intensity = gnps_content[loop_index].split()\n",
    "                    if float(mass) <= 1000:\n",
    "                        f.write(mass + \" \" + intensity + \"\\n\")\n",
    "                    loop_index += 1\n",
    "                count += 1\n",
    "\n",
    "print(\"Done\")"
   ]
  },
  {
   "cell_type": "code",
   "execution_count": 26,
   "metadata": {},
   "outputs": [],
   "source": [
    "save_spectrum_smiles(spectrum_smiles_path, spectrum_smiles)"
   ]
  },
  {
   "cell_type": "code",
   "execution_count": 27,
   "metadata": {},
   "outputs": [],
   "source": [
    "with open(nist_path, 'r') as f:\n",
    "    nist_content = f.readlines()"
   ]
  },
  {
   "cell_type": "code",
   "execution_count": 28,
   "metadata": {},
   "outputs": [
    {
     "name": "stdout",
     "output_type": "stream",
     "text": [
      "Done\n"
     ]
    }
   ],
   "source": [
    "# >compound Kanamycin A M+H\n",
    "# >formula C18H36N4O11\n",
    "# >parentmass 485.0\n",
    "# >ionization [M + H]+\n",
    "# >InChI InChI=1S/C18H36N4O11/c19-2-6-10(25)12(27)13(28)18(30-6)33-16-5(21)1-4(20)15(14(16)29)32-17-11(26)8(22)9(24)7(3-23)31-17/h4-18,23-29H,1-3,19-22H2/t4-,5+,6-,7-,8+,9-,10-,11-,12+,13-,14-,15+,16-,17-,18-/m1/s1\n",
    "# >InChIKey N/A\n",
    "# >smiles O\n",
    "#\n",
    "# >ms2peaks\n",
    "\n",
    "count = 1\n",
    "spectrum_smiles = []\n",
    "\n",
    "for index, line in enumerate(nist_content):\n",
    "    if line.startswith(\"NAME:\"):\n",
    "        loop_index = index + 18\n",
    "        smiles_index = index + 7\n",
    "        parent_mass_index = index + 1\n",
    "        formula_index = index + 11\n",
    "        ionization_index = index + 2\n",
    "        inchi_key_index = index + 9\n",
    "        inchi_key = nist_content[inchi_key_index][10:]\n",
    "        \n",
    "        filepath = os.path.join(nist_fragments_path, \"GNPS_ALL_\" + str(count) + \".ms\")\n",
    "\n",
    "        if inchi_key != \"\" and nist_content[loop_index] != \"END IONS\\n\":\n",
    "            mol_name = \"GNPS_ALL_\" + str(count)\n",
    "            spectrum_smiles.append((mol_name, nist_content[smiles_index][8:-1]))\n",
    "\n",
    "            with open(filepath, 'w') as f:\n",
    "                f.write(\">compound \" + nist_content[index][6:])\n",
    "                f.write(\">formula \" + nist_content[formula_index])\n",
    "                f.write(\">parentmass \" + nist_content[parent_mass_index][13:])\n",
    "                f.write(\">ionization \" + nist_content[ionization_index][15:])\n",
    "                f.write(\">InChI N/A\\n\")\n",
    "                f.write(\">InChIKey \" + nist_content[inchi_key_index][10:])\n",
    "                f.write(\">smiles \" + nist_content[smiles_index][8:])\n",
    "                f.write(\"\\n\")\n",
    "                f.write(\">ms2peaks\\n\")\n",
    "                while nist_content[loop_index] != \"\\n\":\n",
    "                    mass, intensity = nist_content[loop_index].split()\n",
    "                    if float(mass) <= 1000:\n",
    "                        f.write(mass + \" \" + intensity + \"\\n\")\n",
    "                    loop_index += 1\n",
    "                count += 1\n",
    "\n",
    "print(\"Done\")"
   ]
  },
  {
   "cell_type": "code",
   "execution_count": 29,
   "metadata": {},
   "outputs": [],
   "source": [
    "save_spectrum_smiles(nist_spectrum_smiles_path, spectrum_smiles)"
   ]
  },
  {
   "cell_type": "code",
   "execution_count": 7,
   "metadata": {},
   "outputs": [
    {
     "name": "stdout",
     "output_type": "stream",
     "text": [
      "Done\n"
     ]
    }
   ],
   "source": [
    "MAX_MASS = 1000  # Maximum fragment size in Daltons\n",
    "\n",
    "def write_binned_files(path, binned_path, bin_size=1):\n",
    "    num_bins = MAX_MASS//bin_size #  Calculate number of bins\n",
    "    for file in os.listdir(path):\n",
    "        filepath = os.path.join(path, file)\n",
    "        binned_values = np.zeros(num_bins, dtype=float)\n",
    "        with open(filepath, 'r') as f:\n",
    "            filename = f.name\n",
    "            \n",
    "            unsplit_lines = list(islice(f, 9, None))\n",
    "            for line in unsplit_lines:\n",
    "                if ' ' in line:  # Only lines with mass and intensity values have a space. Ignores label/blank lines\n",
    "                    split_line = line.split()\n",
    "                    mass = round(float(split_line[0]))  # Mass of fragment, to nearest Da\n",
    "                    if mass <= MAX_MASS:  # If fragment isn't too big\n",
    "                        mass_bin = (int(mass) // bin_size)-1  # Bin fragment belongs in.\n",
    "                        if mass_bin < 0:\n",
    "                            mass_bin = 0\n",
    "                        intensity = float(split_line[1])\n",
    "                        binned_values[mass_bin] = binned_values[mass_bin] + intensity  # Sum intensities for bin\n",
    "\n",
    "        binned_filename = file.split(\".\")[0] + \" Binned.txt\"\n",
    "        binned_filepath = os.path.join(binned_path, binned_filename)\n",
    "        with open(binned_filepath, 'w') as f:  # Write bins and intensities to new file.\n",
    "            for index, intensity in enumerate(binned_values):\n",
    "                mass = index*bin_size\n",
    "                f.write(str(mass+1) + \"  \" + str(intensity) + \"\\n\")\n",
    "\n",
    "\n",
    "write_binned_files(all_gnps_fragments_path, binned_datapath)\n",
    "write_binned_files(nist_fragments_path, binned_nist_datapath)\n",
    "print(\"Done\")"
   ]
  },
  {
   "cell_type": "code",
   "execution_count": 9,
   "metadata": {},
   "outputs": [],
   "source": [
    "def normalize_and_filter(spectrum, min_percent=0.005):\n",
    "    max_intensity = np.amax(spectrum)  # Find max intensity\n",
    "    spectrum = spectrum / max_intensity  # Normalize to 0-1\n",
    "    filtered = np.where(spectrum < min_percent, 0, spectrum)  # Set values below threshold to 0.\n",
    "    return filtered\n",
    "\n",
    "def top_six_filter(spectrum):\n",
    "    filtered_spectrum = np.zeros(spectrum.shape, float)\n",
    "    for i in range(len(spectrum)):  # For each mass bin\n",
    "        low_end = 0\n",
    "        if i < 50:\n",
    "            low_end = i  # If there are fewer than 50 bins behind current windows, only go back to index 0.\n",
    "        if i >= 50:\n",
    "            low_end = 50  # Else, go back 50 indices\n",
    "        window_comparison = np.less(spectrum[i], spectrum[i-low_end:(i+50)])  # Compare value to all bins in 100Da range\n",
    "        if np.sum(window_comparison) < 7:  # If value is among top 6 in 100Da range, add it to filtered array.\n",
    "            filtered_spectrum[i] = spectrum[i]\n",
    "    return filtered_spectrum\n",
    "\n",
    "def filter_binned(path, filtered_path):\n",
    "    for file in os.listdir(path):\n",
    "        print(file)\n",
    "        filepath = os.path.join(path, file)\n",
    "        data = np.loadtxt(filepath, np.float32)\n",
    "        # Filter all below threshold. Column 1 contains intensities.\n",
    "        data[:, 1] = normalize_and_filter(data[:, 1])\n",
    "\n",
    "        # Filter all below threshold. Column 1 contains intensities.\n",
    "        data[:, 1] = top_six_filter(data[:, 1])\n",
    "\n",
    "        filtered_filename = file.split(\"Binned\")[0] + \"Filtered.txt\"\n",
    "        filtered_filepath = os.path.join(filtered_path, filtered_filename)\n",
    "        np.savetxt(filtered_filepath, data, fmt=\"%d %f\")\n",
    "        \n",
    "    "
   ]
  },
  {
   "cell_type": "code",
   "execution_count": 1,
   "metadata": {
    "scrolled": true
   },
   "outputs": [],
   "source": [
    "filter_binned(binned_datapath, filtered_datapath)\n",
    "filter_binned(binned_nist_datapath, filtered_nist_datapath)\n",
    "print(\"Done\")"
   ]
  }
 ],
 "metadata": {
  "kernelspec": {
   "display_name": "Python 3",
   "language": "python",
   "name": "python3"
  },
  "language_info": {
   "codemirror_mode": {
    "name": "ipython",
    "version": 3
   },
   "file_extension": ".py",
   "mimetype": "text/x-python",
   "name": "python",
   "nbconvert_exporter": "python",
   "pygments_lexer": "ipython3",
   "version": "3.6.6"
  }
 },
 "nbformat": 4,
 "nbformat_minor": 1
}

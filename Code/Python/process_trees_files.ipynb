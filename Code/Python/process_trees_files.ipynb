{
 "cells": [
  {
   "cell_type": "code",
   "execution_count": 1,
   "metadata": {},
   "outputs": [],
   "source": [
    "import os\n",
    "import json\n",
    "from pprint import pprint\n",
    "from collections import Counter\n",
    "\n",
    "import numpy as np\n",
    "import matplotlib.pyplot as plt\n",
    "%matplotlib inline"
   ]
  },
  {
   "cell_type": "code",
   "execution_count": 2,
   "metadata": {},
   "outputs": [],
   "source": [
    "datapath = \"G:\\\\Dev\\\\Data\"\n",
    "\n",
    "json_file_dir = datapath + os.sep + \"trees_gnps\"\n",
    "fragments_path = datapath + os.sep + \"fragment_occurences.csv\"\n",
    "losses_path = datapath + os.sep + \"losses_occurences.csv\""
   ]
  },
  {
   "cell_type": "code",
   "execution_count": 4,
   "metadata": {},
   "outputs": [],
   "source": [
    "fragments = []\n",
    "losses = []\n",
    "\n",
    "for file in os.listdir(json_file_dir):\n",
    "    filepath = os.path.join(json_file_dir, file)\n",
    "\n",
    "    with open(filepath, 'r') as f:\n",
    "        data = json.load(f)\n",
    "\n",
    "    for fragment in data['fragments']:\n",
    "        fragments.append(fragment['molecularFormula'])\n",
    "\n",
    "    for loss in data['losses']:\n",
    "        losses.append(loss['molecularFormula'])"
   ]
  },
  {
   "cell_type": "code",
   "execution_count": 5,
   "metadata": {},
   "outputs": [],
   "source": [
    "fragments_counter = Counter(fragments).most_common()\n",
    "losses_counter = Counter(losses).most_common()"
   ]
  },
  {
   "cell_type": "code",
   "execution_count": 6,
   "metadata": {},
   "outputs": [],
   "source": [
    "with open(fragments_path, 'w') as f:\n",
    "    for formula, occurences in fragments_counter:\n",
    "        if int(occurences) > 3:\n",
    "            f.write(str(formula) + \",\" + str(occurences) + \"\\n\")\n",
    "\n",
    "with open(losses_path, 'w') as f:\n",
    "    for formula, occurences in losses_counter:\n",
    "        if int(occurences) > 3:\n",
    "            f.write(str(formula) + \",\" + str(occurences) + \"\\n\")"
   ]
  },
  {
   "cell_type": "code",
   "execution_count": 7,
   "metadata": {},
   "outputs": [],
   "source": [
    "fragments_x_axis = range(1, fragments_counter[0][1])\n",
    "fragments_y_axis = []\n",
    "for x in fragments_x_axis:\n",
    "    fragments_y_axis.append(len([fragment for fragment in fragments_counter if fragment[1] >= x]))\n",
    "    \n",
    "fragments_y_axis = np.log(fragments_y_axis)\n",
    "\n",
    "losses_x_axis = np.log(range(1, losses_counter[0][1]))\n",
    "losses_y_axis = []\n",
    "for x in losses_x_axis:\n",
    "    losses_y_axis.append(len([loss for loss in losses_counter if loss[1] >= x]))\n",
    "\n",
    "losses_y_axis = np.log(losses_y_axis)"
   ]
  },
  {
   "cell_type": "code",
   "execution_count": 8,
   "metadata": {},
   "outputs": [
    {
     "data": {
      "image/png": "[encoded data removed]",
      "text/plain": [
       "<Figure size 432x288 with 1 Axes>"
      ]
     },
     "metadata": {
      "needs_background": "light"
     },
     "output_type": "display_data"
    }
   ],
   "source": [
    "frag_plt = plt.plot(fragments_x_axis, fragments_y_axis, label='fragments')\n",
    "loss_plt = plt.plot(losses_x_axis, losses_y_axis, label='losses')\n",
    "plt.xlabel(\"at least tree\")\n",
    "plt.ylabel(\"log number of samples\")\n",
    "\n",
    "plt.legend()"
   ]
  },
  {
   "cell_type": "code",
   "execution_count": null,
   "metadata": {},
   "outputs": [],
   "source": []
  }
 ],
 "metadata": {
  "kernelspec": {
   "display_name": "Python 3",
   "language": "python",
   "name": "python3"
  },
  "language_info": {
   "codemirror_mode": {
    "name": "ipython",
    "version": 3
   },
   "file_extension": ".py",
   "mimetype": "text/x-python",
   "name": "python",
   "nbconvert_exporter": "python",
   "pygments_lexer": "ipython3",
   "version": "3.6.6"
  }
 },
 "nbformat": 4,
 "nbformat_minor": 2
}

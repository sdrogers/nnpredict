{
 "cells": [
  {
   "cell_type": "code",
   "execution_count": 1,
   "metadata": {},
   "outputs": [
    {
     "name": "stderr",
     "output_type": "stream",
     "text": [
      "Using TensorFlow backend.\n"
     ]
    }
   ],
   "source": [
    "import os\n",
    "import json\n",
    "import numpy as np\n",
    "import pandas as pd\n",
    "\n",
    "from sklearn import preprocessing\n",
    "from sklearn import metrics\n",
    "import matplotlib\n",
    "from matplotlib import pyplot as plt\n",
    "from keras.layers import Input, Dense, Lambda, concatenate, Conv1D, Concatenate, Flatten, MaxPooling1D\n",
    "from keras.models import Model\n",
    "from itertools import islice"
   ]
  },
  {
   "cell_type": "code",
   "execution_count": 2,
   "metadata": {},
   "outputs": [],
   "source": [
    "json_file_dir = \"G:\\\\Dev\\\\trees_gnps\"\n",
    "gnps_dir = \"G:\\\\Dev\\\\Data\\\\GNPS\"\n",
    "fragments_occurences = \"G:\\\\Dev\\\\fragment_occurences.csv\"\n",
    "fingerprints_names_path = \"G:\\\\Dev\\\\Data\\\\1000\\\\GNPS Python Master\\\\Fingerprint Legend.txt\""
   ]
  },
  {
   "cell_type": "code",
   "execution_count": 3,
   "metadata": {},
   "outputs": [],
   "source": [
    "fragments_df = pd.read_csv(fragments_occurences, names=[\"formula\", \"occurences\"])\n",
    "fragments_df = fragments_df.set_index(\"formula\")"
   ]
  },
  {
   "cell_type": "code",
   "execution_count": 4,
   "metadata": {},
   "outputs": [
    {
     "name": "stdout",
     "output_type": "stream",
     "text": [
      "Index(['C9H6', 'C8H8', 'C8H6', 'C9H8', 'C10H8', 'C8H8O', 'C7H6', 'C11H8',\n",
      "       'C7H6O', 'C9H10',\n",
      "       ...\n",
      "       'C3H3NS', 'C4H7N3O', 'C5H8ClN5', 'C4H6ClN3', 'CClN', 'C3H2N2',\n",
      "       'C7H3Cl2NO', 'C3O', 'HO2P', 'C4H11O3PS'],\n",
      "      dtype='object', name='formula', length=4616)\n"
     ]
    }
   ],
   "source": [
    "print(fragments_df.index)"
   ]
  },
  {
   "cell_type": "code",
   "execution_count": 5,
   "metadata": {},
   "outputs": [],
   "source": [
    "def read_tree(filepath, fragment_formula):\n",
    "    fragments = {}\n",
    "    \n",
    "    with open(filepath, 'r') as f:\n",
    "        data = json.load(f)\n",
    "\n",
    "    for fragment in data['fragments']:\n",
    "        if fragment['molecularFormula'] in fragment_formula:\n",
    "            if \"intensity\" in fragment:\n",
    "                fragments[(fragment['molecularFormula'])] = float(fragment['intensity'])\n",
    "     \n",
    "    return fragments"
   ]
  },
  {
   "cell_type": "code",
   "execution_count": 6,
   "metadata": {},
   "outputs": [
    {
     "name": "stdout",
     "output_type": "stream",
     "text": [
      "{'C45H69N5O8S': 0.0}\n"
     ]
    }
   ],
   "source": [
    "tree_path = json_file_dir + os.sep + \"CCMSLIB00000001601.json\"\n",
    "fragments = read_tree(tree_path, fragments_df.index)\n",
    "print(fragments)"
   ]
  },
  {
   "cell_type": "code",
   "execution_count": 7,
   "metadata": {},
   "outputs": [],
   "source": [
    "def dict_is_empty(sample_dict):\n",
    "    return len(sample_dict.keys()) == 0\n",
    "\n",
    "def get_mol_names(path_dir):\n",
    "    return [file[:-3] for file in os.listdir(path_dir)]\n",
    "\n",
    "def load_tree(path_dir, fragments_formula):\n",
    "    mol_ids = get_mol_names(path_dir)\n",
    "    intensities = pd.DataFrame(0.0, index=mol_ids, columns=fragments_formula, dtype=float)\n",
    "    for file in os.listdir(path_dir):\n",
    "        mol_name = file[:-3]\n",
    "        tree_path = json_file_dir + os.sep + mol_name + \".json\"\n",
    "        fragments = read_tree(tree_path, fragments_formula)\n",
    "        if dict_is_empty(fragments):\n",
    "            intensities.drop([mol_name], inplace=True)\n",
    "        else:\n",
    "            for fragment, intensity in fragments.items():\n",
    "                intensities.at[mol_name, fragment] = float(intensity)\n",
    "            if np.amax(intensities.loc[mol_name].values) > 0:\n",
    "                intensities.loc[mol_name] = intensities.loc[mol_name].div(np.amax(intensities.loc[mol_name].values)).mul(999)\n",
    "            else:\n",
    "                intensities.drop([mol_name], inplace=True)\n",
    "    return intensities\n"
   ]
  },
  {
   "cell_type": "code",
   "execution_count": 8,
   "metadata": {},
   "outputs": [
    {
     "name": "stdout",
     "output_type": "stream",
     "text": [
      "formula                   C9H6        C8H8        C8H6        C9H8      C10H8  \\\n",
      "CCMSLIB00000001563    0.000000    0.000000    0.000000    0.000000   0.000000   \n",
      "CCMSLIB00000001566    0.000000    0.000000    0.000000    0.000000   0.000000   \n",
      "CCMSLIB00000001570    0.000000    0.000000    0.000000    0.000000   0.000000   \n",
      "CCMSLIB00000001574    0.000000    0.000000   55.197472    0.000000   0.000000   \n",
      "CCMSLIB00000001576    0.000000    0.000000    0.000000    0.000000   0.000000   \n",
      "CCMSLIB00000001590    0.000000    0.000000    0.000000    0.000000   0.000000   \n",
      "CCMSLIB00000001598    0.000000    0.000000    0.000000    0.000000   0.000000   \n",
      "CCMSLIB00000001600    0.000000    0.000000    0.000000    0.000000   0.000000   \n",
      "CCMSLIB00000001606    0.000000    0.000000    0.000000    0.000000   0.000000   \n",
      "CCMSLIB00000001607    0.000000    0.000000    0.000000    0.000000   0.000000   \n",
      "CCMSLIB00000001609    0.000000    0.000000    0.000000    0.000000   0.000000   \n",
      "CCMSLIB00000001615  108.091153  920.021984  130.700571  138.422146  75.584588   \n",
      "CCMSLIB00000001616    0.000000    0.000000    0.000000    0.000000   0.000000   \n",
      "CCMSLIB00000001617    0.000000    0.000000    0.000000    0.000000   0.000000   \n",
      "CCMSLIB00000001621    0.000000    0.000000    0.000000    0.000000   0.000000   \n",
      "CCMSLIB00000001622    0.000000    0.000000    0.000000    0.000000   0.000000   \n",
      "CCMSLIB00000001623    0.000000    0.000000    0.000000    0.000000   0.000000   \n",
      "CCMSLIB00000001624    0.000000    0.000000    0.000000    0.000000   0.000000   \n",
      "CCMSLIB00000001625    0.000000    0.000000    0.000000    0.000000   0.000000   \n",
      "CCMSLIB00000001631    0.000000    0.000000    0.000000    0.000000   0.000000   \n",
      "CCMSLIB00000001635    0.000000  203.258469    0.000000    0.000000   0.000000   \n",
      "CCMSLIB00000001637    0.000000    0.000000    0.000000    0.000000   0.000000   \n",
      "CCMSLIB00000001641   67.466111  635.008502   54.094224  115.998228  93.817666   \n",
      "CCMSLIB00000001643    0.000000    0.000000    0.000000    0.000000   0.000000   \n",
      "CCMSLIB00000001645   10.997551    0.000000   14.596147    0.000000   0.000000   \n",
      "CCMSLIB00000001651    0.000000    0.000000    0.000000    0.000000   0.000000   \n",
      "CCMSLIB00000001653    0.000000  250.889544    0.000000   61.134484   0.000000   \n",
      "CCMSLIB00000001655    0.000000    0.000000    0.000000    0.000000   0.000000   \n",
      "CCMSLIB00000001673    0.000000    0.000000   38.010933    0.000000   0.000000   \n",
      "CCMSLIB00000001676    0.000000    0.000000    0.000000    0.000000   0.000000   \n",
      "...                        ...         ...         ...         ...        ...   \n",
      "CCMSLIB00000579895    0.000000   16.215152    0.000000    3.983881   0.000000   \n",
      "CCMSLIB00000579896    0.000000    2.842561    0.000000    0.000000   0.000000   \n",
      "CCMSLIB00000579897    0.000000    0.000000    0.000000    0.000000   0.000000   \n",
      "CCMSLIB00000579898    0.000000    0.000000    0.000000    0.000000   0.000000   \n",
      "CCMSLIB00000579899    0.000000    0.000000    0.000000    0.000000   0.000000   \n",
      "CCMSLIB00000579900    0.000000    0.000000    0.000000    0.000000   0.000000   \n",
      "CCMSLIB00000579901    0.000000    0.000000    0.000000    0.000000   0.000000   \n",
      "CCMSLIB00000579902   24.428446    0.000000    0.000000    0.000000   0.000000   \n",
      "CCMSLIB00000579903   25.759434    0.000000    0.000000    0.000000   0.000000   \n",
      "CCMSLIB00000579904    0.000000    0.000000    0.000000    0.000000   0.000000   \n",
      "CCMSLIB00000579905    0.000000    0.000000    0.000000    0.000000   0.000000   \n",
      "CCMSLIB00000579906    0.000000    0.000000    0.000000    0.000000   0.000000   \n",
      "CCMSLIB00000579907    0.000000    0.000000    0.000000    0.000000   0.000000   \n",
      "CCMSLIB00000579908    0.000000    0.000000    0.000000    0.000000   0.000000   \n",
      "CCMSLIB00000579909    0.000000    0.000000    0.000000    0.000000   0.000000   \n",
      "CCMSLIB00000579910    0.000000    0.000000    0.000000    0.000000   0.000000   \n",
      "CCMSLIB00000579911   11.321120   73.823491   16.673117    0.000000   0.000000   \n",
      "CCMSLIB00000579912    0.000000    0.000000    0.000000    0.000000   0.000000   \n",
      "CCMSLIB00000579913    0.000000    0.000000    0.000000    0.000000   0.000000   \n",
      "CCMSLIB00000579914    0.000000    0.000000    0.000000    0.000000   0.000000   \n",
      "CCMSLIB00000579915    0.000000    0.000000    0.000000    0.000000   0.000000   \n",
      "CCMSLIB00000579916    0.000000    0.000000    0.000000    0.000000   0.000000   \n",
      "CCMSLIB00000579917    0.000000    0.000000    0.000000    0.000000   0.000000   \n",
      "CCMSLIB00000579918    0.000000    0.000000    0.000000    0.000000   0.000000   \n",
      "CCMSLIB00000579919    0.000000    0.000000    0.000000    0.000000   0.000000   \n",
      "CCMSLIB00000579921    0.000000    0.000000    0.000000    0.000000   0.000000   \n",
      "CCMSLIB00000579922    0.000000   17.096638   19.184115    0.000000   0.000000   \n",
      "CCMSLIB00000579923    0.000000   59.808952   60.044229    2.486746   0.000000   \n",
      "CCMSLIB00000579924    0.000000    0.000000    0.000000    0.000000   0.000000   \n",
      "CCMSLIB00000579925    0.000000    0.000000    0.000000    0.000000   0.000000   \n",
      "\n",
      "formula                  C8H8O        C7H6      C11H8  C7H6O       C9H10  \\\n",
      "CCMSLIB00000001563    0.000000    0.000000   0.000000    0.0    0.000000   \n",
      "CCMSLIB00000001566    0.000000    0.000000   0.000000    0.0    0.000000   \n",
      "CCMSLIB00000001570    0.000000    0.000000   0.000000    0.0    0.000000   \n",
      "CCMSLIB00000001574    0.000000    0.000000   0.000000    0.0    0.000000   \n",
      "CCMSLIB00000001576    0.000000    0.000000   0.000000    0.0    0.000000   \n",
      "CCMSLIB00000001590    0.000000    0.000000   0.000000    0.0    0.000000   \n",
      "CCMSLIB00000001598    0.000000    0.000000   0.000000    0.0    0.000000   \n",
      "CCMSLIB00000001600    0.000000    0.000000   0.000000    0.0    0.000000   \n",
      "CCMSLIB00000001606    0.000000    0.000000   0.000000    0.0    0.000000   \n",
      "CCMSLIB00000001607    0.000000    0.000000   0.000000    0.0    0.000000   \n",
      "CCMSLIB00000001609    0.000000    0.000000   0.000000    0.0    0.000000   \n",
      "CCMSLIB00000001615  102.126390    0.000000   0.000000    0.0  362.824200   \n",
      "CCMSLIB00000001616    0.000000    0.000000   0.000000    0.0    0.000000   \n",
      "CCMSLIB00000001617    0.000000    0.000000   0.000000    0.0    0.000000   \n",
      "CCMSLIB00000001621    0.000000    0.000000   0.000000    0.0    0.000000   \n",
      "CCMSLIB00000001622    0.000000    0.000000   0.000000    0.0    0.000000   \n",
      "CCMSLIB00000001623    0.000000    0.000000   0.000000    0.0    0.000000   \n",
      "CCMSLIB00000001624    0.000000    0.000000   0.000000    0.0    0.000000   \n",
      "CCMSLIB00000001625    0.000000    0.000000   0.000000    0.0    0.000000   \n",
      "CCMSLIB00000001631    0.000000    0.000000   0.000000    0.0    0.000000   \n",
      "CCMSLIB00000001635  167.714439  156.339509   0.000000    0.0  173.853241   \n",
      "CCMSLIB00000001637    0.000000    0.000000   0.000000    0.0    0.000000   \n",
      "CCMSLIB00000001641  130.259162  607.552990   0.000000    0.0  218.775401   \n",
      "CCMSLIB00000001643    0.000000    0.000000   0.000000    0.0    0.000000   \n",
      "CCMSLIB00000001645    0.000000   15.485008   0.000000    0.0    0.000000   \n",
      "CCMSLIB00000001651    0.000000    0.000000   0.000000    0.0    0.000000   \n",
      "CCMSLIB00000001653  226.075512    0.000000   0.000000    0.0  187.154669   \n",
      "CCMSLIB00000001655    0.000000    0.000000   0.000000    0.0    0.000000   \n",
      "CCMSLIB00000001673    0.000000    0.000000   0.000000    0.0    0.000000   \n",
      "CCMSLIB00000001676    0.000000    0.000000   0.000000    0.0    0.000000   \n",
      "...                        ...         ...        ...    ...         ...   \n",
      "CCMSLIB00000579895    5.291784   10.636787   0.000000    0.0   21.014219   \n",
      "CCMSLIB00000579896    0.000000  550.911212   0.000000    0.0    0.000000   \n",
      "CCMSLIB00000579897    0.000000    0.000000   0.000000    0.0    0.000000   \n",
      "CCMSLIB00000579898    0.000000    0.000000   0.000000    0.0    0.000000   \n",
      "CCMSLIB00000579899    0.000000    0.000000   0.000000    0.0    0.000000   \n",
      "CCMSLIB00000579900    0.000000    0.000000  14.501466    0.0    0.000000   \n",
      "CCMSLIB00000579901   18.488834   28.212627   0.000000    0.0    0.000000   \n",
      "CCMSLIB00000579902    0.000000    0.000000   0.000000    0.0    0.000000   \n",
      "CCMSLIB00000579903    0.000000    0.000000   0.000000    0.0    0.000000   \n",
      "CCMSLIB00000579904    0.000000    0.000000   0.000000    0.0    0.000000   \n",
      "CCMSLIB00000579905    0.000000    0.000000   0.000000    0.0    0.000000   \n",
      "CCMSLIB00000579906    0.000000    0.000000   0.000000    0.0    0.000000   \n",
      "CCMSLIB00000579907    0.000000  999.000000   0.000000    0.0    0.000000   \n",
      "CCMSLIB00000579908    0.000000    0.000000   0.000000    0.0    0.000000   \n",
      "CCMSLIB00000579909    0.000000  999.000000   0.000000    0.0    0.000000   \n",
      "CCMSLIB00000579910    0.000000    0.000000   0.000000    0.0    0.000000   \n",
      "CCMSLIB00000579911    0.000000   88.658134   0.000000    0.0    0.000000   \n",
      "CCMSLIB00000579912    0.000000    0.000000   0.000000    0.0    0.000000   \n",
      "CCMSLIB00000579913    0.000000    0.000000   0.000000    0.0    0.000000   \n",
      "CCMSLIB00000579914    0.000000    0.000000   0.000000    0.0    0.000000   \n",
      "CCMSLIB00000579915    0.000000    0.000000   0.000000    0.0    0.000000   \n",
      "CCMSLIB00000579916    0.000000    0.000000   0.000000    0.0    0.000000   \n",
      "CCMSLIB00000579917    0.000000    0.000000   0.000000    0.0    0.000000   \n",
      "CCMSLIB00000579918    0.000000    0.000000   0.000000    0.0    0.000000   \n",
      "CCMSLIB00000579919    0.000000    0.000000   0.000000    0.0    0.000000   \n",
      "CCMSLIB00000579921    0.000000    0.000000   0.000000    0.0    0.000000   \n",
      "CCMSLIB00000579922    0.000000    0.000000   0.000000    0.0    0.000000   \n",
      "CCMSLIB00000579923    0.000000   11.613614   0.000000    0.0    0.000000   \n",
      "CCMSLIB00000579924    0.000000    0.000000   0.000000    0.0    0.000000   \n",
      "CCMSLIB00000579925    0.000000    0.000000   0.000000    0.0    0.000000   \n",
      "\n",
      "formula                ...      C3H3NS  C4H7N3O  C5H8ClN5  C4H6ClN3  CClN  \\\n",
      "CCMSLIB00000001563     ...         0.0      0.0       0.0       0.0   0.0   \n",
      "CCMSLIB00000001566     ...         0.0      0.0       0.0       0.0   0.0   \n",
      "CCMSLIB00000001570     ...         0.0      0.0       0.0       0.0   0.0   \n",
      "CCMSLIB00000001574     ...         0.0      0.0       0.0       0.0   0.0   \n",
      "CCMSLIB00000001576     ...         0.0      0.0       0.0       0.0   0.0   \n",
      "CCMSLIB00000001590     ...         0.0      0.0       0.0       0.0   0.0   \n",
      "CCMSLIB00000001598     ...         0.0      0.0       0.0       0.0   0.0   \n",
      "CCMSLIB00000001600     ...         0.0      0.0       0.0       0.0   0.0   \n",
      "CCMSLIB00000001606     ...         0.0      0.0       0.0       0.0   0.0   \n",
      "CCMSLIB00000001607     ...         0.0      0.0       0.0       0.0   0.0   \n",
      "CCMSLIB00000001609     ...         0.0      0.0       0.0       0.0   0.0   \n",
      "CCMSLIB00000001615     ...         0.0      0.0       0.0       0.0   0.0   \n",
      "CCMSLIB00000001616     ...         0.0      0.0       0.0       0.0   0.0   \n",
      "CCMSLIB00000001617     ...         0.0      0.0       0.0       0.0   0.0   \n",
      "CCMSLIB00000001621     ...         0.0      0.0       0.0       0.0   0.0   \n",
      "CCMSLIB00000001622     ...         0.0      0.0       0.0       0.0   0.0   \n",
      "CCMSLIB00000001623     ...         0.0      0.0       0.0       0.0   0.0   \n",
      "CCMSLIB00000001624     ...         0.0      0.0       0.0       0.0   0.0   \n",
      "CCMSLIB00000001625     ...         0.0      0.0       0.0       0.0   0.0   \n",
      "CCMSLIB00000001631     ...         0.0      0.0       0.0       0.0   0.0   \n",
      "CCMSLIB00000001635     ...         0.0      0.0       0.0       0.0   0.0   \n",
      "CCMSLIB00000001637     ...         0.0      0.0       0.0       0.0   0.0   \n",
      "CCMSLIB00000001641     ...         0.0      0.0       0.0       0.0   0.0   \n",
      "CCMSLIB00000001643     ...         0.0      0.0       0.0       0.0   0.0   \n",
      "CCMSLIB00000001645     ...         0.0      0.0       0.0       0.0   0.0   \n",
      "CCMSLIB00000001651     ...         0.0      0.0       0.0       0.0   0.0   \n",
      "CCMSLIB00000001653     ...         0.0      0.0       0.0       0.0   0.0   \n",
      "CCMSLIB00000001655     ...         0.0      0.0       0.0       0.0   0.0   \n",
      "CCMSLIB00000001673     ...         0.0      0.0       0.0       0.0   0.0   \n",
      "CCMSLIB00000001676     ...         0.0      0.0       0.0       0.0   0.0   \n",
      "...                    ...         ...      ...       ...       ...   ...   \n",
      "CCMSLIB00000579895     ...         0.0      0.0       0.0       0.0   0.0   \n",
      "CCMSLIB00000579896     ...         0.0      0.0       0.0       0.0   0.0   \n",
      "CCMSLIB00000579897     ...         0.0      0.0       0.0       0.0   0.0   \n",
      "CCMSLIB00000579898     ...         0.0      0.0       0.0       0.0   0.0   \n",
      "CCMSLIB00000579899     ...         0.0      0.0       0.0       0.0   0.0   \n",
      "CCMSLIB00000579900     ...         0.0      0.0       0.0       0.0   0.0   \n",
      "CCMSLIB00000579901     ...         0.0      0.0       0.0       0.0   0.0   \n",
      "CCMSLIB00000579902     ...         0.0      0.0       0.0       0.0   0.0   \n",
      "CCMSLIB00000579903     ...         0.0      0.0       0.0       0.0   0.0   \n",
      "CCMSLIB00000579904     ...         0.0      0.0       0.0       0.0   0.0   \n",
      "CCMSLIB00000579905     ...         0.0      0.0       0.0       0.0   0.0   \n",
      "CCMSLIB00000579906     ...         0.0      0.0       0.0       0.0   0.0   \n",
      "CCMSLIB00000579907     ...         0.0      0.0       0.0       0.0   0.0   \n",
      "CCMSLIB00000579908     ...         0.0      0.0       0.0       0.0   0.0   \n",
      "CCMSLIB00000579909     ...         0.0      0.0       0.0       0.0   0.0   \n",
      "CCMSLIB00000579910     ...         0.0      0.0       0.0       0.0   0.0   \n",
      "CCMSLIB00000579911     ...         0.0      0.0       0.0       0.0   0.0   \n",
      "CCMSLIB00000579912     ...         0.0      0.0       0.0       0.0   0.0   \n",
      "CCMSLIB00000579913     ...         0.0      0.0       0.0       0.0   0.0   \n",
      "CCMSLIB00000579914     ...         0.0      0.0       0.0       0.0   0.0   \n",
      "CCMSLIB00000579915     ...         0.0      0.0       0.0       0.0   0.0   \n",
      "CCMSLIB00000579916     ...         0.0      0.0       0.0       0.0   0.0   \n",
      "CCMSLIB00000579917     ...         0.0      0.0       0.0       0.0   0.0   \n",
      "CCMSLIB00000579918     ...         0.0      0.0       0.0       0.0   0.0   \n",
      "CCMSLIB00000579919     ...         0.0      0.0       0.0       0.0   0.0   \n",
      "CCMSLIB00000579921     ...         0.0      0.0       0.0       0.0   0.0   \n",
      "CCMSLIB00000579922     ...         0.0      0.0       0.0       0.0   0.0   \n",
      "CCMSLIB00000579923     ...         0.0      0.0       0.0       0.0   0.0   \n",
      "CCMSLIB00000579924     ...         0.0      0.0       0.0       0.0   0.0   \n",
      "CCMSLIB00000579925     ...         0.0      0.0       0.0       0.0   0.0   \n",
      "\n",
      "formula             C3H2N2  C7H3Cl2NO        C3O      HO2P   C4H11O3PS  \n",
      "CCMSLIB00000001563     0.0        0.0   0.000000  0.000000    0.000000  \n",
      "CCMSLIB00000001566     0.0        0.0   0.000000  0.000000    0.000000  \n",
      "CCMSLIB00000001570     0.0        0.0   0.000000  0.000000    0.000000  \n",
      "CCMSLIB00000001574     0.0        0.0   0.000000  0.000000    0.000000  \n",
      "CCMSLIB00000001576     0.0        0.0   0.000000  0.000000    0.000000  \n",
      "CCMSLIB00000001590     0.0        0.0   0.000000  0.000000    0.000000  \n",
      "CCMSLIB00000001598     0.0        0.0   0.000000  0.000000    0.000000  \n",
      "CCMSLIB00000001600     0.0        0.0   0.000000  0.000000    0.000000  \n",
      "CCMSLIB00000001606     0.0        0.0   0.000000  0.000000    0.000000  \n",
      "CCMSLIB00000001607     0.0        0.0   0.000000  0.000000    0.000000  \n",
      "CCMSLIB00000001609     0.0        0.0   0.000000  0.000000    0.000000  \n",
      "CCMSLIB00000001615     0.0        0.0   0.000000  0.000000    0.000000  \n",
      "CCMSLIB00000001616     0.0        0.0   0.000000  0.000000    0.000000  \n",
      "CCMSLIB00000001617     0.0        0.0   0.000000  0.000000    0.000000  \n",
      "CCMSLIB00000001621     0.0        0.0   0.000000  0.000000    0.000000  \n",
      "CCMSLIB00000001622     0.0        0.0   0.000000  0.000000    0.000000  \n",
      "CCMSLIB00000001623     0.0        0.0   0.000000  0.000000    0.000000  \n",
      "CCMSLIB00000001624     0.0        0.0   0.000000  0.000000    0.000000  \n",
      "CCMSLIB00000001625     0.0        0.0   0.000000  0.000000    0.000000  \n",
      "CCMSLIB00000001631     0.0        0.0   0.000000  0.000000    0.000000  \n",
      "CCMSLIB00000001635     0.0        0.0   0.000000  0.000000    0.000000  \n",
      "CCMSLIB00000001637     0.0        0.0   0.000000  0.000000    0.000000  \n",
      "CCMSLIB00000001641     0.0        0.0   0.000000  0.000000    0.000000  \n",
      "CCMSLIB00000001643     0.0        0.0   0.000000  0.000000    0.000000  \n",
      "CCMSLIB00000001645     0.0        0.0   0.000000  0.000000    0.000000  \n",
      "CCMSLIB00000001651     0.0        0.0   0.000000  0.000000    0.000000  \n",
      "CCMSLIB00000001653     0.0        0.0   0.000000  0.000000    0.000000  \n",
      "CCMSLIB00000001655     0.0        0.0   0.000000  0.000000    0.000000  \n",
      "CCMSLIB00000001673     0.0        0.0   0.000000  0.000000    0.000000  \n",
      "CCMSLIB00000001676     0.0        0.0   0.000000  0.000000    0.000000  \n",
      "...                    ...        ...        ...       ...         ...  \n",
      "CCMSLIB00000579895     0.0        0.0   0.000000  0.000000    0.000000  \n",
      "CCMSLIB00000579896     0.0        0.0   0.000000  0.000000    0.000000  \n",
      "CCMSLIB00000579897     0.0        0.0   0.000000  0.000000    0.000000  \n",
      "CCMSLIB00000579898     0.0        0.0   0.000000  0.000000    7.558624  \n",
      "CCMSLIB00000579899     0.0        0.0   0.000000  0.000000    0.000000  \n",
      "CCMSLIB00000579900     0.0        0.0   0.000000  0.000000    0.000000  \n",
      "CCMSLIB00000579901     0.0        0.0   0.000000  0.000000    0.000000  \n",
      "CCMSLIB00000579902     0.0        0.0   0.000000  0.000000    0.000000  \n",
      "CCMSLIB00000579903     0.0        0.0   0.000000  0.000000    0.000000  \n",
      "CCMSLIB00000579904     0.0        0.0   0.000000  0.000000    0.000000  \n",
      "CCMSLIB00000579905     0.0        0.0   0.000000  0.000000    0.000000  \n",
      "CCMSLIB00000579906     0.0        0.0   0.000000  0.000000    0.000000  \n",
      "CCMSLIB00000579907     0.0        0.0   0.000000  0.000000    0.000000  \n",
      "CCMSLIB00000579908     0.0        0.0   0.000000  0.000000    0.000000  \n",
      "CCMSLIB00000579909     0.0        0.0   0.000000  0.000000    0.000000  \n",
      "CCMSLIB00000579910     0.0        0.0   0.000000  0.000000    0.000000  \n",
      "CCMSLIB00000579911     0.0        0.0   0.000000  0.000000    0.000000  \n",
      "CCMSLIB00000579912     0.0        0.0   0.000000  0.000000    0.000000  \n",
      "CCMSLIB00000579913     0.0        0.0   0.000000  0.000000    0.000000  \n",
      "CCMSLIB00000579914     0.0        0.0  12.962126  0.000000    0.000000  \n",
      "CCMSLIB00000579915     0.0        0.0   0.000000  0.000000    0.000000  \n",
      "CCMSLIB00000579916     0.0        0.0   0.000000  0.000000    0.000000  \n",
      "CCMSLIB00000579917     0.0        0.0   3.071365  0.000000    0.000000  \n",
      "CCMSLIB00000579918     0.0        0.0   0.000000  5.551527  138.277510  \n",
      "CCMSLIB00000579919     0.0        0.0   0.000000  0.000000    0.000000  \n",
      "CCMSLIB00000579921     0.0        0.0   0.000000  0.000000    0.000000  \n",
      "CCMSLIB00000579922     0.0        0.0   0.000000  0.000000    0.000000  \n",
      "CCMSLIB00000579923     0.0        0.0   0.000000  0.000000    0.000000  \n",
      "CCMSLIB00000579924     0.0        0.0   0.000000  0.000000    0.000000  \n",
      "CCMSLIB00000579925     0.0        0.0   0.000000  0.000000    0.000000  \n",
      "\n",
      "[5421 rows x 4616 columns]\n"
     ]
    }
   ],
   "source": [
    "intensities = load_tree(gnps_dir, fragments_df.index)\n",
    "print(intensities)"
   ]
  },
  {
   "cell_type": "code",
   "execution_count": 9,
   "metadata": {},
   "outputs": [],
   "source": [
    "# Loads a master file containing peak intensities for all molecules.\n",
    "# Each molecule's spectrum is added as a 1000 element row to a Pandas dataframe\n",
    "# The dataframe is then converted into a numpy array for use as Keras Input.\n",
    "# Include the option of adding additonal features to each molecule (mass_shifts variable)\n",
    "def load_master_file(path, mass_shifts = 0, number_of_bins = 1000):\n",
    "    mol_all = np.loadtxt(path, dtype=\"U25\") # Get master file in as numpy array\n",
    "    \n",
    "    mol_ids = np.unique(mol_all[:, 0])  # Trim duplicate filename rows, store unique filenames\n",
    "    # Construct empty Pandas dataframe of correct size.\n",
    "    # Number of rows is equal to the number of unique molecules (found in mol_ids).\n",
    "    intensities = pd.DataFrame(0.0, index = mol_ids, columns=range(number_of_bins), dtype=float)\n",
    "    \n",
    "    # Populate the dataframe using each molecule's filename to place data in the correct row.\n",
    "    for row in mol_all:\n",
    "        intensities.at[row[0], int(float(row[1]))-1] = float(row[2])\n",
    "    \n",
    "    return intensities\n",
    "\n",
    "# Load a master file containing CDK fingerprints for all molecules.\n",
    "# Each molecules CDK bit set is added as a 320 element array to a Pandas dataframe.\n",
    "def load_fingerprints_master(path, number_of_rows=0):\n",
    "    BITS = 307  # Total number of bits in fingerprint\n",
    "\n",
    "    fp_all = np.loadtxt(path, dtype=\"U25\", skiprows=number_of_rows) # Get master file as numpy array of Strings\n",
    "    fp_ids = np.unique(fp_all[:, 0]) # Trim duplicate filename rows, store unique filenames\n",
    "\n",
    "    # Construct empty Pandas dataframe of correct size.\n",
    "    # Number of rows is equal to the number of unique molecules (found in fp_ids).\n",
    "    fingerprints = pd.DataFrame(0, index = fp_ids, columns=range(BITS), dtype=int)\n",
    "\n",
    "    # Populate the dataframe using each molecule's filename to place data in the correct row.\n",
    "    for row in fp_all:\n",
    "        fingerprints.at[row[0], int(row[1])] = int(row[2])\n",
    "\n",
    "    # Convert populated dataframe into a numpy array for use as output by neural networks.\n",
    "    return fingerprints\n",
    "\n",
    "# Load the names of all substructures included in the CDK fingerprint in the correct order\n",
    "# This is used for boxplots, when performance metrics for individual substructures are calculated.\n",
    "def load_fingerprint_legend():\n",
    "    fingerprint_legend = []\n",
    "    # Open file containing substructure names.\n",
    "    with open(fingerprints_names_path, 'r') as f:\n",
    "        # Add each name to the list of substructure names.\n",
    "        lines = list(islice(f, 0, None))\n",
    "        for line in lines:\n",
    "            fingerprint_legend.append(line)\n",
    "    return fingerprint_legend\n"
   ]
  },
  {
   "cell_type": "code",
   "execution_count": 10,
   "metadata": {},
   "outputs": [],
   "source": [
    "from keras.layers import Input, Dense\n",
    "from keras.models import Model,Sequential\n",
    "from keras.wrappers.scikit_learn import KerasClassifier\n",
    "from sklearn.model_selection import cross_val_score\n",
    "from sklearn.model_selection import StratifiedKFold\n",
    "from keras.optimizers import SGD\n",
    "    \n",
    "def baseline_model(x_train_spectra, x_train_fingerprints):\n",
    "    class_model = Sequential()\n",
    "    class_model.add(Dense(500, input_dim=x_train_spectra.shape[1], kernel_initializer='normal', activation='relu'))\n",
    "    class_model.add(Dense(x_train_fingerprints.shape[1],kernel_initializer='normal',activation = 'sigmoid'))\n",
    "    class_model.compile(loss='binary_crossentropy', optimizer='adam', metrics=['accuracy'])\n",
    "    \n",
    "    return class_model\n",
    "\n",
    "def comparison_model(x_train_formula, x_train_fingerprints):\n",
    "    class_model = Sequential()\n",
    "    class_model.add(Dense(2500, input_dim=x_train_formula.shape[1], kernel_initializer='normal', activation='relu'))\n",
    "    class_model.add(Dense(1200,kernel_initializer='normal',activation = 'relu'))\n",
    "    class_model.add(Dense(600,kernel_initializer='normal',activation = 'relu'))\n",
    "    class_model.add(Dense(x_train_fingerprints.shape[1],kernel_initializer='normal',activation = 'sigmoid'))\n",
    "    class_model.compile(loss='binary_crossentropy', optimizer='adam', metrics=['accuracy'])\n",
    "    \n",
    "    return class_model"
   ]
  },
  {
   "cell_type": "code",
   "execution_count": 11,
   "metadata": {},
   "outputs": [],
   "source": [
    "def compute_auc(bits, true, pred):\n",
    "    # Create structured array to hold statistics for each fingerprint.\n",
    "    dtype = [('fp_id', int), ('auc', float)]\n",
    "    mol_stats = np.zeros((bits,), dtype=dtype)\n",
    "    \n",
    "    val_start_index = 0\n",
    "    for fp_id in range(true.shape[1]): # For every substructure      \n",
    "        nonzero_vals = np.count_nonzero(true[val_start_index:, fp_id]) # Count number of nonzero values\n",
    "        if nonzero_vals > 0 and nonzero_vals < true[val_start_index:, fp_id].size:  # If there are no 1s or no 0s, can't compute.\n",
    "            # Compute actual AUC score using only the validation fraction of the dataset.\n",
    "            fp_true = true[val_start_index:, fp_id]\n",
    "            fp_pred = pred[val_start_index:, fp_id]\n",
    "            score = metrics.roc_auc_score(fp_true, fp_pred)\n",
    "\n",
    "            # Update structured array with data or non values if no AUC could be calculated.\n",
    "            mol_stats[fp_id] = (fp_id, score)\n",
    "        else:\n",
    "            mol_stats[fp_id] = (fp_id, 0)\n",
    "        \n",
    "    print(\"Done\")\n",
    "    return mol_stats\n",
    "\n",
    "def compare_aucs(baseline_auc, comparison_auc):\n",
    "    differences = []\n",
    "    \n",
    "    for index, score in enumerate(baseline_auc):\n",
    "        difference = comparison_auc[index] - baseline_auc[index]\n",
    "        differences.append(difference)\n",
    "        \n",
    "    better = [difference for difference in differences if difference > 0]\n",
    "    same = [difference for difference in differences if difference == 0]\n",
    "    worse = [difference for difference in differences if difference < 0]\n",
    "    \n",
    "    plt.scatter(range(307), differences)\n",
    "    plt.title('Tree vs MassIntBin')\n",
    "    plt.xlabel('Substructures')\n",
    "    plt.ylabel('AUC Difference')\n",
    "    plt.show()\n",
    "    \n",
    "    return better, same, worse"
   ]
  },
  {
   "cell_type": "code",
   "execution_count": 12,
   "metadata": {},
   "outputs": [],
   "source": [
    "spectra_path = \"G:\\\\Dev\\\\Data\\\\1000\\\\GNPS Python Master\\\\Final Data.txt\"\n",
    "fingerprints_path = \"G:\\\\Dev\\\\Data\\\\1000\\\\GNPS Python Master\\\\Final Fingerprints.txt\""
   ]
  },
  {
   "cell_type": "code",
   "execution_count": 13,
   "metadata": {},
   "outputs": [],
   "source": [
    "spectra = load_master_file(spectra_path)\n",
    "spectra = spectra[spectra.index.isin(intensities.index)]\n",
    "spectra.sort_index(inplace=True)\n",
    "\n",
    "fingerprints = load_fingerprints_master(fingerprints_path)\n",
    "fingerprints.sort_index(inplace=True)"
   ]
  },
  {
   "cell_type": "code",
   "execution_count": 20,
   "metadata": {},
   "outputs": [
    {
     "name": "stdout",
     "output_type": "stream",
     "text": [
      "(3252, 1000)\n"
     ]
    }
   ],
   "source": [
    "epochs = 100\n",
    "train_spec, validate_spec, test_spec = np.split(spectra.sample(frac=1), [int(.6*len(spectra)), int(.8*len(spectra))])\n",
    "\n",
    "x_train_spectra = np.log(train_spec.values+1)\n",
    "x_validate_spectra = np.log(validate_spec.values+1)\n",
    "\n",
    "x_train_fingerprints = fingerprints[fingerprints.index.isin(train_spec.index)].values\n",
    "x_validate_fingerprints = fingerprints[fingerprints.index.isin(validate_spec.index)].values\n",
    "\n",
    "print(x_train_spectra.shape)"
   ]
  },
  {
   "cell_type": "code",
   "execution_count": 21,
   "metadata": {},
   "outputs": [],
   "source": [
    "b_mod = baseline_model(x_train_spectra, x_train_fingerprints)\n",
    "history = b_mod.fit(x_train_spectra, x_train_fingerprints, epochs=epochs,validation_data=(x_validate_spectra,x_validate_fingerprints), verbose=0)"
   ]
  },
  {
   "cell_type": "code",
   "execution_count": 22,
   "metadata": {},
   "outputs": [],
   "source": [
    "actual = fingerprints[fingerprints.index.isin(test_spec.index)].values\n",
    "predicted = b_mod.predict(np.log(test_spec.values+1))"
   ]
  },
  {
   "cell_type": "code",
   "execution_count": 23,
   "metadata": {},
   "outputs": [
    {
     "name": "stdout",
     "output_type": "stream",
     "text": [
      "Done\n"
     ]
    }
   ],
   "source": [
    "base_stats = compute_auc(307, actual, predicted)"
   ]
  },
  {
   "cell_type": "code",
   "execution_count": 14,
   "metadata": {},
   "outputs": [],
   "source": [
    "intensities.sort_index(inplace=True)\n",
    "train, validate, test = np.split(intensities.sample(frac=1), [int(.6*len(intensities)), int(.8*len(intensities))])"
   ]
  },
  {
   "cell_type": "code",
   "execution_count": 15,
   "metadata": {},
   "outputs": [
    {
     "name": "stdout",
     "output_type": "stream",
     "text": [
      "(3252, 4616)\n"
     ]
    }
   ],
   "source": [
    "epochs = 100\n",
    "x_train_formula = np.log(train.values+1)\n",
    "x_validate_formula = np.log(validate.values+1)\n",
    "\n",
    "x_train_fingerprints = fingerprints[fingerprints.index.isin(train.index)].values\n",
    "x_validate_fingerprints = fingerprints[fingerprints.index.isin(validate.index)].values\n",
    "\n",
    "print(x_train_formula.shape)"
   ]
  },
  {
   "cell_type": "code",
   "execution_count": 16,
   "metadata": {},
   "outputs": [],
   "source": [
    "c_mod = comparison_model(x_train_formula, x_train_fingerprints)\n",
    "history = c_mod.fit(x_train_formula, x_train_fingerprints, epochs=epochs, validation_data=(x_validate_formula,x_validate_fingerprints), verbose=0)"
   ]
  },
  {
   "cell_type": "code",
   "execution_count": 17,
   "metadata": {},
   "outputs": [],
   "source": [
    "actual = fingerprints[fingerprints.index.isin(test.index)].values\n",
    "predicted = c_mod.predict(np.log(test.values+1))"
   ]
  },
  {
   "cell_type": "code",
   "execution_count": 18,
   "metadata": {},
   "outputs": [
    {
     "name": "stdout",
     "output_type": "stream",
     "text": [
      "Done\n"
     ]
    }
   ],
   "source": [
    "exp_stats = compute_auc(307, actual, predicted)"
   ]
  },
  {
   "cell_type": "code",
   "execution_count": 19,
   "metadata": {},
   "outputs": [],
   "source": [
    "fingerprint_names = load_fingerprint_legend()"
   ]
  },
  {
   "cell_type": "code",
   "execution_count": 24,
   "metadata": {},
   "outputs": [
    {
     "data": {
      "image/png": "[encoded data removed]",
      "text/plain": [
       "<Figure size 432x288 with 1 Axes>"
      ]
     },
     "metadata": {
      "needs_background": "light"
     },
     "output_type": "display_data"
    },
    {
     "name": "stdout",
     "output_type": "stream",
     "text": [
      "Improved: 89\n",
      "Stayed same: 140\n",
      "Worsen: 78\n"
     ]
    }
   ],
   "source": [
    "base_aucs = [auc[1] for auc in base_stats]\n",
    "exp_aucs = [auc[1] for auc in exp_stats]\n",
    "better, same, worse = compare_aucs(base_aucs, exp_aucs)\n",
    "print(\"Improved: {}\".format(len(better)))\n",
    "print(\"Stayed same: {}\".format(len(same)))\n",
    "print(\"Worsen: {}\".format(len(worse)))"
   ]
  },
  {
   "cell_type": "code",
   "execution_count": null,
   "metadata": {},
   "outputs": [],
   "source": []
  }
 ],
 "metadata": {
  "kernelspec": {
   "display_name": "Python 3",
   "language": "python",
   "name": "python3"
  },
  "language_info": {
   "codemirror_mode": {
    "name": "ipython",
    "version": 3
   },
   "file_extension": ".py",
   "mimetype": "text/x-python",
   "name": "python",
   "nbconvert_exporter": "python",
   "pygments_lexer": "ipython3",
   "version": "3.6.6"
  }
 },
 "nbformat": 4,
 "nbformat_minor": 2
}

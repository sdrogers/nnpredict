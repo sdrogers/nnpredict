{
 "cells": [
  {
   "cell_type": "code",
   "execution_count": 1,
   "metadata": {},
   "outputs": [
    {
     "name": "stderr",
     "output_type": "stream",
     "text": [
      "Using TensorFlow backend.\n"
     ]
    }
   ],
   "source": [
    "import os\n",
    "import json\n",
    "import numpy as np\n",
    "import pandas as pd\n",
    "\n",
    "from sklearn import preprocessing\n",
    "from sklearn import metrics\n",
    "\n",
    "import matplotlib\n",
    "import math\n",
    "from matplotlib import pyplot as plt\n",
    "from keras.layers import Input, Dense, Lambda, concatenate, Conv1D, Concatenate, Flatten, MaxPooling1D\n",
    "from keras.models import Model\n",
    "from itertools import islice\n",
    "from scipy import stats"
   ]
  },
  {
   "cell_type": "code",
   "execution_count": 2,
   "metadata": {},
   "outputs": [],
   "source": [
    "json_file_dir = \"G:\\\\Dev\\\\trees_gnps\"\n",
    "gnps_dir = \"G:\\\\Dev\\\\Data\\\\GNPS\"\n",
    "fragments_occurences = \"G:\\\\Dev\\\\fragment_occurences.csv\"\n",
    "fingerprints_names_path = \"G:\\\\Dev\\\\Data\\\\1000\\\\GNPS Python Master\\\\Fingerprint Legend.txt\""
   ]
  },
  {
   "cell_type": "code",
   "execution_count": 3,
   "metadata": {},
   "outputs": [],
   "source": [
    "fragments_df = pd.read_csv(fragments_occurences, names=[\"formula\", \"occurences\"])\n",
    "fragments_df = fragments_df.set_index(\"formula\")"
   ]
  },
  {
   "cell_type": "code",
   "execution_count": 4,
   "metadata": {},
   "outputs": [
    {
     "name": "stdout",
     "output_type": "stream",
     "text": [
      "Index(['C9H6', 'C8H8', 'C8H6', 'C9H8', 'C10H8', 'C8H8O', 'C7H6', 'C11H8',\n",
      "       'C7H6O', 'C9H10',\n",
      "       ...\n",
      "       'C3H3NS', 'C4H7N3O', 'C5H8ClN5', 'C4H6ClN3', 'CClN', 'C3H2N2',\n",
      "       'C7H3Cl2NO', 'C3O', 'HO2P', 'C4H11O3PS'],\n",
      "      dtype='object', name='formula', length=4616)\n"
     ]
    }
   ],
   "source": [
    "print(fragments_df.index)"
   ]
  },
  {
   "cell_type": "code",
   "execution_count": 5,
   "metadata": {},
   "outputs": [],
   "source": [
    "def read_tree(filepath, fragment_formula):\n",
    "    fragments = {}\n",
    "    \n",
    "    with open(filepath, 'r') as f:\n",
    "        data = json.load(f)\n",
    "\n",
    "    for fragment in data['fragments']:\n",
    "        if fragment['molecularFormula'] in fragment_formula:\n",
    "            if \"intensity\" in fragment:\n",
    "                fragments[(fragment['molecularFormula'])] = float(fragment['intensity'])\n",
    "     \n",
    "    return fragments"
   ]
  },
  {
   "cell_type": "code",
   "execution_count": 6,
   "metadata": {},
   "outputs": [],
   "source": [
    "def dict_is_empty(sample_dict):\n",
    "    return len(sample_dict.keys()) == 0\n",
    "\n",
    "def get_mol_names(path_dir):\n",
    "    return [file[:-3] for file in os.listdir(path_dir)]\n",
    "\n",
    "def load_tree(path_dir, fragments_formula):\n",
    "    mol_ids = get_mol_names(path_dir)\n",
    "    intensities = pd.DataFrame(0.0, index=mol_ids, columns=fragments_formula, dtype=float)\n",
    "    for file in os.listdir(path_dir):\n",
    "        mol_name = file[:-3]\n",
    "        tree_path = json_file_dir + os.sep + mol_name + \".json\"\n",
    "        fragments = read_tree(tree_path, fragments_formula)\n",
    "        if dict_is_empty(fragments):\n",
    "            intensities.drop([mol_name], inplace=True)\n",
    "        else:\n",
    "            for fragment, intensity in fragments.items():\n",
    "                intensities.at[mol_name, fragment] = float(intensity)\n",
    "            if np.amax(intensities.loc[mol_name].values) > 0:\n",
    "                intensities.loc[mol_name] = intensities.loc[mol_name].div(np.amax(intensities.loc[mol_name].values)).mul(999)\n",
    "            else:\n",
    "                intensities.drop([mol_name], inplace=True)\n",
    "    return intensities\n"
   ]
  },
  {
   "cell_type": "code",
   "execution_count": 7,
   "metadata": {},
   "outputs": [],
   "source": [
    "# Loads a master file containing peak intensities for all molecules.\n",
    "# Each molecule's spectrum is added as a 1000 element row to a Pandas dataframe\n",
    "# The dataframe is then converted into a numpy array for use as Keras Input.\n",
    "# Include the option of adding additonal features to each molecule (mass_shifts variable)\n",
    "def load_master_file(path, mass_shifts = 0, number_of_bins = 1000):\n",
    "    mol_all = np.loadtxt(path, dtype=\"U25\") # Get master file in as numpy array\n",
    "    \n",
    "    mol_ids = np.unique(mol_all[:, 0])  # Trim duplicate filename rows, store unique filenames\n",
    "    # Construct empty Pandas dataframe of correct size.\n",
    "    # Number of rows is equal to the number of unique molecules (found in mol_ids).\n",
    "    intensities = pd.DataFrame(0.0, index = mol_ids, columns=range(number_of_bins), dtype=float)\n",
    "    \n",
    "    # Populate the dataframe using each molecule's filename to place data in the correct row.\n",
    "    for row in mol_all:\n",
    "        intensities.at[row[0], int(float(row[1]))-1] = float(row[2])\n",
    "    \n",
    "    return intensities\n",
    "\n",
    "# Load a master file containing CDK fingerprints for all molecules.\n",
    "# Each molecules CDK bit set is added as a 320 element array to a Pandas dataframe.\n",
    "def load_fingerprints_master(path, number_of_rows=0):\n",
    "    BITS = 307  # Total number of bits in fingerprint\n",
    "\n",
    "    fp_all = np.loadtxt(path, dtype=\"U25\", skiprows=number_of_rows) # Get master file as numpy array of Strings\n",
    "    fp_ids = np.unique(fp_all[:, 0]) # Trim duplicate filename rows, store unique filenames\n",
    "\n",
    "    # Construct empty Pandas dataframe of correct size.\n",
    "    # Number of rows is equal to the number of unique molecules (found in fp_ids).\n",
    "    fingerprints = pd.DataFrame(0, index = fp_ids, columns=range(BITS), dtype=int)\n",
    "\n",
    "    # Populate the dataframe using each molecule's filename to place data in the correct row.\n",
    "    for row in fp_all:\n",
    "        fingerprints.at[row[0], int(row[1])] = int(row[2])\n",
    "\n",
    "    # Convert populated dataframe into a numpy array for use as output by neural networks.\n",
    "    return fingerprints\n",
    "\n",
    "# Load the names of all substructures included in the CDK fingerprint in the correct order\n",
    "# This is used for boxplots, when performance metrics for individual substructures are calculated.\n",
    "def load_fingerprint_legend():\n",
    "    fingerprint_legend = []\n",
    "    # Open file containing substructure names.\n",
    "    with open(fingerprints_names_path, 'r') as f:\n",
    "        # Add each name to the list of substructure names.\n",
    "        lines = list(islice(f, 0, None))\n",
    "        for line in lines:\n",
    "            fingerprint_legend.append(line)\n",
    "    return fingerprint_legend\n"
   ]
  },
  {
   "cell_type": "code",
   "execution_count": 8,
   "metadata": {},
   "outputs": [],
   "source": [
    "from keras.layers import Input, Dense\n",
    "from keras.models import Model,Sequential\n",
    "from keras.wrappers.scikit_learn import KerasClassifier\n",
    "from sklearn.model_selection import cross_val_score\n",
    "from sklearn.model_selection import StratifiedKFold\n",
    "from keras.optimizers import SGD\n",
    "    \n",
    "def baseline_model(x_train_spectra, x_train_fingerprints):\n",
    "    class_model = Sequential()\n",
    "    class_model.add(Dense(500, input_dim=x_train_spectra.shape[1], kernel_initializer='normal', activation='relu'))\n",
    "    class_model.add(Dense(x_train_fingerprints.shape[1],kernel_initializer='normal',activation = 'sigmoid'))\n",
    "    class_model.compile(loss='binary_crossentropy', optimizer='adam', metrics=['accuracy'])\n",
    "    \n",
    "    return class_model\n",
    "\n",
    "def comparison_model(x_train_formula, x_train_fingerprints):\n",
    "    class_model = Sequential()\n",
    "    class_model.add(Dense(2500, input_dim=x_train_formula.shape[1], kernel_initializer='normal', activation='relu'))\n",
    "    class_model.add(Dense(1200,kernel_initializer='normal',activation = 'relu'))\n",
    "    class_model.add(Dense(600,kernel_initializer='normal',activation = 'relu'))\n",
    "    class_model.add(Dense(x_train_fingerprints.shape[1],kernel_initializer='normal',activation = 'sigmoid'))\n",
    "    class_model.compile(loss='binary_crossentropy', optimizer='adam', metrics=['accuracy'])\n",
    "    \n",
    "    return class_model"
   ]
  },
  {
   "cell_type": "code",
   "execution_count": 9,
   "metadata": {},
   "outputs": [],
   "source": [
    "def compute_auc(bits, true, pred):\n",
    "    # Create structured array to hold statistics for each fingerprint.\n",
    "    dtype = [('fp_id', int), ('auc', float)]\n",
    "    mol_stats = np.zeros((bits,), dtype=dtype)\n",
    "    \n",
    "    val_start_index = 0\n",
    "    for fp_id in range(true.shape[1]): # For every substructure      \n",
    "        nonzero_vals = np.count_nonzero(true[val_start_index:, fp_id]) # Count number of nonzero values\n",
    "        if nonzero_vals > 0 and nonzero_vals < true[val_start_index:, fp_id].size:  # If there are no 1s or no 0s, can't compute.\n",
    "            # Compute actual AUC score using only the validation fraction of the dataset.\n",
    "            fp_true = true[val_start_index:, fp_id]\n",
    "            fp_pred = pred[val_start_index:, fp_id]\n",
    "            score = metrics.roc_auc_score(fp_true, fp_pred)\n",
    "\n",
    "            # Update structured array with data or non values if no AUC could be calculated.\n",
    "            mol_stats[fp_id] = (fp_id, score)\n",
    "        else:\n",
    "            mol_stats[fp_id] = (fp_id, 0)\n",
    "        \n",
    "    print(\"Done\")\n",
    "    return mol_stats\n",
    "\n",
    "def compare_aucs(baseline_auc, comparison_auc):\n",
    "    differences = []\n",
    "    \n",
    "    for index, score in enumerate(baseline_auc):\n",
    "        difference = comparison_auc[index] - baseline_auc[index]\n",
    "        differences.append(difference)\n",
    "        \n",
    "    better = [difference for difference in differences if difference > 0]\n",
    "    same = [difference for difference in differences if difference == 0]\n",
    "    worse = [difference for difference in differences if difference < 0]\n",
    "    \n",
    "    plt.scatter(range(307), differences)\n",
    "    plt.title('Tree vs MassIntBin')\n",
    "    plt.xlabel('Substructures')\n",
    "    plt.ylabel('AUC Difference')\n",
    "    plt.show()\n",
    "    \n",
    "    return better, same, worse\n",
    "\n",
    "def calculate_percent_improve(baseline_auc, comparison_auc):\n",
    "    differences = []\n",
    "    \n",
    "    for index, score in enumerate(baseline_auc):\n",
    "        difference = comparison_auc[index] - baseline_auc[index]\n",
    "        differences.append(difference)\n",
    "        \n",
    "    better = [difference for difference in differences if difference > 0]\n",
    "    \n",
    "    return len(better)/len(differences)"
   ]
  },
  {
   "cell_type": "code",
   "execution_count": 10,
   "metadata": {},
   "outputs": [],
   "source": [
    "def get_training_spec(spectra, fingerprints, train):\n",
    "    train_spec = spectra[spectra.index.isin(train.index)]\n",
    "    train_spec.sort_index(inplace=True)\n",
    "    x_train_spectra = np.log(train_spec.values+1)\n",
    "    train_fingerprints = fingerprints[fingerprints.index.isin(train_spec.index)]    \n",
    "    train_fingerprints.sort_index(inplace=True)\n",
    "    x_train_fingerprints = train_fingerprints.values\n",
    "    \n",
    "    return x_train_spectra, x_train_fingerprints\n",
    "\n",
    "def get_validation_spec(spectra, fingerprints, validate):\n",
    "    validate_spec = spectra[spectra.index.isin(validate.index)]\n",
    "    validate_spec.sort_index(inplace=True)\n",
    "    x_validate_spectra = np.log(validate_spec.values+1)\n",
    "    validate_fingerprints = fingerprints[fingerprints.index.isin(validate_spec.index)]\n",
    "    validate_fingerprints.sort_index(inplace=True)\n",
    "    x_validate_fingerprints = validate_fingerprints.values\n",
    "\n",
    "    return x_validate_spectra, x_validate_fingerprints\n",
    "\n",
    "def get_test_spec(spectra, fingerprints, test):\n",
    "    test_spec = spectra[spectra.index.isin(test.index)]\n",
    "    test_spec.sort_index(inplace=True)\n",
    "    x_test_spectra = np.log(test_spec.values+1)\n",
    "    \n",
    "    test_fingerprints = fingerprints[fingerprints.index.isin(test_spec.index)]\n",
    "    test_fingerprints.sort_index(inplace=True)\n",
    "    x_test_fingerprints = test_fingerprints.values\n",
    "    \n",
    "    return x_test_spectra, x_test_fingerprints\n",
    "\n",
    "def get_training_formula(fingerprints, train):\n",
    "    x_train_formula = np.log(train.values+1)\n",
    "    \n",
    "    train_fingerprints = fingerprints[fingerprints.index.isin(train.index)]\n",
    "    train_fingerprints.sort_index(inplace=True)\n",
    "    x_train_fingerprints = train_fingerprints.values\n",
    "    \n",
    "    return x_train_formula, x_train_fingerprints\n",
    "\n",
    "def get_validation_formula(fingerprints, validate):\n",
    "    x_validate_formula = np.log(validate.values+1)\n",
    "    \n",
    "    validate_fingerprints = fingerprints[fingerprints.index.isin(validate.index)]\n",
    "    validate_fingerprints.sort_index(inplace=True)\n",
    "    x_validate_fingerprints = validate_fingerprints.values\n",
    "    \n",
    "    return x_validate_formula, x_validate_fingerprints\n",
    "\n",
    "def get_test_formula(fingerprints, test):\n",
    "    x_test_formula = np.log(test.values+1)\n",
    "    \n",
    "    test_fingerprints = fingerprints[fingerprints.index.isin(test.index)]\n",
    "    test_fingerprints.sort_index(inplace=True)\n",
    "    x_test_fingerprints = test_fingerprints.values\n",
    "    \n",
    "    return x_test_formula, x_test_fingerprints\n",
    "\n",
    "def run_experiments(spectra, fingerprints, intensities):\n",
    "    epochs = 100\n",
    "\n",
    "    train, validate, test = np.split(intensities.sample(frac=1), [int(.6*len(intensities)), int(.8*len(intensities))])\n",
    "    train.sort_index(inplace=True)\n",
    "    validate.sort_index(inplace=True)\n",
    "    test.sort_index(inplace=True)\n",
    "    \n",
    "    x_train_spectra, x_train_fingerprints = get_training_spec(spectra, fingerprints, train)\n",
    "    x_validate_spectra, x_validate_fingerprints = get_validation_spec(spectra, fingerprints, validate)\n",
    "    x_test_spectra, x_test_fingerprints = get_test_spec(spectra, fingerprints, test)\n",
    "    \n",
    "    b_mod = baseline_model(x_train_spectra, x_train_fingerprints)\n",
    "    history = b_mod.fit(x_train_spectra, x_train_fingerprints, epochs=epochs,validation_data=(x_validate_spectra,x_validate_fingerprints), verbose=0)\n",
    "    \n",
    "    b_predicted = b_mod.predict(x_test_spectra)\n",
    "    base_stats = compute_auc(307, x_test_fingerprints, b_predicted)\n",
    "    \n",
    "    # -----------\n",
    "    \n",
    "    x_train_formula, x_train_fingerprints = get_training_formula(fingerprints, train)\n",
    "    x_validate_formula, x_validate_fingerprints = get_validation_formula(fingerprints, validate)\n",
    "    x_test_formula, x_test_fingerprints = get_test_formula(fingerprints, test)\n",
    "    \n",
    "    c_mod = comparison_model(x_train_formula, x_train_fingerprints)\n",
    "    history = c_mod.fit(x_train_formula, x_train_fingerprints, epochs=epochs, validation_data=(x_validate_formula,x_validate_fingerprints), verbose=0)\n",
    "\n",
    "    c_predicted = c_mod.predict(x_test_formula)\n",
    "    comparison_stats = compute_auc(307, x_test_fingerprints, c_predicted)\n",
    "    \n",
    "    b_prediction = np.zeros((b_predicted.shape))\n",
    "    b_prediction[b_predicted > 0.5] = 1\n",
    "    c_prediction = np.zeros((c_predicted.shape))\n",
    "    c_prediction[c_predicted > 0.5] = 1\n",
    "    base_f1 = metrics.f1_score(x_test_fingerprints, b_prediction, average='micro')\n",
    "    comparison_f1 = metrics.f1_score(x_test_fingerprints, c_prediction, average='micro')\n",
    "    \n",
    "    return base_stats, b_prediction, comparison_stats, c_prediction\n"
   ]
  },
  {
   "cell_type": "code",
   "execution_count": 11,
   "metadata": {},
   "outputs": [],
   "source": [
    "spectra_path = \"G:\\\\Dev\\\\Data\\\\1000\\\\GNPS Python Master\\\\Final Data.txt\"\n",
    "fingerprints_path = \"G:\\\\Dev\\\\Data\\\\1000\\\\GNPS Python Master\\\\Final Fingerprints.txt\""
   ]
  },
  {
   "cell_type": "code",
   "execution_count": 12,
   "metadata": {},
   "outputs": [],
   "source": [
    "intensities = load_tree(gnps_dir, fragments_df.index)\n",
    "spectra = load_master_file(spectra_path)\n",
    "spectra = spectra[spectra.index.isin(intensities.index)]\n",
    "spectra.sort_index(inplace=True)\n",
    "\n",
    "fingerprints = load_fingerprints_master(fingerprints_path)\n",
    "fingerprints.sort_index(inplace=True)"
   ]
  },
  {
   "cell_type": "code",
   "execution_count": 13,
   "metadata": {},
   "outputs": [
    {
     "name": "stdout",
     "output_type": "stream",
     "text": [
      "Done\n",
      "Done\n"
     ]
    },
    {
     "ename": "IndexError",
     "evalue": "index 307 is out of bounds for axis 0 with size 307",
     "output_type": "error",
     "traceback": [
      "\u001b[1;31m---------------------------------------------------------------------------\u001b[0m",
      "\u001b[1;31mIndexError\u001b[0m                                Traceback (most recent call last)",
      "\u001b[1;32m<ipython-input-13-aab0ba90a213>\u001b[0m in \u001b[0;36m<module>\u001b[1;34m\u001b[0m\n\u001b[0;32m     13\u001b[0m \u001b[1;32mwith\u001b[0m \u001b[0mopen\u001b[0m\u001b[1;33m(\u001b[0m\u001b[0mpredictions_path\u001b[0m\u001b[1;33m,\u001b[0m \u001b[1;34m'w'\u001b[0m\u001b[1;33m)\u001b[0m \u001b[1;32mas\u001b[0m \u001b[0mf\u001b[0m\u001b[1;33m:\u001b[0m\u001b[1;33m\u001b[0m\u001b[0m\n\u001b[0;32m     14\u001b[0m     \u001b[1;32mfor\u001b[0m \u001b[0mindex\u001b[0m\u001b[1;33m,\u001b[0m \u001b[0mpredicted\u001b[0m \u001b[1;32min\u001b[0m \u001b[0menumerate\u001b[0m\u001b[1;33m(\u001b[0m\u001b[0mbase_prediction\u001b[0m\u001b[1;33m)\u001b[0m\u001b[1;33m:\u001b[0m\u001b[1;33m\u001b[0m\u001b[0m\n\u001b[1;32m---> 15\u001b[1;33m         \u001b[0mf\u001b[0m\u001b[1;33m.\u001b[0m\u001b[0mwrite\u001b[0m\u001b[1;33m(\u001b[0m\u001b[0mstr\u001b[0m\u001b[1;33m(\u001b[0m\u001b[0mpredicted\u001b[0m\u001b[1;33m[\u001b[0m\u001b[0mindex\u001b[0m\u001b[1;33m]\u001b[0m\u001b[1;33m)\u001b[0m \u001b[1;33m+\u001b[0m \u001b[1;34m\",\"\u001b[0m \u001b[1;33m+\u001b[0m \u001b[0mstr\u001b[0m\u001b[1;33m(\u001b[0m\u001b[0mcomparison_prediction\u001b[0m\u001b[1;33m[\u001b[0m\u001b[0mindex\u001b[0m\u001b[1;33m]\u001b[0m\u001b[1;33m)\u001b[0m \u001b[1;33m+\u001b[0m \u001b[1;34m\"\\n\"\u001b[0m\u001b[1;33m)\u001b[0m\u001b[1;33m\u001b[0m\u001b[0m\n\u001b[0m\u001b[0;32m     16\u001b[0m \u001b[1;33m\u001b[0m\u001b[0m\n",
      "\u001b[1;31mIndexError\u001b[0m: index 307 is out of bounds for axis 0 with size 307"
     ]
    }
   ],
   "source": [
    "experiment_auc_path = \"G://Dev//Data//tree_int_binning_experiment_3//\"\n",
    "\n",
    "base_stats, base_prediction, comparison_stats, comparison_prediction = run_experiments(spectra, fingerprints, intensities)\n",
    "base_aucs = [auc[1] for auc in base_stats]\n",
    "exp_aucs = [auc[1] for auc in comparison_stats]\n",
    "base_exp_aucs_path = experiment_auc_path + \"experiment_{}_aucs.csv\".format(0)\n",
    "predictions_path = experiment_auc_path + \"predictions_experiment_{}.csv\".format(0)\n",
    "\n",
    "with open(base_exp_aucs_path, 'w') as f:\n",
    "    for index, auc in enumerate(base_aucs):\n",
    "        f.write(str(index) + \",\" + str(auc) + \",\" + str(exp_aucs[index]) + \"\\n\")\n",
    "\n",
    "with open(predictions_path, 'w') as f:\n",
    "    for i in range(0, len(base_prediction)):\n",
    "        \n",
    "    for index, predicted in enumerate(base_prediction):\n",
    "        f.write(str(predicted[index]) + \",\" + str(comparison_prediction[index]) + \"\\n\")\n",
    "    "
   ]
  },
  {
   "cell_type": "code",
   "execution_count": 14,
   "metadata": {},
   "outputs": [
    {
     "name": "stdout",
     "output_type": "stream",
     "text": [
      "0\n",
      "Done\n",
      "Done\n",
      "1\n",
      "Done\n",
      "Done\n"
     ]
    }
   ],
   "source": [
    "experiment_auc_path = \"G://Dev//Data//tree_int_binning_experiment_2//\"\n",
    "\n",
    "for i in range(0, 2):\n",
    "    print(i)\n",
    "    base_stats, base_prediction, comparison_stats, comparison_prediction = run_experiments(spectra, fingerprints, intensities)\n",
    "    base_aucs = [auc[1] for auc in base_stats]\n",
    "    exp_aucs = [auc[1] for auc in comparison_stats]\n",
    "    base_exp_aucs_path = experiment_auc_path + \"experiment_{}_aucs.csv\".format(i)\n",
    "    f1_scores_path = experiment_auc_path + \"f1_scores_int_tree_experiment_{}.csv\".format(i)\n",
    "    \n",
    "    with open(base_exp_aucs_path, 'w') as f:\n",
    "        for index, auc in enumerate(base_aucs):\n",
    "            f.write(str(index) + \",\" + str(auc) + \",\" + str(exp_aucs[index]) + \"\\n\")\n",
    "    \n",
    "    with open(f1_scores_path, 'w') as f:\n",
    "        f.write(str(base_f1) + \",\" + str(comparison_prediction) + \"\\n\")\n",
    "    "
   ]
  },
  {
   "cell_type": "code",
   "execution_count": 26,
   "metadata": {},
   "outputs": [
    {
     "data": {
      "image/png": "[encoded data removed]",
      "text/plain": [
       "<Figure size 432x288 with 1 Axes>"
      ]
     },
     "metadata": {
      "needs_background": "light"
     },
     "output_type": "display_data"
    },
    {
     "data": {
      "image/png": "[encoded data removed]",
      "text/plain": [
       "<Figure size 432x288 with 1 Axes>"
      ]
     },
     "metadata": {
      "needs_background": "light"
     },
     "output_type": "display_data"
    }
   ],
   "source": [
    "x = np.arange(10)\n",
    "plt.title(\"Percentage improvement across 10 experiments\")\n",
    "plt.scatter(x, percent_improve_scores)\n",
    "plt.show()\n",
    "\n",
    "plt.title(\"F1 scores across 10 experiments\")\n",
    "plt.scatter(x, [f1[0] for f1 in f1_scores])\n",
    "plt.scatter(x, [f1[1] for f1 in f1_scores])\n",
    "plt.legend(['int', 'tree'])\n",
    "plt.show()"
   ]
  },
  {
   "cell_type": "code",
   "execution_count": 35,
   "metadata": {},
   "outputs": [
    {
     "name": "stdout",
     "output_type": "stream",
     "text": [
      "109\n",
      "121\n"
     ]
    }
   ],
   "source": [
    "base_fingerprint_aucs = {}\n",
    "exp_fingerprint_aucs = {}\n",
    "paired_test_result = []\n",
    "\n",
    "for i in range(0, 307):\n",
    "    base_fingerprint_aucs[i] = []\n",
    "    exp_fingerprint_aucs[i] = []\n",
    "\n",
    "for i in range(0, 10):\n",
    "    auc_results_path = experiment_auc_path + \"experiment_{}_aucs.csv\".format(i)\n",
    "    with open(auc_results_path, 'r') as f:\n",
    "        for line in f:\n",
    "            substructure_index, base_auc, exp_auc = line.split(\",\")\n",
    "            base_fingerprint_aucs[int(substructure_index)].append(float(base_auc))\n",
    "            exp_fingerprint_aucs[int(substructure_index)].append(float(exp_auc[:-1]))\n",
    "\n",
    "zero_count = 0\n",
    "\n",
    "for i in range(0, 307):\n",
    "    t_test = stats.wilcoxon(base_fingerprint_aucs[i], exp_fingerprint_aucs[i])\n",
    "    if math.isnan(t_test[1]):\n",
    "        paired_test_result.append(0.05)\n",
    "        zero_count += 1\n",
    "    else:\n",
    "        paired_test_result.append(t_test[1])\n",
    "    \n",
    "statistically_significant_values = [result for result in paired_test_result if result < 0.05]\n",
    "print(len(statistically_significant_values))\n",
    "print(zero_count)\n",
    "# count how many < 0.05\n",
    "# print(t_test)"
   ]
  },
  {
   "cell_type": "code",
   "execution_count": null,
   "metadata": {},
   "outputs": [],
   "source": []
  }
 ],
 "metadata": {
  "kernelspec": {
   "display_name": "Python 3",
   "language": "python",
   "name": "python3"
  },
  "language_info": {
   "codemirror_mode": {
    "name": "ipython",
    "version": 3
   },
   "file_extension": ".py",
   "mimetype": "text/x-python",
   "name": "python",
   "nbconvert_exporter": "python",
   "pygments_lexer": "ipython3",
   "version": "3.6.6"
  }
 },
 "nbformat": 4,
 "nbformat_minor": 2
}
